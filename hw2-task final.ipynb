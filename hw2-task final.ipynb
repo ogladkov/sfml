{
 "cells": [
  {
   "cell_type": "markdown",
   "metadata": {},
   "source": [
    "# SkillFactory\n",
    "## Введение в ML, введение в sklearn"
   ]
  },
  {
   "cell_type": "markdown",
   "metadata": {},
   "source": [
    "В этом задании мы с вами рассмотрим данные с конкурса [Задача предсказания отклика клиентов ОТП Банка](http://www.machinelearning.ru/wiki/index.php?title=%D0%97%D0%B0%D0%B4%D0%B0%D1%87%D0%B0_%D0%BF%D1%80%D0%B5%D0%B4%D1%81%D0%BA%D0%B0%D0%B7%D0%B0%D0%BD%D0%B8%D1%8F_%D0%BE%D1%82%D0%BA%D0%BB%D0%B8%D0%BA%D0%B0_%D0%BA%D0%BB%D0%B8%D0%B5%D0%BD%D1%82%D0%BE%D0%B2_%D0%9E%D0%A2%D0%9F_%D0%91%D0%B0%D0%BD%D0%BA%D0%B0_%28%D0%BA%D0%BE%D0%BD%D0%BA%D1%83%D1%80%D1%81%29)"
   ]
  },
  {
   "cell_type": "code",
   "execution_count": 1,
   "metadata": {},
   "outputs": [],
   "source": [
    "import pandas as pd\n",
    "import numpy as np\n",
    "import matplotlib.pyplot as plt\n",
    "\n",
    "%matplotlib inline\n",
    "\n",
    "plt.style.use('ggplot')\n",
    "plt.rcParams['figure.figsize'] = (12,5)"
   ]
  },
  {
   "cell_type": "markdown",
   "metadata": {},
   "source": [
    "### Грузим данные"
   ]
  },
  {
   "cell_type": "markdown",
   "metadata": {},
   "source": [
    "Считаем описание данных"
   ]
  },
  {
   "cell_type": "code",
   "execution_count": 2,
   "metadata": {},
   "outputs": [],
   "source": [
    "df_descr = pd.read_csv('data/otp_description.csv', sep='\\t', encoding='utf8')"
   ]
  },
  {
   "cell_type": "code",
   "execution_count": 3,
   "metadata": {},
   "outputs": [
    {
     "data": {
      "text/html": [
       "<div>\n",
       "<style>\n",
       "    .dataframe thead tr:only-child th {\n",
       "        text-align: right;\n",
       "    }\n",
       "\n",
       "    .dataframe thead th {\n",
       "        text-align: left;\n",
       "    }\n",
       "\n",
       "    .dataframe tbody tr th {\n",
       "        vertical-align: top;\n",
       "    }\n",
       "</style>\n",
       "<table border=\"1\" class=\"dataframe\">\n",
       "  <thead>\n",
       "    <tr style=\"text-align: right;\">\n",
       "      <th></th>\n",
       "      <th>ПОЛЕ</th>\n",
       "      <th>ОПИСАНИЕ</th>\n",
       "    </tr>\n",
       "  </thead>\n",
       "  <tbody>\n",
       "    <tr>\n",
       "      <th>0</th>\n",
       "      <td>AGREEMENT_RK</td>\n",
       "      <td>уникальный идентификатор объекта в выборке</td>\n",
       "    </tr>\n",
       "    <tr>\n",
       "      <th>1</th>\n",
       "      <td>AGE</td>\n",
       "      <td>возраст клиента</td>\n",
       "    </tr>\n",
       "    <tr>\n",
       "      <th>2</th>\n",
       "      <td>SOCSTATUS_WORK_FL</td>\n",
       "      <td>социальный статус клиента относительно работы ...</td>\n",
       "    </tr>\n",
       "    <tr>\n",
       "      <th>3</th>\n",
       "      <td>SOCSTATUS_PENS_FL</td>\n",
       "      <td>социальный статус клиента относительно пенсии ...</td>\n",
       "    </tr>\n",
       "    <tr>\n",
       "      <th>4</th>\n",
       "      <td>GENDER</td>\n",
       "      <td>пол клиента (1- женщины, 0-мужчины)</td>\n",
       "    </tr>\n",
       "    <tr>\n",
       "      <th>5</th>\n",
       "      <td>CHILD_TOTAL</td>\n",
       "      <td>количество детей клиента</td>\n",
       "    </tr>\n",
       "    <tr>\n",
       "      <th>6</th>\n",
       "      <td>DEPENDANTS</td>\n",
       "      <td>количество иждивенцев клиента</td>\n",
       "    </tr>\n",
       "    <tr>\n",
       "      <th>7</th>\n",
       "      <td>EDUCATION</td>\n",
       "      <td>образование</td>\n",
       "    </tr>\n",
       "    <tr>\n",
       "      <th>8</th>\n",
       "      <td>MARITAL_STATUS</td>\n",
       "      <td>семейное положение</td>\n",
       "    </tr>\n",
       "    <tr>\n",
       "      <th>9</th>\n",
       "      <td>GEN_INDUSTRY</td>\n",
       "      <td>отрасль работы клиента</td>\n",
       "    </tr>\n",
       "    <tr>\n",
       "      <th>10</th>\n",
       "      <td>GEN_TITLE</td>\n",
       "      <td>должность</td>\n",
       "    </tr>\n",
       "    <tr>\n",
       "      <th>11</th>\n",
       "      <td>ORG_TP_STATE</td>\n",
       "      <td>форма собственности компании</td>\n",
       "    </tr>\n",
       "    <tr>\n",
       "      <th>12</th>\n",
       "      <td>ORG_TP_FCAPITAL</td>\n",
       "      <td>отношение к иностранному капиталу</td>\n",
       "    </tr>\n",
       "    <tr>\n",
       "      <th>13</th>\n",
       "      <td>JOB_DIR</td>\n",
       "      <td>направление деятельности в нутри компании</td>\n",
       "    </tr>\n",
       "    <tr>\n",
       "      <th>14</th>\n",
       "      <td>FAMILY_INCOME</td>\n",
       "      <td>семейный доход (несколько категорий)</td>\n",
       "    </tr>\n",
       "    <tr>\n",
       "      <th>15</th>\n",
       "      <td>PERSONAL_INCOME</td>\n",
       "      <td>личный доход клиента (в рублях)</td>\n",
       "    </tr>\n",
       "    <tr>\n",
       "      <th>16</th>\n",
       "      <td>REG_ADDRESS_PROVINCE</td>\n",
       "      <td>область регистрации клиента</td>\n",
       "    </tr>\n",
       "    <tr>\n",
       "      <th>17</th>\n",
       "      <td>FACT_ADDRESS_PROVINCE</td>\n",
       "      <td>область фактического пребывания клиента</td>\n",
       "    </tr>\n",
       "    <tr>\n",
       "      <th>18</th>\n",
       "      <td>POSTAL_ADDRESS_PROVINCE</td>\n",
       "      <td>почтовый адрес область</td>\n",
       "    </tr>\n",
       "    <tr>\n",
       "      <th>19</th>\n",
       "      <td>TP_PROVINCE</td>\n",
       "      <td>область торговой точки, где клиент брал послед...</td>\n",
       "    </tr>\n",
       "    <tr>\n",
       "      <th>20</th>\n",
       "      <td>REGION_NM</td>\n",
       "      <td>регион РФ</td>\n",
       "    </tr>\n",
       "    <tr>\n",
       "      <th>21</th>\n",
       "      <td>REG_FACT_FL</td>\n",
       "      <td>адрес регистрации и адрес фактического пребыва...</td>\n",
       "    </tr>\n",
       "    <tr>\n",
       "      <th>22</th>\n",
       "      <td>FACT_POST_FL</td>\n",
       "      <td>адрес фактического пребывания клиента и его по...</td>\n",
       "    </tr>\n",
       "    <tr>\n",
       "      <th>23</th>\n",
       "      <td>REG_POST_FL</td>\n",
       "      <td>адрес регистрации клиента и его почтовый адрес...</td>\n",
       "    </tr>\n",
       "    <tr>\n",
       "      <th>24</th>\n",
       "      <td>REG_FACT_POST_FL</td>\n",
       "      <td>почтовый, фактический и адрес регистрации совп...</td>\n",
       "    </tr>\n",
       "    <tr>\n",
       "      <th>25</th>\n",
       "      <td>REG_FACT_POST_TP_FL</td>\n",
       "      <td>область регистрации, фактического пребывания, ...</td>\n",
       "    </tr>\n",
       "    <tr>\n",
       "      <th>26</th>\n",
       "      <td>FL_PRESENCE_FL</td>\n",
       "      <td>наличие в собственности квартиры (1 - есть, 0 ...</td>\n",
       "    </tr>\n",
       "    <tr>\n",
       "      <th>27</th>\n",
       "      <td>OWN_AUTO</td>\n",
       "      <td>кол-во автомобилей в собственности</td>\n",
       "    </tr>\n",
       "    <tr>\n",
       "      <th>28</th>\n",
       "      <td>AUTO_RUS_FL</td>\n",
       "      <td>наличие в собственности автомобиля российского...</td>\n",
       "    </tr>\n",
       "    <tr>\n",
       "      <th>29</th>\n",
       "      <td>HS_PRESENCE_FL</td>\n",
       "      <td>наличие в собственности загородного дома (1 - ...</td>\n",
       "    </tr>\n",
       "    <tr>\n",
       "      <th>30</th>\n",
       "      <td>COT_PRESENCE_FL</td>\n",
       "      <td>наличие в собственности котеджа (1 - есть, 0 -...</td>\n",
       "    </tr>\n",
       "    <tr>\n",
       "      <th>31</th>\n",
       "      <td>GAR_PRESENCE_FL</td>\n",
       "      <td>наличие в собственности гаража (1 - есть, 0 - ...</td>\n",
       "    </tr>\n",
       "    <tr>\n",
       "      <th>32</th>\n",
       "      <td>LAND_PRESENCE_FL</td>\n",
       "      <td>наличие в собственности земельного участка (1 ...</td>\n",
       "    </tr>\n",
       "    <tr>\n",
       "      <th>33</th>\n",
       "      <td>CREDIT</td>\n",
       "      <td>сумма последнего кредита клиента (в рублях)</td>\n",
       "    </tr>\n",
       "    <tr>\n",
       "      <th>34</th>\n",
       "      <td>TERM</td>\n",
       "      <td>срок кредита</td>\n",
       "    </tr>\n",
       "    <tr>\n",
       "      <th>35</th>\n",
       "      <td>FST_PAYMENT</td>\n",
       "      <td>первоначальный взнос (в рублях)</td>\n",
       "    </tr>\n",
       "    <tr>\n",
       "      <th>36</th>\n",
       "      <td>DL_DOCUMENT_FL</td>\n",
       "      <td>в анкете клиент указал водительское удостовере...</td>\n",
       "    </tr>\n",
       "    <tr>\n",
       "      <th>37</th>\n",
       "      <td>GPF_DOCUMENT_FL</td>\n",
       "      <td>в анкете клиен указал ГПФ (1 - указал, 0 - не ...</td>\n",
       "    </tr>\n",
       "    <tr>\n",
       "      <th>38</th>\n",
       "      <td>FACT_LIVING_TERM</td>\n",
       "      <td>количество месяцев проживания по месту фактиче...</td>\n",
       "    </tr>\n",
       "    <tr>\n",
       "      <th>39</th>\n",
       "      <td>WORK_TIME</td>\n",
       "      <td>время работы на текущем месте (в месяцах)</td>\n",
       "    </tr>\n",
       "    <tr>\n",
       "      <th>40</th>\n",
       "      <td>FACT_PHONE_FL</td>\n",
       "      <td>наличие в заявке телефона по фактическому мест...</td>\n",
       "    </tr>\n",
       "    <tr>\n",
       "      <th>41</th>\n",
       "      <td>REG_PHONE_FL</td>\n",
       "      <td>наличие в заявке телефона по месту регистрации</td>\n",
       "    </tr>\n",
       "    <tr>\n",
       "      <th>42</th>\n",
       "      <td>GEN_PHONE_FL</td>\n",
       "      <td>наличие в заявке рабочего телефона</td>\n",
       "    </tr>\n",
       "    <tr>\n",
       "      <th>43</th>\n",
       "      <td>LOAN_NUM_TOTAL</td>\n",
       "      <td>количество ссуд клиента</td>\n",
       "    </tr>\n",
       "    <tr>\n",
       "      <th>44</th>\n",
       "      <td>LOAN_NUM_CLOSED</td>\n",
       "      <td>количество погашенных ссуд клиента</td>\n",
       "    </tr>\n",
       "    <tr>\n",
       "      <th>45</th>\n",
       "      <td>LOAN_NUM_PAYM</td>\n",
       "      <td>количество платежей, которые сделал клиент</td>\n",
       "    </tr>\n",
       "    <tr>\n",
       "      <th>46</th>\n",
       "      <td>LOAN_DLQ_NUM</td>\n",
       "      <td>количество просрочек, допущенных клиентом</td>\n",
       "    </tr>\n",
       "    <tr>\n",
       "      <th>47</th>\n",
       "      <td>LOAN_MAX_DLQ</td>\n",
       "      <td>номер максимальной просрочки, допущенной клиентом</td>\n",
       "    </tr>\n",
       "    <tr>\n",
       "      <th>48</th>\n",
       "      <td>LOAN_AVG_DLQ_AMT</td>\n",
       "      <td>средняя сумма просрочки (в рублях)</td>\n",
       "    </tr>\n",
       "    <tr>\n",
       "      <th>49</th>\n",
       "      <td>LOAN_MAX_DLQ_AMT</td>\n",
       "      <td>максимальная сумма просрочки (в рублях)</td>\n",
       "    </tr>\n",
       "    <tr>\n",
       "      <th>50</th>\n",
       "      <td>PREVIOUS_CARD_NUM_UTILIZED</td>\n",
       "      <td>количество уже утилизированных карт ( если пус...</td>\n",
       "    </tr>\n",
       "  </tbody>\n",
       "</table>\n",
       "</div>"
      ],
      "text/plain": [
       "                          ПОЛЕ  \\\n",
       "0                 AGREEMENT_RK   \n",
       "1                          AGE   \n",
       "2            SOCSTATUS_WORK_FL   \n",
       "3            SOCSTATUS_PENS_FL   \n",
       "4                       GENDER   \n",
       "5                  CHILD_TOTAL   \n",
       "6                   DEPENDANTS   \n",
       "7                    EDUCATION   \n",
       "8               MARITAL_STATUS   \n",
       "9                 GEN_INDUSTRY   \n",
       "10                   GEN_TITLE   \n",
       "11                ORG_TP_STATE   \n",
       "12             ORG_TP_FCAPITAL   \n",
       "13                     JOB_DIR   \n",
       "14               FAMILY_INCOME   \n",
       "15             PERSONAL_INCOME   \n",
       "16        REG_ADDRESS_PROVINCE   \n",
       "17       FACT_ADDRESS_PROVINCE   \n",
       "18     POSTAL_ADDRESS_PROVINCE   \n",
       "19                 TP_PROVINCE   \n",
       "20                   REGION_NM   \n",
       "21                 REG_FACT_FL   \n",
       "22                FACT_POST_FL   \n",
       "23                 REG_POST_FL   \n",
       "24            REG_FACT_POST_FL   \n",
       "25         REG_FACT_POST_TP_FL   \n",
       "26              FL_PRESENCE_FL   \n",
       "27                    OWN_AUTO   \n",
       "28                 AUTO_RUS_FL   \n",
       "29              HS_PRESENCE_FL   \n",
       "30             COT_PRESENCE_FL   \n",
       "31             GAR_PRESENCE_FL   \n",
       "32            LAND_PRESENCE_FL   \n",
       "33                      CREDIT   \n",
       "34                        TERM   \n",
       "35                 FST_PAYMENT   \n",
       "36              DL_DOCUMENT_FL   \n",
       "37             GPF_DOCUMENT_FL   \n",
       "38            FACT_LIVING_TERM   \n",
       "39                   WORK_TIME   \n",
       "40               FACT_PHONE_FL   \n",
       "41                REG_PHONE_FL   \n",
       "42                GEN_PHONE_FL   \n",
       "43              LOAN_NUM_TOTAL   \n",
       "44             LOAN_NUM_CLOSED   \n",
       "45               LOAN_NUM_PAYM   \n",
       "46                LOAN_DLQ_NUM   \n",
       "47                LOAN_MAX_DLQ   \n",
       "48            LOAN_AVG_DLQ_AMT   \n",
       "49            LOAN_MAX_DLQ_AMT   \n",
       "50  PREVIOUS_CARD_NUM_UTILIZED   \n",
       "\n",
       "                                             ОПИСАНИЕ  \n",
       "0          уникальный идентификатор объекта в выборке  \n",
       "1                                     возраст клиента  \n",
       "2   социальный статус клиента относительно работы ...  \n",
       "3   социальный статус клиента относительно пенсии ...  \n",
       "4                 пол клиента (1- женщины, 0-мужчины)  \n",
       "5                            количество детей клиента  \n",
       "6                       количество иждивенцев клиента  \n",
       "7                                         образование  \n",
       "8                                  семейное положение  \n",
       "9                              отрасль работы клиента  \n",
       "10                                          должность  \n",
       "11                       форма собственности компании  \n",
       "12                  отношение к иностранному капиталу  \n",
       "13          направление деятельности в нутри компании  \n",
       "14               семейный доход (несколько категорий)  \n",
       "15                    личный доход клиента (в рублях)  \n",
       "16                        область регистрации клиента  \n",
       "17            область фактического пребывания клиента  \n",
       "18                             почтовый адрес область  \n",
       "19  область торговой точки, где клиент брал послед...  \n",
       "20                                          регион РФ  \n",
       "21  адрес регистрации и адрес фактического пребыва...  \n",
       "22  адрес фактического пребывания клиента и его по...  \n",
       "23  адрес регистрации клиента и его почтовый адрес...  \n",
       "24  почтовый, фактический и адрес регистрации совп...  \n",
       "25  область регистрации, фактического пребывания, ...  \n",
       "26  наличие в собственности квартиры (1 - есть, 0 ...  \n",
       "27                кол-во автомобилей в собственности   \n",
       "28  наличие в собственности автомобиля российского...  \n",
       "29  наличие в собственности загородного дома (1 - ...  \n",
       "30  наличие в собственности котеджа (1 - есть, 0 -...  \n",
       "31  наличие в собственности гаража (1 - есть, 0 - ...  \n",
       "32  наличие в собственности земельного участка (1 ...  \n",
       "33        сумма последнего кредита клиента (в рублях)  \n",
       "34                                       срок кредита  \n",
       "35                    первоначальный взнос (в рублях)  \n",
       "36  в анкете клиент указал водительское удостовере...  \n",
       "37  в анкете клиен указал ГПФ (1 - указал, 0 - не ...  \n",
       "38  количество месяцев проживания по месту фактиче...  \n",
       "39          время работы на текущем месте (в месяцах)  \n",
       "40  наличие в заявке телефона по фактическому мест...  \n",
       "41     наличие в заявке телефона по месту регистрации  \n",
       "42                 наличие в заявке рабочего телефона  \n",
       "43                            количество ссуд клиента  \n",
       "44                 количество погашенных ссуд клиента  \n",
       "45         количество платежей, которые сделал клиент  \n",
       "46          количество просрочек, допущенных клиентом  \n",
       "47  номер максимальной просрочки, допущенной клиентом  \n",
       "48                 средняя сумма просрочки (в рублях)  \n",
       "49            максимальная сумма просрочки (в рублях)  \n",
       "50  количество уже утилизированных карт ( если пус...  "
      ]
     },
     "execution_count": 3,
     "metadata": {},
     "output_type": "execute_result"
    }
   ],
   "source": [
    "df_descr"
   ]
  },
  {
   "cell_type": "markdown",
   "metadata": {},
   "source": [
    "Считаем обучающую выборки и тестовую (которую мы как бы не видим)"
   ]
  },
  {
   "cell_type": "code",
   "execution_count": 4,
   "metadata": {},
   "outputs": [],
   "source": [
    "df_train = pd.read_csv('data/otp_train.csv', sep='\\t', encoding='utf8')\n",
    "df_test = pd.read_csv('data/otp_test.csv', sep='\\t', encoding='utf8')"
   ]
  },
  {
   "cell_type": "code",
   "execution_count": 5,
   "metadata": {},
   "outputs": [
    {
     "data": {
      "text/html": [
       "<div>\n",
       "<style>\n",
       "    .dataframe thead tr:only-child th {\n",
       "        text-align: right;\n",
       "    }\n",
       "\n",
       "    .dataframe thead th {\n",
       "        text-align: left;\n",
       "    }\n",
       "\n",
       "    .dataframe tbody tr th {\n",
       "        vertical-align: top;\n",
       "    }\n",
       "</style>\n",
       "<table border=\"1\" class=\"dataframe\">\n",
       "  <thead>\n",
       "    <tr style=\"text-align: right;\">\n",
       "      <th></th>\n",
       "      <th>AGREEMENT_RK</th>\n",
       "      <th>TARGET</th>\n",
       "      <th>AGE</th>\n",
       "      <th>SOCSTATUS_WORK_FL</th>\n",
       "      <th>SOCSTATUS_PENS_FL</th>\n",
       "      <th>GENDER</th>\n",
       "      <th>CHILD_TOTAL</th>\n",
       "      <th>DEPENDANTS</th>\n",
       "      <th>EDUCATION</th>\n",
       "      <th>MARITAL_STATUS</th>\n",
       "      <th>...</th>\n",
       "      <th>REG_PHONE_FL</th>\n",
       "      <th>GEN_PHONE_FL</th>\n",
       "      <th>LOAN_NUM_TOTAL</th>\n",
       "      <th>LOAN_NUM_CLOSED</th>\n",
       "      <th>LOAN_NUM_PAYM</th>\n",
       "      <th>LOAN_DLQ_NUM</th>\n",
       "      <th>LOAN_MAX_DLQ</th>\n",
       "      <th>LOAN_AVG_DLQ_AMT</th>\n",
       "      <th>LOAN_MAX_DLQ_AMT</th>\n",
       "      <th>PREVIOUS_CARD_NUM_UTILIZED</th>\n",
       "    </tr>\n",
       "  </thead>\n",
       "  <tbody>\n",
       "    <tr>\n",
       "      <th>0</th>\n",
       "      <td>59910150</td>\n",
       "      <td>0</td>\n",
       "      <td>49</td>\n",
       "      <td>1</td>\n",
       "      <td>0</td>\n",
       "      <td>1</td>\n",
       "      <td>2</td>\n",
       "      <td>1</td>\n",
       "      <td>Среднее специальное</td>\n",
       "      <td>Состою в браке</td>\n",
       "      <td>...</td>\n",
       "      <td>0</td>\n",
       "      <td>1</td>\n",
       "      <td>1</td>\n",
       "      <td>1</td>\n",
       "      <td>6</td>\n",
       "      <td>2</td>\n",
       "      <td>1</td>\n",
       "      <td>1580</td>\n",
       "      <td>1580</td>\n",
       "      <td>NaN</td>\n",
       "    </tr>\n",
       "    <tr>\n",
       "      <th>1</th>\n",
       "      <td>59910230</td>\n",
       "      <td>0</td>\n",
       "      <td>32</td>\n",
       "      <td>1</td>\n",
       "      <td>0</td>\n",
       "      <td>1</td>\n",
       "      <td>3</td>\n",
       "      <td>3</td>\n",
       "      <td>Среднее</td>\n",
       "      <td>Состою в браке</td>\n",
       "      <td>...</td>\n",
       "      <td>0</td>\n",
       "      <td>1</td>\n",
       "      <td>1</td>\n",
       "      <td>1</td>\n",
       "      <td>6</td>\n",
       "      <td>1</td>\n",
       "      <td>1</td>\n",
       "      <td>4020</td>\n",
       "      <td>4020</td>\n",
       "      <td>NaN</td>\n",
       "    </tr>\n",
       "    <tr>\n",
       "      <th>2</th>\n",
       "      <td>59910525</td>\n",
       "      <td>0</td>\n",
       "      <td>52</td>\n",
       "      <td>1</td>\n",
       "      <td>0</td>\n",
       "      <td>1</td>\n",
       "      <td>4</td>\n",
       "      <td>0</td>\n",
       "      <td>Неполное среднее</td>\n",
       "      <td>Состою в браке</td>\n",
       "      <td>...</td>\n",
       "      <td>0</td>\n",
       "      <td>1</td>\n",
       "      <td>2</td>\n",
       "      <td>1</td>\n",
       "      <td>11</td>\n",
       "      <td>0</td>\n",
       "      <td>0</td>\n",
       "      <td>0</td>\n",
       "      <td>0</td>\n",
       "      <td>NaN</td>\n",
       "    </tr>\n",
       "    <tr>\n",
       "      <th>3</th>\n",
       "      <td>59910803</td>\n",
       "      <td>0</td>\n",
       "      <td>39</td>\n",
       "      <td>1</td>\n",
       "      <td>0</td>\n",
       "      <td>1</td>\n",
       "      <td>1</td>\n",
       "      <td>1</td>\n",
       "      <td>Высшее</td>\n",
       "      <td>Состою в браке</td>\n",
       "      <td>...</td>\n",
       "      <td>1</td>\n",
       "      <td>1</td>\n",
       "      <td>1</td>\n",
       "      <td>1</td>\n",
       "      <td>6</td>\n",
       "      <td>3</td>\n",
       "      <td>1</td>\n",
       "      <td>1589,92333333333</td>\n",
       "      <td>1590</td>\n",
       "      <td>NaN</td>\n",
       "    </tr>\n",
       "    <tr>\n",
       "      <th>4</th>\n",
       "      <td>59911781</td>\n",
       "      <td>0</td>\n",
       "      <td>30</td>\n",
       "      <td>1</td>\n",
       "      <td>0</td>\n",
       "      <td>0</td>\n",
       "      <td>0</td>\n",
       "      <td>0</td>\n",
       "      <td>Среднее</td>\n",
       "      <td>Состою в браке</td>\n",
       "      <td>...</td>\n",
       "      <td>0</td>\n",
       "      <td>1</td>\n",
       "      <td>2</td>\n",
       "      <td>1</td>\n",
       "      <td>16</td>\n",
       "      <td>2</td>\n",
       "      <td>1</td>\n",
       "      <td>1152,15</td>\n",
       "      <td>2230</td>\n",
       "      <td>NaN</td>\n",
       "    </tr>\n",
       "  </tbody>\n",
       "</table>\n",
       "<p>5 rows × 52 columns</p>\n",
       "</div>"
      ],
      "text/plain": [
       "   AGREEMENT_RK  TARGET  AGE  SOCSTATUS_WORK_FL  SOCSTATUS_PENS_FL  GENDER  \\\n",
       "0      59910150       0   49                  1                  0       1   \n",
       "1      59910230       0   32                  1                  0       1   \n",
       "2      59910525       0   52                  1                  0       1   \n",
       "3      59910803       0   39                  1                  0       1   \n",
       "4      59911781       0   30                  1                  0       0   \n",
       "\n",
       "   CHILD_TOTAL  DEPENDANTS            EDUCATION  MARITAL_STATUS  \\\n",
       "0            2           1  Среднее специальное  Состою в браке   \n",
       "1            3           3              Среднее  Состою в браке   \n",
       "2            4           0     Неполное среднее  Состою в браке   \n",
       "3            1           1               Высшее  Состою в браке   \n",
       "4            0           0              Среднее  Состою в браке   \n",
       "\n",
       "             ...             REG_PHONE_FL GEN_PHONE_FL LOAN_NUM_TOTAL  \\\n",
       "0            ...                        0            1              1   \n",
       "1            ...                        0            1              1   \n",
       "2            ...                        0            1              2   \n",
       "3            ...                        1            1              1   \n",
       "4            ...                        0            1              2   \n",
       "\n",
       "  LOAN_NUM_CLOSED LOAN_NUM_PAYM LOAN_DLQ_NUM LOAN_MAX_DLQ  LOAN_AVG_DLQ_AMT  \\\n",
       "0               1             6            2            1              1580   \n",
       "1               1             6            1            1              4020   \n",
       "2               1            11            0            0                 0   \n",
       "3               1             6            3            1  1589,92333333333   \n",
       "4               1            16            2            1           1152,15   \n",
       "\n",
       "  LOAN_MAX_DLQ_AMT PREVIOUS_CARD_NUM_UTILIZED  \n",
       "0             1580                        NaN  \n",
       "1             4020                        NaN  \n",
       "2                0                        NaN  \n",
       "3             1590                        NaN  \n",
       "4             2230                        NaN  \n",
       "\n",
       "[5 rows x 52 columns]"
      ]
     },
     "execution_count": 5,
     "metadata": {},
     "output_type": "execute_result"
    }
   ],
   "source": [
    "df_train.head()"
   ]
  },
  {
   "cell_type": "markdown",
   "metadata": {},
   "source": [
    "## Объединим две выборки\n",
    "\n",
    "Так как пока мы пока не умеем работать sklearn  Pipeline, то для того, чтобы после предобработки столбцы в двух выборках находились на своих местах.\n",
    "\n",
    "Для того, чтобы в дальнейшем отделить их введем новый столбец \"sample\""
   ]
  },
  {
   "cell_type": "code",
   "execution_count": 6,
   "metadata": {},
   "outputs": [],
   "source": [
    "df_train.loc[:, 'sample'] = 'train'\n",
    "df_test.loc[:, 'sample'] = 'test'"
   ]
  },
  {
   "cell_type": "code",
   "execution_count": 7,
   "metadata": {},
   "outputs": [],
   "source": [
    "df = df_test.append(df_train).reset_index(drop=True)"
   ]
  },
  {
   "cell_type": "markdown",
   "metadata": {},
   "source": [
    "### Чуть-чуть посмотрим на данные"
   ]
  },
  {
   "cell_type": "markdown",
   "metadata": {
    "collapsed": true
   },
   "source": [
    "Посмотрим типы данных и их заполняемость"
   ]
  },
  {
   "cell_type": "code",
   "execution_count": 8,
   "metadata": {
    "scrolled": false
   },
   "outputs": [
    {
     "name": "stdout",
     "output_type": "stream",
     "text": [
      "<class 'pandas.core.frame.DataFrame'>\n",
      "RangeIndex: 30133 entries, 0 to 30132\n",
      "Data columns (total 53 columns):\n",
      "AGREEMENT_RK                  30133 non-null int64\n",
      "TARGET                        30133 non-null int64\n",
      "AGE                           30133 non-null int64\n",
      "SOCSTATUS_WORK_FL             30133 non-null int64\n",
      "SOCSTATUS_PENS_FL             30133 non-null int64\n",
      "GENDER                        30133 non-null int64\n",
      "CHILD_TOTAL                   30133 non-null int64\n",
      "DEPENDANTS                    30133 non-null int64\n",
      "EDUCATION                     30133 non-null object\n",
      "MARITAL_STATUS                30133 non-null object\n",
      "GEN_INDUSTRY                  27420 non-null object\n",
      "GEN_TITLE                     27420 non-null object\n",
      "ORG_TP_STATE                  27420 non-null object\n",
      "ORG_TP_FCAPITAL               27425 non-null object\n",
      "JOB_DIR                       27420 non-null object\n",
      "FAMILY_INCOME                 30133 non-null object\n",
      "PERSONAL_INCOME               30133 non-null object\n",
      "REG_ADDRESS_PROVINCE          30133 non-null object\n",
      "FACT_ADDRESS_PROVINCE         30133 non-null object\n",
      "POSTAL_ADDRESS_PROVINCE       30133 non-null object\n",
      "TP_PROVINCE                   29543 non-null object\n",
      "REGION_NM                     30131 non-null object\n",
      "REG_FACT_FL                   30133 non-null int64\n",
      "FACT_POST_FL                  30133 non-null int64\n",
      "REG_POST_FL                   30133 non-null int64\n",
      "REG_FACT_POST_FL              30133 non-null int64\n",
      "REG_FACT_POST_TP_FL           30133 non-null int64\n",
      "FL_PRESENCE_FL                30133 non-null int64\n",
      "OWN_AUTO                      30133 non-null int64\n",
      "AUTO_RUS_FL                   30133 non-null int64\n",
      "HS_PRESENCE_FL                30133 non-null int64\n",
      "COT_PRESENCE_FL               30133 non-null int64\n",
      "GAR_PRESENCE_FL               30133 non-null int64\n",
      "LAND_PRESENCE_FL              30133 non-null int64\n",
      "CREDIT                        30133 non-null object\n",
      "TERM                          30133 non-null int64\n",
      "FST_PAYMENT                   30133 non-null object\n",
      "DL_DOCUMENT_FL                30133 non-null int64\n",
      "GPF_DOCUMENT_FL               30133 non-null int64\n",
      "FACT_LIVING_TERM              30133 non-null int64\n",
      "WORK_TIME                     27416 non-null float64\n",
      "FACT_PHONE_FL                 30133 non-null int64\n",
      "REG_PHONE_FL                  30133 non-null int64\n",
      "GEN_PHONE_FL                  30133 non-null int64\n",
      "LOAN_NUM_TOTAL                30133 non-null int64\n",
      "LOAN_NUM_CLOSED               30133 non-null int64\n",
      "LOAN_NUM_PAYM                 30133 non-null int64\n",
      "LOAN_DLQ_NUM                  30133 non-null int64\n",
      "LOAN_MAX_DLQ                  30133 non-null int64\n",
      "LOAN_AVG_DLQ_AMT              30133 non-null object\n",
      "LOAN_MAX_DLQ_AMT              30133 non-null object\n",
      "PREVIOUS_CARD_NUM_UTILIZED    600 non-null float64\n",
      "sample                        30133 non-null object\n",
      "dtypes: float64(2), int64(32), object(19)\n",
      "memory usage: 12.2+ MB\n"
     ]
    }
   ],
   "source": [
    "df.info()"
   ]
  },
  {
   "cell_type": "markdown",
   "metadata": {
    "collapsed": true
   },
   "source": [
    "Видим, что часть данных - object, скорее всего стоки.\n",
    "\n",
    "\n",
    "Давайте выведем эти значения для каждого столбца"
   ]
  },
  {
   "cell_type": "code",
   "execution_count": 9,
   "metadata": {},
   "outputs": [
    {
     "data": {
      "text/html": [
       "<div>\n",
       "<style>\n",
       "    .dataframe thead tr:only-child th {\n",
       "        text-align: right;\n",
       "    }\n",
       "\n",
       "    .dataframe thead th {\n",
       "        text-align: left;\n",
       "    }\n",
       "\n",
       "    .dataframe tbody tr th {\n",
       "        vertical-align: top;\n",
       "    }\n",
       "</style>\n",
       "<table border=\"1\" class=\"dataframe\">\n",
       "  <thead>\n",
       "    <tr style=\"text-align: right;\">\n",
       "      <th></th>\n",
       "      <th>AGREEMENT_RK</th>\n",
       "      <th>TARGET</th>\n",
       "      <th>AGE</th>\n",
       "      <th>SOCSTATUS_WORK_FL</th>\n",
       "      <th>SOCSTATUS_PENS_FL</th>\n",
       "      <th>GENDER</th>\n",
       "      <th>CHILD_TOTAL</th>\n",
       "      <th>DEPENDANTS</th>\n",
       "      <th>EDUCATION</th>\n",
       "      <th>MARITAL_STATUS</th>\n",
       "      <th>...</th>\n",
       "      <th>GEN_PHONE_FL</th>\n",
       "      <th>LOAN_NUM_TOTAL</th>\n",
       "      <th>LOAN_NUM_CLOSED</th>\n",
       "      <th>LOAN_NUM_PAYM</th>\n",
       "      <th>LOAN_DLQ_NUM</th>\n",
       "      <th>LOAN_MAX_DLQ</th>\n",
       "      <th>LOAN_AVG_DLQ_AMT</th>\n",
       "      <th>LOAN_MAX_DLQ_AMT</th>\n",
       "      <th>PREVIOUS_CARD_NUM_UTILIZED</th>\n",
       "      <th>sample</th>\n",
       "    </tr>\n",
       "  </thead>\n",
       "  <tbody>\n",
       "    <tr>\n",
       "      <th>0</th>\n",
       "      <td>59909969</td>\n",
       "      <td>0</td>\n",
       "      <td>30</td>\n",
       "      <td>1</td>\n",
       "      <td>0</td>\n",
       "      <td>1</td>\n",
       "      <td>1</td>\n",
       "      <td>1</td>\n",
       "      <td>Среднее специальное</td>\n",
       "      <td>Не состоял в браке</td>\n",
       "      <td>...</td>\n",
       "      <td>1</td>\n",
       "      <td>2</td>\n",
       "      <td>2</td>\n",
       "      <td>8</td>\n",
       "      <td>0</td>\n",
       "      <td>0</td>\n",
       "      <td>0</td>\n",
       "      <td>0</td>\n",
       "      <td>NaN</td>\n",
       "      <td>test</td>\n",
       "    </tr>\n",
       "    <tr>\n",
       "      <th>1</th>\n",
       "      <td>59910420</td>\n",
       "      <td>0</td>\n",
       "      <td>48</td>\n",
       "      <td>0</td>\n",
       "      <td>1</td>\n",
       "      <td>1</td>\n",
       "      <td>0</td>\n",
       "      <td>0</td>\n",
       "      <td>Среднее</td>\n",
       "      <td>Состою в браке</td>\n",
       "      <td>...</td>\n",
       "      <td>0</td>\n",
       "      <td>2</td>\n",
       "      <td>1</td>\n",
       "      <td>15</td>\n",
       "      <td>0</td>\n",
       "      <td>0</td>\n",
       "      <td>0</td>\n",
       "      <td>0</td>\n",
       "      <td>NaN</td>\n",
       "      <td>test</td>\n",
       "    </tr>\n",
       "    <tr>\n",
       "      <th>2</th>\n",
       "      <td>59911223</td>\n",
       "      <td>0</td>\n",
       "      <td>35</td>\n",
       "      <td>1</td>\n",
       "      <td>0</td>\n",
       "      <td>0</td>\n",
       "      <td>1</td>\n",
       "      <td>0</td>\n",
       "      <td>Среднее</td>\n",
       "      <td>Не состоял в браке</td>\n",
       "      <td>...</td>\n",
       "      <td>1</td>\n",
       "      <td>1</td>\n",
       "      <td>1</td>\n",
       "      <td>1</td>\n",
       "      <td>0</td>\n",
       "      <td>0</td>\n",
       "      <td>0</td>\n",
       "      <td>0</td>\n",
       "      <td>NaN</td>\n",
       "      <td>test</td>\n",
       "    </tr>\n",
       "    <tr>\n",
       "      <th>3</th>\n",
       "      <td>59911322</td>\n",
       "      <td>0</td>\n",
       "      <td>22</td>\n",
       "      <td>1</td>\n",
       "      <td>0</td>\n",
       "      <td>0</td>\n",
       "      <td>0</td>\n",
       "      <td>0</td>\n",
       "      <td>Среднее</td>\n",
       "      <td>Не состоял в браке</td>\n",
       "      <td>...</td>\n",
       "      <td>1</td>\n",
       "      <td>3</td>\n",
       "      <td>2</td>\n",
       "      <td>9</td>\n",
       "      <td>0</td>\n",
       "      <td>0</td>\n",
       "      <td>0</td>\n",
       "      <td>0</td>\n",
       "      <td>NaN</td>\n",
       "      <td>test</td>\n",
       "    </tr>\n",
       "    <tr>\n",
       "      <th>4</th>\n",
       "      <td>59911438</td>\n",
       "      <td>0</td>\n",
       "      <td>27</td>\n",
       "      <td>1</td>\n",
       "      <td>0</td>\n",
       "      <td>1</td>\n",
       "      <td>2</td>\n",
       "      <td>2</td>\n",
       "      <td>Высшее</td>\n",
       "      <td>Состою в браке</td>\n",
       "      <td>...</td>\n",
       "      <td>1</td>\n",
       "      <td>1</td>\n",
       "      <td>1</td>\n",
       "      <td>5</td>\n",
       "      <td>0</td>\n",
       "      <td>0</td>\n",
       "      <td>0</td>\n",
       "      <td>0</td>\n",
       "      <td>NaN</td>\n",
       "      <td>test</td>\n",
       "    </tr>\n",
       "  </tbody>\n",
       "</table>\n",
       "<p>5 rows × 53 columns</p>\n",
       "</div>"
      ],
      "text/plain": [
       "   AGREEMENT_RK  TARGET  AGE  SOCSTATUS_WORK_FL  SOCSTATUS_PENS_FL  GENDER  \\\n",
       "0      59909969       0   30                  1                  0       1   \n",
       "1      59910420       0   48                  0                  1       1   \n",
       "2      59911223       0   35                  1                  0       0   \n",
       "3      59911322       0   22                  1                  0       0   \n",
       "4      59911438       0   27                  1                  0       1   \n",
       "\n",
       "   CHILD_TOTAL  DEPENDANTS            EDUCATION      MARITAL_STATUS  ...    \\\n",
       "0            1           1  Среднее специальное  Не состоял в браке  ...     \n",
       "1            0           0              Среднее      Состою в браке  ...     \n",
       "2            1           0              Среднее  Не состоял в браке  ...     \n",
       "3            0           0              Среднее  Не состоял в браке  ...     \n",
       "4            2           2               Высшее      Состою в браке  ...     \n",
       "\n",
       "  GEN_PHONE_FL LOAN_NUM_TOTAL LOAN_NUM_CLOSED LOAN_NUM_PAYM LOAN_DLQ_NUM  \\\n",
       "0            1              2               2             8            0   \n",
       "1            0              2               1            15            0   \n",
       "2            1              1               1             1            0   \n",
       "3            1              3               2             9            0   \n",
       "4            1              1               1             5            0   \n",
       "\n",
       "  LOAN_MAX_DLQ LOAN_AVG_DLQ_AMT LOAN_MAX_DLQ_AMT PREVIOUS_CARD_NUM_UTILIZED  \\\n",
       "0            0                0                0                        NaN   \n",
       "1            0                0                0                        NaN   \n",
       "2            0                0                0                        NaN   \n",
       "3            0                0                0                        NaN   \n",
       "4            0                0                0                        NaN   \n",
       "\n",
       "  sample  \n",
       "0   test  \n",
       "1   test  \n",
       "2   test  \n",
       "3   test  \n",
       "4   test  \n",
       "\n",
       "[5 rows x 53 columns]"
      ]
     },
     "execution_count": 9,
     "metadata": {},
     "output_type": "execute_result"
    }
   ],
   "source": [
    "df.head()"
   ]
  },
  {
   "cell_type": "code",
   "execution_count": 10,
   "metadata": {
    "scrolled": true
   },
   "outputs": [
    {
     "name": "stdout",
     "output_type": "stream",
     "text": [
      "==========\n",
      "EDUCATION\n",
      "{'Два и более высших образования', 'Среднее', 'Высшее', 'Неоконченное высшее', 'Неполное среднее', 'Ученая степень', 'Среднее специальное'}\n",
      "\n",
      "\n",
      "==========\n",
      "MARITAL_STATUS\n",
      "{'Гражданский брак', 'Разведен(а)', 'Вдовец/Вдова', 'Состою в браке', 'Не состоял в браке'}\n",
      "\n",
      "\n",
      "==========\n",
      "GEN_INDUSTRY\n",
      "{'Государственная служба', nan, 'Управляющая компания', 'Маркетинг', 'Информационные услуги', 'Страхование', 'Металлургия/Промышленность/Машиностроение', 'Салоны красоты и здоровья', 'Логистика', 'ЧОП/Детективная д-ть', 'Ресторанный бизнес/Общественное питание', 'Другие сферы', 'Подбор персонала', 'Туризм', 'Торговля', 'Сельское хозяйство', 'Здравоохранение', 'Образование', 'Юридические услуги/нотариальные услуги', 'Нефтегазовая промышленность', 'Сборочные производства', 'Информационные технологии', 'Строительство', 'Энергетика', 'Развлечения/Искусство', 'Транспорт', 'СМИ/Реклама/PR-агенства', 'Коммунальное хоз-во/Дорожные службы', 'Наука', 'Банк/Финансы', 'Недвижимость', 'Химия/Парфюмерия/Фармацевтика'}\n",
      "\n",
      "\n",
      "==========\n",
      "GEN_TITLE\n",
      "{nan, 'Другое', 'Рабочий', 'Высококвалифиц. специалист', 'Индивидуальный предприниматель', 'Работник сферы услуг', 'Военнослужащий по контракту', 'Руководитель низшего звена', 'Руководитель среднего звена', 'Партнер', 'Специалист', 'Руководитель высшего звена', 'Служащий'}\n",
      "\n",
      "\n",
      "==========\n",
      "ORG_TP_STATE\n",
      "{nan, 'Частная ком. с инос. капиталом', 'Некоммерческая организация', 'Индивидуальный предприниматель', 'Частная компания', 'Государственная комп./учреж.'}\n",
      "\n",
      "\n",
      "==========\n",
      "ORG_TP_FCAPITAL\n",
      "{nan, 'С участием', 'Без участия'}\n",
      "\n",
      "\n",
      "==========\n",
      "JOB_DIR\n",
      "{'Служба безопасности', nan, 'Вспомогательный техперсонал', 'Адм-хоз. и трансп. службы', 'Пр-техн. обесп. и телеком.', 'Бухгалтерия, финансы, планир.', 'Кадровая служба и секретариат', 'Юридическая служба', 'Реклама и маркетинг', 'Снабжение и сбыт', 'Участие в основ. деятельности'}\n",
      "\n",
      "\n",
      "==========\n",
      "FAMILY_INCOME\n",
      "{'от 5000 до 10000 руб.', 'свыше 50000 руб.', 'от 20000 до 50000 руб.', 'до 5000 руб.', 'от 10000 до 20000 руб.'}\n",
      "\n",
      "\n",
      "==========\n",
      "PERSONAL_INCOME\n",
      "{'15380', '5900', '4360', '38000', '6180', '5446', '5050', '13160', '28000', '24', '7500', '8300', '23500', '16100', '3300', '6670', '13150', '5230', '7830', '3700', '4100', '9300', '4300', '4330', '15300', '17600', '11800', '8900', '12400', '26500', '12900', '22000', '36000', '100000', '17900', '4800', '12800', '13700', '8100', '3800', '42500', '7220', '7850', '5500', '17404', '7640', '14000', '12650', '13600', '54000', '28300', '9400', '5582', '29800', '23000', '2000', '70000', '12500', '47000', '9340', '6900', '11300', '16200', '19700', '8700', '32640', '5600', '12700', '5000', '6100', '77000', '10900', '9700', '6500', '5400', '55000', '10000', '41900', '80000', '4700', '10800', '8250', '220000', '6000', '24000', '23800', '6608', '3100', '7400', '5360', '7650', '19500', '10500', '9628', '48000', '21000', '6300', '7200', '12300', '10400', '15560', '19800', '52000', '8500', '5800', '5339', '26000', '16500', '16700', '35000', '7300', '4900', '11500', '12100', '19000', '15000', '3500', '8400', '30000', '6600', '34000', '17800', '6200', '29500', '13300', '6359', '18200', '11700', '53000', '44000', '7101', '110000', '25000', '11200', '9600', '14700', '5200', '150000', '8350', '18500', '20500', '7800', '10700', '9800', '14300', '41000', '8726', '7600', '13500', '9500', '9900', '10300', '5088', '31000', '4400', '15200', '21500', '42000', '4950', '50000', '7050', '160000', '6700', '51000', '7700', '22955', '250000', '39000', '20646,16', '17200', '20000', '5700', '12000', '1950', '5300', '24500', '11900', '18600', '75000', '14800', '17500', '3400', '13800', '8200', '12600', '9200', '11400', '2300', '17000', '4500', '9000', '10200', '5425', '3200', '3900', '7250', '2100', '92000', '15600', '5350', '5460', '56000', '8066', '8800', '18700', '4600', '9330', '15400', '40000', '4590', '4340', '6800', '4200', '9100', '33000', '18000', '6400', '27300', '13000', '16800', '17700', '2800', '37000', '32000', '60000', '3600', '10600', '49000', '7900', '25800', '5680', '11600', '67000', '65000', '16900', '8000', '4000', '13900', '6299,19', '21800', '7550', '46000', '24800', '16050', '13450', '4515', '170000', '45000', '68000', '16000', '19300', '27000', '14500', '67700', '23100', '3000', '5100', '13400', '10100', '22500', '11000', '43000', '19600', '15500', '14358', '5790', '7100', '11640', '9240', '8600', '13200', '7251', '29000', '7000'}\n",
      "\n",
      "\n",
      "==========\n",
      "REG_ADDRESS_PROVINCE\n",
      "{'Алтайский край', 'Рязанская область', 'Ульяновская область', 'Свердловская область', 'Оренбургская область', 'Карелия', 'Архангельская область', 'Пензенская область', 'Бурятия', 'Кабардино-Балкария', 'Ростовская область', 'Вологодская область', 'Якутия', 'Волгоградская область', 'Северная Осетия', 'Омская область', 'Горный Алтай', 'Калужская область', 'Липецкая область', 'Ленинградская область', 'Тульская область', 'Костромская область', 'Новгородская область', 'Камчатская область', 'Санкт-Петербург', 'Ставропольский край', 'Калмыкия', 'Марийская республика', 'Агинский Бурятский АО', 'Хабаровский край', 'Еврейская АО', 'Самарская область', 'Владимирская область', 'Татарстан', 'Мурманская область', 'Пермская область', 'Кировская область', 'Чувашия', 'Хакасия', 'Калининградская область', 'Удмуртия', 'Красноярский край', 'Адыгея', 'Московская область', 'Тверская область', 'Тюменская область', 'Иркутская область', 'Коми', 'Новосибирская область', 'Мордовская республика', 'Усть-Ордынский Бурятский АО', 'Белгородская область', 'Смоленская область', 'Курская область', 'Эвенкийский АО', 'Амурская область', 'Ярославская область', 'Тамбовская область', 'Курганская область', 'Кемеровская область', 'Нижегородская область', 'Челябинская область', 'Астраханская область', 'Краснодарский край', 'Псковская область', 'Саратовская область', 'Приморский край', 'Магаданская область', 'Ямало-Ненецкий АО', 'Читинская область', 'Карачаево-Черкесия', 'Москва', 'Ивановская область', 'Брянская область', 'Томская область', 'Дагестан', 'Башкирия', 'Сахалинская область', 'Ханты-Мансийский АО', 'Воронежская область', 'Орловская область'}\n",
      "\n",
      "\n",
      "==========\n",
      "FACT_ADDRESS_PROVINCE\n",
      "{'Алтайский край', 'Рязанская область', 'Ульяновская область', 'Свердловская область', 'Оренбургская область', 'Карелия', 'Архангельская область', 'Пензенская область', 'Бурятия', 'Кабардино-Балкария', 'Ростовская область', 'Вологодская область', 'Якутия', 'Волгоградская область', 'Северная Осетия', 'Омская область', 'Горный Алтай', 'Калужская область', 'Липецкая область', 'Ленинградская область', 'Тульская область', 'Костромская область', 'Новгородская область', 'Камчатская область', 'Санкт-Петербург', 'Ставропольский край', 'Калмыкия', 'Марийская республика', 'Агинский Бурятский АО', 'Хабаровский край', 'Еврейская АО', 'Самарская область', 'Владимирская область', 'Татарстан', 'Мурманская область', 'Пермская область', 'Кировская область', 'Чувашия', 'Хакасия', 'Калининградская область', 'Удмуртия', 'Красноярский край', 'Адыгея', 'Московская область', 'Тверская область', 'Тюменская область', 'Иркутская область', 'Коми', 'Новосибирская область', 'Мордовская республика', 'Усть-Ордынский Бурятский АО', 'Белгородская область', 'Смоленская область', 'Курская область', 'Эвенкийский АО', 'Амурская область', 'Ярославская область', 'Тамбовская область', 'Курганская область', 'Кемеровская область', 'Нижегородская область', 'Челябинская область', 'Астраханская область', 'Краснодарский край', 'Псковская область', 'Саратовская область', 'Приморский край', 'Магаданская область', 'Ямало-Ненецкий АО', 'Читинская область', 'Карачаево-Черкесия', 'Москва', 'Ивановская область', 'Брянская область', 'Томская область', 'Дагестан', 'Башкирия', 'Сахалинская область', 'Ханты-Мансийский АО', 'Воронежская область', 'Орловская область'}\n",
      "\n",
      "\n",
      "==========\n",
      "POSTAL_ADDRESS_PROVINCE\n",
      "{'Алтайский край', 'Рязанская область', 'Ульяновская область', 'Свердловская область', 'Оренбургская область', 'Карелия', 'Архангельская область', 'Пензенская область', 'Бурятия', 'Кабардино-Балкария', 'Ростовская область', 'Вологодская область', 'Якутия', 'Волгоградская область', 'Северная Осетия', 'Омская область', 'Горный Алтай', 'Калужская область', 'Липецкая область', 'Ленинградская область', 'Тульская область', 'Костромская область', 'Новгородская область', 'Камчатская область', 'Санкт-Петербург', 'Ставропольский край', 'Калмыкия', 'Марийская республика', 'Агинский Бурятский АО', 'Хабаровский край', 'Еврейская АО', 'Самарская область', 'Владимирская область', 'Татарстан', 'Мурманская область', 'Пермская область', 'Кировская область', 'Чувашия', 'Хакасия', 'Калининградская область', 'Удмуртия', 'Красноярский край', 'Адыгея', 'Московская область', 'Тверская область', 'Тюменская область', 'Иркутская область', 'Коми', 'Новосибирская область', 'Мордовская республика', 'Усть-Ордынский Бурятский АО', 'Белгородская область', 'Смоленская область', 'Курская область', 'Эвенкийский АО', 'Амурская область', 'Ярославская область', 'Тамбовская область', 'Курганская область', 'Кемеровская область', 'Нижегородская область', 'Челябинская область', 'Астраханская область', 'Краснодарский край', 'Псковская область', 'Саратовская область', 'Приморский край', 'Магаданская область', 'Ямало-Ненецкий АО', 'Читинская область', 'Карачаево-Черкесия', 'Москва', 'Ивановская область', 'Брянская область', 'Томская область', 'Башкирия', 'Сахалинская область', 'Ханты-Мансийский АО', 'Воронежская область', 'Орловская область'}\n",
      "\n",
      "\n",
      "==========\n",
      "TP_PROVINCE\n",
      "{'Алтайский край', nan, 'Рязанская область', 'Ульяновская область', 'Свердловская область', 'Оренбургская область', 'Карелия', 'Архангельская область', 'Пензенская область', 'Бурятия', 'Вологодская область', 'Ростовская область', 'Якутия', 'Кабардино-Балкария', 'Волгоградская область', 'Омская область', 'Горный Алтай', 'Калужская область', 'Липецкая область', 'Тульская область', 'Костромская область', 'Новгородская область', 'Камчатская область', 'Санкт-Петербург', 'Ставропольский край', 'Марийская республика', 'Хабаровский край', 'Еврейская АО', 'Самарская область', 'Владимирская область', 'Татарстан', 'Мурманская область', 'Пермская область', 'Кировская область', 'Чувашия', 'Калининградская область', 'Удмуртия', 'Красноярский край', 'Адыгея', 'Тверская область', 'Тюменская область', 'Иркутская область', 'Коми', 'Новосибирская область', 'Мордовская республика', 'Белгородская область', 'Смоленская область', 'Курская область', 'Амурская область', 'Ярославская область', 'Тамбовская область', 'Курганская область', 'Кемеровская область', 'Нижегородская область', 'Челябинская область', 'Астраханская область', 'Краснодарский край', 'Псковская область', 'Саратовская область', 'Приморский край', 'Магаданская область', 'Читинская область', 'Москва', 'Ивановская область', 'Брянская область', 'Томская область', 'Башкирия', 'Сахалинская область', 'Ханты-Мансийский АО', 'Воронежская область', 'Орловская область'}\n",
      "\n",
      "\n",
      "==========\n",
      "REGION_NM\n",
      "{'УРАЛЬСКИЙ', 'ПОВОЛЖСКИЙ', nan, 'ПРИВОЛЖСКИЙ', 'СЕВЕРО-ЗАПАДНЫЙ', 'ДАЛЬНЕВОСТОЧНЫЙ', 'ЦЕНТРАЛЬНЫЙ ОФИС', 'ВОСТОЧНО-СИБИРСКИЙ', 'ЦЕНТРАЛЬНЫЙ 1', 'ЗАПАДНО-СИБИРСКИЙ', 'ЮЖНЫЙ', 'ЦЕНТРАЛЬНЫЙ 2'}\n",
      "\n",
      "\n",
      "==========\n",
      "CREDIT\n",
      "{'6075', '26485', '5218', '4080', '24940', '17501', '13040', '6089', '4809', '30656', '11749', '16170', '8369', '43732,8', '3768', '16107', '20155', '22880', '7357', '10950', '19187', '17650', '10850', '5715', '5031', '14316', '23396', '4150,95', '8638', '16440', '5960', '34990,8', '28186', '2540', '16300', '21665', '10830', '11750,31', '4021', '21382', '63000', '7997', '11085', '12219', '44690', '9496', '18319', '6893,7', '18472', '14495,35', '19591,36', '8532', '22750', '22670', '23912', '11310', '28945', '28417', '14990,95', '12213', '8381,5', '34190', '10216', '22660', '44500', '8038', '18096', '12696', '5297', '10287', '40084', '32706', '8185', '29206', '18547', '4202', '16063,29', '42180', '97220', '9830', '28460', '20495', '4922', '7629', '11529', '23226', '13208', '26690', '37881', '19789', '5037', '7515', '45034', '71400', '5745', '18030', '9040', '12038', '13825', '8536', '13000', '3540,2', '14047', '10479', '10525,01', '29470', '12549,07', '8960', '32000', '33830', '7609,5', '19083', '19883', '9670', '16908', '21250', '16448', '13112', '29205', '8076', '12903', '23100', '32940', '13435', '3735', '8543', '84500', '24300', '11247', '4299', '4743,68', '17060', '3299', '14107', '8610', '42689', '4004', '26920', '5897', '2899', '16100', '48700', '3790', '3195', '11674', '21506', '15100', '19290', '21762', '4611', '27012', '4059', '14854', '20060', '3358', '7847', '6105', '4768', '8320', '13999', '19797', '8330', '26489', '23347', '29336,4', '24380', '19420', '16330', '17231', '29949,7', '13843', '5055', '7544', '8233,95', '31221', '7888', '6625', '20790', '12554', '9497', '11600,6', '18360', '13336', '6698,3', '12331', '10841', '14990', '31090', '2245', '25000', '17851', '5384', '18074', '7600', '25440', '16285', '5794', '17789', '16991', '26084', '15036', '8445', '4720', '2792', '14760', '4735', '22469', '94330', '16214', '32975,3', '26379,91', '7060', '15030', '18696', '24100,83', '9538,9', '89018', '2300', '17670', '33450', '76738', '16491', '34100', '16169', '17752', '11920', '10972', '9241', '31910', '21710', '17998,2', '48572', '6360', '15363', '19324', '4617', '20113', '6920', '8088', '26999', '3681', '23382', '12092', '2200', '8775', '31509', '19184', '7510', '6889', '9380', '2957', '10760', '6181,09', '4090', '3090', '16648', '8617', '11916', '8689', '29040', '77762', '56130', '9004', '8652', '18825', '59629', '12900', '10505,5', '11496', '12687', '16920', '51700,5', '7391', '20091', '26060', '5391', '14840', '9924', '34900', '15336', '13570', '11345', '11300', '4867', '13496', '10163', '22330', '13952,73', '34499,2', '3385', '41730', '19008', '6499', '28932', '6000', '9594', '14661', '8860', '25840', '6578', '19035', '4930,95', '22798', '24408', '5089', '13829', '19000', '29475', '10071', '31726', '40050', '6559', '12708', '20169', '20770', '16449', '13288', '13351', '17850', '17432', '11753', '13500', '8644', '23516,84', '27769', '14698', '80973', '2282', '12628,91', '10528,3', '18080', '28420', '4475', '9444', '12265', '44879', '7459,6', '37400', '28970', '9200', '11400', '14206', '12412', '5149', '10298', '18643', '6086', '10423', '17697', '4744', '15759', '42740', '24119', '4035,2', '23780', '30418', '7098', '5189', '7687', '30590', '2928', '19522', '7590', '17952', '12284', '27673', '13259', '12173', '3780', '10256,1', '16591', '37656', '24740', '24495', '21349', '4430', '32490', '12480', '12478', '4132,5', '9790', '2390', '17720', '3377', '10646', '4498', '33800', '5577', '22860', '20179', '15895', '72890', '24933', '19415', '14489,2', '10128,8', '30110', '23230', '26837', '28990,91', '18400', '5253', '13690', '3308', '6850', '16200', '10435', '10670', '62000', '23109', '22803', '16438', '27370', '3385,92', '35960', '16662', '19622', '19080', '10570', '56964,6', '21810', '22497', '11289', '8389', '5931,8', '9551', '16175', '10778', '7645', '81612', '9045', '14637', '21187', '9212', '14320', '11488', '30344', '11266', '14744', '6507', '13025', '28402', '8406', '15150', '4726', '2048', '17099,1', '11748', '14321', '8723', '6928', '31490', '26138', '3941', '11115', '17622', '9759,4', '7022,7', '89200', '7700', '8641', '27400', '20601', '9456', '9529', '13180', '6691', '13021', '9920', '26346', '7019', '29590', '27149', '9315', '20519', '6525', '3935', '21592', '10912', '11159', '16389', '13630', '4487,4', '4135', '10429', '40000', '3674', '3906', '4827', '26054', '17811', '28042', '7690', '4042', '10870', '98042', '3840', '6624', '30170', '20706', '18498', '27939', '9248', '13302,83', '14450', '17480', '9452,97', '4640', '27680', '31278', '9240', '35670', '2633', '13748', '27350', '5980', '10904', '10512', '24502', '6796', '4048', '5908', '26740', '26780', '9416', '33459', '27686,2', '3170', '16519', '8978', '3960', '25920', '12800', '4590,2', '14609', '9137', '8033', '3660', '5634', '13950', '3294', '27040', '25740', '13776', '20464', '6662', '21778', '12598,2', '31833', '8880', '18810', '93947', '62700', '15795', '23146', '16324', '14133', '3949,92', '6415', '7970', '8041', '4270', '19502', '9490', '16786', '14770', '15599', '14625', '11804', '3500', '9555', '27540', '4845', '4265', '10373', '16883', '7559', '16364', '17580', '38070', '10712', '4801', '18067', '15390', '16649', '24357', '9963', '4115', '9955', '19795', '21105', '21588', '19930', '6209', '30600', '30190', '4410', '13699', '21480', '3980', '8763', '32076', '21717,92', '32175', '47691', '13184', '7313', '3703', '7360', '2599', '6467', '6696', '17499', '15980', '22345', '3110', '2099', '17630', '50929,82', '52469,87', '11240', '3239', '13020', '76360', '5480', '10855', '25180', '8957', '11389', '3870', '3820', '12734', '12651', '26720', '31294', '11160', '15247', '8440', '31404', '9720', '10158', '15299', '30200', '37016', '32700', '21589,9', '6457', '17439', '15850', '20143', '27895', '18495', '8297', '14310', '21083', '9855', '8777,1', '5612', '16350', '21470', '74690', '10001', '5994', '26450', '18598', '14890', '16400', '27456', '39160', '10439', '8730', '9675', '58541', '10349', '32397', '11042', '17420', '9440', '9597', '6730', '24344', '9804', '4336,2', '10057', '15857', '94358', '28220', '35943', '4491', '3290', '75581', '4546', '21880', '26164', '14949', '31885', '35598', '21597,8', '6745', '3460', '24830', '7380', '17379', '11295', '11405', '16367', '17545', '7720', '17826', '14355', '13998', '15890,9', '17134', '38200', '5751', '3353', '4089', '12318', '19520', '6544', '3430', '9791', '49750', '7556', '13465', '11133', '12317', '4608', '16114', '13644', '3897', '5540', '5270', '6560', '19924', '50177', '13745', '9730', '65747', '5932', '12499', '3359', '6070', '21850', '11650', '49000', '12150', '8517', '15121', '3879', '7878', '7550', '9917', '27736', '21328', '11860', '12599,9', '10424,6', '12120', '6785', '35360', '24777', '10635', '21598', '6189,92', '7996', '11601', '40970', '23478', '5632', '2890', '19920', '5610', '22307', '16379', '22145,1', '17531', '11264,25', '4148', '30615', '8900', '21246', '14065', '31817,2', '12365,2', '26990', '5019', '16479', '47600', '14521', '31730,91', '22951', '4463', '50700', '8361', '5296', '27570', '10339', '10695,13', '19278', '24233', '5555', '17398,2', '12197', '4908', '6100', '5400', '30990', '27900', '4099', '7182', '7469', '3604', '5995', '44495', '9107', '26999,2', '10640', '3760', '14588', '6039', '3498', '11672', '6540', '34700', '23488', '14460', '21390', '12389', '25570', '49227', '50940', '25896', '18997', '9533', '6556', '22455', '19410', '15897', '6281', '5243', '10755', '10648', '6165', '14204', '16750', '6071', '17110', '5176,8', '25491', '7498,9', '27854', '24125', '14390,92', '6980', '22810', '13558', '6697', '5282', '17112', '5377', '14596', '79770', '6283', '16743', '6797', '45000', '13287', '11460', '10874', '9738', '8432', '16824', '18269', '21481', '4210', '14680', '9349', '17560', '24871', '9629', '26820', '57209', '6787,8', '17802', '15700', '8690', '6950', '4118', '9467', '11536', '18140', '25599', '7395', '6887', '6950,7', '11039', '2366', '50879,83', '5912', '23251', '24423', '22085', '5999', '22960', '9648', '24450', '3599', '31990,6', '14866', '8386', '7850', '27890', '8480', '35165', '26380', '27065', '19200', '24835', '14130', '16320', '19390', '5424', '4995', '11021', '15230', '10389', '48900', '11850', '7348', '14169,1', '14438', '3654', '21120', '11030', '15863', '2255,4', '24199', '87570', '33881', '5207', '37880', '9681,5', '3392', '11335', '31300', '10935', '15658', '24132', '10394', '4560', '20397', '20863', '16489,9', '9898', '3271,5', '9900', '5848', '20100', '14349', '4180', '27196,1', '16596', '5825', '13489', '19295', '21658', '18528', '30325', '43631', '4909', '24844', '12206', '11900', '8171', '17750', '12537', '14947', '9679', '11297', '16781', '9100', '19900', '11430', '81423', '40756', '11666', '3149', '38244', '3984', '12417', '9153', '12597', '10295', '6219', '7478', '30696', '11385', '3188', '3879,17', '15732', '11426', '19769', '9054', '5955', '28820', '13410', '9846', '20779', '24283', '21930', '23425', '25966', '11490', '9445', '10548', '6494', '45297', '13200', '16995', '3580', '25812,5', '12868', '16455', '6202', '17025', '31716', '3731', '3311', '26199', '97000', '6142', '8399', '30580', '14921', '21889,92', '41211', '18225', '19857', '53499', '3547,42', '21410', '10467,1', '19850', '5589', '16450,71', '7604', '14446,3', '5614', '10542', '19320', '2389', '12396', '36730', '21340', '16362', '24263', '2759', '13889', '5272', '18631', '41451', '26550', '24864', '5058', '59398,2', '4756,5', '14196', '11350', '5599', '2333', '62100', '5870', '15350', '13137', '11020', '32955', '2490', '14917', '45672', '4896', '22121,1', '6138', '2000,51', '25632', '6978', '9702', '25515', '8886', '14976', '11642,3', '7580', '3442', '3360', '4275', '26090', '3030', '19289', '18553', '32370', '18602', '5995,46', '22264', '13140', '5588', '14006', '8270', '20903,5', '11970', '18176', '4837', '8912', '23663', '8902', '9025', '3725', '13916', '7092', '13360', '5198', '14035', '18890', '15910', '4563', '7047', '13921,52', '6899', '9650', '9996', '5496', '24210', '10672', '6698', '20179,3', '2799', '11778', '11710', '20350', '10990,94', '6462', '5268,47', '61540', '25897,4', '14168', '14337', '9457', '26910', '5535', '24110', '6590', '19570', '17451', '17920', '14942', '31900', '20338', '45863', '7207', '20900', '16988', '4290,95', '10048', '21771', '5309', '8419', '10520', '5768', '12236', '16715', '26462', '26961', '17045', '20063', '17549', '37790', '19011', '5404', '4228', '18540', '15984', '10900', '9030', '18390', '7598', '5436', '15940', '15547', '28230', '10539', '18849', '7140', '10238', '4510', '15696', '79910', '23660', '12996', '28210', '35520', '10052', '30471', '11853', '12749', '11500', '30361', '84000', '30000', '3942', '15555', '57581', '9009,91', '21154', '19095', '24400', '8556', '20294', '22598,1', '18819', '20650', '12902', '6020', '32980', '8977', '25829,1', '7795', '15582', '9443', '3550', '9351', '17400', '33660', '12061', '31850', '17804', '16507', '19620', '20690', '19341,2', '12411', '26120', '35992', '11195', '11926', '6944', '24772', '21570', '14360', '38300', '10600', '19100', '17453', '6867', '13650', '3561', '76300', '12070', '25980', '6746', '35550', '3448,8', '15313', '71500', '13136', '6504', '4221', '3865', '3089', '28450', '11989', '25454', '44900', '4489', '10803,84', '5020', '38000', '2995', '33183,4', '25340', '3651', '10789', '91536', '14580', '12566', '13250', '13205', '9890', '10884', '15580', '15520', '3509', '9538', '8438', '22870', '10114', '6740', '11077', '11151', '44560', '5966,7', '22490', '17372', '5605', '10991', '10990,92', '19781', '15887', '13492', '19430', '16194', '2979', '33510', '4290,9', '15165', '84800', '3619', '3530', '46881', '14365', '3255', '7796', '27166', '56518', '7441', '21717', '11150', '3749', '17170', '16322', '12914', '27360', '8221', '22090', '20379,5', '28778,3', '3046', '5287', '22015', '10780', '20646', '5200', '6380,91', '10844', '9390', '46800', '13671', '60500', '9977', '9290', '22192', '28490', '35940', '9576', '27886', '25508', '18171', '20580', '2428,2', '11660,93', '19791', '16629', '22955', '3899', '18099', '2248', '5312', '15750,91', '20317', '8792', '9461,5', '4291', '46385', '17230', '34195', '36980', '6539', '18217', '5721', '23690,91', '7632', '2990', '28640', '25640', '31694', '25390,94', '31263', '5017,9', '49490', '4040', '3520,8', '11810', '19005', '30627', '17324', '15640', '11590,92', '20180', '2238', '24680', '3489', '20237', '26524', '17099', '32391', '4490', '16692', '16670', '19089', '12904', '18150', '9412', '5968', '29980', '24223', '2165,16', '10617', '15190', '18515,03', '19235', '5169', '17592', '14050', '33570', '3179', '10446', '2719,2', '6060', '30799', '12428,7', '32770', '23980', '47000', '25320', '63320', '8700', '22920', '9971,3', '19189', '27060', '36136', '16480', '8240', '18413', '23758', '11550', '9176', '10417', '5965', '22356', '18209', '17633', '11796', '30925', '8097', '16776', '23772,27', '74700', '16112', '23370', '3883', '31895,48', '9550,82', '39865', '25105,1', '16635', '10231', '9268', '7570', '15398', '13134', '7290', '25870', '24198,2', '5179', '7551', '89640', '5750', '12366', '24370', '6940', '25298', '6984', '7488', '21624', '13315', '22275', '6050', '29707', '13891,5', '23750', '6093', '9470', '27005', '21688', '12991,82', '15201', '9980', '2470', '23358', '13441', '17388', '11025', '25820', '13887,68', '25200', '69500', '4480', '3385,83', '32400', '20792', '19446', '26280', '7224', '10720', '18962', '5109', '11290', '13232,88', '33100', '5690', '12044', '18374', '39025', '17660', '35332', '21290', '7766', '29650', '17714', '6947', '13872', '16080', '4680', '11526', '26543', '33821', '2680,4', '20833', '9117', '17325', '14081', '12820', '5152', '8120', '16732', '34618', '9468', '6130', '13850', '31790', '12136', '4769', '3990', '14361', '7514', '8244', '5170', '11502', '21209', '18840', '63657', '15985', '9928', '15840', '14696', '10470', '20090', '8997', '8620', '10174', '11954', '30735', '19670', '3130', '5505', '18711,05', '18575,2', '16865', '23485', '5426', '7307', '17940', '6975', '4804', '15844', '3876', '15027', '17896', '5738', '10540', '11910', '27690', '23410', '23595', '13780,82', '6883', '31810', '9840,6', '4826', '19375', '20570', '22394', '13835', '32310', '3167', '86041', '12246', '10846', '5240', '37450', '16220', '10555', '25574', '5488', '28715', '12384', '4858', '6390', '12989', '3137', '8064', '6280', '4208', '6880', '14280', '29177', '12427,1', '6653', '18198', '14380', '31680', '28162', '5077', '19719', '20767', '23854', '12741', '27449', '55500', '20877', '14170', '38830', '13900', '2873', '24035,5', '21974', '11060', '20249', '14383', '11719', '17272', '12542', '13240', '3699', '6699', '7362', '7618', '14781', '21380', '8420', '37017', '15078', '4097', '14798', '16690', '39600', '3874', '8441', '26329', '15079,91', '14994', '15897,92', '37440', '3998', '9931', '7649', '13265', '18580', '13198', '7998', '7999,1', '17980', '11754', '12290,94', '13669', '20610', '9370', '28224', '27480', '26900', '20196', '2880', '43515', '18669,2', '8286', '15512', '27446', '9250', '21760', '24085', '10450', '4758', '30545', '2090', '11999', '10198', '14780', '41400', '7667', '15290,7', '20400', '7228,2', '12640', '21590', '15315', '11441', '8906', '7348,52', '5099', '7110', '10700', '11830', '13790', '28580', '18499', '11323', '2578', '22450', '63700', '5088', '5346', '18777', '5683', '50020', '6700', '19254', '21728', '12345', '20575', '13567', '21895', '13387', '3979', '12854', '6479', '26800', '9986', '29677', '32500', '5865', '27501', '30597', '37235', '15975', '19895', '8149', '14885', '17460', '12080', '20720', '2421,9', '88312', '25800', '10240', '19626', '82910', '3904,3', '15914', '10420', '2160', '18510', '7547,2', '6710', '11298', '9061', '22458', '2570', '8047,1', '18707,1', '3824', '17648', '4100', '2089', '15280', '37150', '4302', '29782', '18190', '4850', '32914,31', '79200', '10960', '28600', '4952', '22195', '14940', '23400', '8398', '8102,08', '5197', '8095', '6336', '8991', '5279', '35091', '10390', '6719', '80000', '18085', '10374', '26461,91', '20499', '16470', '34695', '14856', '5602', '10150', '8241', '9430,38', '9971,89', '17528', '13462', '11136', '28684', '15560', '22692', '8340', '3490', '10088', '6600', '23451', '11789', '30428', '22890', '8619', '4420', '5990', '22140', '10279', '4633', '6510', '18304', '13480', '3411', '15602', '11630', '5419', '4262', '11725', '11648', '24346', '15875', '10616', '6561', '3771', '3801', '11227', '4026,55', '27995', '7513', '18582', '10200', '23202', '20598', '4280', '45665', '18566', '18960', '16993', '18204', '25990', '7582', '4125', '17075', '23992', '27298', '14185', '4351', '6197', '11539', '28160', '33990', '53364', '5575', '29400', '46649', '22560', '18880', '19993', '14717', '24800', '25727', '6680', '24479', '20882', '20620', '11755', '5290', '10968', '3646', '69000', '6838', '25420', '19220', '18592', '7874', '12251', '15638', '13665', '22575', '20132', '29600', '9365', '32850', '5869', '19840,5', '7500', '21097', '15034', '9949', '10034', '60888', '78000', '17790', '18130', '6799', '9095', '6393', '9774', '19860', '5090', '5304', '17215', '12209,5', '67950', '14348', '16879', '29680', '5427', '6270', '27790', '14978', '5562', '24466', '25317', '21770', '9989', '2070', '27922', '11048', '2511,82', '48800', '5594', '9826', '3769', '19045', '34199', '64660', '2955', '15629', '8544', '7730', '14611', '9652', '7741', '29220', '23511', '49100', '30825', '10194', '10791', '15470', '31091', '10280', '6166', '22210', '6311', '33088,5', '4040,1', '15292', '5832', '12488,25', '14207,1', '11877', '3516', '6870', '7454', '32800', '3339', '33190', '33862', '15784', '15730', '21499', '18006', '15250', '12870', '22011', '12546', '36910', '6692', '15650', '8988', '4525', '22221', '6522', '15427', '4522', '6255,15', '27645', '16198', '12463', '17199', '18340', '13780', '6419,78', '4673', '9217', '25830', '28999', '27372', '21069,8', '16045', '16820', '13550', '7902', '12148', '29384', '80440', '23749,76', '9930', '17950', '28310', '3909', '3895', '17880', '61915', '4904', '13750', '24897', '10854', '34479', '2872', '11269', '8943', '13080', '12495', '16796', '10058,5', '17962', '3123', '19177', '20691', '19205', '4330', '4596', '13006', '53400', '22390', '22000', '4966', '31991', '19210', '5681', '11099', '12435', '6941', '28294', '26395', '17450', '21847', '5299', '4998', '29250', '17448', '25627', '2440', '3789', '21927', '11927', '11720', '22162', '10560', '56899', '4390', '21265', '8515', '14292', '14610', '12843', '21994', '13709', '20750', '2855', '19439', '9654', '4785', '10740,64', '8322,77', '3764', '18200', '32450', '5544', '36194', '9230,9', '47900', '32819', '21730', '16766', '25145,79', '28350', '14570,01', '9647', '13326,5', '8499', '17399,1', '6783', '24640', '19728', '36500', '21938', '3490,92', '8117', '14400', '12200', '23331', '6502', '13580', '6854', '5910', '33725', '9588', '30050', '12990', '22057', '4961', '22310', '2270', '6103', '16870', '5295', '31580', '3834', '9069', '34891', '4592', '20430', '4370', '6720', '29612', '5720', '6424', '2819', '11279', '7660,42', '4979', '3168', '13356', '60829', '35500', '55174', '13455', '19627', '3570', '3537', '6756', '12339', '11769', '32335', '12490,9', '21238', '17398,1', '3390', '59009', '7315', '25177', '8292', '21042', '15246', '12998', '8694', '4918', '33126', '5000', '21420', '18749', '12889', '18578', '2075', '20390', '3215', '11558', '24647', '29990', '19550', '3328', '17399,2', '12575', '2263', '13421', '9034', '17556', '17820', '19800', '5472', '20443', '23240', '42669', '11396', '5095', '19047', '22427', '9733', '32576,5', '32900', '21726', '22792', '26055', '20960', '17541', '17466', '11680', '6301', '4077', '5775', '7511', '5140', '12057', '5268', '23659', '4260', '25680', '7116', '7353', '24587', '12799', '2435', '13880', '4131', '17415', '17100', '25992', '6964', '12000', '4940', '3892', '7381', '21430', '2679', '15041', '35100', '21498', '98996', '11955', '6246', '8806', '23783', '30673', '6873', '3779', '21490', '21146,4', '11196', '17966', '6858', '10525', '18471', '6263', '5085', '30196', '29697', '14230', '26479', '11600', '22293', '90200', '8204', '11398', '5025', '27950', '9970', '41397', '9326', '5490', '9270', '14031', '9889', '3470', '28098', '9610', '11750', '22110', '27110', '4820', '14900', '37305', '4620', '14528', '16627', '13443', '14765', '12424', '20943', '28238', '5210', '4120', '35750', '27795', '35744', '13985', '6620', '5580', '25600', '4898', '12760', '20645', '24600', '12572', '16371', '15690', '13409', '10757', '12220', '26440', '5449', '41907', '12310', '17546', '10113', '5950', '18143', '3420', '12690', '3690,82', '10790', '9090', '19991', '13520', '8500', '5800', '17575', '14328', '39388', '12421', '17111', '2745,9', '6136', '5508', '3515', '11576', '21827', '17310', '17273', '20536,1', '18530', '10538', '11296', '16833', '12959', '11440', '25137', '19547', '12730', '26461', '18702', '7390', '16145', '39028', '13050', '8230', '5895', '21670', '7982', '21750', '6999', '2028,56', '3200', '17490', '14755', '9053', '15705', '19301', '45900', '50400', '7107', '4645', '7729', '5292', '13433', '20789', '4010', '29789,91', '25100', '18491', '51685', '14461', '9173,88', '10660', '6313', '10189', '10169', '3983', '13591', '29661', '42940', '13439', '22263', '8290', '12960', '4505', '7735', '3996,9', '47529,91', '31474', '4345', '3429', '9950', '9264,69', '10631', '13959', '65400', '17594', '3375', '6180', '4252', '89196', '15084', '10551', '33330', '6585', '9300', '11950', '10706', '21388', '4380', '31672', '17998', '7204', '14456', '7815', '6492', '6299', '50678', '10361', '10970', '3610', '6033', '18410', '22650', '9728', '9755', '9995', '16185', '23389', '16189,4', '10785', '12680', '10925', '32970', '19630', '28594', '7440', '10381,5', '11685', '13728', '6130,8', '8639', '52000', '6843', '27877', '18790', '15340', '29830', '17649', '11764', '12636', '15000', '15325', '10526', '39690', '8070', '16780', '9813', '18970', '7247', '6916', '20520', '4725', '3616', '24174', '4710', '42000', '8490,92', '3786', '4860', '12608', '6741', '27599', '30920', '19116', '58500', '13897', '22240', '88000', '10286', '6247', '14340', '14290', '3023,58', '17476', '8515,7', '38832', '16859', '31882', '13157', '3061,45', '10879', '10193', '4570', '22167,6', '12315', '25695', '4408', '26276', '4799', '27347', '6023,7', '24741', '16900', '28930', '22317', '27250', '17605', '7280', '2881', '24550', '4195', '30980', '6876', '22480', '12631', '26321', '3410', '37800', '27270', '16620', '7632,92', '22800', '11787', '20375', '3128', '23137', '14004', '14209', '6245', '6058,1', '7137', '28530', '18895', '6831', '23128', '6081', '3943', '14399', '11322', '9560', '6518', '9810', '3152', '16263', '12490', '22047', '40080', '6999,3', '14560', '6750', '3160', '21866', '10124', '10080', '8550', '25350', '8940', '6919', '6399', '4450', '30946,29', '27356', '6460', '23320', '6990,92', '2691,9', '13225', '29640', '3070', '10500', '18450', '21999,2', '46600', '5103', '25227', '10585', '5451', '9425', '16380', '21960', '9748', '13138', '18049', '7150', '46156', '3180', '24280', '25498', '20220', '29478', '73306', '15045', '18949', '7589', '21899,94', '6247,8', '35097,66', '17930', '28341', '2165,4', '10300', '51200', '7349', '9839', '11470', '9215', '3383', '18040', '5131', '12645', '12890', '29694', '37531', '20640', '4842', '35767,4', '29760', '27796', '13009', '10591', '18990', '14993', '9499', '2310', '11040', '7905', '29900', '4212,9', '5840', '5930', '10990,91', '8980', '26700', '2158', '31020', '3848', '13688', '11819', '10238,82', '21586', '19608', '36900', '5431,2', '14820', '4000', '26397', '26896', '11935', '2500', '23706', '12434', '29443', '19360', '25211', '5906', '3861', '28116', '13490', '17510', '13930', '29630', '5050', '20229', '3205', '25301', '17640', '17995', '7473', '31499', '13848', '15040', '23998', '10618', '12944', '6935', '11519,1', '23450', '26848', '21086', '8278', '27498', '16630', '26790', '21595', '14513', '26340', '27088', '4047', '6903', '20989', '3869', '16540', '7230', '10471', '9396', '14639', '7595', '5579', '16064', '12024', '24220', '8549', '22490,91', '6097,5', '5877', '13260', '22692,96', '15291', '27706', '7088', '3280', '11691', '22864', '19498', '3889', '26049', '11990,95', '17885', '22969', '31933', '14872', '24270', '12498', '4031', '6161', '8430', '10021', '28983', '20409', '24900', '6024', '8355', '26960', '30350', '49743', '2889', '11154', '8951', '2030', '4369', '20590', '29001', '10274', '32822', '6379', '25900', '13366,2', '7066', '28280', '23029', '17865', '3048', '6875', '6150', '16605', '8840', '12840', '3069,9', '7433', '8489', '5759', '39500', '17949', '9227', '26650', '7954', '26642', '24236', '4816', '23954', '20980', '28421', '17130', '14960', '10740', '10734', '7869,61', '12872', '23760', '4980', '15393', '28000', '4329', '14950', '15695', '2259,9', '39800', '27080', '8100', '14618', '30756', '4978', '29460', '22711,21', '10704', '33300', '16785', '22139', '4889', '9825', '21075', '18573', '25625', '24465', '7471', '23070,6', '7892', '49860', '16370', '19286', '16961,1', '19491', '22194', '30455', '6643', '23577', '23147', '13392', '31014', '2974,15', '16979', '5748,3', '5184', '32990', '16980', '10971', '25263', '2120', '5963', '15147', '12110', '20648', '26260', '34200', '10250', '9127', '8299', '3920', '8280', '27180', '10936', '8606', '54738', '11135', '8405', '25623', '4550', '3720', '9430', '8508', '3114', '13289', '3959', '23684', '16450', '22588', '7291,85', '15789', '11190', '15619', '7780', '70360', '14599', '15036,21', '14669', '22098', '21654', '23095', '8725', '16868', '12228', '7829', '9060', '19746', '6780,95', '24667', '10338', '5489', '18328,6', '5040', '19129', '12906', '27000', '2573', '18797', '10575', '8669', '15017', '26872', '9072', '7824', '10466', '4973', '35640', '2125', '14243', '12789', '31502', '15380', '4690', '2790', '25220', '20600', '4189', '7416', '17150', '23650', '2599,2', '16020', '21721,1', '2635', '26410', '20768', '6374,78', '16265', '20330', '14440', '48920', '9021', '5238', '10675', '11455', '7812', '45500', '9128', '23480', '19315', '26082', '3276', '2495', '5032', '6930', '27800', '13324', '6514', '11880', '5929,95', '22233', '3630', '11270', '3424', '31096', '22361', '14910', '14119', '16420', '20992,78', '10995', '23930', '28050', '4533', '7560', '5888', '55846', '15750', '25447', '5247', '5938', '11098,8', '40534', '91168', '16700', '21919', '10448', '24760', '7370', '16140', '20296', '37752', '3245', '10938', '9278,1', '23148', '4130', '18105', '9983', '37350', '10075', '16990', '10112,8', '19976', '24290', '16660', '3722', '41170', '16092', '12506', '29280', '3553', '15214', '22799', '10359', '21355', '23185', '11514', '12048', '30150', '26941', '38700', '3647', '7310', '7642', '22168', '21850,94', '8753', '6800', '16447', '8648,5', '4890', '35320', '22781', '25343', '3650', '6475', '3989', '8071', '4589', '6609', '8950', '5435', '4947', '17568,3', '4349', '28500', '21800', '6469', '14453', '43353', '27170', '7968', '10100', '25199', '4984', '3035', '13720', '8025', '7144', '47247', '5760', '14658', '4949', '17860', '21312', '7070', '13740', '8129', '34806', '11590', '5548', '6830', '13830', '19572,1', '3143', '18001,28', '40490,91', '20326', '28991', '16436', '5712', '10210', '18239', '8275', '5928,1', '13078', '5500', '23944', '5840,5', '37857,2', '9913', '26022', '10025', '24301', '19590', '6792', '6496,1', '26886', '55000', '12077', '13100', '27750', '64500', '21295', '35530', '5399', '7400', '8210', '5456', '18440', '29933,4', '12300', '5494', '4191', '5339', '21408', '7940', '4580,92', '47789', '9891', '18654', '26051', '4951', '3415', '20305', '30197', '27200', '18686', '10953', '20500', '9800', '6966', '6035', '3792,92', '29875', '88300', '7455', '23399,2', '14288', '25492', '4056', '14165', '4220', '13390', '12310,91', '21218', '8648', '27744', '5045', '13063', '15127,38', '2223', '25500', '5730', '18000', '27260', '16800', '41171', '16634,5', '4499', '4504', '73300', '4679', '7638', '10431', '18999,2', '8102', '14796', '18138', '27810', '9719', '6529', '18784', '3540', '6782', '4050', '7431', '15435', '3128,2', '7655', '5773', '4781', '9840', '18789', '12493', '22200', '29000', '30011', '16849', '69188', '6364', '20277', '6260', '22515', '19740', '5230', '31400', '18857', '8184', '4177', '5936,81', '5432', '35825', '10799', '18170', '16798,2', '23608', '19989', '6327', '17430', '24721', '6580', '27228', '4240,91', '7259', '23200', '7173', '32650', '13727', '5390', '4212', '10456', '7376', '16579', '8994', '11595', '11980', '8570', '36086', '5754', '18990,5', '31696', '5988,46', '7490', '5220', '8396', '12610', '30596', '12325', '8429', '13730', '20431', '6338', '11456', '15090', '23025', '5267', '15220', '32387', '61832', '11760', '18048', '22213', '3990,92', '13598', '16748,1', '20979', '7597', '2689', '12060', '5913', '18121', '6129', '49798,1', '6594', '3400', '8099', '22198,1', '8658', '22635', '5789', '14718', '4600', '19710', '15400', '24519', '14398', '28288', '7677', '24131', '16965', '18599', '41994', '75535,08', '25150', '3095', '9290,91', '22100', '13592', '14660', '21381,12', '8918', '7128', '23990,83', '17247', '7249', '6396', '4243', '7373', '11377', '22500', '6477', '7151', '3894', '5015', '9940', '14678', '31498', '18180', '11409', '18648', '3951', '16600', '4812', '14860', '11302', '13670', '19503', '7820', '6596', '29653', '26500', '20910', '19805', '33920', '6690', '8148', '21320', '17997', '94300', '40180', '9097', '24833', '16653', '8067', '11130', '12350', '7493', '11304', '10940', '26430', '21484', '27740', '20658,2', '20242', '5510', '9801', '18855', '41500', '2975', '37415', '4542', '18632', '5533', '12745', '14522', '6101', '6647', '17020', '12508,2', '2572', '22410', '23377', '9596', '22398', '5482', '19745', '11651', '13235', '7394', '4777', '35201', '7541', '6999,9', '12385', '12816', '21128', '3898,1', '13615', '7369,7', '29388', '13653', '6605', '4879', '18984', '5219', '23490', '28666', '13792', '22618', '7132', '29075', '7385', '4595', '6561,9', '15615', '8188,04', '31060', '60000', '10605', '31466', '7030', '14160', '11243', '12670', '14645', '37466', '6323,33', '9990', '15570', '11518', '13332', '4575', '12720', '16823', '18389', '3617', '3602', '20297', '42746', '22419', '96490', '2555', '23393', '32790,9', '11698', '3886', '22898', '28755', '4674', '16498', '4852', '23940', '9144', '3493', '7788', '13382', '33978,63', '69282', '21270', '3800', '15354', '11170', '8260', '4619', '9793', '24250', '5941', '2879', '34766', '18906', '21861', '2671,2', '15347', '6640', '2909', '17091', '30800', '36527', '5023', '85100', '12700', '28971', '5799,2', '12822', '3051', '10910,6', '6299,72', '22280', '37437,66', '12290', '7258', '2189', '6834', '6503', '10820', '7342', '10671', '15293', '18286', '19680', '3031', '16284', '10483', '98644', '14090', '2676', '16701', '5837', '3882', '6938', '7990', '20477', '20160', '5347', '19482', '12597,3', '15010', '26641', '16598', '9500', '9759', '2119', '19886', '4400', '40900', '29580', '12848', '7032', '4950', '9042', '7975', '19844', '3987', '51000', '2850', '5850', '6780', '4276', '16250', '2380', '8651', '6030', '15290', '14284', '13770', '16519,02', '8995', '15832', '15309', '3950', '9919', '11399', '14494', '8308,35', '40500', '26547,3', '8745', '8990,9', '13280', '19938', '36701', '8979', '11000', '5190', '20046', '24810', '4869', '9198', '23584', '14060', '20200', '24630', '4936', '17520', '4767', '10920', '15372', '17308', '2219', '10693', '24145', '26150', '11687', '21580', '14279', '19854', '4800', '12053', '5970', '15120', '17049', '7460', '36805', '44100', '17428', '8381', '15950', '2000', '10647', '18022', '4497', '18881', '6856', '11639', '5016', '35787', '11204', '7472', '15245', '27150', '40574', '3497', '7978', '8767', '14370', '4983', '7650', '5337', '8424', '18603', '10020', '17991', '6598', '10248', '17263', '7443', '6080', '30720', '9098', '13300', '12655', '11390', '4580', '15889', '3195,9', '7299', '27130', '6562', '7800', '4701,6', '14747,1', '17422', '25330', '11116', '13747', '29950', '9367', '6329', '16650', '40824', '13229', '4074', '26595', '6454,8', '4872', '2724', '9371', '20679', '9606', '39254', '24030', '11665', '5487', '14595', '20680', '12600', '8412', '16199', '71740', '31040', '7163', '17763', '5688', '11416', '27472', '2800', '9798', '25225', '13541', '4403', '3565', '9420', '18187', '15466', '6256,8', '10410', '5438', '5320', '13447', '3682', '7710', '7439', '11571', '12591', '16272', '24160', '9515', '66578', '17184', '13301', '5640', '23166', '6365', '21479', '17198', '77860', '3080', '44225', '16551', '21985', '6461', '5724,2', '20140', '7180,9', '6660', '14390', '6295', '11391', '33340', '3875', '7752', '5937', '7776', '4018', '17795', '28170', '14295', '21989', '2151', '52295', '16110', '23000', '2569', '12850', '6809', '24599', '13989', '9862', '22977', '22617', '16872,3', '19799', '20850', '17839,92', '3743', '12397', '6545', '61600', '17010', '11876', '14331', '76550', '16070', '32580', '29300', '6323', '23470', '10665', '8835', '4182', '17350', '5144', '13110', '10245', '6480', '20530', '20748', '3933', '5351', '10262,2', '9345', '10610', '9979', '9219', '35563', '62550', '15904', '7910', '8892', '26241,6', '22082', '44697', '5573', '31806', '4752', '6721', '18380', '13302', '9956', '27381', '14215', '6939', '8830', '6744', '15990', '14197', '6527', '16680', '16005', '18668', '35955', '4869,66', '25587', '23310', '51140', '10418', '9577,8', '29012', '13623', '16050', '46000', '10220', '6452', '6069', '4064', '17906', '19529', '5100', '3464', '9972', '6210', '6220', '4039', '7920', '25360', '7660', '13193', '26400', '6898', '25983', '6470', '10029,92', '18020', '6892', '41100', '12590', '40521', '3923', '3880', '7509', '4527', '9498', '35775', '2745', '2299', '5829', '15880', '5839', '3340', '12211', '13719', '6726,1', '18144', '5030', '9085', '29975', '4098', '2871', '5871', '32617', '23365', '13350', '7747', '22324', '49500', '5636', '43573', '14487', '19674', '16416', '29526,12', '2704', '30686', '26020', '28879', '10019', '24552', '4297', '6289', '12360', '21536', '5780', '11081,52', '6170', '22395', '3434', '18010', '5397', '13221', '20079', '13469', '29120', '53091', '10659', '21500', '5005', '29285', '13498', '19597', '34150', '13678', '31500', '17888', '23220', '4405', '6036', '24650', '9554', '35770', '13010,94', '17248', '23110', '4320', '17890', '7619', '7621', '17702', '34335', '4239', '8188', '12835', '19125', '11790', '22320', '25146', '10981,82', '29877,3', '5824', '8000', '13190', '13450', '6910', '8811', '3440', '13365', '18481', '12127', '38058', '6748', '9690', '6290', '67500', '27541', '10738,5', '18012', '4921', '10769', '13366', '6236', '21808', '29750', '7040', '27816', '5335', '24675,85', '10978', '6411,72', '9325', '4099,9', '10930,52', '7452', '33598', '19130', '3745', '15299,9', '3929', '13815', '4250', '4658', '21510', '3010', '11308', '15480', '2180', '22962', '29450', '12948', '5175', '29493', '21630', '12884', '8530', '7838', '8770', '2559', '12510', '11225', '5228', '27962', '9892', '24330', '25068,94', '9395', '7947', '10566', '32293', '10767', '17330', '26590', '32280', '7194,72', '20755', '24061', '11202,3', '19296', '13326', '29905', '8755', '4268', '5415', '4207', '8998', '12191', '20856', '5265', '17765', '25765', '24570', '13318', '3628', '9477', '7169', '5689', '34641', '21482', '29200', '29663', '13890', '25506,19', '20715', '4160', '24314', '20540', '16222', '10998', '8180', '19037,2', '8990', '7017', '7863', '11394', '46540', '17854', '9990,91', '30031', '2934', '8549,9', '2489,4', '39638', '7857', '18800', '13635', '22662', '10980', '4350', '33400', '17775', '3314', '10116', '4134,4', '8198', '14709', '5757', '17956', '7366', '2065,5', '27348', '18045', '19050', '6552', '17190', '16840', '14880', '35529', '20636,91', '12711', '34804', '16141', '12599', '15810', '12953', '18206', '6186,7', '9595', '35400', '13227,7', '20053', '12910', '15670', '21920', '7077', '8771', '2330', '15822', '12232', '10233', '19340', '85270', '11817', '21300', '11897', '24980', '12511', '17590', '23268', '10708', '11049', '42930', '7135', '4915', '15215', '33850', '8948', '7115', '58670', '7101', '2009', '11765', '16550', '27369', '24130', '5799', '22440', '34493', '2240', '19751', '19798', '10085,9', '9295', '4387', '26085', '18361', '87786', '21123', '7420', '13257', '25168', '14999', '16669,84', '3350', '14925', '11370', '26660,2', '4888', '38340', '5350', '10342', '10205,5', '8754', '12559', '27990', '15763', '48600', '9342', '6619', '4290', '11317', '34396', '2595', '12581,89', '17595', '14850', '3640', '7885', '8341', '3093', '10775', '14500', '20050', '5310', '5550', '6848', '26989', '25720', '21901', '10191', '5080', '3119', '4602', '25280', '76730', '22482', '22413', '18670', '4377', '29471', '8346', '74319', '50330', '27493', '13298', '83106', '3762', '24015', '22770', '18458', '17613', '15748', '4555', '7410', '12616', '9664,5', '6119', '17840', '70245', '5225', '18693', '11199', '34390', '3099', '21578', '21021,9', '4318,2', '34557,1', '11499', '9189', '15503', '11175', '42320', '17610', '7404', '24070', '13389', '5796', '29390', '11392', '26658,9', '34162', '78800', '27500', '26339', '25999', '89344', '19999', '34154', '20710', '12860', '27234', '4741', '26889', '6191', '28641', '23715', '23852', '15127,4', '25538', '5665', '4240', '19150', '11669', '6190', '14481', '23060', '5199', '19765', '12250', '23579', '30220', '24881', '18724', '17200', '34999', '17875', '36490', '52200', '24458', '22987', '5611', '3639', '25050', '36617', '2844', '3715', '24200', '33500', '23044', '36350', '26547', '4242', '3450', '7089', '4765', '23667', '35669', '7880', '11330', '12678', '24867', '4920', '16191', '13400', '29445', '6538', '9525', '17573', '5607', '75424', '7908', '17770', '5345', '7209', '8056', '21890', '25641', '11180', '25271', '15067', '5568', '23500', '56340', '3387', '22499', '12159', '13494', '2060', '100000', '9448', '4375', '21746', '21640', '8057', '4638', '10134', '5155', '77210', '7084,28', '13600', '11528', '19133', '9400', '21440', '22498,2', '12580', '21597', '2243,7', '23154', '8055', '21910', '21460', '14177', '16040', '7848', '4885', '12520', '31702', '11359', '10990,2', '21736,2', '6651', '14550', '39741', '21685', '19500', '8116', '9820', '4114', '4013', '8190', '16616', '26928', '14593', '23352', '34020', '12742', '17540', '16789,98', '13310', '34391', '25520', '16838', '20871', '4730', '24840', '20510', '47309', '35326', '12716', '17300', '4534', '15948', '5232', '39000', '3296', '19143', '27759', '4923', '3575', '11113', '3370', '17572,68', '13999,2', '9450', '17990', '7296', '17039,91', '7160', '6400', '16240', '17789,2', '5755', '15540', '41210', '22329,67', '6678', '5369', '3825', '32810', '18692', '20129', '3670', '9850', '30390', '13981,8', '40700', '28469', '15500', '23297', '16060', '8580', '3250', '17615', '36260', '4005', '13698', '7507', '14080', '32593', '23575', '9375', '25299', '9592', '17361,76', '54000', '23822', '3393', '11855', '10646,2', '31990', '15430', '13191', '12425', '20272', '26232', '10089', '9007', '12050', '14948', '14965', '4241', '19890', '5940', '14646', '27846', '6018,39', '52509', '4853', '15859', '27450', '2007', '11070', '23797', '13941', '3919', '15998', '23696', '21980', '18882', '21646', '4072', '10046', '17106', '5706', '6995', '24949,09', '17869', '4196', '31520', '29858', '7693', '14193', '13001', '6970', '40499', '11395', '22848', '17712', '12260', '5977', '20313', '8049', '21207', '43682', '14800', '5807', '4500', '26817', '6240', '7470', '26379', '23774', '11529,91', '8581', '50098', '11362', '9902', '22674', '13170', '8235', '13087', '4217', '8150', '13430', '5680', '17117', '13793', '20536', '6435', '43996', '2400', '5745,12', '6960', '20433', '15912', '4312', '27637', '12845', '6707', '11434', '3033,9', '9536', '22150', '7000', '22384', '4386', '25290', '13263', '38120', '19230', '9080', '30999', '40410', '10331', '13624', '4274', '37069', '11690,91', '7849', '20826', '93000', '9276', '4910', '6381', '16687', '7334', '33996', '15820', '2529,61', '25480', '9484', '70000', '4319', '22070', '29094', '10737', '16392', '23475', '22244', '14632', '18068', '5772', '24580', '12095', '4700', '7680', '8825', '18425', '29070', '5660', '9251', '11748,2', '21100', '8456', '5360', '9823', '20660', '7039', '10492', '12099,1', '23795', '5455,8', '10290', '8080', '17815', '12090', '21704', '24990', '8869', '27490', '99313', '21279', '15890', '2800,85', '23197', '5333', '30520', '12450', '9350', '20653', '50000', '17367', '9550', '15790', '20670', '11540', '25080', '17496', '3916', '3898', '24795', '75000', '87673', '6430', '8435', '5370', '12398', '4107', '13978', '14396', '20931', '12320', '9545', '17270', '18780', '29490', '23677', '37000', '20751', '16985', '24752', '26140', '11586', '7760', '11188,14', '8597', '30960', '5143', '33358,84', '20928', '7368', '15319', '12283', '14857', '30930', '13980', '5746', '19730', '2135,14', '21204', '5448', '9347', '28790', '4996,8', '24362', '15226', '12899', '6056', '25313', '3717', '41125,88', '19819', '22180', '19513', '4300', '20587', '22616', '39900', '8999', '38778,01', '10490', '5718', '12710', '10628', '4103', '8955', '20562,2', '7120', '98136', '47704', '12919', '61290', '5110', '9754', '3240', '11422', '52561', '17173', '3474', '4088', '70300', '10987', '6835', '12830', '22080', '19419', '16045,2', '19245', '4188', '4284', '20009', '4057', '11280', '12328', '16098', '28041', '22760', '2439', '11995', '23020', '13899', '4727', '10506,76', '14670', '9349,92', '20820,2', '4365', '15016', '19082,3', '15115', '15460', '23152', '7337', '16948', '8529', '4476', '16996', '14725', '11689', '8849', '38625', '7068', '35900', '12189', '39780', '7682', '5261', '9259', '39090', '78120', '14493', '24500', '3590', '12166', '10864', '2700', '24850', '4469', '4652', '11286', '9622,77', '26115', '14005', '7860', '7189', '25936', '3815', '9263', '15756', '8020', '15616', '22369', '15098', '22999', '11637', '15190,5', '61920', '18885', '20059', '16245', '35060', '28590', '10611', '8091', '9341', '5211', '26770', '18689', '18710', '16197', '3701', '26547,1', '15320', '9567', '8410', '75500', '25020', '25683', '7830', '5409', '12593,7', '33678,2', '10599', '10330', '4452,91', '6616', '11551', '17220', '29997,24', '17329,92', '9988', '3480', '19650', '23397', '6407,5', '4399', '18027', '16199,2', '7999', '15838', '20475', '5465,26', '13456', '18820', '14758', '8132', '4900', '25950', '4169', '72885,57', '2831,97', '3285', '3535', '20883', '21858', '6781', '24768', '62800', '13120', '4281', '24520', '7450', '7229', '9438', '7240', '37456', '27971', '16395', '26560', '10447', '4230', '4835', '22428', '8068', '16180', '24420', '13527', '19809', '28059', '33680', '8604', '3238', '8590', '3185', '7859', '26818', '22561', '19342', '59224', '20925', '6828', '8850', '9614', '31560', '4945', '3117', '15186', '24389', '2360', '65000', '34821', '14200', '5239', '10523', '29880', '13448', '21600', '45110', '35991', '5920', '7100', '10779', '14688', '14916', '13195', '19020', '19797,1', '17379,99', '41837', '28440', '9923', '6090', '19343', '19269', '12400', '15610', '19099', '6650', '9574', '24490', '6672', '5070', '4413', '19945,35', '35950', '17098,2', '12500', '19993,4', '2610', '6298,6', '7180', '15565,5', '3270', '3547', '3399', '5879', '16830', '11167', '16358', '11977', '5694', '56277', '13734', '20295', '16418', '38406', '34280', '21780', '19959', '34449', '7610', '8603', '42300', '17800', '84558', '6865', '18090', '9116', '8350', '29382', '38520', '9170', '19960', '12725', '19772', '16244,9', '17946,2', '30360', '7317', '25400', '11250', '4780', '8680', '8169,55', '2489', '17895', '28241', '11376', '21240', '33475', '23784', '7319', '9199', '10699', '29742', '28890', '12140', '23440', '22460', '3028', '16063', '23124', '16399', '9301', '19377', '22761', '28950', '6945', '20225', '50970', '6820', '3391', '19497', '6470,9', '16000', '6228', '4548', '12198', '11212', '31200', '2751', '18004', '26499', '16499', '10898', '15865,65', '21060', '8600', '94720', '6890', '23598', '16561', '19880', '5678', '14144', '12340', '32444', '5818,5', '13199', '17073', '10315', '8442', '8856', '5366', '9460', '6969', '7640', '12797', '34905', '15780', '31015', '82800', '53673', '5119', '23351', '12750', '16218', '16975', '14848', '42408', '9769', '4928,96', '7593', '19810', '4209,2', '19899', '21398', '19736', '7590,31', '13882,92', '14875', '8011', '23037', '38250', '6779', '18290', '10310', '11751', '16398', '4041', '17873,75', '14927,83', '3190', '11583', '23530', '13383', '11960', '13620', '3034', '24711', '18899', '3542', '8010', '6925', '23792', '16544', '14938', '18599,4', '47223', '31450', '8970', '4642', '2514', '17076,2', '10319', '17671,2', '7917', '22225', '16910', '12512', '32765', '5359', '10445', '14420', '9341,5', '17704', '8698,1', '16799,4', '5827', '99540', '3850', '33255', '6513', '29376', '12995', '18999', '23989', '5761,9', '6299,2', '78390', '2241', '3752', '5889', '6819', '23689', '8917', '3710', '14773', '21550', '7695', '5398', '4999', '23108', '3196', '7459', '15755', '34555', '3173', '22950', '12443', '56700', '5830', '18719', '14678,63', '6498', '8910', '3752,9', '9169', '19218', '2183', '21802', '26710', '2580', '5695', '11718,94', '56673', '13989,4', '5880', '6266', '7208', '14245', '15960', '8108', '8448', '12896', '9842', '23395', '17688', '2490,92', '14175', '6733', '13536', '17162', '21990', '7105', '22700', '7611', '21915', '7709', '6348', '10550', '6712', '8250', '26457', '13499', '21845', '15685', '33320', '15035', '48000', '21000', '46921', '84570', '12410', '4963', '88440', '2457', '6199', '3541', '7711', '18216', '16105', '3109', '13248', '51370', '38408', '15100,82', '23009', '15096', '24923', '2590', '5860', '28059,81', '8874', '10147', '13090', '31491', '5700', '8650', '24480', '14257,91', '18600', '6822', '16850', '7130', '18220', '5855', '4941', '5445', '8790', '28845', '29234', '17760', '3928', '6073', '6993', '27934', '25122', '32100', '87600', '25855', '25140', '6652', '7858', '22940', '4964', '43880', '28700', '4773', '11194,06', '31190', '21170', '30340', '2998', '12059,1', '16720', '27580', '10770', '39327,2', '13197', '18760,75', '13150', '51900', '10969', '27670', '9599', '15300', '18896', '13178', '3322', '3868', '8780', '13016', '11730', '19897,1', '6145', '15085', '5817', '20320', '27898', '15927', '14600', '35450', '10616,4', '29780', '40313', '27248', '7336', '8360,92', '4935', '21082', '42436', '77000', '13294', '27340', '26730', '17960', '27062', '8380', '6279', '13039', '21220', '6115', '13679', '10105', '45820', '7112', '34740', '7745', '3222,9', '13507', '3784', '6770', '17483', '19980', '5178', '8262', '15598', '16150', '17810,82', '19977', '40200', '61000', '23280', '5450', '13689,86', '6679', '12130', '3405', '16992', '11899', '2095', '6346', '8846', '17901', '34148', '15216,06', '9651', '13355', '16730', '16425', '9167', '7872', '11871', '36093', '4660', '11560', '11126', '11670', '22509', '35580,91', '12380', '9432', '8487', '4454', '30796', '11055', '16227', '6108', '73996', '50568', '19760', '18497', '30738', '49838', '13926', '8090', '9338', '7588', '10323', '19106', '9246', '15556', '8195', '3549', '27600', '13098', '10413', '4185', '4743', '15680', '9310', '3337', '25109', '5357', '18250', '7895', '3284', '22040', '19224', '9287', '23216', '11800', '16467', '6610', '4401', '4168,8', '8920', '9031', '12138', '10090', '26988', '4790', '4122', '4314', '4060', '10750', '24605', '2050', '6189,3', '5301', '14000', '11080', '22904', '5389', '16875', '6118', '6900', '19490', '5530', '21243', '16090', '8034,2', '11410', '16860', '10060', '33280', '16899', '17530', '11305', '19169', '11892', '6120', '4930', '7422', '6766,4', '4911', '35600', '28781', '37517', '7200', '15745', '35522', '22269', '9298', '23840', '21180', '23647', '22124', '3357', '11580', '5630', '14397', '18734', '7285', '25182,4', '15327', '14571', '5380', '21870', '31460', '2691', '16590', '8220', '26555', '26300', '5221', '18910', '4041,9', '21450', '3220', '8050', '21214', '11100', '32041', '37495,2', '34650', '13386', '6125', '18330', '30060', '27070', '38800', '24017', '17000', '39110', '3930,81', '18700', '22589', '10265', '15003', '7020,9', '9010', '4398', '29592', '24059,83', '12695', '3407', '30729', '26997', '9150', '38880', '3548', '19460', '3850,85', '13563', '3560', '27850', '15740', '23700', '9230', '41498', '8625', '19400', '10650', '31415', '28208', '5525', '23290', '28722', '3138', '7492', '18318', '28502', '23040', '18119', '22299', '21865', '15360', '30224', '28565', '7867', '22550', '10430', '39590', '34120', '11212,06', '34699', '43950', '33111', '5723', '16949', '11223', '18868', '8398,1', '7084', '18730', '6570', '18549', '32844', '6053', '14096', '79380', '16621', '33700', '6146', '7486,1', '8098', '26970,6', '7235', '2878', '15552', '18650', '35990', '14250', '3310', '17981,9', '10061', '9422', '8793', '10773', '16773', '19350', '3107,7', '4858,1', '31255', '17251', '26183,5', '29334', '21650', '9985', '18500', '30422', '14098,1', '13769,2', '3729', '7302', '3499', '13312', '16490', '13275', '33030', '22498', '4672', '29037,12', '17097', '23259', '10880', '6163', '6445', '5180', '18750', '5328', '6264', '20862', '96200', '15367', '51570', '19929', '3816', '6192', '23985', '6904', '13949', '13320', '6096,13', '23865', '23861', '22488', '7839', '15760', '70047', '19060', '30372', '8883', '19567', '14598', '22881', '2190', '27560', '3600', '8905', '22656', '13325', '23390', '6537', '17240', '16460', '7919', '19417', '5708', '35035,2', '3398', '24275', '12762', '10024', '5606', '26695,8', '18185', '4938', '4729', '24690', '20990', '10115', '15097', '45750', '14490', '6288', '15099', '6732', '44030', '26390', '15440', '5043', '15999', '82162', '10022', '9695', '11315', '22959', '10320', '15625', '4435', '46960', '6967', '13141', '16189', '9997', '9789', '5060', '5898', '28221', '13860', '25250', '90000', '3748', '33900', '32114', '9130', '2860', '2650', '20209', '6273', '7980', '6757', '10000', '11890', '20343', '4851,81', '6983', '10149', '21520', '10818', '25937', '23800', '18350', '19589', '19404', '4830', '19905', '2268', '21696', '29065', '20290', '4879,8', '27714', '10496', '18270', '5300,9', '21050', '7399', '27945', '13934', '8857', '6959', '6530', '22672', '20698', '41600', '10590', '21948', '10752', '9866', '8901', '15210', '14891', '18399', '11795', '38725', '13695', '10185', '18197', '5899', '21038', '16052', '58567', '15624', '19489,91', '17146', '9655,2', '92000', '7715', '20874', '11325', '17690', '26750', '17609', '30590,92', '6997', '10837', '18450,8', '5645', '14847', '4485', '16613', '16081', '43376', '28661', '9927', '5388', '4293', '10422', '27781', '3419', '86900', '14338', '20310', '30826', '15856', '5790', '19611', '13420', '5949', '24950', '3237', '26219', '9680', '16999', '5355', '20561', '12460', '4360', '5684', '11230', '26596', '17366', '20753', '23304,6', '8300', '16160', '21280', '28338', '32481,83', '7336,3', '9809', '10999', '21648', '24003', '4967', '4598,6', '20583', '11833', '13479', '17756', '3750', '41929', '14998', '39830', '4671', '18980', '45438', '7425', '29790', '12199', '15070', '39276', '5687', '15164', '16647', '19280', '38553', '8037', '19021', '17290', '16882', '26819', '13115', '4919', '8741', '58490', '17424', '35250', '59760', '22944', '20440', '10804', '8459', '11943', '3134', '31484,1', '17599', '19316', '17769', '13344', '18891', '10576', '15389', '19110', '8609,92', '7327,8', '21237', '29691', '37710', '31800', '3187', '21015', '13800', '8200', '17340', '2970', '10457', '4843', '6309', '4761', '9510', '16407', '4462', '5097', '24983', '13173', '11090', '18590', '3999', '3275', '2720', '8870', '10352', '21784', '46500', '3890', '15192', '4788', '13495', '11646', '96860', '6190,92', '14845', '18740', '30370', '16783', '24328', '6250', '20698,2', '8491,82', '13267', '15450', '9019', '22214,69', '3940', '3103,2', '8718,1', '7497', '5757,1', '2961', '25899', '32540', '12304', '40037', '17911', '3510', '4760', '15240', '23790', '6361', '12947', '21838', '9393', '27470', '3040', '19839', '2638', '21860', '32828', '12393', '6342', '6027', '8720', '8595', '17261', '5931', '5797', '10805', '26871', '10495', '7899', '44440', '21216', '9520', '17538', '9799', '30940', '11498', '7870', '15102', '4661', '10097', '5440', '14052', '17509', '18370', '14472', '6021', '30500', '20300', '5805', '9660', '7478,2', '16002', '17470', '14570', '7197', '81743,87', '18260', '10366', '14700', '23170', '8416', '15830', '8140', '4670', '6665', '28410', '3060', '16048', '26080', '6370', '13640', '25385', '14100', '6490,5', '29294', '4986', '11034', '15255', '35369,4', '19925', '23517', '83000', '7198', '17778', '5942', '4366', '14040', '5405', '16260', '16099', '12347', '3076', '13230', '13686', '26708', '18690', '6990', '8047', '6715,2', '10130', '2600', '20040', '35700', '6982', '11615,4', '9530', '47195,92', '9160', '9907,2', '9768', '20609', '29295', '8735', '12672', '4150', '8298', '16657', '10230', '23186', '32935', '12999', '28172', '23825', '6958,92', '3744', '17558', '5859', '14648', '7170', '21660', '4840', '22050', '6386', '8160', '11799', '7505', '8797', '14636', '10852', '10260', '15481', '19170', '17090', '3717,9', '30813', '14229', '29006', '11450', '7790', '15900', '7749', '25662', '19128,41', '2690', '58640', '11930', '3059', '27550', '30324', '28090', '23680', '2870', '18376', '28016', '9580', '16070,5', '22558', '19085', '16950', '15720,91', '7620', '15199', '9835', '16571', '19990', '9999', '33097', '4292', '21900', '71600', '20852', '3348', '7876', '13155', '16190', '35000', '3538', '17380', '16501', '4579', '13820', '5531,8', '95441', '20802', '9532', '8498', '7540', '22980', '11520', '10463', '21940', '22522', '4630', '9296', '5005,8', '53162', '4199', '18610', '7191', '13841', '25460', '28728', '33344', '26370', '35596', '10530', '19457', '10939', '13130', '7558', '10730', '17280', '11898', '20977', '5353,5', '43200', '11495', '16893', '14044', '6491', '7639', '7739', '14980', '4175', '8800', '19720', '2045', '14574', '25406', '21619', '23103', '2152', '6658', '6291', '29942', '14150', '11723,2', '18460', '10350', '29970', '15518', '9570', '6998', '30630', '12470', '20699', '7981', '9389', '24260', '20133', '6675', '2797', '5078', '10853', '42135', '3520', '54700', '3528', '3894,2', '9397', '23550', '12465', '14730', '30599', '20268', '18538', '23140', '8929', '3380', '4990', '17631', '15806', '11978', '5835', '29948', '24405,4', '4020', '2447', '13456,82', '9710', '12940', '6520', '5478', '19051', '7625', '34500', '10668', '30837', '12790', '30230', '10188', '4339', '10268', '36800', '10170', '20088', '4968', '20324,92', '25386', '25998', '30510', '20450', '19250', '10040', '18300', '18550', '20280', '22323', '21150', '4704', '18649', '25713', '18698', '35793', '3014', '13460', '4328,1', '6519', '12342', '25639', '21673', '21724', '17500', '9120', '5330', '23355', '11936', '33292', '7262', '4745', '26760', '11996', '21124', '16290', '7637,63', '9405', '13649', '90747,9', '4540', '6354', '44760', '4729,72', '26529', '8762', '13918', '19843', '9837', '15065', '5516', '12132', '6739', '8879', '7563', '14644', '11050', '5051', '12713', '16317', '2499', '4070', '12170', '8633,7', '4030', '32670,79', '7002', '7991', '22645', '3591', '2620', '5987', '8717', '3300', '22896', '5010', '17955', '21475', '5749', '4140', '39627', '11690', '10656', '3718', '16940', '46671', '15800', '18240', '26100', '7798', '7750', '23713', '3448', '116360', '7201', '14189', '9235', '13388', '14520', '83871', '37480', '18338', '11383', '2430', '10419', '6182', '4139', '28955', '29380', '22627', '22747,4', '6490', '3100', '15930', '28340', '62468', '7499', '12945', '13847', '12451', '17459', '15621', '15482', '13463', '30300', '21690', '7300', '18230', '7875', '14406', '8400', '7787', '25904', '11211', '10190', '2520', '28842', '8170', '6373', '7676', '3970', '7523', '3750,91', '3799', '5294', '2900', '23094', '4170', '72000', '26580', '4190', '63271', '14270', '24475', '18224', '88555', '14350', '13321', '7908,1', '12803,4', '10432', '13975', '3159', '13590', '45280', '27010', '13948,2', '20355', '6584', '5989', '16039', '32415', '14013', '4890,2', '3955', '12029', '7157', '28039', '6116', '10680', '8829', '41700', '9360', '10354', '22252', '18913', '11768', '73230', '66680', '14891,92', '28308', '19660', '19840', '6004', '65250', '5545', '12348', '44415', '30974', '11138', '7586', '15524', '8453', '16065', '79959', '11489,91', '5570', '8006,1', '5329', '8377', '23999', '16880', '27190', '12570', '23499', '8540', '20205', '11958', '24682', '21881', '6139', '6881', '6345', '16512', '27283', '5364', '12309', '10497', '25897', '22945', '23539', '32499', '3015,2', '4392', '9991', '18490,91', '4117,5', '20488', '17838', '18060', '23126', '4460', '13895', '9050', '11450,9', '7011', '15602,5', '25887', '28922', '12833', '29500', '4970', '11692', '41021', '27780', '31333', '28933', '4436', '37360', '11623', '86618', '18535', '16760', '29622', '21160', '4079', '67795', '20505', '30697', '12560,01', '24771', '7166', '44700', '52250', '19602', '3033', '4488', '5128', '40480', '22756', '84630', '5707,8', '8788', '4689', '33000', '17700', '4892', '9960', '4647', '2420', '19382', '10910', '19542', '42928', '12455', '3321', '7407', '11446', '22640', '7240,5', '6397', '19950', '18898', '23160', '3141', '2730', '15370', '16011', '20995', '5129', '15704', '6375', '28472', '37200', '10348', '3885', '5520', '18740,5', '6863', '10442', '11063', '7369', '7797,6', '16615', '14330', '28899', '15272', '6918,34', '7713,42', '20298', '24470', '23104', '34720', '25300', '12514', '8844', '15883', '22947', '17550', '9700', '24889', '20490', '41132', '5890', '3356', '4362', '9998', '31587', '9260', '22495', '6300', '4882', '21805', '16500', '14930', '14469', '7236', '41990', '5410', '3798,9', '7755', '5793,3', '9573,1', '25760', '20999', '28557', '5340', '14651', '18470', '24750', '27589', '18358', '15824', '9308', '19966', '14046', '13490,2', '14430', '12405', '36308', '5736,6', '15403,02', '5150', '26174', '15269', '12262', '30198', '8675', '4315', '20565', '11842', '6193', '9689', '11321', '45952', '8289', '15600', '5195', '8832', '23204', '8715', '24700', '20250', '14391', '16010', '3798', '10836', '17988', '15523', '5288', '8450', '26365,6', '54105', '9669', '18667', '35610', '5298,1', '7183', '16691', '3045', '11293', '25631', '4379', '13992', '6991', '8199', '9557,1', '15498', '32846', '4458', '11808', '13910', '4140,2', '7050', '4779', '5900', '18468', '13290', '6136,58', '3316', '8564', '39422', '16485', '5260', '5120', '9760', '17276', '21700', '7498', '22789', '29199', '6237,03', '18463', '4495', '11217', '7350', '6048', '38810', '2190,2', '7988', '4390,91', '43373', '51750', '5600', '17339', '9540', '10140', '3663', '4880', '18517,1', '10800', '13990', '2680', '7174,6', '11445', '26034', '6550', '34140', '19040', '30420', '12100', '8904', '16745', '29100', '5130', '8303', '17910', '3910', '3598', '11477', '6109', '7549,89', '4186', '21030', '10795', '19750', '9899,92', '7152', '19079', '20698,1', '2907', '50950', '22286', '28850', '3050', '3376,8', '28900', '23050', '13030', '24970', '20000', '22097', '31588', '4572', '14030', '6790', '23459', '11260', '6297', '13122', '20393', '21190', '5280', '27518', '42950', '99308', '12606', '10440', '11589', '4200', '4455', '18940', '3636,9', '16890', '30131', '25278,14', '9630', '7335', '22302', '46695', '8889', '11349', '18490', '2322', '19300', '10347', '22525', '11487', '26355', '10989', '3711', '4428,1', '36570', '9729', '20381', '7698', '20007', '22970', '9140', '14540,04', '4986,5', '28551', '11288', '9464', '11968', '29599', '7578', '13599', '6088', '18934', '18329', '16428', '7430', '17716', '5669', '14083', '6450', '22590', '16390', '17279,2', '37500', '20630', '17297,6', '36000', '21936', '9655', '37100', '12472', '7220', '8225', '13491', '6340', '4905', '3930', '12290,9', '11192', '12160', '4653', '22600', '10248,2', '15359', '15725', '119700', '4257', '6703', '7063', '8699', '2088', '34295', '15110', '34916', '13710', '5011', '30430', '3063', '20985,62', '8589', '25490', '11480', '4962', '12818', '12454', '12019', '24190', '2781', '23437', '9237', '7327', '14497', '11990', '23130', '39240', '20939', '90590', '13921,36', '3230', '18054', '17370', '18972', '14787', '9973', '83194', '16999,82', '5988', '7250', '3900', '13402', '26600', '8666', '19140', '17254', '5740', '21330', '3330', '3770', '3730', '8460', '10690', '7909', '15237,1', '23453', '32750', '7516', '7891', '7040,92', '12972', '7630', '19699', '14020', '8640', '13905', '23390,91', '14849', '31792', '23411', '18175', '20095', '30918', '18624', '15653', '70936,32', '23850', '5091', '2910', '6181', '21195', '7614', '17316', '34990', '5242,3', '21473', '8295', '6205', '16698', '24195', '4969', '29788', '14094', '21009', '25989', '22927', '23600', '22530', '13960', '14470', '9074', '6449', '19120', '12390', '11489', '10584', '11340', '12557', '14724', '9899', '28110', '5250', '3924', '6549,83', '10010', '18334', '9158', '19790', '30951', '15442', '7272', '24000', '6141,75', '15468', '6489', '9427', '6007', '2498', '21197', '22188', '23971', '4576,5', '5778', '11635', '10860', '34000', '24103', '7898', '4807', '20550', '3067', '6747', '14385', '2619', '12195', '8490', '28215', '27905', '10021,5', '20592', '76000', '26950', '15279', '3335', '13922', '22520', '23737', '6517', '4493', '13010', '12849', '28273', '30603', '3740', '14092', '11466', '3413', '8685', '3006', '11699', '8890', '7890', '20800', '4310', '10508', '18720', '5276', '6099', '26099', '39450', '4477', '30313', '15221', '33476', '17298', '17043', '28258', '14590', '5285', '17050', '4641', '23990', '13254', '5847', '23735', '21112', '74650', '8128', '24295', '24272', '3000', '10714', '18445', '38850', '17080', '20498,1', '7581', '10084', '27398', '13566', '4891', '7020', '14619', '4290,91', '12810,94', '6906', '3305', '13165', '8390', '12541', '27124', '87880', '20252', '24506', '11986', '10782', '8118', '23315', '12509,9', '28026', '44660', '2072,7', '15639', '4838', '15575', '20699,1', '8598', '12650', '28060', '11219', '11510', '3289', '7187', '3145', '19700', '9870', '12239', '12646', '16977', '20987', '27617,1', '28750', '5064', '6201', '97026', '21984,55', '14989', '16998', '23057', '21814', '42335', '14356', '4244', '4648', '4683', '4389', '12810', '6282', '20069,33', '11389,2', '18392,91', '41000', '13380,56', '11949', '18660', '21740', '6367', '15920', '33192', '14219', '31538', '16278', '9429', '9858', '5193', '4520', '3961', '39020', '10322', '3849', '37780', '5676', '19470', '10687', '38570', '2412', '4492', '9000', '25588', '31646', '11966', '5408', '8941', '93400', '4590', '23720', '6776', '24120', '12012', '23890', '18850', '17089,9', '7386,75', '19560', '3501', '26930', '11997,2', '10499', '7495', '31875,3', '29266', '3199', '6330', '15033', '5661', '6127', '7703,1', '19600', '27990,91', '70500', '24929', '14991', '27313', '23975', '19665', '9586', '6543', '25584', '50652,94', '3150', '9180', '28517', '12755', '65629,5', '11598', '32348', '2748', '23688', '6347', '12249', '20644', '28810', '29699', '24179', '29052', '26315', '28745', '20086', '6758', '22250', '22930', '25749', '37818', '62240', '14387', '3645', '13733', '20370', '5160', '13768', '28079,84', '8078', '18251', '9009', '30100', '3675', '3140', '24945', '2660', '5542', '6168', '23950', '5670', '28247', '6979', '17425', '23121', '6200', '4428', '10840', '27208', '17347', '70705,96', '14620', '14766', '8568', '2031', '21405', '14199', '12598,1', '22905', '9910', '11236', '3001', '36400', '18100', '11940', '22872', '81000', '2350', '19830', '31050', '4508', '40581', '35683', '6230', '31224', '2940', '18246', '10890', '12330', '20424', '25081,98', '22349', '11677', '78150', '28800', '14659,2', '13284', '4939', '21907', '3668', '24027', '15899', '56000', '10480', '6269', '32449', '21496', '4581,87', '17863', '14410', '12518,5', '14260', '14205', '17091,9', '27096', '31610', '9013', '22091', '7794', '18210', '8560', '40110', '14510', '7984', '19820', '23900', '16960', '33120', '15314', '10990', '6049', '7799', '21943', '10917', '24281', '8697', '24059', '5208', '2372', '28242', '26875', '10697', '11368', '11429', '12908', '13139', '16030', '9417', '7123', '5232,2', '10609,2', '14388,3', '29345', '11938', '3700', '9876', '17600', '5185', '9546', '4607', '2399', '3484', '5806', '6622', '4499,2', '21400', '17320', '5499', '21999', '32090', '16530', '22236', '30681', '18280', '4109', '3199,2', '38718', '28070', '3659,5', '15771', '7995', '16765', '18900', '41470', '19475', '4703', '83407', '8360', '21350', '16520', '8858,8', '16733', '10529', '17082', '27925', '13539,2', '7977', '18398', '12780', '3320', '22075', '25898', '25540', '25783', '6860', '25780', '11093', '11655', '16547,3', '12784', '8370', '24239', '16128', '9879', '6575', '11727', '4008', '4095', '48580', '8744', '4770', '17780', '19877', '8630', '27342,5', '26337,6', '14530', '14527', '23406', '7679', '16280', '13148', '6840', '7769', '15843', '15806,5', '12702', '8492', '17624', '6278', '33470', '20659', '15170', '21062', '23030', '19734', '7763', '24459', '4664', '6599', '8785', '15020', '4870', '2039', '5820', '6481,8', '28400', '2699', '12829', '15770', '31596,92', '21200', '7448', '8984', '13179', '2950', '19970', '7937', '15270', '6440', '12598', '9278', '4934', '14994,6', '22900', '19889,92', '13166', '6429', '7080', '4599', '3680', '10580', '11333', '9573', '6040', '3072', '8237', '16310', '8935', '16897', '38032', '15739', '34630', '13216', '27510', '17250', '6455', '13489,91', '61250', '13476', '13700', '66504', '18725', '5076', '19464', '21620', '3737,6', '15870', '14996', '26510', '15490', '16880,91', '2947', '8899', '9224', '17999', '20700', '21298', '7189,6', '3312', '8268', '5105,7', '99000', '10536', '27428', '25700', '36267', '17346', '18115', '16576,2', '5639', '14498', '9749', '6630', '6204', '32525', '4841', '3614', '19770', '23745', '25702', '5798', '17040', '23830', '17203', '41936', '6217', '3354', '15907', '59590', '6597', '31317', '60080', '21840', '10428', '19044', '57593', '16834', '22290', '3690', '14690', '9814', '15200', '26774', '4740', '7452,4', '4021,92', '6546', '25315', '9534', '29690', '61487', '4440', '14441', '17360', '6749', '19046', '9590', '5231', '13440', '6350', '10478', '8186', '32907,5', '23498', '19540', '3827', '5849', '11428', '86071', '17503', '3877', '12447', '22536', '7480', '19940', '7035', '6793', '34422', '3860', '5135', '15647', '17561,8', '51300', '10225', '22430', '9750', '4754', '6377', '10490,91', '3231', '21080', '18113', '5430', '4629', '8833', '3222', '3269', '14097', '3301', '11697,1', '13018,1', '19748', '25260', '2936', '3490,91', '13888', '9340', '11259', '12210', '27020', '6420', '21950', '26330', '8750', '17390', '19593', '13438,3', '7965', '25881', '9899,1', '7083,05', '2224,8', '16736', '21877', '18426', '10073', '10400', '4878', '23391', '36177', '17529,91', '11798', '12280', '13940', '11200', '9600', '23711', '25785', '22212', '21286', '3418,5', '22147', '82700,9', '53169', '12737', '5620', '9845', '29700', '7740', '30820', '5867', '13300,91', '5259', '9504', '20480', '37508', '26091', '25940', '24367', '17567', '8127', '19440', '18964', '23399', '2250', '24399', '6948', '24858', '19610', '13530', '6639', '2305,8', '4165', '4746', '5748', '4810', '7539', '5504', '60300', '74466', '15788', '27880', '10964', '5770', '12950', '16740', '5592', '39980', '79679', '12550', '16257', '27448', '18615', '6495', '27700', '8253', '4610', '4628', '7181', '2450', '11724', '3545', '7985', '19580', '19240', '5735,7', '13641,3', '9880', '19521', '22105', '42228', '13993', '6272', '25730', '3329', '10398', '21505', '4212,8', '12530', '4326', '14148', '13399', '6567', '7190', '28431', '3307', '8878', '5936', '7810', '8228', '12639', '9718', '16312', '23920', '13965', '6500', '15496', '7530', '8311,29', '17593', '24717', '7574', '11363,99', '16669', '14443', '11911', '33760', '19145', '10360', '26000', '11189', '17397', '18240,91', '53000', '2930', '14480', '16989,92', '2999', '14449', '25459,3', '2290,7', '29944', '2150', '45160', '7289', '14750', '17193', '4887', '22621', '19260', '8547', '5984', '15128', '5517', '4994', '4982,4', '13488', '29799', '5300', '24778', '29386', '18296', '32292', '8470', '12240', '9526', '6682', '11524,79', '8389,91', '11786,85', '5162', '5174', '26490', '49653', '13990,92', '22850', '7599', '28428', '31070', '41490', '22072', '24112', '2798', '96000', '8373', '4738', '22990', '11620', '64670', '56310', '28674', '3396', '5997', '29898', '28861', '12474', '11303', '24340', '6789', '14795', '5590', '6985', '7605', '4789,92', '17140', '27986', '7845', '4675', '25240', '7648', '22528', '9620', '13875', '9480', '12097', '9406', '27980', '9282', '14140', '18162', '7210', '19615', '14089', '22338,94', '13995', '7281,94', '37640,77', '31250', '11565', '20190', '24047', '7147', '21464', '22300', '27598', '34466,4', '20880', '16381', '4644', '30391', '12890,92', '4650', '26538', '10340', '16814', '23300', '25732,2', '23882', '17006', '60720', '10151', '26170', '11700', '44000', '14190', '27820', '22830', '18630', '22230', '4311', '71243', '14300', '2104', '16704', '11776', '9398', '18861', '20356', '10438', '9280', '58900', '7949', '2341', '3808', '9059,92', '93890', '21809', '6885', '9994', '7199', '2421', '13846', '4110', '23793', '30299', '9621', '18050', '52930', '14110', '7651', '70410', '7950', '2100', '6839', '13278', '4470', '32200', '28509', '4750', '8285', '10759', '2629,8', '22160', '10992', '24962', '13005', '3389', '16298', '5650', '23945', '22599', '7770', '5616,15', '3032', '4248', '18799', '46729', '10735', '4535', '5742', '25167', '9447', '5560', '3690,92', '21347', '58947', '5765', '13920', '17505', '12782', '19358', '10630', '39720', '5306', '5018', '19983', '19782', '18414', '12289', '18782,2', '29461,34', '11148', '11740', '15727', '29198', '14201', '98030', '32938', '7713', '12980', '17900', '43010', '23820', '7417,5', '5482,3', '4624', '5922', '30879,55', '6380', '36290', '12935', '25158', '22102', '14240', '78550', '4479', '63776', '21615', '23625', '20786', '10801', '13577', '19689', '78400', '29615', '3492', '44290', '4366,8', '23552', '4372,2', '14629', '13689', '5857', '28775', '21166', '23661', '37560', '20263', '27970', '4500,95', '19998', '38108', '5625', '31000', '22570', '5222', '11619,84', '7090', '7279', '8110', '41620', '74482', '22400', '3854', '27860', '9908', '4899', '8156', '12898', '28055', '26865', '6893', '16848', '4775', '25960', '17842', '6319', '25179', '25991', '10655', '3892,2', '26890', '13680', '29430', '11779', '13060', '8421', '35142', '5852', '27620', '21494', '18560', '32508,2', '20820,44', '5710', '7900', '92951', '8698', '13785', '3555', '4082', '2990,92', '21487', '5083', '3039', '8393', '12699', '63306', '35145', '7340', '5921', '26200', '15160', '17970', '5699'}\n",
      "\n",
      "\n",
      "==========\n",
      "FST_PAYMENT\n",
      "{'424', '5361', '1651', '7170', '6075', '15939', '565', '10515', '1289', '4080', '1818', '888', '1170', '4352,37', '1309,65', '1565', '9016', '1287', '2420,1', '8816', '10260', '4809', '22399', '4330', '2011', '449,1', '514', '873', '522,4', '22000', '5735', '446,88', '943', '15900', '10950', '1343', '9770', '2000,7', '827', '3073,8', '2690', '999,2', '2549', '583', '570', '2765', '2870', '779', '3003,3', '13519', '250,6', '12910', '15670', '648', '2440', '2540', '3414', '269', '10560', '1275', '19990', '4390', '2330', '1035', '4393', '925', '4989,92', '1865', '2855', '834', '550', '3822', '21900', '1574,1', '1884', '35000', '1615', '3538', '4579', '1489', '677,5', '8710', '3000,4', '1568', '6541', '44500', '3000,95', '10460', '323,25', '651', '3277', '1771', '376,21', '2240', '4199', '610', '8499', '1619', '457', '712', '4387', '3157', '1390', '1999', '7420', '1808', '5001,9', '2754', '950', '643', '601', '1020', '542', '2578,8', '8117', '3350', '1278', '13126', '11024', '6491', '3595', '13580', '3997', '5234', '1995', '5350', '525', '10205,5', '8800', '1830', '1255', '2437,5', '1356', '9040', '2772,13', '2045', '580', '13000', '2598', '5461,11', '2270', '1196', '358,1', '2152', '862', '2178', '8328', '2892', '2130', '2595', '4944', '1126', '672', '10350', '1796,94', '2299,9', '574', '1778', '688', '14500', '1290', '1380', '5550', '2861', '5814', '3735', '1992', '1495', '4370', '825', '5387', '681', '9570', '990', '456', '4245', '3078', '353', '3299', '1720', '1717,92', '3119', '692', '300', '4948', '637,4', '1360,92', '2797', '2899', '10', '10000,92', '1379', '2115', '16100', '0,95', '2469', '3790', '3195', '1545', '422,1', '3570', '3520', '3537', '979', '2775', '3298,92', '981', '2442', '659', '1422,6', '2698,89', '3976,32', '1151', '849', '1040', '4768', '8320', '3390', '5838', '2916', '1383', '3380', '4990', '4916', '11337', '260', '1399,8', '1922', '749', '1081', '2375', '1050,92', '910', '3099', '470', '1230', '5000', '2244', '4020', '249', '479', '458', '3215', '14640', '799,5', '1512', '17610', '3328', '8945', '774', '1500', '2263', '229,5', '1605', '2040', '2029', '5472', '717,2', '1990', '2222', '524,85', '400', '889', '5081', '1303', '1400,95', '808', '234', '5095', '2245', '2749', '25000', '1000,1', '958', '2415', '1956', '258', '797', '1546', '2696', '1084', '7600', '5437', '1924', '1921', '2053', '5140', '3500,6', '732', '1609', '4720', '4260', '7964', '14760', '380', '7116', '6625,16', '3364', '3014', '527', '6519', '2000,85', '464', '4565', '3439', '12000', '1255,41', '17500', '742', '5611', '2300', '49038', '3087', '660', '2999,6', '13807', '5000,91', '10270', '1457', '1329', '1072', '695,2', '40100', '54470', '3779', '2338', '1050', '2491', '2004', '667', '1533', '3450', '10525', '3298', '877', '955', '3088', '3278,9', '868,42', '2688,69', '1087', '7880', '11600', '630', '5383,85', '1355', '2200', '1393', '2454', '546', '3687,5', '764', '3228', '1353', '13400', '1556,8', '14448', '9270', '43359', '1000,89', '1115', '1288', '9411', '2499', '965', '3090', '3470', '1442', '4030', '1444', '10041', '2620', '4820', '10502', '3300', '1622', '5010', '1869', '1960', '3435', '4198', '5445,92', '159', '748', '508', '5210', '2060', '4287', '567', '8879,48', '2375,68', '217,5', '8164', '2647', '1508', '2458', '5155', '7750', '755', '5108', '542,2', '3448', '1497', '5580', '11528', '2840', '605', '366', '9400', '2000,22', '1831', '1987', '4898', '13772,82', '7174,87', '20645', '3245,95', '676', '2200,05', '2430', '3679', '1153,5', '977', '4155', '293', '12520', '457,5', '3385', '3800,2', '386', '1204', '3249', '6000', '1082', '5950', '1099,9', '3100', '1540', '740', '16515', '1979', '26565', '7631', '370', '8190', '1829,43', '8500', '5800', '790', '1841,91', '918', '7300', '6410', '636', '19000', '8400', '48210', '2997', '927', '7270', '10434', '10489,92', '2520', '323', '2989', '846', '3970', '7000,5', '2480', '2356', '875', '2900', '1871,75', '1996', '6929', '4145', '13500', '2000,2', '11440', '4190', '1107', '711', '488', '2132', '757', '18080', '3765', '529', '3159', '3575', '46300', '9444', '6257', '1815', '1810', '3370', '10015', '5989', '1179', '9200', '21750', '6999', '1455', '3200', '5460', '350', '2352', '715', '1374,88', '1788', '532', '6400', '2698', '9037', '1498', '3469', '541', '687', '11076', '6000,1', '1639', '1094', '42518', '1213', '39910', '2357', '1430', '399', '9472', '7590', '4235', '952', '3670', '299', '3260', '2460', '8008', '1864', '3780', '1890', '346', '1802', '1481', '332', '15500', '2013', '5373', '4430', '1534', '3250', '7586', '9790', '1165', '2390', '4005', '416', '4498', '283', '1819', '1188', '7507', '3148', '480', '9300', '7082', '8540', '1229', '10706', '1739,69', '4851', '9375', '813', '1041', '1499', '14786', '1408', '1331', '1399,7', '772', '1702', '10497', '3610', '34923', '1222', '12358', '388', '1000,95', '18400', '1009', '787', '3137,9', '3698', '1486', '10696', '833', '9991', '3538,92', '1143', '5145', '1695', '150', '3830', '682', '1417', '1161', '795', '1295', '1860,9', '31350', '8389', '2466', '684', '1284', '770', '5940', '686', '13203', '507', '1686', '1098', '205', '2024', '311', '1384', '974', '15000', '930,91', '2007', '304', '29500', '878', '551', '1220', '2981', '1821', '4353', '1800,2', '4358', '1610', '1090', '9272', '1873', '639', '3829,6', '2710', '6399,9', '4712', '4536', '1691,6', '730', '2778', '775', '1064,2', '1488', '2697', '7700', '2019', '677', '10619', '853', '3774', '4980,91', '1703,2', '365', '674', '60488', '7019', '7118', '29590', '516', '4500', '1717', '4587', '2688', '3935', '6240', '2515', '1543,5', '409', '40000', '6844', '1256', '369', '9960', '55982', '3000,92', '2420', '917', '4647', '25131,59', '1504', '3840', '349', '1361', '3270,82', '75606', '25405', '1828', '2079,02', '2400', '9248', '8', '2550', '1069', '2286', '734', '3403', '1267', '5000,8', '3410', '60245', '10227,2', '4640', '19950', '1632', '2760', '56638', '2467', '2730', '7000', '27350', '5980', '10512', '1110', '4048', '1776', '7520', '39400', '1460', '3170', '1850', '6670', '1629', '3885', '859', '3795', '694', '4274', '1474,3', '2915', '3943', '2121', '3960', '3223', '4567', '545', '1820', '20595', '256,2', '4910', '2985', '5033', '1894', '3660', '3160', '1515', '6750', '2553', '9288', '8751', '1550', '3294', '1952', '4806', '1152', '1247', '1376', '25300', '4319', '820', '3104', '13776', '281', '9700', '230,3', '1440', '1509', '2323', '8940', '4450', '867', '4700', '855', '960', '930', '3037', '413', '2327', '5660', '5890', '3794', '3043', '4270', '1300,92', '9490', '642', '1327', '10500', '1470', '5985', '6300', '18735', '1004,2', '3126', '16500', '9425', '3135', '48052,1', '9047', '3500', '432', '1837', '5245', '2455', '2135', '2159', '2409', '3180', '7822', '1360', '1297', '1140', '3408,8', '11221,5', '5340', '1751', '2920', '17930', '330', '1555', '345,3', '8688', '6995,92', '9955', '1768', '3136', '50000', '10729', '9550', '552', '1640', '941', '1870', '1726', '4925', '2299,8', '1842', '1625', '2574', '5150', '3916', '6599,8', '1899,1', '840', '4315', '435', '3980', '1523', '469', '1674', '1259', '2239', '725', '1500,5', '15600', '60360', '2349,6', '4551', '2587', '2310', '473', '2155', '3703', '3097,8', '2599', '2649', '1389,8', '3763', '436', '1860', '2564', '854', '1181', '213', '26802', '8450', '3110', '1103', '13613', '22097,99', '1132', '9020', '1231', '2099', '1319', '2287', '1178', '5143', '4000', '520', '2500', '2265', '459', '2084', '3045', '1530', '5844', '5746', '5000,1', '2740', '1320', '1180', '3870', '6320', '3319,7', '1704', '518', '4444', '1210', '1962', '4194,3', '6000,81', '1935', '5900', '1598', '1759', '29032', '2028', '3717', '5050', '3252', '1462', '2131', '3205', '638', '1500,2', '9824', '2588', '5120', '5260', '631', '2708', '4300', '1566', '1834', '962', '1876,25', '842', '793', '2780', '650', '912', '5718', '2653', '16350', '5812', '519', '7350', '868,83', '341,1', '670', '1116', '638,7', '6837', '9754', '5600', '3240', '463,2', '6387', '1888', '2413', '16400', '845,5', '10140', '625', '629', '360', '1760', '6835', '3975', '10800', '1047,82', '1197', '1634', '2865', '3023', '2680', '1257', '10723', '3212', '7230', '754', '1042', '421', '857', '1677', '337,1', '6730', '555,2', '7836', '6550', '1281', '3290', '588', '6317', '835', '2025', '579', '697', '12100', '1997', '445', '5130', '4363', '2608', '1895', '160', '1700', '3910', '2166', '319', '140000', '2000,92', '7816', '582', '1207', '1866,6', '3280', '7553', '1544', '4476', '1280', '9108', '560', '120', '10795', '11689', '800', '2000,9', '485', '1559', '2849', '1369', '4138', '2625', '5002', '426', '2999,9', '3050', '1248', '1786,9', '815', '24500', '3216', '20000', '1392,4', '3590', '6297', '7238,86', '299,1', '11382', '42906', '700,83', '1026', '2700', '1392', '2030', '443', '2017', '2504', '5540', '4348', '19924', '3293', '1398', '637,3', '4200', '528,5', '4455', '9730', '3815', '1348', '635', '634,2', '3359', '985', '1034', '1004', '2198', '623', '1093', '1093,4', '6875', '35800', '2949,7', '3107', '1703', '6445,86', '3969', '223', '7550', '1561', '2324', '1507', '11860', '3334', '4523', '6326', '3711', '858', '2179', '6785', '1786', '1341', '2041', '1463', '11660', '4986,5', '1160', '3658', '1147', '1244,7', '2890', '28000', '5610', '2703', '75500', '710', '8263', '1708,5', '1994', '982', '7670', '2887', '685', '130', '8900', '3666,2', '589', '8100', '10330', '1239', '3787', '4978', '596', '6340', '1030', '1179,6', '3930', '1700,92', '3739', '4666', '4653', '14753', '4343', '3482', '6100', '1219', '238', '2248,1', '5400', '3092', '1039', '1824', '363,5', '1487', '3907', '1680', '3480', '5038,1', '830', '1139', '4399', '405', '1978', '2962,1', '940', '965,92', '2077', '3760', '6641', '371', '2088', '449', '3498', '468,1', '2845', '4900', '2129', '1973', '1999,2', '1901', '652', '2593', '1563', '2062,5', '1238', '559', '7707', '50442', '1588', '2506', '1648,5', '176', '1279,9', '921', '10981', '7519', '602', '7240', '1292', '1055', '2923', '598', '567,3', '10152', '11990', '903', '53370', '8820', '5744,5', '4230', '4550', '3720', '752', '1875', '3114', '680', '750', '15886', '1374', '1261', '5726,3', '1264', '3230', '1452', '8618', '16750', '1500,95', '4053', '3162,71', '17110', '2027,7', '7250', '1159', '3900', '4086', '367', '2716', '538', '655', '3330', '75570', '410', '8522,2', '2200,91', '3730', '6532', '18152', '1095', '9685', '32750', '1849', '2355', '2360', '16293', '65000', '1445', '7630', '45000', '1877', '900,2', '14200', '2014', '27000', '1898', '778', '1840', '8640', '433', '393', '4210', '1484', '7100', '5022', '1306', '2067', '2247', '10051', '419', '2125', '599', '16086', '10397', '4632', '0', '4690', '6950', '2790', '29080,92', '575,2', '2444', '25599', '1781,83', '7395', '3569', '2910', '699', '2000,6', '2750', '2635', '759', '26410', '705', '540', '2076', '14440', '2487', '5999', '1519', '646,5', '3599', '9784', '1949', '8480', '9568', '6650', '3596', '9574', '2495', '268', '1823', '690', '1512,1', '713', '1656', '3650,1', '3257,04', '1405', '12500', '2610', '1785', '100', '7142', '4995', '5250', '1124', '2205', '10136', '675', '1597', '1549', '14806', '3270', '8274', '24000', '1130', '3165', '6007', '4798', '2547', '2498', '3198', '10098', '1722', '34000', '6196', '3392', '1053', '590', '3318,4', '272', '3245', '612', '4275,2', '362', '4000,92', '20550', '5722,21', '5705', '3100,3', '2278', '391,2', '3502', '771', '2685', '1991', '2345', '14385', '315', '9898', '1648', '9900', '1394', '15701', '5521', '7464', '2863', '524', '737', '10933', '392', '9964', '9602', '2843', '3335', '6832', '1517', '1121', '1571', '25400', '6554', '8680', '138', '1112', '5375', '515,85', '40664', '334', '14935', '3740', '1075', '3413', '11900', '3006', '383,2', '478', '5532,66', '811', '4310', '837,91', '2001', '2140', '1326', '792', '6646', '832', '6933', '720', '3028', '1936', '4340', '6800', '2490,95', '3149', '3984', '1812', '3650', '430', '5928', '3124', '8125', '1065', '920', '4597', '4045', '1500,92', '336', '5847', '6945', '2114', '4697', '6820', '3391', '16000', '6228', '894', '11924', '24500,03', '3363', '2615', '1600', '3000', '2651', '2729', '60432', '50642', '1809', '5036', '11027', '2751', '3371', '460', '8650,48', '11490', '10100', '375', '1937', '2665', '599,95', '1420', '2640', '7020', '7049', '13200', '5999,2', '2320', '6890', '1535', '8390', '4364', '5760', '9788', '4949', '1767', '988', '1479', '2429', '2753', '5767', '230', '3810', '6820,45', '887', '3311', '2597', '2784', '1000', '1573', '5075,84', '2414', '5366', '2384', '5500', '0,92', '359', '933', '8082', '389', '1010', '352', '668,71', '276', '7477', '3669,6', '999', '55000', '1340', '13100', '2482,84', '3463', '7883', '377', '8734', '7400', '7805', '251,1', '627', '1514', '4335', '3678', '12300', '549', '26550', '1293', '384', '1820,94', '54929', '1660', '2315', '3426', '2674', '475', '1970', '934', '10394,5', '2333', '3415', '869', '5074', '2149', '11020', '2490', '9800', '1258', '41000', '1735', '936', '6138', '2702', '20235', '4000,9', '1685', '10425', '5667', '320', '3297', '11233', '1940', '3186', '1235', '14221', '3442', '1638', '828', '1148', '4846,96', '1928', '3360', '26090', '2514', '938', '3030', '1395', '626', '39804', '2210', '5045', '2926,4', '1279', '619', '407', '663', '368', '13140', '2405,69', '9000', '6325', '438', '2223', '3850', '5730', '971', '11320', '562', '1750', '4590', '387', '18000', '6513', '13360', '5198', '12012', '1679', '2457,9', '2810', '18850', '2096', '4499', '1243', '4504', '400,2', '2241', '10431', '9996', '2206', '2080', '3752', '5246,5', '5248,91', '1910', '1049', '2877', '7495', '11548', '1625,2', '6782', '2571', '2900,5', '285', '4050', '2220', '2605', '210', '6127', '1215', '7034', '776', '3710', '1524', '1655', '9457', '615', '344,8', '989', '25089', '6543', '1661', '1813', '3173', '512', '824', '1172', '3150', '18719', '539', '7811', '2288', '372', '7207', '1876', '2580', '15000,4', '4177', '1150', '2259', '20644', '7095', '2437', '6534', '1715', '1475', '3451', '1680,82', '7259', '656', '7185', '51127', '695', '4206,8', '2604', '276,6', '13536', '1233,2', '756', '1999,8', '10900', '1125', '950,92', '6174', '383', '373', '724', '2369', '7506', '10550', '6712', '8250', '1036', '4510', '225', '3187,74', '239', '437', '21000', '1312', '1063', '3140', '1337', '2660', '1008', '177', '1185', '13395', '3433', '8000,91', '5670', '11500', '30000', '3901', '1885', '6200', '2395', '1266', '1271', '1969', '1899,8', '11673', '600', '2031', '1503', '948', '9910', '7528', '1051', '2614', '620', '34492', '3000,91', '3495', '2350', '7795', '54910', '16484', '4521', '2590', '3183', '3425', '1270', '10147', '3550', '10008', '2940', '1025', '11762,27', '2433', '3585', '649', '1216', '1883', '530', '5700', '8650', '2110', '2689', '2758', '34698,2', '489', '53541', '3400', '8099', '28800', '3120', '8688,09', '1005', '1880,2', '2078', '3416', '3749,74', '739', '1477', '4600', '2835', '2898', '517', '8790', '2613', '33590', '2055', '535', '995', '1371', '885', '13539', '3095', '772,3', '14220', '2373', '13650', '7128', '1491', '2235', '1737', '6777', '1710', '6396', '1790', '23900', '4498,91', '413,1', '4992', '1914', '767', '571', '2231', '2290', '3568', '2020', '3265', '22500', '1328', '1300', '2271', '2372', '1070', '1765', '1058', '8349', '2358', '769', '2998', '38000', '3064', '2535', '1330', '4739', '2213', '1829', '929', '508,5', '197', '726', '5038', '2364', '2560', '1252', '13670', '444,1', '3700', '7820', '1045', '19958', '760', '1933', '6481,31', '3484', '2399', '644', '1339,9', '5817', '7298', '2616', '5499', '905', '3995', '1892', '786', '998', '440', '2325', '1129', '669,3', '1958', '418', '4935', '2796', '19430', '4184', '7261', '14990,94', '7995', '2006', '3619', '2825,5', '1989', '18900', '455', '704', '1245', '616', '970', '2532', '1653', '6115', '1119', '2975', '7124', '2047', '451', '1516', '3320', '1957', '2015', '2584', '9639', '1557', '2230', '2937', '531', '1572', '5200', '3872', '564', '6575', '4517', '633', '4095', '5000,87', '2572', '4770', '9664', '2112', '4014', '818', '947', '5450', '848', '2935', '980', '52182', '2667', '4139,36', '2095', '7541', '5902', '780,3', '1050,33', '1689', '4593', '1666', '306', '3899', '1453', '4027', '2248', '645', '3202', '1418', '1779', '1596', '2901', '573', '1399,3', '4742', '4660', '11560', '1411', '3688', '2990', '2807', '4197', '788', '2316', '2044', '9391', '1322,9', '4828', '58800', '4983,2', '2039', '4870', '2346', '5820', '4040', '5811', '296,8', '1874,7', '6882', '41580', '18589', '687,7', '6957', '53530', '874', '4686', '2238', '2950', '2394', '1693', '4263', '3489', '618', '468', '168', '5609', '4289', '1100', '4490', '780,1', '49582', '2173', '9190', '698', '3602', '847', '4185', '7080', '4743', '15680', '2555', '3680', '1501', '3337', '9871', '479,8', '2811', '1469', '718', '1338', '2052', '3284', '515', '6160', '2204', '3902', '2197', '2500,95', '5761', '11800', '1171', '6610', '1400,1', '1630', '1731', '10090', '450', '2770', '3800', '13700', '1182', '10750', '4060', '2050', '4619', '9793', '870', '14000', '446,05', '2879', '11080', '3015', '9418', '12335', '838', '6900', '5023', '2947', '8700', '738', '2280', '21094', '12700', '2528', '1799', '1313', '1872', '727', '1000,92', '1200,2', '3159,86', '4000,22', '63219', '7200', '2365', '1528', '1525', '1889', '1290,6', '2482', '1763', '3172', '2668', '3357', '2670', '2167', '6217', '510', '3084', '7990', '1999,94', '643,7', '845', '1350', '1198', '6151', '5750', '19151', '390', '1370', '2368', '5998', '9500', '1854', '4400', '485,8', '2763', '6050', '1700,95', '4950', '342', '1700,91', '3220', '2850', '2567', '2470', '5850', '4715', '1608', '1510', '2034', '3266', '16250', '2380', '3108', '6509', '1246', '754,2', '1590', '1458', '3454', '1682', '38800', '893', '1725', '3677', '17000', '19556', '2698,93', '7669', '890', '1089', '2283', '4398', '379', '2347', '508,79', '9528', '4480', '1141', '39487', '1522', '3950', '1520', '5784', '7165', '4225,44', '810', '1272', '915', '1560', '5690', '1268', '12044', '1176', '2340', '7480', '709', '608', '3346', '23700', '1011', '1225', '1029,41', '11000', '10650', '54230', '3138', '9750', '4680', '622', '1269', '2237', '2348,8', '1845', '509', '1158', '10465', '2952', '1690', '556,2', '485,2', '8120', '4629', '3000,2', '1146', '1899,9', '1168', '669', '4800', '7447', '1016', '1584', '2201', '964', '3990', '5170', '16000,1', '439', '1046', '1570', '1368', '681,2', '3158', '2000', '1365', '326', '1650', '2510', '8750', '2878', '10162', '1961', '1721', '1920', '765', '4011', '2596', '2522', '3310', '8342,38', '510,9', '2690,92', '1318', '2398', '3130', '959,3', '6598', '3333', '7633', '10400', '7148,1', '5148', '3609', '1175', '1201', '6975', '20890', '13300', '498,6', '4580', '5226,9', '4434', '10026', '861', '1363', '240,6', '9267', '10267', '11200', '9600', '7800', '10637,7', '5305', '576', '3534', '11116', '4823', '2186', '249,3', '5786', '3499', '1975', '1770', '1847', '949', '5240', '9845', '6000,95', '2830', '2888', '425', '911', '2816', '2016', '200', '1719', '1591', '5979', '7740', '690,95', '1111', '44963', '8064', '5192', '2885', '511', '12600', '744', '2010', '1635', '3639,5', '305,1', '429', '1310', '2911', '3169', '500', '969,8', '5398,1', '1202', '1855', '2250', '448,9', '2954', '7243', '1670', '6948', '855,9', '1366,05', '984', '544', '2800', '1730', '2190', '3600', '299,92', '1386', '4403', '4746', '628', '2857', '5504', '5708', '1381', '2517', '1271,1', '2500,8', '3398', '5352', '942', '5320', '6699', '355', '553', '363', '9068', '586', '6495', '814,2', '2500,2', '2142', '895', '1015', '2450', '9254', '4953', '39600', '2530', '3545', '3621,7', '3874', '2156', '800,82', '1364', '6365', '1249,95', '19521', '3080', '7567', '1092', '4850,8', '11044', '3369', '9695', '2700,75', '16668,82', '1091', '5060', '2485', '51929', '5244', '1340,92', '1260', '7776', '4018', '11754', '2370', '899', '2419', '1200,8', '9661,66', '15091', '2062', '1789', '1515,7', '2860', '6357', '2712', '30660', '2151', '21839', '23000', '10695', '2650', '1302', '2880', '2858', '4546,8', '2805', '6500', '337', '513', '4318', '1930', '2569', '10725', '10000', '11890', '9250', '3020', '50120', '6010,3', '1610,4', '8923', '2199', '7623,3', '2518', '23800', '2090', '1135', '2228', '269,1', '6923', '4830', '3685', '1899', '539,09', '21696', '26000', '799,92', '956', '1694', '816', '804,5', '880,2', '62250', '46832', '16070', '6323', '2285', '2930', '339', '1431', '783', '592', '7110', '10700', '1740', '2279', '13790', '6480', '780', '2150', '1013', '777', '2538', '54080', '9979', '503', '54870', '1190', '3374', '1482', '1333', '1373', '2966,2', '5517', '1059', '1155', '6700', '28257', '33694', '4395', '9922', '5899', '5300', '1708', '4752', '1784,81', '1671', '2630', '3288', '2869,9', '3657', '439,95', '7659,01', '4081', '1102', '1567', '2493', '973', '2260', '1619,95', '706', '735', '860', '1410', '850', '3444', '1805', '720,2', '7953', '2798', '10240', '2383', '799', '465', '375,2', '1048', '613', '2233', '5100', '2157', '1018', '1580', '9699,69', '5790', '7660', '247', '2160', '2864', '2136', '3524', '4360', '309', '2570', '11230', '6789', '8300', '12144,42', '5752', '4100', '3880', '554', '1800', '1294', '21648', '7845', '746', '1138', '2046', '4675', '658', '1424', '70940', '3899,95', '9498', '2170', '3750', '2253', '496', '9039', '381', '2745', '9480', '2175', '1200', '14940', '1199', '3000,68', '2499,8', '3340', '7794,92', '2192', '12211', '1880', '316', '364', '891', '11425,8', '5279', '48156,13', '4098', '594', '2092,94', '1575', '7747', '4650', '499', '2848', '1670,69', '3209', '1581', '4919', '13818', '3490', '1000,67', '1291', '1540,84', '7882', '6600', '2776', '495', '1434', '18588', '280', '1385', '3134', '1493', '14190', '2477', '7125', '3235', '247,2', '1835', '5990', '2634', '6603', '2293', '7547,8', '4091', '3411', '2387', '9663', '700', '868', '21500', '17669', '1310,62', '1012', '3620', '728', '3264', '4110', '2686', '1900', '1950', '1745', '41774', '3511', '1556', '404,1', '8200', '50500', '1077', '3304', '7950', '2472,5', '10200', '4320', '2970', '2100', '729', '1866', '4280', '745', '292,2', '1490', '4346', '4750', '4815', '10759', '1780', '3605', '1948,92', '4239', '5650', '2643', '5097', '1103,85', '4000,5', '2022', '1433', '11090', '839', '1939', '1649', '1701', '3999', '3275', '1000,2', '10177', '5560', '2846', '49356', '2720', '8000', '2410', '1980', '24800', '2500,4', '6910', '1253,7', '431', '3440', '640', '2331', '2328', '1399', '2000,4', '46500', '3597', '6748', '1599', '1120', '29860', '2218', '4788', '6290', '1800,1', '4267', '7913', '1108', '420', '1915', '12251', '553,6', '1250', '340', '1060', '2632', '5044', '677,3', '1955', '7500', '1123', '279', '557', '723', '9445,95', '1982', '900', '9325', '13526', '1351', '10516', '3449', '49200', '3055', '555', '650,95', '3510', '3318', '11292', '3745', '1001,7', '10557', '2568', '1273', '4937', '10467', '4250', '10007', '2508', '16481', '10000,1', '3010', '10527', '1251', '3214', '2180', '1002', '480,9', '1106', '395', '9520', '5562', '2958', '561', '2559', '2826', '2070', '694,2', '10097', '5440', '3049', '3718,2', '3236', '250', '1056', '10095', '1752', '48800', '3492', '747', '1299', '3100,1', '5594', '606,2', '1195', '1400', '2955', '1254', '2586', '1620', '1226', '1705,5', '1814', '781', '987', '758', '290', '5177', '1887', '558', '18375', '5703', '880', '2988', '3060', '1841', '6370', '1912', '736', '2335', '2199,95', '30303', '7531', '31000', '4186,59', '481,8', '2098', '14100', '6398', '3516', '500,39', '3210', '2289', '8998', '3105', '22400', '3339', '2832', '653', '1897', '1959', '4775', '1480', '729,1', '1595', '606', '1080', '1003', '1265', '4708', '696', '1450', '863', '4160', '415', '2403', '1547', '3194', '6990', '7945', '8180', '3846', '2600', '1438', '4817', '7764', '1099', '798', '9530', '2459', '15140', '50', '7900', '490', '5710', '3555', '4000,91', '953', '4082', '4268,72', '2934', '1806', '2294', '1747', '3039', '1071', '9838', '8040', '16657', '10230', '10000,2', '2655', '18800', '3086', '1240', '2852', '12999', '10980', '4350', '11597', '1305', '2000,79', '2980', '40758', '2803', '9096', '13750', '19355', '5631', '301', '36330', '691'}\n",
      "\n",
      "\n",
      "==========\n",
      "LOAN_AVG_DLQ_AMT\n",
      "{'1065,62', '509,52', '989,39', '1110', '5760', '1070,52', '1170', '1460', '1671,7', '3170', '620,75', '5430', '1850', '959,955', '1093,22', '3810', '2315,64857142857', '1459,54666666667', '665,57', '1626', '3589,09', '1690', '1154,34', '3960', '38,32', '1000', '782,705', '3637,43', '2425', '1820', '991,19', '806,19', '1068,47', '2959', '2751,25', '6130', '5500', '3279,705', '3660', '3086,66666666667', '2441,465', '1899,7', '3990', '5170', '3160', '2163,94', '1535,89', '776,3', '913,4975', '543,17', '1570', '779,415', '875,2', '1724,15333333333', '517,51', '1789,04', '570', '1550', '1636,04', '2000', '2287,02', '1922,69', '1010', '820', '1594,914', '2870', '4158,85', '1010,27', '1650', '1085,5', '767,7', '2497,09', '1508,79', '3315', '2510', '1440', '1830,2', '1134,58', '1942,72', '2440', '2540', '2101,256', '1411,31', '1340', '4450', '1920', '957,46', '1069,6', '4700', '1095,61', '855', '59,68', '960', '599,19', '930', '2070,52', '980,42', '4390', '3310', '929,51', '2330', '1679,2', '1985,3', '3506,07', '1634,81', '604,43', '3070', '1470', '2273,72', '1108,96333333333', '550', '1949,8', '1056,95', '438,19', '1986,88', '3190', '6080', '6689,82', '1615', '1953,6', '3500', '5410', '2237,245', '2263,2', '2239,37', '4729,07', '11310', '1970', '1141,06', '1259,71333333333', '1867,66166666667', '1088,48', '3180', '2009', '1258,49', '4115,33333333333', '5870', '1360', '518,9', '2269,565', '2066,905', '2370,01', '1140', '2490', '1920,9575', '1145,85', '2510,2', '859,84', '1663,27', '2590,15', '3777,93333333333', '2920', '18307,16', '1608,255', '4630', '976,68', '1770', '330', '604,353333333333', '339,83', '812,11', '986,606666666667', '2240', '1418,86', '1409,965', '2830', '610', '1199,27', '1940', '1040,78666666667', '2739,76', '2119,77', '1605,95', '588,9', '1221,92', '752,923076923077', '1259,43', '3360', '2916,18', '1640', '3030', '1870', '2419,9', '4220', '957,4', '1390', '1140,2', '882,01', '1555,00090909091', '728,49', '846,55', '704,93', '1176,82', '950', '6390', '821,45', '1020', '2676,2125', '2782,89', '2702,4', '840', '1258,585', '2210', '796,59', '3626,91', '2701,26', '110,91', '879', '1139,49', '1237,24', '845,55', '2010', '552,57', '2656,68', '5370', '1310', '500', '2467,33', '904,08', '1439,815', '879,74', '1597,92', '957,59', '3850', '1402,92', '2310', '1830', '2250', '1127,76', '1319,56', '1670', '1750', '1208,09', '499,69', '2202,69', '2349,51', '1889,43', '1697,22', '2005,15', '580', '2464,55', '510,136666666667', '2800', '1804,9', '2270', '1730', '1860', '2810', '984,79', '2190', '2201,11', '4290', '1670,18', '1761,03', '3600', '3110', '1109,855', '1601,63', '918,255', '2080', '4810', '2002,45', '2796,66', '1259,1', '0,04', '1910', '2130', '901,64', '2154,02', '1144,98', '1776,96666666667', '1439,94', '605,32', '1260,55', '865,05', '1299,55', '4000', '2500', '1010,55', '3540', '724,38', '2554,005', '315,796666666667', '887,79', '2265', '2276,54666666667', '4001,34', '1798,49', '1290', '1380', '1530', '2220', '5550', '4050', '1230,63', '558,06625', '2740', '5320', '553', '1215', '1320', '1180', '4370', '966,953333333333', '3820', '1193,9675', '1155,125', '497,62', '990', '642,31', '862,5', '1589,92333333333', '1210', '2259,35', '1329,54', '1720', '1563,45', '1015', '2450', '2142,2', '300', '2530', '5830', '3150', '1388,83769230769', '988,85', '970,155', '451,495', '631', '1731,06', '6260', '1740,19', '1247,92', '1077,605', '560,86', '3080', '198,88', '177,34', '768,97', '1439,9', '3202,2', '1957,21', '2580', '1489,13', '1733,88', '4300', '1717,47333333333', '1102,7', '1477,37', '3520', '6660', '709,96', '134,78', '1321,68833333333', '1539,13', '5048,19', '4530', '816,83', '1706,3', '1959,99', '857,956666666667', '3716,35', '650', '1150', '62,46', '2340,06777777778', '7010', '1260', '5076,65', '2127,1', '1324,41285714286', '1040', '2370', '569,121428571429', '3390', '526,563333333333', '1932,5', '1880,59', '478,13', '2860', '699,78', '433,3425', '1539,2', '2262,12', '670', '762,93', '910', '2650', '1010,43', '1230', '1810,155', '5110', '1516,872', '3240', '5397,15', '2880', '4020', '6500', '5394,29', '603,55', '2258,3', '1930', '1304,0625', '1182,23', '619,73', '3020', '1760', '289,02', '360', '2409,01', '4472,91333333333', '1639,24571428571', '1512', '778,32', '2547,85', '5160', '2139,63375', '1599,9', '840,7', '2680', '2090', '1070,05', '1149,395', '386,666666666667', '1135', '2044,155', '2598,9', '578,3', '917,57', '875,09', '1500', '1424,9175', '433,306666666667', '2379,46', '2040', '2365,47', '761,866666666667', '3140', '1441,57', '5603,82', '2660', '1459,99', '1990', '1309,89', '400', '647,42', '859,92', '880,2', '6200', '14990', '5698,46', '3460', '1581,82', '2372,77', '2930', '3910', '1369,755', '1700', '2386,505', '94,89', '3201,95', '1848,05', '2361,22', '687,11', '1426,72', '1614,36', '4240', '2247,51', '820,124', '1740', '3768,7', '780', '2150', '600', '1280', '1930,595', '324,16', '4055,03', '560', '1742,41', '1116,49', '2538', '957,63', '763,3', '800', '1793,66', '620', '516,18', '5140', '3509,22', '2232,28333333333', '651,625', '1190', '4260', '2350', '1781,225', '2820', '568,7', '2590', '380', '1931,44', '1270', '3050', '2940', '1314,11', '559,94', '684,89', '4565', '849,91', '3914,24', '530', '678,2', '2110', '3971,6', '1386,115', '1966,99', '4940', '1325,63', '3590', '3106,29', '3400', '2699,88', '3509,805', '2700', '3120', '2630', '2300', '979,63', '660', '2030', '2816,25', '1222,06', '4600', '2178', '2059,46', '3172,83', '3089,155', '3037,58', '2429,09', '6041,86', '2260', '4200', '830,53', '954,65', '610,986666666667', '1050', '3539,82', '481,506', '702,565', '1029,75', '1387,15', '2794,22333333333', '735', '269,51', '535,53', '860', '8020', '3762,5', '6070', '1909,16', '2184,66', '63,31', '1410', '756,1', '850', '2013,19', '975', '763,185', '630', '872,065', '1831,51333333333', '1002,60333333333', '1269,82', '1399,25', '5269,78', '1283,89', '3702,8', '2200', '1091,2', '1710', '1790', '6310', '3433,42', '224,59', '4920', '3635,77', '2290', '0,71', '2020', '1580', '2707,25', '1300', '1179,86', '791,56', '2441,4', '1070', '2088,86', '2160', '429,11', '1833,77', '4070', '1411,835', '3470', '1160', '1004,225', '619,4', '1002,22', '437,26', '2031,34333333333', '2105', '2570', '1330', '4030', '310', '2890', '3570', '948,58', '5428,62', '1552,325', '2492,54', '1113,335', '4620', '1108,574', '3300', '2560', '710', '1478,49', '598,5', '1960', '3880', '7670', '5075,99', '1003,255', '1800', '1410,53333333333', '1292,59', '6133,41', '4140', '1313,33333333333', '600,93', '2359,898', '1288,63', '760', '2060', '4376,4', '1892,238', '1155,02142857143', '2170', '588,13', '846,74', '669,12', '3750', '4120', '3127,19', '1751,37', '1149,495', '837,48', '855,675', '630,49', '1386,96', '1197,38333333333', '1283,93', '1851,55', '1288,7', '1030', '2989,98', '849,19', '1147,5', '1200,99', '3102,49333333333', '2840', '2343,41', '1200', '1259,39', '440', '502,1', '2679,82', '1509,44', '1880', '804,32', '2430', '1314,58666666667', '2186,585', '327,98', '1768,07', '3530', '3237,94', '836,6', '1093,75', '5030', '1829,73', '990,85', '3659,0625', '2701,5', '6490', '1402,43', '1680', '970', '3480', '3100', '1540', '5510', '830', '574,21', '3420', '1090,8', '2690,33333333333', '2406,8', '4650', '740', '1107,5', '940', '1939,61', '3760', '310,126', '2524,28', '2158,72', '1359,6', '370', '3490', '790', '1684,04', '1066,005', '1317,06', '863,68', '115,65', '1097,86', '2272,5', '549,88', '2120', '1059,47', '3964,85', '5780', '3303,2', '2520', '1152,15', '2230', '51,8', '658,42', '1205,4725', '1778,635', '3970', '2480', '1593,76', '1468,38', '1878,86', '4770', '830,7', '2568,45', '2900', '908,78', '9280', '1749,69', '909,424285714286', '2476,77', '1215,45777777778', '3691,2675', '980', '700', '856,64', '714', '4190', '367,35', '3620', '4550', '2549,52', '2293,65', '3959', '680', '824,581428571429', '750', '5872,64', '782,21', '2185', '1900', '727,63', '1950', '740,575', '3230', '1810', '789,23', '1374,28', '918,55', '2629,87', '1288,898', '4320', '726,57', '3870,25', '2970', '2100', '3900', '7780', '1894,04', '613,21', '4660', '1160,96', '3200', '2990', '767,566', '1490', '750,175', '5526,72666666667', '1780', '1072,34', '367', '777,84', '1713,74', '5650', '2647,9', '3330', '2018,255', '582,386666666667', '1305,97', '355,04', '3770', '1175,57', '1817,76', '3501,45', '1007,8', '2157,32', '1412,55', '758,82', '9060', '1373,99333333333', '1716,52', '1094', '2466,8625', '1883,04', '2360', '5560', '2858,6', '560,36', '862,43', '2720', '1429,99', '136,76', '2410', '1980', '1430', '2082,47857142857', '5545,0225', '2950', '28012,2', '5040', '3440', '869,26', '1276,66666666667', '640', '1033,905', '3670', '2083', '3260', '722,59', '911,793333333333', '2755,21', '13920', '1840', '1100', '3890', '1120', '1890', '668,53', '1266,34', '809,42', '3769,3625', '3780', '4210', '3428,56', '677,474', '821,93', '892,95', '7100', '1179,394', '1498,26', '1745,7', '2084,32', '3250', '2261,19', '1095,89', '1077,03', '1413,765', '2094,3', '1088,05', '1250', '0', '2390', '4690', '1060', '2477,64', '2790', '596,29', '1845,5', '656,705', '3072,475', '1792,71', '965,1', '1582,435', '849,085', '1529,06', '2910', '370,77', '2750', '480', '2957,71', '3940', '540', '900', '2979,31', '2585', '1335,47', '1630', '1405,53', '663,05', '1639,99', '2961', '1391,47', '1138,2', '450', '894,29', '2770', '753', '240', '270', '4884,95', '2050', '1113,74', '3510', '4760', '673,89', '6650', '1120,93', '870', '690', '860,505', '3610', '827,57', '1066,605', '3040', '651,16', '3630', '532,24', '2368,84', '1841,9', '769,43', '3119,99', '2610', '49,35', '472,11', '966,07', '749,82', '4250', '100', '2280', '896,1', '1675,75', '543,33', '3010', '3782,39', '1275,785', '2128,74', '2180', '682', '2151,50333333333', '2910,25', '1666,28', '2462,1', '1649,37', '446,31', '1130', '896,31', '3209,5', '1398,58', '812,693333333333', '366,58', '770', '2070', '3860,18', '4445,6', '216,59', '2732,2', '1348,68', '1492,404', '1400', '2518,18', '2670', '613,12', '1053', '1683,49', '989,15', '3283,1', '766,26', '1220', '1620', '1626,75', '1549,18', '567,51', '510', '1258,69', '1496,3275', '444', '682,56', '825,10875', '683,9975', '1610', '87,39', '3651,445', '674,263333333333', '1350', '1006,59', '3018,275', '880', '1098,8', '823,54', '455,32', '3060', '1090', '2573,8', '1370', '2710', '2326,81', '1538,69', '567,16', '1875,70333333333', '4400', '730', '2779,4', '702,23', '4710', '1677,48', '2235,225', '1196,43', '946,49', '1844,885', '533', '2850', '670,085', '2470', '5850', '1510', '1879,28', '818,74', '2742,25', '2380', '1352,85714285714', '1480', '1590', '2112,17', '4508,2', '981,71', '1080', '4310', '2140', '1144,03', '14870', '776,59', '2097,97333333333', '890', '1371,86', '1450', '2240,34', '2051,5', '4160', '1164,99666666667', '769,915', '407,8', '4827,666', '605,496', '1241,32428571429', '1119,27', '1296,74', '720', '1570,46', '1033', '1427,295', '2600', '805,86', '2960', '673,6825', '1171,686', '1591,94', '1433,4', '4164,34', '1520', '2090,53', '430', '1312,44', '2503,19', '490', '1286,73', '810', '758,95', '920', '791,98', '457,71', '3840', '2925', '1560', '892,18', '2569,05', '2340', '648,68', '673,02', '1686,92', '2400', '1344,33', '1300,386', '836,79', '2550', '425,97', '1052,63', '1258,95', '1600', '3000', '554,36', '1007,36', '1296,4', '1240', '772,73', '3410', '1272,72', '4640', '3024', '4350', '7340', '1692,49', '1264,23', '2269,735', '3322,7775', '802,36', '2509,38', '2980', '1420', '578,06', '798,53', '586,646666666667', '2760', '2640', '755,063333333333', '4680', '2320', '951'}\n",
      "\n",
      "\n",
      "==========\n",
      "LOAN_MAX_DLQ_AMT\n",
      "{'1065,62', '989,39', '1110', '5760', '1185,5', '2064,08', '1070,52', '1170', '1460', '1671,7', '3170', '620,75', '5430', '1850', '1093,22', '3810', '1386,14', '665,57', '3589,09', '1690', '2902,89', '1154,34', '3960', '38,32', '1000', '3637,43', '2425', '1820', '991,19', '806,19', '943,56', '2959', '2751,25', '6130', '5500', '3660', '3990', '5170', '3160', '2163,94', '776,3', '543,17', '1570', '517,51', '875,2', '1789,04', '570', '1550', '1636,04', '2000', '2287,02', '1010', '1365', '820', '1012,9', '2870', '4158,85', '1010,27', '1650', '1085,5', '767,7', '2497,09', '1508,79', '2510', '1440', '1134,58', '1942,72', '2440', '2540', '1411,31', '5980,18', '1340', '4450', '1920', '1069,6', '1095,61', '4700', '59,68', '960', '599,19', '930', '481,51', '980,42', '4390', '3310', '2330', '1679,2', '1985,3', '3506,07', '604,43', '3070', '1470', '2281,1', '550', '1949,8', '1056,95', '438,19', '1986,88', '3190', '6080', '6689,82', '1615', '1953,6', '3500', '5410', '2263,2', '2239,37', '4729,07', '11310', '1970', '1141,06', '1489,45', '3180', '2009', '1258,49', '5870', '1360', '518,9', '1140', '2490', '1145,85', '2510,2', '1840,14', '1663,27', '5340', '2590,15', '2920', '976,68', '1770', '330', '581,67', '919,88', '812,11', '339,83', '2240', '1418,86', '2830', '610', '1199,27', '1940', '755,76', '4446,3', '2739,76', '2119,77', '1221,92', '1259,43', '3360', '1870,69', '586,5', '2916,18', '1640', '1302,38', '3030', '1870', '2419,9', '4220', '957,4', '1390', '1140,2', '728,49', '1819,09', '776,6', '6390', '846,55', '1176,82', '950', '704,93', '1020', '2702,4', '840', '2210', '796,59', '3626,91', '2701,26', '110,91', '879', '1139,49', '18310', '552,57', '2010', '2656,68', '5370', '1310', '500', '2467,33', '904,08', '879,74', '1597,92', '957,59', '3850', '724,93', '2310', '1830', '2250', '1127,76', '1319,56', '1670', '1750', '1208,09', '499,69', '2202,69', '2349,51', '1889,43', '1697,22', '2005,15', '580', '1804,9', '2800', '2270', '1730', '2810', '1860', '660,86', '2190', '2201,11', '4290', '1670,18', '1761,03', '3600', '3110', '1930,47', '1601,63', '331', '2080', '2002,45', '0,04', '2796,66', '1259,1', '2178', '1910', '2130', '901,64', '2154,02', '1144,98', '1439,94', '605,32', '1260,55', '1324,5', '1299,55', '4000', '605,59', '2500', '1010,55', '3540', '724,38', '887,79', '2265', '849,07', '4001,34', '1798,49', '1290', '1380', '1530', '2220', '5550', '4050', '1230,63', '2740', '5320', '553', '1320', '1180', '4370', '3820', '497,62', '990', '642,31', '862,5', '1210', '1720', '1479,51', '1563,45', '489,13', '473,16', '1015', '2450', '1387,3', '2142,2', '300', '2530', '1046,01', '5830', '3150', '572,22', '988,85', '631', '1650,53', '1731,06', '6260', '1740,19', '1247,92', '3080', '177,34', '768,97', '1439,9', '3202,2', '1957,21', '2580', '1489,13', '1733,88', '4300', '1102,7', '1068,47', '1477,37', '3520', '6660', '134,78', '816,83', '1706,3', '1539,13', '5048,19', '4530', '3570', '937,6', '3716,35', '650', '1150', '62,46', '5076,65', '7010', '1260', '828,51', '2127,1', '1040', '2370', '3390', '609,52', '1880,59', '478,13', '2860', '699,78', '856,3', '2642,83', '1539,2', '2262,12', '670', '762,93', '910', '2650', '470', '1230', '5110', '5397,15', '3240', '1249,61', '2880', '4020', '6500', '603,55', '2258,3', '1930', '360', '619,73', '3020', '1760', '4880', '289,02', '2409,01', '778,32', '2547,85', '5160', '1599,9', '2680', '2090', '1070,05', '2598,9', '578,3', '917,57', '875,09', '1500', '2379,46', '4830', '2040', '2365,47', '3140', '5603,82', '2660', '589,45', '1105,07', '1459,99', '1990', '1309,89', '400', '647,42', '859,92', '880,2', '6200', '14990', '5698,46', '3018,62', '3460', '1581,82', '1700', '2930', '3910', '2372,77', '1848,05', '3201,95', '1154,9', '94,89', '2361,22', '783', '687,11', '1426,72', '1614,36', '4240', '797,16', '2247,51', '1740', '3768,7', '780', '2150', '600', '1280', '324,16', '957,63', '4055,03', '560', '1742,41', '1116,49', '800', '1793,66', '620', '516,18', '5140', '3509,22', '1190', '4260', '2350', '2820', '568,7', '2590', '918,28', '1931,44', '1270', '3050', '2375,59', '2940', '559,94', '684,89', '4565', '2064,03', '849,91', '3914,24', '530', '678,2', '2110', '3971,6', '1966,99', '4940', '1110,39', '3111,86', '3590', '3106,29', '1325,63', '3400', '2699,88', '2700', '3120', '2630', '2300', '979,63', '660', '2030', '2816,25', '1222,06', '4600', '2059,46', '3172,83', '2429,09', '6041,86', '2260', '4200', '830,53', '954,65', '1050', '3539,82', '1029,75', '1387,15', '3450', '997,66', '269,51', '535,53', '860', '8020', '3762,5', '6070', '1909,16', '2184,66', '63,31', '1410', '756,1', '850', '2013,19', '975', '630', '1672,88', '1056,64', '5269,78', '3702,8', '2200', '1710', '1790', '6310', '3433,42', '224,59', '4920', '3635,77', '2290', '0,71', '2020', '1580', '2707,25', '1300', '1179,86', '791,56', '1828,89', '2441,4', '1070', '2088,86', '2160', '429,11', '1833,77', '4070', '3470', '1160', '437,26', '1002,22', '2570', '1330', '4030', '310', '2890', '948,58', '1519,64', '5428,62', '2620', '2492,54', '961,94', '4620', '3300', '2560', '710', '1478,49', '598,5', '3700', '1960', '7670', '3880', '5075,99', '1370,25', '1800', '1292,59', '6133,41', '4140', '600,93', '1288,63', '760', '2060', '2170', '588,13', '2058,71', '846,74', '669,12', '3750', '4120', '3127,19', '1751,37', '837,48', '630,49', '2220,72', '1283,93', '1851,55', '1288,7', '1030', '2989,98', '849,19', '5580', '1200,99', '2840', '2343,41', '1200', '1259,39', '440', '1387,47', '502,1', '2679,82', '1086,57', '1509,44', '1880', '804,32', '2430', '327,98', '1768,07', '4960', '3530', '3237,94', '836,6', '1093,75', '5030', '1427,4', '990,85', '6490', '1402,43', '1680', '970', '3480', '3100', '1540', '574,21', '830', '1090,8', '3420', '4650', '2406,8', '740', '940', '1939,61', '3760', '2524,28', '2158,72', '1359,6', '370', '3490', '790', '1317,06', '863,68', '115,65', '1097,86', '883,33', '549,88', '2120', '1059,47', '3964,85', '5780', '3303,2', '2230', '2520', '2969,75', '51,8', '658,42', '3970', '2480', '1593,76', '1468,38', '4770', '830,7', '2568,45', '2900', '908,78', '9280', '1749,69', '3920', '980', '700', '856,64', '714', '4190', '367,35', '3620', '4550', '5470', '2549,52', '2293,65', '3959', '680', '750', '5872,64', '1860,72', '1300,16', '1066', '1900', '1950', '2044,32', '3230', '1810', '1452', '789,23', '1374,28', '918,55', '2629,87', '4320', '726,57', '3870,25', '2970', '2100', '3900', '613,21', '1894,04', '4660', '1160,96', '3200', '5394,29', '2990', '2782,93', '1490', '1780', '2589,2', '367', '777,84', '5650', '2647,9', '3330', '355,04', '3770', '1175,57', '1817,76', '3501,45', '1007,8', '2157,32', '9060', '1716,52', '1094', '1883,04', '2360', '5560', '2858,6', '560,36', '862,43', '2720', '1429,99', '136,76', '2410', '1980', '1430', '2950', '1408,32', '28012,2', '5040', '3440', '869,26', '2083', '640', '722,59', '3670', '3260', '2755,21', '13920', '3780,1', '1840', '1100', '3890', '1120', '1890', '3780', '4490', '668,53', '809,42', '1266,34', '4210', '3428,56', '821,93', '892,95', '7100', '1498,26', '1745,7', '3250', '2261,19', '1095,89', '1077,03', '2094,3', '1088,05', '1250', '0', '2390', '4690', '1060', '2477,64', '2790', '596,29', '604,76', '1845,5', '1792,71', '965,1', '1529,06', '2910', '1351,06', '370,77', '2750', '480', '2957,71', '3940', '1450,22', '540', '900', '663,05', '1335,47', '1630', '1405,53', '1639,99', '1391,47', '1138,2', '450', '894,29', '2770', '240', '270', '4884,95', '2050', '1113,74', '3510', '4760', '673,89', '6650', '1120,93', '870', '690', '2497', '3610', '490,88', '827,57', '3040', '651,16', '3630', '2368,84', '1841,9', '620,18', '769,43', '49,35', '2610', '966,07', '749,82', '4250', '100', '2280', '896,1', '826,77', '543,33', '3010', '3782,39', '1395,7', '2180', '682', '937,79', '1666,28', '2462,1', '1837,31', '1649,37', '2858,62', '446,31', '1130', '896,31', '1398,58', '366,58', '770', '2070', '3860,18', '954,34', '216,59', '2732,2', '1783,55', '1348,68', '1400', '2518,18', '2670', '1053', '590', '1683,49', '989,15', '3283,1', '918,83', '766,26', '1220', '1620', '1626,75', '1549,18', '567,51', '2398,8', '510', '2102,75', '444', '840,4', '1610', '87,39', '1350', '1006,59', '1098,8', '880', '823,54', '3060', '1090', '2573,8', '1370', '2710', '1538,69', '567,16', '4400', '730', '2779,4', '702,23', '4710', '1677,48', '1196,43', '946,49', '533', '1819,26', '3220', '2850', '2470', '5850', '1510', '818,74', '2742,25', '3357,52', '2380', '1480', '1590', '2112,17', '4508,2', '1729,66', '7890', '981,71', '2289,89', '736,3', '1080', '4310', '910,63', '2140', '1144,03', '14870', '3089,5', '2051,5', '890', '1371,86', '1450', '776,59', '4160', '2979,35', '407,8', '1119,27', '1296,74', '720', '1033', '2600', '2960', '1591,94', '1433,4', '1901,3', '4164,34', '1520', '2090,53', '430', '1312,44', '2503,19', '490', '1090,01', '758,95', '810', '920', '791,98', '457,71', '3840', '790,77', '1560', '892,18', '2569,05', '2340', '648,68', '673,02', '1686,92', '2400', '3560', '1344,33', '2618,78', '836,79', '2550', '1052,63', '554,36', '1600', '3000', '1296,4', '1240', '772,73', '3410', '1272,72', '4640', '3285,74', '4350', '7340', '1692,49', '1959,99', '578,06', '472,11', '802,36', '2509,38', '2980', '1420', '798,53', '2760', '2640', '4680', '2320', '2084,32'}\n",
      "\n",
      "\n",
      "==========\n",
      "sample\n",
      "{'train'}\n",
      "\n",
      "\n"
     ]
    }
   ],
   "source": [
    "for i in df_train.columns: # перебираем все столбцы\n",
    "    if str(df_train[i].dtype) == 'object': # если тип столбца - object\n",
    "        print('='*10)\n",
    "        print(i) # выводим название столбца\n",
    "        print(set(df_train[i])) # выводим все его значения (но делаем set - чтоб значения не повторялись)\n",
    "        print('\\n') # выводим пустую строку"
   ]
  },
  {
   "cell_type": "markdown",
   "metadata": {
    "collapsed": true
   },
   "source": [
    "Mожно заметить что некоторые переменные, которые обозначены как строки (например PERSONAL_INCOME) на самом деле числа, но по какой-то причине были распознаны как строки\n",
    "\n",
    "Причина же что использовалась запятая для разделения не целой части числа.."
   ]
  },
  {
   "cell_type": "markdown",
   "metadata": {},
   "source": [
    "Перекодировать их можно например так:"
   ]
  },
  {
   "cell_type": "code",
   "execution_count": 11,
   "metadata": {},
   "outputs": [],
   "source": [
    "# df['PERSONAL_INCOME'] = df['PERSONAL_INCOME'].map(lambda x: x.replace(',', '.')).astype('float')"
   ]
  },
  {
   "cell_type": "code",
   "execution_count": 12,
   "metadata": {},
   "outputs": [],
   "source": [
    "for x in df.columns:\n",
    "    if str(df[x].dtype) == 'object':\n",
    "        if df[str(x)].str.isnumeric().median() == 1:\n",
    "            df[str(x)] = df[str(x)].map(lambda x: x.replace(',', '.')).astype('float')"
   ]
  },
  {
   "cell_type": "code",
   "execution_count": 13,
   "metadata": {},
   "outputs": [
    {
     "name": "stdout",
     "output_type": "stream",
     "text": [
      "<class 'pandas.core.frame.DataFrame'>\n",
      "RangeIndex: 30133 entries, 0 to 30132\n",
      "Data columns (total 53 columns):\n",
      "AGREEMENT_RK                  30133 non-null int64\n",
      "TARGET                        30133 non-null int64\n",
      "AGE                           30133 non-null int64\n",
      "SOCSTATUS_WORK_FL             30133 non-null int64\n",
      "SOCSTATUS_PENS_FL             30133 non-null int64\n",
      "GENDER                        30133 non-null int64\n",
      "CHILD_TOTAL                   30133 non-null int64\n",
      "DEPENDANTS                    30133 non-null int64\n",
      "EDUCATION                     30133 non-null object\n",
      "MARITAL_STATUS                30133 non-null object\n",
      "GEN_INDUSTRY                  27420 non-null object\n",
      "GEN_TITLE                     27420 non-null object\n",
      "ORG_TP_STATE                  27420 non-null object\n",
      "ORG_TP_FCAPITAL               27425 non-null object\n",
      "JOB_DIR                       27420 non-null object\n",
      "FAMILY_INCOME                 30133 non-null object\n",
      "PERSONAL_INCOME               30133 non-null float64\n",
      "REG_ADDRESS_PROVINCE          30133 non-null object\n",
      "FACT_ADDRESS_PROVINCE         30133 non-null object\n",
      "POSTAL_ADDRESS_PROVINCE       30133 non-null object\n",
      "TP_PROVINCE                   29543 non-null object\n",
      "REGION_NM                     30131 non-null object\n",
      "REG_FACT_FL                   30133 non-null int64\n",
      "FACT_POST_FL                  30133 non-null int64\n",
      "REG_POST_FL                   30133 non-null int64\n",
      "REG_FACT_POST_FL              30133 non-null int64\n",
      "REG_FACT_POST_TP_FL           30133 non-null int64\n",
      "FL_PRESENCE_FL                30133 non-null int64\n",
      "OWN_AUTO                      30133 non-null int64\n",
      "AUTO_RUS_FL                   30133 non-null int64\n",
      "HS_PRESENCE_FL                30133 non-null int64\n",
      "COT_PRESENCE_FL               30133 non-null int64\n",
      "GAR_PRESENCE_FL               30133 non-null int64\n",
      "LAND_PRESENCE_FL              30133 non-null int64\n",
      "CREDIT                        30133 non-null float64\n",
      "TERM                          30133 non-null int64\n",
      "FST_PAYMENT                   30133 non-null float64\n",
      "DL_DOCUMENT_FL                30133 non-null int64\n",
      "GPF_DOCUMENT_FL               30133 non-null int64\n",
      "FACT_LIVING_TERM              30133 non-null int64\n",
      "WORK_TIME                     27416 non-null float64\n",
      "FACT_PHONE_FL                 30133 non-null int64\n",
      "REG_PHONE_FL                  30133 non-null int64\n",
      "GEN_PHONE_FL                  30133 non-null int64\n",
      "LOAN_NUM_TOTAL                30133 non-null int64\n",
      "LOAN_NUM_CLOSED               30133 non-null int64\n",
      "LOAN_NUM_PAYM                 30133 non-null int64\n",
      "LOAN_DLQ_NUM                  30133 non-null int64\n",
      "LOAN_MAX_DLQ                  30133 non-null int64\n",
      "LOAN_AVG_DLQ_AMT              30133 non-null float64\n",
      "LOAN_MAX_DLQ_AMT              30133 non-null float64\n",
      "PREVIOUS_CARD_NUM_UTILIZED    600 non-null float64\n",
      "sample                        30133 non-null object\n",
      "dtypes: float64(7), int64(32), object(14)\n",
      "memory usage: 12.2+ MB\n"
     ]
    }
   ],
   "source": [
    "df.info()"
   ]
  },
  {
   "cell_type": "markdown",
   "metadata": {},
   "source": [
    "Такой эффект наблюдается в столбцах `PERSONAL_INCOME`, `CREDIT`, `FST_PAYMENT`, `LOAN_AVG_DLQ_AMT`, `LOAN_MAX_DLQ_AMT`"
   ]
  },
  {
   "cell_type": "markdown",
   "metadata": {},
   "source": [
    "### Теперь ваше небольшое исследование"
   ]
  },
  {
   "cell_type": "markdown",
   "metadata": {
    "collapsed": true
   },
   "source": [
    "#### Задание 1. Есть ли пропуски в данных? Что с ними сделать?\n",
    "\n",
    "(единственного верного ответа нет - аргументируйте)"
   ]
  },
  {
   "cell_type": "code",
   "execution_count": 14,
   "metadata": {},
   "outputs": [
    {
     "data": {
      "text/plain": [
       "AGREEMENT_RK                  False\n",
       "TARGET                        False\n",
       "AGE                           False\n",
       "SOCSTATUS_WORK_FL             False\n",
       "SOCSTATUS_PENS_FL             False\n",
       "GENDER                        False\n",
       "CHILD_TOTAL                   False\n",
       "DEPENDANTS                    False\n",
       "EDUCATION                     False\n",
       "MARITAL_STATUS                False\n",
       "GEN_INDUSTRY                   True\n",
       "GEN_TITLE                      True\n",
       "ORG_TP_STATE                   True\n",
       "ORG_TP_FCAPITAL                True\n",
       "JOB_DIR                        True\n",
       "FAMILY_INCOME                 False\n",
       "PERSONAL_INCOME               False\n",
       "REG_ADDRESS_PROVINCE          False\n",
       "FACT_ADDRESS_PROVINCE         False\n",
       "POSTAL_ADDRESS_PROVINCE       False\n",
       "TP_PROVINCE                    True\n",
       "REGION_NM                      True\n",
       "REG_FACT_FL                   False\n",
       "FACT_POST_FL                  False\n",
       "REG_POST_FL                   False\n",
       "REG_FACT_POST_FL              False\n",
       "REG_FACT_POST_TP_FL           False\n",
       "FL_PRESENCE_FL                False\n",
       "OWN_AUTO                      False\n",
       "AUTO_RUS_FL                   False\n",
       "HS_PRESENCE_FL                False\n",
       "COT_PRESENCE_FL               False\n",
       "GAR_PRESENCE_FL               False\n",
       "LAND_PRESENCE_FL              False\n",
       "CREDIT                        False\n",
       "TERM                          False\n",
       "FST_PAYMENT                   False\n",
       "DL_DOCUMENT_FL                False\n",
       "GPF_DOCUMENT_FL               False\n",
       "FACT_LIVING_TERM              False\n",
       "WORK_TIME                      True\n",
       "FACT_PHONE_FL                 False\n",
       "REG_PHONE_FL                  False\n",
       "GEN_PHONE_FL                  False\n",
       "LOAN_NUM_TOTAL                False\n",
       "LOAN_NUM_CLOSED               False\n",
       "LOAN_NUM_PAYM                 False\n",
       "LOAN_DLQ_NUM                  False\n",
       "LOAN_MAX_DLQ                  False\n",
       "LOAN_AVG_DLQ_AMT              False\n",
       "LOAN_MAX_DLQ_AMT              False\n",
       "PREVIOUS_CARD_NUM_UTILIZED     True\n",
       "sample                        False\n",
       "dtype: bool"
      ]
     },
     "execution_count": 14,
     "metadata": {},
     "output_type": "execute_result"
    }
   ],
   "source": [
    "df.isnull().any()"
   ]
  },
  {
   "cell_type": "code",
   "execution_count": 15,
   "metadata": {},
   "outputs": [],
   "source": [
    "# В некоторых признаках присутствуют значения 'NaN', есть смысл заполнить эти пропуски\n",
    "# экстремальными значениями, к примеру с помощью -1."
   ]
  },
  {
   "cell_type": "markdown",
   "metadata": {
    "collapsed": true
   },
   "source": [
    "#### Задание 2. Есть ли категориальные признаки? Что с ними делать?"
   ]
  },
  {
   "cell_type": "code",
   "execution_count": 16,
   "metadata": {},
   "outputs": [
    {
     "name": "stdout",
     "output_type": "stream",
     "text": [
      "TARGET\n",
      "SOCSTATUS_WORK_FL\n",
      "SOCSTATUS_PENS_FL\n",
      "GENDER\n",
      "DEPENDANTS\n",
      "EDUCATION\n",
      "MARITAL_STATUS\n",
      "ORG_TP_STATE\n",
      "ORG_TP_FCAPITAL\n",
      "FAMILY_INCOME\n",
      "REG_FACT_FL\n",
      "FACT_POST_FL\n",
      "REG_POST_FL\n",
      "REG_FACT_POST_FL\n",
      "REG_FACT_POST_TP_FL\n",
      "FL_PRESENCE_FL\n",
      "OWN_AUTO\n",
      "AUTO_RUS_FL\n",
      "HS_PRESENCE_FL\n",
      "COT_PRESENCE_FL\n",
      "GAR_PRESENCE_FL\n",
      "LAND_PRESENCE_FL\n",
      "DL_DOCUMENT_FL\n",
      "GPF_DOCUMENT_FL\n",
      "FACT_PHONE_FL\n",
      "REG_PHONE_FL\n",
      "GEN_PHONE_FL\n",
      "LOAN_NUM_TOTAL\n",
      "LOAN_MAX_DLQ\n",
      "sample\n"
     ]
    }
   ],
   "source": [
    "''' Во-первых, имеются категориальные признаки, которые нужно конвертировать из текстового\n",
    "    вида в числовой.\n",
    "    Во-вторых, есть категориальные признаки в числовом виде и их разбивка по категориям \n",
    "    зависит от выставленной границы (treshold, см. ниже).\n",
    "'''\n",
    "\n",
    "treshold = 10 # Количество уникальных значений, по которому определяем \"категориальность\" \n",
    "              # признака\n",
    "for x in df.columns:\n",
    "    if (len(np.unique(list(df[str(x)])))) < treshold:\n",
    "        print(x)"
   ]
  },
  {
   "cell_type": "markdown",
   "metadata": {},
   "source": [
    "#### Задание 3. Фунция предобработки"
   ]
  },
  {
   "cell_type": "markdown",
   "metadata": {},
   "source": [
    "Напишите функцию, которая бы\n",
    "\n",
    "* Удаляло идентификатор `AGREEMENT_RK`\n",
    "* Избавлялась от проблем с '.' и ',' в стобцах PERSONAL_INCOME, CREDIT, FST_PAYMENT, LOAN_AVG_DLQ_AMT, LOAN_MAX_DLQ_AMT\n",
    "* Что-то делала с пропусками\n",
    "* Кодировала категориальные признаки\n",
    "\n",
    "В результате, ваш датафрейм должен содержать только числа и не содержать пропусков!"
   ]
  },
  {
   "cell_type": "code",
   "execution_count": 17,
   "metadata": {},
   "outputs": [],
   "source": [
    "from sklearn.preprocessing import LabelEncoder\n",
    "le = LabelEncoder()\n",
    "\n",
    "def preproc_data(df_input):\n",
    "    df_output = df_input.copy()\n",
    "    \n",
    "    # Удаляем идентификатор AGREEMENT_RK\n",
    "    df_output.drop('AGREEMENT_RK', axis=1, inplace=True)\n",
    "    \n",
    "    # Меняем ',' на '.' и конвертируем в числа стринги, с которыми это возможно сделать\n",
    "    for x in df_output.columns:\n",
    "        if str(df_output[x].dtype) == 'object':\n",
    "            if df_output[str(x)].str.isnumeric().median() == 1:\n",
    "                df_output[str(x)] = df_output[str(x)].map(lambda x: x.replace(',', '.')).astype('float')\n",
    "    \n",
    "    # С помощью One-Hot-Encoding раскладываем категориальные признаки с текстом \n",
    "    # (для удобства добавляем префиксы)\n",
    "    for x in df_output.columns:\n",
    "        if df_output[str(x)].dtypes == 'object' and str(x) != 'sample':\n",
    "            dn = pd.get_dummies(df_output[str(x)], prefix=str(x))\n",
    "            df_output = df_output.join(dn).drop(str(x), axis=1)\n",
    "            \n",
    "    # Заполняем оставшиеся 'NaN' значениями -1\n",
    "    df_output = df_output.fillna(-1)\n",
    "    \n",
    "    return df_output"
   ]
  },
  {
   "cell_type": "code",
   "execution_count": 18,
   "metadata": {},
   "outputs": [],
   "source": [
    "df_preproc = df.pipe(preproc_data)\n",
    "\n",
    "df_train_preproc = df_preproc.query('sample == \"train\"')\n",
    "df_train_preproc = df_train_preproc.drop(['sample'], axis=1)\n",
    "df_test_preproc = df_preproc.query('sample == \"test\"')\n",
    "df_test_preproc = df_test_preproc.drop(['sample'], axis=1)\n",
    "# Вдобавок дропнул технический столбец 'sample'"
   ]
  },
  {
   "cell_type": "code",
   "execution_count": 19,
   "metadata": {},
   "outputs": [
    {
     "data": {
      "text/plain": [
       "((15223, 443), (14910, 443))"
      ]
     },
     "execution_count": 19,
     "metadata": {},
     "output_type": "execute_result"
    }
   ],
   "source": [
    "df_train_preproc.shape, df_test_preproc.shape"
   ]
  },
  {
   "cell_type": "code",
   "execution_count": 20,
   "metadata": {},
   "outputs": [
    {
     "data": {
      "text/html": [
       "<div>\n",
       "<style>\n",
       "    .dataframe thead tr:only-child th {\n",
       "        text-align: right;\n",
       "    }\n",
       "\n",
       "    .dataframe thead th {\n",
       "        text-align: left;\n",
       "    }\n",
       "\n",
       "    .dataframe tbody tr th {\n",
       "        vertical-align: top;\n",
       "    }\n",
       "</style>\n",
       "<table border=\"1\" class=\"dataframe\">\n",
       "  <thead>\n",
       "    <tr style=\"text-align: right;\">\n",
       "      <th></th>\n",
       "      <th>TARGET</th>\n",
       "      <th>AGE</th>\n",
       "      <th>SOCSTATUS_WORK_FL</th>\n",
       "      <th>SOCSTATUS_PENS_FL</th>\n",
       "      <th>GENDER</th>\n",
       "      <th>CHILD_TOTAL</th>\n",
       "      <th>DEPENDANTS</th>\n",
       "      <th>PERSONAL_INCOME</th>\n",
       "      <th>REG_FACT_FL</th>\n",
       "      <th>FACT_POST_FL</th>\n",
       "      <th>...</th>\n",
       "      <th>REGION_NM_ДАЛЬНЕВОСТОЧНЫЙ</th>\n",
       "      <th>REGION_NM_ЗАПАДНО-СИБИРСКИЙ</th>\n",
       "      <th>REGION_NM_ПОВОЛЖСКИЙ</th>\n",
       "      <th>REGION_NM_ПРИВОЛЖСКИЙ</th>\n",
       "      <th>REGION_NM_СЕВЕРО-ЗАПАДНЫЙ</th>\n",
       "      <th>REGION_NM_УРАЛЬСКИЙ</th>\n",
       "      <th>REGION_NM_ЦЕНТРАЛЬНЫЙ 1</th>\n",
       "      <th>REGION_NM_ЦЕНТРАЛЬНЫЙ 2</th>\n",
       "      <th>REGION_NM_ЦЕНТРАЛЬНЫЙ ОФИС</th>\n",
       "      <th>REGION_NM_ЮЖНЫЙ</th>\n",
       "    </tr>\n",
       "  </thead>\n",
       "  <tbody>\n",
       "    <tr>\n",
       "      <th>0</th>\n",
       "      <td>0</td>\n",
       "      <td>30</td>\n",
       "      <td>1</td>\n",
       "      <td>0</td>\n",
       "      <td>1</td>\n",
       "      <td>1</td>\n",
       "      <td>1</td>\n",
       "      <td>7000.0</td>\n",
       "      <td>0</td>\n",
       "      <td>1</td>\n",
       "      <td>...</td>\n",
       "      <td>0</td>\n",
       "      <td>0</td>\n",
       "      <td>0</td>\n",
       "      <td>0</td>\n",
       "      <td>0</td>\n",
       "      <td>0</td>\n",
       "      <td>0</td>\n",
       "      <td>0</td>\n",
       "      <td>0</td>\n",
       "      <td>0</td>\n",
       "    </tr>\n",
       "    <tr>\n",
       "      <th>1</th>\n",
       "      <td>0</td>\n",
       "      <td>48</td>\n",
       "      <td>0</td>\n",
       "      <td>1</td>\n",
       "      <td>1</td>\n",
       "      <td>0</td>\n",
       "      <td>0</td>\n",
       "      <td>4100.0</td>\n",
       "      <td>1</td>\n",
       "      <td>1</td>\n",
       "      <td>...</td>\n",
       "      <td>0</td>\n",
       "      <td>0</td>\n",
       "      <td>0</td>\n",
       "      <td>0</td>\n",
       "      <td>0</td>\n",
       "      <td>0</td>\n",
       "      <td>1</td>\n",
       "      <td>0</td>\n",
       "      <td>0</td>\n",
       "      <td>0</td>\n",
       "    </tr>\n",
       "    <tr>\n",
       "      <th>2</th>\n",
       "      <td>0</td>\n",
       "      <td>35</td>\n",
       "      <td>1</td>\n",
       "      <td>0</td>\n",
       "      <td>0</td>\n",
       "      <td>1</td>\n",
       "      <td>0</td>\n",
       "      <td>40000.0</td>\n",
       "      <td>1</td>\n",
       "      <td>1</td>\n",
       "      <td>...</td>\n",
       "      <td>0</td>\n",
       "      <td>0</td>\n",
       "      <td>0</td>\n",
       "      <td>0</td>\n",
       "      <td>0</td>\n",
       "      <td>0</td>\n",
       "      <td>0</td>\n",
       "      <td>1</td>\n",
       "      <td>0</td>\n",
       "      <td>0</td>\n",
       "    </tr>\n",
       "    <tr>\n",
       "      <th>3</th>\n",
       "      <td>0</td>\n",
       "      <td>22</td>\n",
       "      <td>1</td>\n",
       "      <td>0</td>\n",
       "      <td>0</td>\n",
       "      <td>0</td>\n",
       "      <td>0</td>\n",
       "      <td>20000.0</td>\n",
       "      <td>1</td>\n",
       "      <td>1</td>\n",
       "      <td>...</td>\n",
       "      <td>0</td>\n",
       "      <td>0</td>\n",
       "      <td>0</td>\n",
       "      <td>0</td>\n",
       "      <td>0</td>\n",
       "      <td>0</td>\n",
       "      <td>0</td>\n",
       "      <td>0</td>\n",
       "      <td>0</td>\n",
       "      <td>0</td>\n",
       "    </tr>\n",
       "    <tr>\n",
       "      <th>4</th>\n",
       "      <td>0</td>\n",
       "      <td>27</td>\n",
       "      <td>1</td>\n",
       "      <td>0</td>\n",
       "      <td>1</td>\n",
       "      <td>2</td>\n",
       "      <td>2</td>\n",
       "      <td>17000.0</td>\n",
       "      <td>1</td>\n",
       "      <td>1</td>\n",
       "      <td>...</td>\n",
       "      <td>1</td>\n",
       "      <td>0</td>\n",
       "      <td>0</td>\n",
       "      <td>0</td>\n",
       "      <td>0</td>\n",
       "      <td>0</td>\n",
       "      <td>0</td>\n",
       "      <td>0</td>\n",
       "      <td>0</td>\n",
       "      <td>0</td>\n",
       "    </tr>\n",
       "  </tbody>\n",
       "</table>\n",
       "<p>5 rows × 444 columns</p>\n",
       "</div>"
      ],
      "text/plain": [
       "   TARGET  AGE  SOCSTATUS_WORK_FL  SOCSTATUS_PENS_FL  GENDER  CHILD_TOTAL  \\\n",
       "0       0   30                  1                  0       1            1   \n",
       "1       0   48                  0                  1       1            0   \n",
       "2       0   35                  1                  0       0            1   \n",
       "3       0   22                  1                  0       0            0   \n",
       "4       0   27                  1                  0       1            2   \n",
       "\n",
       "   DEPENDANTS  PERSONAL_INCOME  REG_FACT_FL  FACT_POST_FL       ...         \\\n",
       "0           1           7000.0            0             1       ...          \n",
       "1           0           4100.0            1             1       ...          \n",
       "2           0          40000.0            1             1       ...          \n",
       "3           0          20000.0            1             1       ...          \n",
       "4           2          17000.0            1             1       ...          \n",
       "\n",
       "   REGION_NM_ДАЛЬНЕВОСТОЧНЫЙ  REGION_NM_ЗАПАДНО-СИБИРСКИЙ  \\\n",
       "0                          0                            0   \n",
       "1                          0                            0   \n",
       "2                          0                            0   \n",
       "3                          0                            0   \n",
       "4                          1                            0   \n",
       "\n",
       "   REGION_NM_ПОВОЛЖСКИЙ  REGION_NM_ПРИВОЛЖСКИЙ  REGION_NM_СЕВЕРО-ЗАПАДНЫЙ  \\\n",
       "0                     0                      0                          0   \n",
       "1                     0                      0                          0   \n",
       "2                     0                      0                          0   \n",
       "3                     0                      0                          0   \n",
       "4                     0                      0                          0   \n",
       "\n",
       "   REGION_NM_УРАЛЬСКИЙ  REGION_NM_ЦЕНТРАЛЬНЫЙ 1  REGION_NM_ЦЕНТРАЛЬНЫЙ 2  \\\n",
       "0                    0                        0                        0   \n",
       "1                    0                        1                        0   \n",
       "2                    0                        0                        1   \n",
       "3                    0                        0                        0   \n",
       "4                    0                        0                        0   \n",
       "\n",
       "   REGION_NM_ЦЕНТРАЛЬНЫЙ ОФИС  REGION_NM_ЮЖНЫЙ  \n",
       "0                           0                0  \n",
       "1                           0                0  \n",
       "2                           0                0  \n",
       "3                           0                0  \n",
       "4                           0                0  \n",
       "\n",
       "[5 rows x 444 columns]"
      ]
     },
     "execution_count": 20,
     "metadata": {},
     "output_type": "execute_result"
    }
   ],
   "source": [
    "df_preproc.head()"
   ]
  },
  {
   "cell_type": "markdown",
   "metadata": {},
   "source": [
    "#### Задание 4. Отделите целевую переменную и остальные признаки\n",
    "\n",
    "Должно получится:\n",
    "* 2 матрицы: X и X_test\n",
    "* 2 вектора: y и y_test"
   ]
  },
  {
   "cell_type": "code",
   "execution_count": 21,
   "metadata": {},
   "outputs": [],
   "source": [
    "X = df_train_preproc.drop(['TARGET'], axis=1)\n",
    "X_test_holdout = df_test_preproc.drop(['TARGET'], axis=1)\n",
    "y = df_train_preproc['TARGET']\n",
    "y_test_holdout = df_test_preproc['TARGET']"
   ]
  },
  {
   "cell_type": "markdown",
   "metadata": {},
   "source": [
    "#### Задание 5. Обучение и оценка качества разных моделей"
   ]
  },
  {
   "cell_type": "code",
   "execution_count": 22,
   "metadata": {},
   "outputs": [],
   "source": [
    "from sklearn.model_selection import train_test_split\n",
    "\n",
    "X = df_preproc.drop(['TARGET', 'sample'], axis=1)\n",
    "y = df_preproc['TARGET']\n",
    "X_train, X_test, y_train, y_test = train_test_split(X, y, \n",
    "                                                    test_size=0.3, random_state=42)"
   ]
  },
  {
   "cell_type": "code",
   "execution_count": 23,
   "metadata": {},
   "outputs": [
    {
     "data": {
      "text/plain": [
       "((21093, 442), (9040, 442), (21093,), (9040,), (14910, 442), (14910,))"
      ]
     },
     "execution_count": 23,
     "metadata": {},
     "output_type": "execute_result"
    }
   ],
   "source": [
    "X_train.shape, X_test.shape, y_train.shape, y_test.shape, \\\n",
    "X_test_holdout.shape, y_test_holdout.shape"
   ]
  },
  {
   "cell_type": "code",
   "execution_count": 24,
   "metadata": {},
   "outputs": [],
   "source": [
    "# Попробовать следующие \"черные ящики\": интерфейс одинаковый \n",
    "# Постепенно мы узнаем, что они делают а сейчас учимся понимать какой работает качественнее\n",
    "#     fit, \n",
    "#     predict, \n",
    "#     predict_proba\n",
    "\n",
    "from sklearn.tree import DecisionTreeClassifier\n",
    "from sklearn.ensemble import RandomForestClassifier\n",
    "from sklearn.linear_model import LogisticRegression"
   ]
  },
  {
   "cell_type": "code",
   "execution_count": 25,
   "metadata": {},
   "outputs": [],
   "source": [
    "# Посчитать метрики стандартные\n",
    "# accuracy, precision, recall\n",
    "\n",
    "from sklearn.metrics import accuracy_score, precision_score, recall_score"
   ]
  },
  {
   "cell_type": "code",
   "execution_count": 26,
   "metadata": {},
   "outputs": [
    {
     "name": "stdout",
     "output_type": "stream",
     "text": [
      "Decision Tree results: \n",
      "-----------------------------------\n",
      "Accuracy Score: 0.806194690265\n",
      "Precision Score: 0.176585365854\n",
      "Recall Score: 0.166207529844\n"
     ]
    }
   ],
   "source": [
    "tree = DecisionTreeClassifier()\n",
    "tree_model = tree.fit(X_train, y_train)\n",
    "tree_predicted = tree_model.predict(X_test)\n",
    "\n",
    "tree_ac = accuracy_score(y_test, tree_predicted)\n",
    "tree_ps = precision_score(y_test, tree_predicted)\n",
    "tree_re = recall_score(y_test, tree_predicted)\n",
    "\n",
    "print('Decision Tree results: ', '-' * 35,\n",
    "      'Accuracy Score: ' + str(tree_ac), \n",
    "      'Precision Score: ' + str(tree_ps),\n",
    "      'Recall Score: ' + str(tree_re),\n",
    "      sep='\\n')"
   ]
  },
  {
   "cell_type": "code",
   "execution_count": 27,
   "metadata": {},
   "outputs": [
    {
     "name": "stdout",
     "output_type": "stream",
     "text": [
      "Random Forest results: \n",
      "-----------------------------------\n",
      "Accuracy Score: 0.877212389381\n",
      "Precision Score: 0.2\n",
      "Recall Score: 0.00642791551882\n"
     ]
    }
   ],
   "source": [
    "rforest = RandomForestClassifier()\n",
    "rforest_model = rforest.fit(X_train, y_train)\n",
    "rforest_predicted = rforest_model.predict(X_test)\n",
    "\n",
    "rforest_ac = accuracy_score(y_test, rforest_predicted)\n",
    "rforest_ps = precision_score(y_test, rforest_predicted)\n",
    "rforest_re = recall_score(y_test, rforest_predicted)\n",
    "\n",
    "print('Random Forest results: ', '-' * 35,\n",
    "      'Accuracy Score: ' + str(rforest_ac), \n",
    "      'Precision Score: ' + str(rforest_ps),\n",
    "      'Recall Score: ' + str(rforest_re),\n",
    "      sep='\\n')"
   ]
  },
  {
   "cell_type": "code",
   "execution_count": 28,
   "metadata": {},
   "outputs": [
    {
     "name": "stdout",
     "output_type": "stream",
     "text": [
      "Logistic Regression results: \n",
      "-----------------------------------\n",
      "Accuracy Score: 0.87842920354\n",
      "Precision Score: 0.142857142857\n",
      "Recall Score: 0.00183654729109\n"
     ]
    }
   ],
   "source": [
    "logit = LogisticRegression()\n",
    "logit_model = logit.fit(X_train, y_train)\n",
    "\n",
    "logit_predicted = logit_model.predict(X_test)\n",
    "\n",
    "logit_ac = accuracy_score(y_test, logit_predicted)\n",
    "logit_ps = precision_score(y_test, logit_predicted)\n",
    "logit_re = recall_score(y_test, logit_predicted)\n",
    "\n",
    "print('Logistic Regression results: ', '-' * 35,\n",
    "      'Accuracy Score: ' + str(logit_ac), \n",
    "      'Precision Score: ' + str(logit_ps),\n",
    "      'Recall Score: ' + str(logit_re),\n",
    "      sep='\\n')"
   ]
  },
  {
   "cell_type": "code",
   "execution_count": 29,
   "metadata": {},
   "outputs": [],
   "source": [
    "# Визуалищировать эти метрики всех моделей на одном графике (чтоб визуально сравнить)\n",
    "# Возможно вас удивит качество! Но задача подобрана специально ;) Такое качество тоже бывает\n"
   ]
  },
  {
   "cell_type": "code",
   "execution_count": 30,
   "metadata": {},
   "outputs": [],
   "source": [
    "from sklearn.metrics import precision_recall_curve"
   ]
  },
  {
   "cell_type": "code",
   "execution_count": 31,
   "metadata": {},
   "outputs": [
    {
     "name": "stderr",
     "output_type": "stream",
     "text": [
      "/Library/Frameworks/Python.framework/Versions/3.6/lib/python3.6/site-packages/sklearn/linear_model/base.py:340: RuntimeWarning: overflow encountered in exp\n",
      "  np.exp(prob, prob)\n"
     ]
    },
    {
     "data": {
      "image/png": "[encoded data removed]",
      "text/plain": [
       "<matplotlib.figure.Figure at 0x115c3da58>"
      ]
     },
     "metadata": {},
     "output_type": "display_data"
    }
   ],
   "source": [
    "tree_precision, tree_recall, _ = \\\n",
    "precision_recall_curve(y_test, tree_model.predict_proba(X_test)[:,1])\n",
    "\n",
    "rforest_precision, rforest_recall, _ = \\\n",
    "precision_recall_curve(y_test, rforest_model.predict_proba(X_test)[:,1])\n",
    "                                                                   \n",
    "logit_precision, logit_recall, _ = \\\n",
    "precision_recall_curve(y_test, logit_model.predict_proba(X_test)[:,1])\n",
    "\n",
    "plt.xlabel('Recall')\n",
    "plt.ylabel('Precision')\n",
    "plt.step(tree_recall, tree_precision, label='Decision Tree')\n",
    "plt.step(rforest_recall, rforest_precision, label='Random Forest')\n",
    "plt.step(logit_recall, logit_precision, label='Logistic Regression')\n",
    "plt.legend()\n",
    "plt.title('ROC PR Curve')\n",
    "plt.show()"
   ]
  },
  {
   "cell_type": "code",
   "execution_count": 32,
   "metadata": {},
   "outputs": [
    {
     "name": "stderr",
     "output_type": "stream",
     "text": [
      "/Library/Frameworks/Python.framework/Versions/3.6/lib/python3.6/site-packages/sklearn/linear_model/base.py:340: RuntimeWarning: overflow encountered in exp\n",
      "  np.exp(prob, prob)\n"
     ]
    },
    {
     "data": {
      "image/png": "[encoded data removed]",
      "text/plain": [
       "<matplotlib.figure.Figure at 0x11f426208>"
      ]
     },
     "metadata": {},
     "output_type": "display_data"
    }
   ],
   "source": [
    "# Потроить roc-кривые всех можелей на одном графике\n",
    "# Вывести roc_auc каждой моделе\n",
    "# Подпишите оси и линии\n",
    "\n",
    "from sklearn.metrics import roc_curve, roc_auc_score\n",
    "\n",
    "tree_fpr, tree_tpr, _ = roc_curve(y_test, tree_model.predict_proba(X_test)[:,1])\n",
    "plt.plot(tree_fpr, tree_tpr, label='Decision Tree')\n",
    "\n",
    "rforest_fpr, rforest_tpr, _ = roc_curve(y_test, rforest_model.predict_proba(X_test)[:,1])\n",
    "plt.plot(rforest_fpr, rforest_tpr, label='Random Forest')\n",
    "\n",
    "logit_fpr, logit_tpr, _ = roc_curve(y_test, logit_model.predict_proba(X_test)[:,1])\n",
    "plt.plot(logit_fpr, logit_tpr, label='Logistic Regression')\n",
    "\n",
    "plt.xlabel('False Positive Rate')\n",
    "plt.ylabel('True Positive Rate')\n",
    "plt.legend()\n",
    "plt.title('ROC AUC Curve')\n",
    "plt.show();"
   ]
  },
  {
   "cell_type": "code",
   "execution_count": 33,
   "metadata": {},
   "outputs": [],
   "source": [
    "from sklearn.model_selection import cross_val_score\n",
    "# Сделать k-fold (10 фолдов) кросс-валидацию каждой модели\n",
    "# И посчитать средний roc_auc\n",
    "\n",
    "tree_cv = cross_val_score(tree_model, X_train, y_train, cv=10)\n",
    "rforest_cv = cross_val_score(rforest_model, X_train, y_train, cv=10)\n",
    "logit_cv = cross_val_score(logit_model, X_train, y_train, cv=10)"
   ]
  },
  {
   "cell_type": "code",
   "execution_count": 34,
   "metadata": {},
   "outputs": [
    {
     "name": "stdout",
     "output_type": "stream",
     "text": [
      "CV results for Decision Tree:\n",
      "-----------------------------------\n",
      "[ 0.80663507  0.80521327  0.81611374  0.80891418  0.78899953  0.78283547\n",
      "  0.8018018   0.79184448  0.81365576  0.79943101]\n",
      "\n",
      "CV results for Random Forest:\n",
      "-----------------------------------\n",
      "[ 0.88151659  0.88056872  0.87962085  0.88051209  0.88193457  0.88240872\n",
      "  0.88003793  0.88051209  0.87908962  0.88098625]\n",
      "\n",
      "CV results for Logistic Regression:\n",
      "-----------------------------------\n",
      "[ 0.88151659  0.88246445  0.88246445  0.88193457  0.88288288  0.88240872\n",
      "  0.88193457  0.88288288  0.88288288  0.88288288]\n",
      "\n"
     ]
    }
   ],
   "source": [
    "print('CV results for Decision Tree:', '-' * 35,\n",
    "      tree_cv, sep='\\n', end='\\n\\n')\n",
    "print('CV results for Random Forest:', '-' * 35,\n",
    "      rforest_cv, sep='\\n', end='\\n\\n')\n",
    "print('CV results for Logistic Regression:', '-' * 35,\n",
    "      logit_cv, sep='\\n', end='\\n\\n')"
   ]
  },
  {
   "cell_type": "code",
   "execution_count": 35,
   "metadata": {},
   "outputs": [
    {
     "name": "stdout",
     "output_type": "stream",
     "text": [
      "ROC AUC results for Decision Tree:\n",
      "-----------------------------------\n",
      "0.530028680027\n",
      "\n",
      "ROC AUC results for Random Forest:\n",
      "-----------------------------------\n",
      "0.609817316555\n",
      "\n",
      "ROC AUC results for Logistic Regression:\n",
      "-----------------------------------\n",
      "0.65738587785\n",
      "\n"
     ]
    },
    {
     "name": "stderr",
     "output_type": "stream",
     "text": [
      "/Library/Frameworks/Python.framework/Versions/3.6/lib/python3.6/site-packages/sklearn/linear_model/base.py:340: RuntimeWarning: overflow encountered in exp\n",
      "  np.exp(prob, prob)\n"
     ]
    }
   ],
   "source": [
    "print('ROC AUC results for Decision Tree:', '-' * 35,\n",
    "      roc_auc_score(y_test, tree_model.predict_proba(X_test)[:, 1]), \n",
    "      sep='\\n', end='\\n\\n')\n",
    "print('ROC AUC results for Random Forest:', '-' * 35,\n",
    "      roc_auc_score(y_test, rforest_model.predict_proba(X_test)[:, 1]), \n",
    "      sep='\\n', end='\\n\\n')\n",
    "print('ROC AUC results for Logistic Regression:', '-' * 35,\n",
    "      roc_auc_score(y_test, logit_model.predict_proba(X_test)[:, 1]), \n",
    "      sep='\\n', end='\\n\\n')"
   ]
  },
  {
   "cell_type": "code",
   "execution_count": 36,
   "metadata": {},
   "outputs": [
    {
     "name": "stdout",
     "output_type": "stream",
     "text": [
      "Probs for X_test_holdout:  [[ 0.87785881  0.12214119]\n",
      " [ 0.93077831  0.06922169]\n",
      " [ 0.81459679  0.18540321]\n",
      " ..., \n",
      " [ 0.85161315  0.14838685]\n",
      " [ 0.91889214  0.08110786]\n",
      " [ 0.8597007   0.1402993 ]]\n",
      "\n"
     ]
    }
   ],
   "source": [
    "# Взять лучшую модель и сделать предсказания (с вероятностями (!!!)) для test выборки\n",
    "print('Probs for X_test_holdout: ', logit_model.predict_proba(X_test_holdout), end='\\n\\n')"
   ]
  },
  {
   "cell_type": "code",
   "execution_count": 37,
   "metadata": {},
   "outputs": [
    {
     "name": "stdout",
     "output_type": "stream",
     "text": [
      "ROC AUC results for Logistic Regression (Holdout Test): \n",
      "-----------------------------------\n",
      "0.660515197568\n",
      "\n"
     ]
    },
    {
     "data": {
      "image/png": "[encoded data removed]",
      "text/plain": [
       "<matplotlib.figure.Figure at 0x11f42bcf8>"
      ]
     },
     "metadata": {},
     "output_type": "display_data"
    }
   ],
   "source": [
    "# Померить roc_auc на тесте\n",
    "# Вывести текстом и на графике =)\n",
    "\n",
    "print('ROC AUC results for Logistic Regression (Holdout Test): ', '-' * 35,\n",
    "      roc_auc_score(y_test_holdout, logit_model.predict_proba(X_test_holdout)[:, 1]), \n",
    "      sep='\\n', end='\\n\\n')\n",
    "\n",
    "x, y, _ = roc_curve(y_test_holdout, logit_model.predict_proba(X_test_holdout)[:,1])\n",
    "plt.plot(x, y)\n",
    "plt.title('ROC AUC results for Logistic Regression (Holdout Test)')\n",
    "plt.show();"
   ]
  },
  {
   "cell_type": "markdown",
   "metadata": {},
   "source": [
    "### Больше обязательных заданий нет, но ниже вы можете провести исследование, поиграться с данными\n",
    "### Это возможность написать код, который я посмотрю и в случае чего откомметирую. ;)\n",
    "### Это не оценивается и остается на ваше усмотрение. Просто дополнительная возможность"
   ]
  },
  {
   "cell_type": "code",
   "execution_count": 38,
   "metadata": {},
   "outputs": [
    {
     "name": "stderr",
     "output_type": "stream",
     "text": [
      "/Library/Frameworks/Python.framework/Versions/3.6/lib/python3.6/site-packages/sklearn/linear_model/base.py:340: RuntimeWarning: overflow encountered in exp\n",
      "  np.exp(prob, prob)\n"
     ]
    }
   ],
   "source": [
    "c_range = np.linspace(0.05, 5, 60)\n",
    "cy = []\n",
    "\n",
    "for c in c_range:\n",
    "    logit = LogisticRegression(C=c, penalty='l1', max_iter=300)\n",
    "    logit_model = logit.fit(X_train, y_train)\n",
    "    cy.append(roc_auc_score(y_test, logit_model.predict_proba(X_test)[:, 1]))"
   ]
  },
  {
   "cell_type": "code",
   "execution_count": 39,
   "metadata": {},
   "outputs": [
    {
     "data": {
      "text/plain": [
       "Text(0,0.5,'ROC AUC Score')"
      ]
     },
     "execution_count": 39,
     "metadata": {},
     "output_type": "execute_result"
    },
    {
     "data": {
      "image/png": "[encoded data removed]",
      "text/plain": [
       "<matplotlib.figure.Figure at 0x11a13c278>"
      ]
     },
     "metadata": {},
     "output_type": "display_data"
    }
   ],
   "source": [
    "plt.plot(c_range, cy);\n",
    "plt.xlabel('C value')\n",
    "plt.ylabel('ROC AUC Score')"
   ]
  },
  {
   "cell_type": "code",
   "execution_count": 40,
   "metadata": {},
   "outputs": [
    {
     "name": "stderr",
     "output_type": "stream",
     "text": [
      "/Library/Frameworks/Python.framework/Versions/3.6/lib/python3.6/site-packages/sklearn/linear_model/logistic.py:1228: UserWarning: 'n_jobs' > 1 does not have any effect when 'solver' is set to 'liblinear'. Got 'n_jobs' = -1.\n",
      "  \" = {}.\".format(self.n_jobs))\n",
      "/Library/Frameworks/Python.framework/Versions/3.6/lib/python3.6/site-packages/sklearn/linear_model/base.py:340: RuntimeWarning: overflow encountered in exp\n",
      "  np.exp(prob, prob)\n"
     ]
    }
   ],
   "source": [
    "c_range = np.linspace(0.05, 0.5, 30)\n",
    "cy = []\n",
    "\n",
    "for c in c_range:\n",
    "    logit = LogisticRegression(C=c, penalty='l1', max_iter=300, n_jobs=-1)\n",
    "    logit_model = logit.fit(X_train, y_train)\n",
    "    cy.append(roc_auc_score(y_test, logit_model.predict_proba(X_test)[:, 1]))"
   ]
  },
  {
   "cell_type": "code",
   "execution_count": 41,
   "metadata": {},
   "outputs": [
    {
     "data": {
      "text/plain": [
       "Text(0,0.5,'ROC AUC Score')"
      ]
     },
     "execution_count": 41,
     "metadata": {},
     "output_type": "execute_result"
    },
    {
     "data": {
      "image/png": "[encoded data removed]",
      "text/plain": [
       "<matplotlib.figure.Figure at 0x11fb08518>"
      ]
     },
     "metadata": {},
     "output_type": "display_data"
    }
   ],
   "source": [
    "plt.plot(c_range, cy);\n",
    "plt.xlabel('C value')\n",
    "plt.ylabel('ROC AUC Score')"
   ]
  },
  {
   "cell_type": "code",
   "execution_count": 42,
   "metadata": {},
   "outputs": [
    {
     "name": "stderr",
     "output_type": "stream",
     "text": [
      "/Library/Frameworks/Python.framework/Versions/3.6/lib/python3.6/site-packages/sklearn/linear_model/base.py:340: RuntimeWarning: overflow encountered in exp\n",
      "  np.exp(prob, prob)\n"
     ]
    }
   ],
   "source": [
    "for c in [50,100,150,200,250,300,350,400]:\n",
    "    logit = LogisticRegression(C=0.18, penalty='l1', max_iter=c)\n",
    "    logit_model = logit.fit(X_train, y_train)\n",
    "    cy.append(roc_auc_score(y_test, logit_model.predict_proba(X_test)[:, 1]))"
   ]
  },
  {
   "cell_type": "code",
   "execution_count": 43,
   "metadata": {},
   "outputs": [
    {
     "name": "stdout",
     "output_type": "stream",
     "text": [
      "Tuned Logit results for X_test: \n",
      "0.714575032566\n"
     ]
    }
   ],
   "source": [
    "# Теперь мы знаем оптимальный C, применяем к тестовой выборке\n",
    "\n",
    "logit = LogisticRegression(C=0.18, penalty='l1', max_iter=300, random_state=173)\n",
    "logit_model = logit.fit(X_train, y_train)\n",
    "print('Tuned Logit results for X_test: ',\n",
    "     roc_auc_score(y_test_holdout, logit_model.predict_proba(X_test_holdout)[:, 1]),\n",
    "     sep='\\n')\n"
   ]
  },
  {
   "cell_type": "code",
   "execution_count": null,
   "metadata": {},
   "outputs": [],
   "source": []
  }
 ],
 "metadata": {
  "anaconda-cloud": {},
  "kernelspec": {
   "display_name": "Python 3",
   "language": "python",
   "name": "python3"
  },
  "language_info": {
   "codemirror_mode": {
    "name": "ipython",
    "version": 3
   },
   "file_extension": ".py",
   "mimetype": "text/x-python",
   "name": "python",
   "nbconvert_exporter": "python",
   "pygments_lexer": "ipython3",
   "version": "3.6.1"
  },
  "toc": {
   "base_numbering": 1,
   "nav_menu": {
    "height": "31px",
    "width": "253px"
   },
   "number_sections": false,
   "sideBar": true,
   "skip_h1_title": false,
   "title_cell": "Table of Contents",
   "title_sidebar": "Contents",
   "toc_cell": false,
   "toc_position": {},
   "toc_section_display": "block",
   "toc_window_display": false
  }
 },
 "nbformat": 4,
 "nbformat_minor": 2
}
