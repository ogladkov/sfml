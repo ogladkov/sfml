{
 "cells": [
  {
   "cell_type": "markdown",
   "metadata": {},
   "source": [
    "# SkillFactory\n",
    "## Введение в ML, введение в sklearn"
   ]
  },
  {
   "cell_type": "markdown",
   "metadata": {},
   "source": [
    "В этом задании мы с вами рассмотрим данные с конкурса [Задача предсказания отклика клиентов ОТП Банка](http://www.machinelearning.ru/wiki/index.php?title=%D0%97%D0%B0%D0%B4%D0%B0%D1%87%D0%B0_%D0%BF%D1%80%D0%B5%D0%B4%D1%81%D0%BA%D0%B0%D0%B7%D0%B0%D0%BD%D0%B8%D1%8F_%D0%BE%D1%82%D0%BA%D0%BB%D0%B8%D0%BA%D0%B0_%D0%BA%D0%BB%D0%B8%D0%B5%D0%BD%D1%82%D0%BE%D0%B2_%D0%9E%D0%A2%D0%9F_%D0%91%D0%B0%D0%BD%D0%BA%D0%B0_%28%D0%BA%D0%BE%D0%BD%D0%BA%D1%83%D1%80%D1%81%29)"
   ]
  },
  {
   "cell_type": "code",
   "execution_count": 2,
   "metadata": {},
   "outputs": [],
   "source": [
    "import pandas as pd\n",
    "import numpy as np\n",
    "import matplotlib.pyplot as plt\n",
    "\n",
    "%matplotlib inline\n",
    "\n",
    "plt.style.use('ggplot')\n",
    "plt.rcParams['figure.figsize'] = (12,5)"
   ]
  },
  {
   "cell_type": "markdown",
   "metadata": {},
   "source": [
    "### Грузим данные"
   ]
  },
  {
   "cell_type": "markdown",
   "metadata": {},
   "source": [
    "Считаем описание данных"
   ]
  },
  {
   "cell_type": "code",
   "execution_count": 3,
   "metadata": {},
   "outputs": [],
   "source": [
    "df_descr = pd.read_csv('data/otp_description.csv', sep='\\t', encoding='utf8')"
   ]
  },
  {
   "cell_type": "code",
   "execution_count": 4,
   "metadata": {},
   "outputs": [
    {
     "data": {
      "text/html": [
       "<div>\n",
       "<style scoped>\n",
       "    .dataframe tbody tr th:only-of-type {\n",
       "        vertical-align: middle;\n",
       "    }\n",
       "\n",
       "    .dataframe tbody tr th {\n",
       "        vertical-align: top;\n",
       "    }\n",
       "\n",
       "    .dataframe thead th {\n",
       "        text-align: right;\n",
       "    }\n",
       "</style>\n",
       "<table border=\"1\" class=\"dataframe\">\n",
       "  <thead>\n",
       "    <tr style=\"text-align: right;\">\n",
       "      <th></th>\n",
       "      <th>ПОЛЕ</th>\n",
       "      <th>ОПИСАНИЕ</th>\n",
       "    </tr>\n",
       "  </thead>\n",
       "  <tbody>\n",
       "    <tr>\n",
       "      <th>0</th>\n",
       "      <td>AGREEMENT_RK</td>\n",
       "      <td>уникальный идентификатор объекта в выборке</td>\n",
       "    </tr>\n",
       "    <tr>\n",
       "      <th>1</th>\n",
       "      <td>AGE</td>\n",
       "      <td>возраст клиента</td>\n",
       "    </tr>\n",
       "    <tr>\n",
       "      <th>2</th>\n",
       "      <td>SOCSTATUS_WORK_FL</td>\n",
       "      <td>социальный статус клиента относительно работы ...</td>\n",
       "    </tr>\n",
       "    <tr>\n",
       "      <th>3</th>\n",
       "      <td>SOCSTATUS_PENS_FL</td>\n",
       "      <td>социальный статус клиента относительно пенсии ...</td>\n",
       "    </tr>\n",
       "    <tr>\n",
       "      <th>4</th>\n",
       "      <td>GENDER</td>\n",
       "      <td>пол клиента (1- женщины, 0-мужчины)</td>\n",
       "    </tr>\n",
       "    <tr>\n",
       "      <th>5</th>\n",
       "      <td>CHILD_TOTAL</td>\n",
       "      <td>количество детей клиента</td>\n",
       "    </tr>\n",
       "    <tr>\n",
       "      <th>6</th>\n",
       "      <td>DEPENDANTS</td>\n",
       "      <td>количество иждивенцев клиента</td>\n",
       "    </tr>\n",
       "    <tr>\n",
       "      <th>7</th>\n",
       "      <td>EDUCATION</td>\n",
       "      <td>образование</td>\n",
       "    </tr>\n",
       "    <tr>\n",
       "      <th>8</th>\n",
       "      <td>MARITAL_STATUS</td>\n",
       "      <td>семейное положение</td>\n",
       "    </tr>\n",
       "    <tr>\n",
       "      <th>9</th>\n",
       "      <td>GEN_INDUSTRY</td>\n",
       "      <td>отрасль работы клиента</td>\n",
       "    </tr>\n",
       "    <tr>\n",
       "      <th>10</th>\n",
       "      <td>GEN_TITLE</td>\n",
       "      <td>должность</td>\n",
       "    </tr>\n",
       "    <tr>\n",
       "      <th>11</th>\n",
       "      <td>ORG_TP_STATE</td>\n",
       "      <td>форма собственности компании</td>\n",
       "    </tr>\n",
       "    <tr>\n",
       "      <th>12</th>\n",
       "      <td>ORG_TP_FCAPITAL</td>\n",
       "      <td>отношение к иностранному капиталу</td>\n",
       "    </tr>\n",
       "    <tr>\n",
       "      <th>13</th>\n",
       "      <td>JOB_DIR</td>\n",
       "      <td>направление деятельности в нутри компании</td>\n",
       "    </tr>\n",
       "    <tr>\n",
       "      <th>14</th>\n",
       "      <td>FAMILY_INCOME</td>\n",
       "      <td>семейный доход (несколько категорий)</td>\n",
       "    </tr>\n",
       "    <tr>\n",
       "      <th>15</th>\n",
       "      <td>PERSONAL_INCOME</td>\n",
       "      <td>личный доход клиента (в рублях)</td>\n",
       "    </tr>\n",
       "    <tr>\n",
       "      <th>16</th>\n",
       "      <td>REG_ADDRESS_PROVINCE</td>\n",
       "      <td>область регистрации клиента</td>\n",
       "    </tr>\n",
       "    <tr>\n",
       "      <th>17</th>\n",
       "      <td>FACT_ADDRESS_PROVINCE</td>\n",
       "      <td>область фактического пребывания клиента</td>\n",
       "    </tr>\n",
       "    <tr>\n",
       "      <th>18</th>\n",
       "      <td>POSTAL_ADDRESS_PROVINCE</td>\n",
       "      <td>почтовый адрес область</td>\n",
       "    </tr>\n",
       "    <tr>\n",
       "      <th>19</th>\n",
       "      <td>TP_PROVINCE</td>\n",
       "      <td>область торговой точки, где клиент брал послед...</td>\n",
       "    </tr>\n",
       "    <tr>\n",
       "      <th>20</th>\n",
       "      <td>REGION_NM</td>\n",
       "      <td>регион РФ</td>\n",
       "    </tr>\n",
       "    <tr>\n",
       "      <th>21</th>\n",
       "      <td>REG_FACT_FL</td>\n",
       "      <td>адрес регистрации и адрес фактического пребыва...</td>\n",
       "    </tr>\n",
       "    <tr>\n",
       "      <th>22</th>\n",
       "      <td>FACT_POST_FL</td>\n",
       "      <td>адрес фактического пребывания клиента и его по...</td>\n",
       "    </tr>\n",
       "    <tr>\n",
       "      <th>23</th>\n",
       "      <td>REG_POST_FL</td>\n",
       "      <td>адрес регистрации клиента и его почтовый адрес...</td>\n",
       "    </tr>\n",
       "    <tr>\n",
       "      <th>24</th>\n",
       "      <td>REG_FACT_POST_FL</td>\n",
       "      <td>почтовый, фактический и адрес регистрации совп...</td>\n",
       "    </tr>\n",
       "    <tr>\n",
       "      <th>25</th>\n",
       "      <td>REG_FACT_POST_TP_FL</td>\n",
       "      <td>область регистрации, фактического пребывания, ...</td>\n",
       "    </tr>\n",
       "    <tr>\n",
       "      <th>26</th>\n",
       "      <td>FL_PRESENCE_FL</td>\n",
       "      <td>наличие в собственности квартиры (1 - есть, 0 ...</td>\n",
       "    </tr>\n",
       "    <tr>\n",
       "      <th>27</th>\n",
       "      <td>OWN_AUTO</td>\n",
       "      <td>кол-во автомобилей в собственности</td>\n",
       "    </tr>\n",
       "    <tr>\n",
       "      <th>28</th>\n",
       "      <td>AUTO_RUS_FL</td>\n",
       "      <td>наличие в собственности автомобиля российского...</td>\n",
       "    </tr>\n",
       "    <tr>\n",
       "      <th>29</th>\n",
       "      <td>HS_PRESENCE_FL</td>\n",
       "      <td>наличие в собственности загородного дома (1 - ...</td>\n",
       "    </tr>\n",
       "    <tr>\n",
       "      <th>30</th>\n",
       "      <td>COT_PRESENCE_FL</td>\n",
       "      <td>наличие в собственности котеджа (1 - есть, 0 -...</td>\n",
       "    </tr>\n",
       "    <tr>\n",
       "      <th>31</th>\n",
       "      <td>GAR_PRESENCE_FL</td>\n",
       "      <td>наличие в собственности гаража (1 - есть, 0 - ...</td>\n",
       "    </tr>\n",
       "    <tr>\n",
       "      <th>32</th>\n",
       "      <td>LAND_PRESENCE_FL</td>\n",
       "      <td>наличие в собственности земельного участка (1 ...</td>\n",
       "    </tr>\n",
       "    <tr>\n",
       "      <th>33</th>\n",
       "      <td>CREDIT</td>\n",
       "      <td>сумма последнего кредита клиента (в рублях)</td>\n",
       "    </tr>\n",
       "    <tr>\n",
       "      <th>34</th>\n",
       "      <td>TERM</td>\n",
       "      <td>срок кредита</td>\n",
       "    </tr>\n",
       "    <tr>\n",
       "      <th>35</th>\n",
       "      <td>FST_PAYMENT</td>\n",
       "      <td>первоначальный взнос (в рублях)</td>\n",
       "    </tr>\n",
       "    <tr>\n",
       "      <th>36</th>\n",
       "      <td>DL_DOCUMENT_FL</td>\n",
       "      <td>в анкете клиент указал водительское удостовере...</td>\n",
       "    </tr>\n",
       "    <tr>\n",
       "      <th>37</th>\n",
       "      <td>GPF_DOCUMENT_FL</td>\n",
       "      <td>в анкете клиен указал ГПФ (1 - указал, 0 - не ...</td>\n",
       "    </tr>\n",
       "    <tr>\n",
       "      <th>38</th>\n",
       "      <td>FACT_LIVING_TERM</td>\n",
       "      <td>количество месяцев проживания по месту фактиче...</td>\n",
       "    </tr>\n",
       "    <tr>\n",
       "      <th>39</th>\n",
       "      <td>WORK_TIME</td>\n",
       "      <td>время работы на текущем месте (в месяцах)</td>\n",
       "    </tr>\n",
       "    <tr>\n",
       "      <th>40</th>\n",
       "      <td>FACT_PHONE_FL</td>\n",
       "      <td>наличие в заявке телефона по фактическому мест...</td>\n",
       "    </tr>\n",
       "    <tr>\n",
       "      <th>41</th>\n",
       "      <td>REG_PHONE_FL</td>\n",
       "      <td>наличие в заявке телефона по месту регистрации</td>\n",
       "    </tr>\n",
       "    <tr>\n",
       "      <th>42</th>\n",
       "      <td>GEN_PHONE_FL</td>\n",
       "      <td>наличие в заявке рабочего телефона</td>\n",
       "    </tr>\n",
       "    <tr>\n",
       "      <th>43</th>\n",
       "      <td>LOAN_NUM_TOTAL</td>\n",
       "      <td>количество ссуд клиента</td>\n",
       "    </tr>\n",
       "    <tr>\n",
       "      <th>44</th>\n",
       "      <td>LOAN_NUM_CLOSED</td>\n",
       "      <td>количество погашенных ссуд клиента</td>\n",
       "    </tr>\n",
       "    <tr>\n",
       "      <th>45</th>\n",
       "      <td>LOAN_NUM_PAYM</td>\n",
       "      <td>количество платежей, которые сделал клиент</td>\n",
       "    </tr>\n",
       "    <tr>\n",
       "      <th>46</th>\n",
       "      <td>LOAN_DLQ_NUM</td>\n",
       "      <td>количество просрочек, допущенных клиентом</td>\n",
       "    </tr>\n",
       "    <tr>\n",
       "      <th>47</th>\n",
       "      <td>LOAN_MAX_DLQ</td>\n",
       "      <td>номер максимальной просрочки, допущенной клиентом</td>\n",
       "    </tr>\n",
       "    <tr>\n",
       "      <th>48</th>\n",
       "      <td>LOAN_AVG_DLQ_AMT</td>\n",
       "      <td>средняя сумма просрочки (в рублях)</td>\n",
       "    </tr>\n",
       "    <tr>\n",
       "      <th>49</th>\n",
       "      <td>LOAN_MAX_DLQ_AMT</td>\n",
       "      <td>максимальная сумма просрочки (в рублях)</td>\n",
       "    </tr>\n",
       "    <tr>\n",
       "      <th>50</th>\n",
       "      <td>PREVIOUS_CARD_NUM_UTILIZED</td>\n",
       "      <td>количество уже утилизированных карт ( если пус...</td>\n",
       "    </tr>\n",
       "  </tbody>\n",
       "</table>\n",
       "</div>"
      ],
      "text/plain": [
       "                          ПОЛЕ  \\\n",
       "0                 AGREEMENT_RK   \n",
       "1                          AGE   \n",
       "2            SOCSTATUS_WORK_FL   \n",
       "3            SOCSTATUS_PENS_FL   \n",
       "4                       GENDER   \n",
       "5                  CHILD_TOTAL   \n",
       "6                   DEPENDANTS   \n",
       "7                    EDUCATION   \n",
       "8               MARITAL_STATUS   \n",
       "9                 GEN_INDUSTRY   \n",
       "10                   GEN_TITLE   \n",
       "11                ORG_TP_STATE   \n",
       "12             ORG_TP_FCAPITAL   \n",
       "13                     JOB_DIR   \n",
       "14               FAMILY_INCOME   \n",
       "15             PERSONAL_INCOME   \n",
       "16        REG_ADDRESS_PROVINCE   \n",
       "17       FACT_ADDRESS_PROVINCE   \n",
       "18     POSTAL_ADDRESS_PROVINCE   \n",
       "19                 TP_PROVINCE   \n",
       "20                   REGION_NM   \n",
       "21                 REG_FACT_FL   \n",
       "22                FACT_POST_FL   \n",
       "23                 REG_POST_FL   \n",
       "24            REG_FACT_POST_FL   \n",
       "25         REG_FACT_POST_TP_FL   \n",
       "26              FL_PRESENCE_FL   \n",
       "27                    OWN_AUTO   \n",
       "28                 AUTO_RUS_FL   \n",
       "29              HS_PRESENCE_FL   \n",
       "30             COT_PRESENCE_FL   \n",
       "31             GAR_PRESENCE_FL   \n",
       "32            LAND_PRESENCE_FL   \n",
       "33                      CREDIT   \n",
       "34                        TERM   \n",
       "35                 FST_PAYMENT   \n",
       "36              DL_DOCUMENT_FL   \n",
       "37             GPF_DOCUMENT_FL   \n",
       "38            FACT_LIVING_TERM   \n",
       "39                   WORK_TIME   \n",
       "40               FACT_PHONE_FL   \n",
       "41                REG_PHONE_FL   \n",
       "42                GEN_PHONE_FL   \n",
       "43              LOAN_NUM_TOTAL   \n",
       "44             LOAN_NUM_CLOSED   \n",
       "45               LOAN_NUM_PAYM   \n",
       "46                LOAN_DLQ_NUM   \n",
       "47                LOAN_MAX_DLQ   \n",
       "48            LOAN_AVG_DLQ_AMT   \n",
       "49            LOAN_MAX_DLQ_AMT   \n",
       "50  PREVIOUS_CARD_NUM_UTILIZED   \n",
       "\n",
       "                                             ОПИСАНИЕ  \n",
       "0          уникальный идентификатор объекта в выборке  \n",
       "1                                     возраст клиента  \n",
       "2   социальный статус клиента относительно работы ...  \n",
       "3   социальный статус клиента относительно пенсии ...  \n",
       "4                 пол клиента (1- женщины, 0-мужчины)  \n",
       "5                            количество детей клиента  \n",
       "6                       количество иждивенцев клиента  \n",
       "7                                         образование  \n",
       "8                                  семейное положение  \n",
       "9                              отрасль работы клиента  \n",
       "10                                          должность  \n",
       "11                       форма собственности компании  \n",
       "12                  отношение к иностранному капиталу  \n",
       "13          направление деятельности в нутри компании  \n",
       "14               семейный доход (несколько категорий)  \n",
       "15                    личный доход клиента (в рублях)  \n",
       "16                        область регистрации клиента  \n",
       "17            область фактического пребывания клиента  \n",
       "18                             почтовый адрес область  \n",
       "19  область торговой точки, где клиент брал послед...  \n",
       "20                                          регион РФ  \n",
       "21  адрес регистрации и адрес фактического пребыва...  \n",
       "22  адрес фактического пребывания клиента и его по...  \n",
       "23  адрес регистрации клиента и его почтовый адрес...  \n",
       "24  почтовый, фактический и адрес регистрации совп...  \n",
       "25  область регистрации, фактического пребывания, ...  \n",
       "26  наличие в собственности квартиры (1 - есть, 0 ...  \n",
       "27                кол-во автомобилей в собственности   \n",
       "28  наличие в собственности автомобиля российского...  \n",
       "29  наличие в собственности загородного дома (1 - ...  \n",
       "30  наличие в собственности котеджа (1 - есть, 0 -...  \n",
       "31  наличие в собственности гаража (1 - есть, 0 - ...  \n",
       "32  наличие в собственности земельного участка (1 ...  \n",
       "33        сумма последнего кредита клиента (в рублях)  \n",
       "34                                       срок кредита  \n",
       "35                    первоначальный взнос (в рублях)  \n",
       "36  в анкете клиент указал водительское удостовере...  \n",
       "37  в анкете клиен указал ГПФ (1 - указал, 0 - не ...  \n",
       "38  количество месяцев проживания по месту фактиче...  \n",
       "39          время работы на текущем месте (в месяцах)  \n",
       "40  наличие в заявке телефона по фактическому мест...  \n",
       "41     наличие в заявке телефона по месту регистрации  \n",
       "42                 наличие в заявке рабочего телефона  \n",
       "43                            количество ссуд клиента  \n",
       "44                 количество погашенных ссуд клиента  \n",
       "45         количество платежей, которые сделал клиент  \n",
       "46          количество просрочек, допущенных клиентом  \n",
       "47  номер максимальной просрочки, допущенной клиентом  \n",
       "48                 средняя сумма просрочки (в рублях)  \n",
       "49            максимальная сумма просрочки (в рублях)  \n",
       "50  количество уже утилизированных карт ( если пус...  "
      ]
     },
     "execution_count": 4,
     "metadata": {},
     "output_type": "execute_result"
    }
   ],
   "source": [
    "df_descr"
   ]
  },
  {
   "cell_type": "markdown",
   "metadata": {},
   "source": [
    "Считаем обучающую выборки и тестовую (которую мы как бы не видим)"
   ]
  },
  {
   "cell_type": "code",
   "execution_count": 5,
   "metadata": {},
   "outputs": [],
   "source": [
    "df_train = pd.read_csv('data/otp_train.csv', sep='\\t', encoding='utf8')\n",
    "df_test = pd.read_csv('data/otp_test.csv', sep='\\t', encoding='utf8')"
   ]
  },
  {
   "cell_type": "code",
   "execution_count": 6,
   "metadata": {},
   "outputs": [
    {
     "data": {
      "text/html": [
       "<div>\n",
       "<style scoped>\n",
       "    .dataframe tbody tr th:only-of-type {\n",
       "        vertical-align: middle;\n",
       "    }\n",
       "\n",
       "    .dataframe tbody tr th {\n",
       "        vertical-align: top;\n",
       "    }\n",
       "\n",
       "    .dataframe thead th {\n",
       "        text-align: right;\n",
       "    }\n",
       "</style>\n",
       "<table border=\"1\" class=\"dataframe\">\n",
       "  <thead>\n",
       "    <tr style=\"text-align: right;\">\n",
       "      <th></th>\n",
       "      <th>AGREEMENT_RK</th>\n",
       "      <th>TARGET</th>\n",
       "      <th>AGE</th>\n",
       "      <th>SOCSTATUS_WORK_FL</th>\n",
       "      <th>SOCSTATUS_PENS_FL</th>\n",
       "      <th>GENDER</th>\n",
       "      <th>CHILD_TOTAL</th>\n",
       "      <th>DEPENDANTS</th>\n",
       "      <th>EDUCATION</th>\n",
       "      <th>MARITAL_STATUS</th>\n",
       "      <th>...</th>\n",
       "      <th>REG_PHONE_FL</th>\n",
       "      <th>GEN_PHONE_FL</th>\n",
       "      <th>LOAN_NUM_TOTAL</th>\n",
       "      <th>LOAN_NUM_CLOSED</th>\n",
       "      <th>LOAN_NUM_PAYM</th>\n",
       "      <th>LOAN_DLQ_NUM</th>\n",
       "      <th>LOAN_MAX_DLQ</th>\n",
       "      <th>LOAN_AVG_DLQ_AMT</th>\n",
       "      <th>LOAN_MAX_DLQ_AMT</th>\n",
       "      <th>PREVIOUS_CARD_NUM_UTILIZED</th>\n",
       "    </tr>\n",
       "  </thead>\n",
       "  <tbody>\n",
       "    <tr>\n",
       "      <th>0</th>\n",
       "      <td>59910150</td>\n",
       "      <td>0</td>\n",
       "      <td>49</td>\n",
       "      <td>1</td>\n",
       "      <td>0</td>\n",
       "      <td>1</td>\n",
       "      <td>2</td>\n",
       "      <td>1</td>\n",
       "      <td>Среднее специальное</td>\n",
       "      <td>Состою в браке</td>\n",
       "      <td>...</td>\n",
       "      <td>0</td>\n",
       "      <td>1</td>\n",
       "      <td>1</td>\n",
       "      <td>1</td>\n",
       "      <td>6</td>\n",
       "      <td>2</td>\n",
       "      <td>1</td>\n",
       "      <td>1580</td>\n",
       "      <td>1580</td>\n",
       "      <td>NaN</td>\n",
       "    </tr>\n",
       "    <tr>\n",
       "      <th>1</th>\n",
       "      <td>59910230</td>\n",
       "      <td>0</td>\n",
       "      <td>32</td>\n",
       "      <td>1</td>\n",
       "      <td>0</td>\n",
       "      <td>1</td>\n",
       "      <td>3</td>\n",
       "      <td>3</td>\n",
       "      <td>Среднее</td>\n",
       "      <td>Состою в браке</td>\n",
       "      <td>...</td>\n",
       "      <td>0</td>\n",
       "      <td>1</td>\n",
       "      <td>1</td>\n",
       "      <td>1</td>\n",
       "      <td>6</td>\n",
       "      <td>1</td>\n",
       "      <td>1</td>\n",
       "      <td>4020</td>\n",
       "      <td>4020</td>\n",
       "      <td>NaN</td>\n",
       "    </tr>\n",
       "    <tr>\n",
       "      <th>2</th>\n",
       "      <td>59910525</td>\n",
       "      <td>0</td>\n",
       "      <td>52</td>\n",
       "      <td>1</td>\n",
       "      <td>0</td>\n",
       "      <td>1</td>\n",
       "      <td>4</td>\n",
       "      <td>0</td>\n",
       "      <td>Неполное среднее</td>\n",
       "      <td>Состою в браке</td>\n",
       "      <td>...</td>\n",
       "      <td>0</td>\n",
       "      <td>1</td>\n",
       "      <td>2</td>\n",
       "      <td>1</td>\n",
       "      <td>11</td>\n",
       "      <td>0</td>\n",
       "      <td>0</td>\n",
       "      <td>0</td>\n",
       "      <td>0</td>\n",
       "      <td>NaN</td>\n",
       "    </tr>\n",
       "    <tr>\n",
       "      <th>3</th>\n",
       "      <td>59910803</td>\n",
       "      <td>0</td>\n",
       "      <td>39</td>\n",
       "      <td>1</td>\n",
       "      <td>0</td>\n",
       "      <td>1</td>\n",
       "      <td>1</td>\n",
       "      <td>1</td>\n",
       "      <td>Высшее</td>\n",
       "      <td>Состою в браке</td>\n",
       "      <td>...</td>\n",
       "      <td>1</td>\n",
       "      <td>1</td>\n",
       "      <td>1</td>\n",
       "      <td>1</td>\n",
       "      <td>6</td>\n",
       "      <td>3</td>\n",
       "      <td>1</td>\n",
       "      <td>1589,92333333333</td>\n",
       "      <td>1590</td>\n",
       "      <td>NaN</td>\n",
       "    </tr>\n",
       "    <tr>\n",
       "      <th>4</th>\n",
       "      <td>59911781</td>\n",
       "      <td>0</td>\n",
       "      <td>30</td>\n",
       "      <td>1</td>\n",
       "      <td>0</td>\n",
       "      <td>0</td>\n",
       "      <td>0</td>\n",
       "      <td>0</td>\n",
       "      <td>Среднее</td>\n",
       "      <td>Состою в браке</td>\n",
       "      <td>...</td>\n",
       "      <td>0</td>\n",
       "      <td>1</td>\n",
       "      <td>2</td>\n",
       "      <td>1</td>\n",
       "      <td>16</td>\n",
       "      <td>2</td>\n",
       "      <td>1</td>\n",
       "      <td>1152,15</td>\n",
       "      <td>2230</td>\n",
       "      <td>NaN</td>\n",
       "    </tr>\n",
       "  </tbody>\n",
       "</table>\n",
       "<p>5 rows × 52 columns</p>\n",
       "</div>"
      ],
      "text/plain": [
       "   AGREEMENT_RK  TARGET  AGE  SOCSTATUS_WORK_FL  SOCSTATUS_PENS_FL  GENDER  \\\n",
       "0      59910150       0   49                  1                  0       1   \n",
       "1      59910230       0   32                  1                  0       1   \n",
       "2      59910525       0   52                  1                  0       1   \n",
       "3      59910803       0   39                  1                  0       1   \n",
       "4      59911781       0   30                  1                  0       0   \n",
       "\n",
       "   CHILD_TOTAL  DEPENDANTS            EDUCATION  MARITAL_STATUS  \\\n",
       "0            2           1  Среднее специальное  Состою в браке   \n",
       "1            3           3              Среднее  Состою в браке   \n",
       "2            4           0     Неполное среднее  Состою в браке   \n",
       "3            1           1               Высшее  Состою в браке   \n",
       "4            0           0              Среднее  Состою в браке   \n",
       "\n",
       "             ...             REG_PHONE_FL GEN_PHONE_FL LOAN_NUM_TOTAL  \\\n",
       "0            ...                        0            1              1   \n",
       "1            ...                        0            1              1   \n",
       "2            ...                        0            1              2   \n",
       "3            ...                        1            1              1   \n",
       "4            ...                        0            1              2   \n",
       "\n",
       "  LOAN_NUM_CLOSED LOAN_NUM_PAYM LOAN_DLQ_NUM LOAN_MAX_DLQ  LOAN_AVG_DLQ_AMT  \\\n",
       "0               1             6            2            1              1580   \n",
       "1               1             6            1            1              4020   \n",
       "2               1            11            0            0                 0   \n",
       "3               1             6            3            1  1589,92333333333   \n",
       "4               1            16            2            1           1152,15   \n",
       "\n",
       "  LOAN_MAX_DLQ_AMT PREVIOUS_CARD_NUM_UTILIZED  \n",
       "0             1580                        NaN  \n",
       "1             4020                        NaN  \n",
       "2                0                        NaN  \n",
       "3             1590                        NaN  \n",
       "4             2230                        NaN  \n",
       "\n",
       "[5 rows x 52 columns]"
      ]
     },
     "execution_count": 6,
     "metadata": {},
     "output_type": "execute_result"
    }
   ],
   "source": [
    "df_train.head()"
   ]
  },
  {
   "cell_type": "markdown",
   "metadata": {},
   "source": [
    "## Объединим две выборки\n",
    "\n",
    "Так как пока мы пока не умеем работать sklearn  Pipeline, то для того, чтобы после предобработки столбцы в двух выборках находились на своих местах.\n",
    "\n",
    "Для того, чтобы в дальнейшем отделить их введем новый столбец \"sample\""
   ]
  },
  {
   "cell_type": "code",
   "execution_count": 7,
   "metadata": {},
   "outputs": [],
   "source": [
    "df_train.loc[:, 'sample'] = 'train'\n",
    "df_test.loc[:, 'sample'] = 'test'"
   ]
  },
  {
   "cell_type": "code",
   "execution_count": 8,
   "metadata": {},
   "outputs": [],
   "source": [
    "df = df_test.append(df_train).reset_index(drop=True)"
   ]
  },
  {
   "cell_type": "markdown",
   "metadata": {},
   "source": [
    "### Чуть-чуть посмотрим на данные"
   ]
  },
  {
   "cell_type": "markdown",
   "metadata": {
    "collapsed": true
   },
   "source": [
    "Посмотрим типы данных и их заполняемость"
   ]
  },
  {
   "cell_type": "code",
   "execution_count": 9,
   "metadata": {
    "scrolled": false
   },
   "outputs": [
    {
     "name": "stdout",
     "output_type": "stream",
     "text": [
      "<class 'pandas.core.frame.DataFrame'>\n",
      "RangeIndex: 30133 entries, 0 to 30132\n",
      "Data columns (total 53 columns):\n",
      "AGREEMENT_RK                  30133 non-null int64\n",
      "TARGET                        30133 non-null int64\n",
      "AGE                           30133 non-null int64\n",
      "SOCSTATUS_WORK_FL             30133 non-null int64\n",
      "SOCSTATUS_PENS_FL             30133 non-null int64\n",
      "GENDER                        30133 non-null int64\n",
      "CHILD_TOTAL                   30133 non-null int64\n",
      "DEPENDANTS                    30133 non-null int64\n",
      "EDUCATION                     30133 non-null object\n",
      "MARITAL_STATUS                30133 non-null object\n",
      "GEN_INDUSTRY                  27420 non-null object\n",
      "GEN_TITLE                     27420 non-null object\n",
      "ORG_TP_STATE                  27420 non-null object\n",
      "ORG_TP_FCAPITAL               27425 non-null object\n",
      "JOB_DIR                       27420 non-null object\n",
      "FAMILY_INCOME                 30133 non-null object\n",
      "PERSONAL_INCOME               30133 non-null object\n",
      "REG_ADDRESS_PROVINCE          30133 non-null object\n",
      "FACT_ADDRESS_PROVINCE         30133 non-null object\n",
      "POSTAL_ADDRESS_PROVINCE       30133 non-null object\n",
      "TP_PROVINCE                   29543 non-null object\n",
      "REGION_NM                     30131 non-null object\n",
      "REG_FACT_FL                   30133 non-null int64\n",
      "FACT_POST_FL                  30133 non-null int64\n",
      "REG_POST_FL                   30133 non-null int64\n",
      "REG_FACT_POST_FL              30133 non-null int64\n",
      "REG_FACT_POST_TP_FL           30133 non-null int64\n",
      "FL_PRESENCE_FL                30133 non-null int64\n",
      "OWN_AUTO                      30133 non-null int64\n",
      "AUTO_RUS_FL                   30133 non-null int64\n",
      "HS_PRESENCE_FL                30133 non-null int64\n",
      "COT_PRESENCE_FL               30133 non-null int64\n",
      "GAR_PRESENCE_FL               30133 non-null int64\n",
      "LAND_PRESENCE_FL              30133 non-null int64\n",
      "CREDIT                        30133 non-null object\n",
      "TERM                          30133 non-null int64\n",
      "FST_PAYMENT                   30133 non-null object\n",
      "DL_DOCUMENT_FL                30133 non-null int64\n",
      "GPF_DOCUMENT_FL               30133 non-null int64\n",
      "FACT_LIVING_TERM              30133 non-null int64\n",
      "WORK_TIME                     27416 non-null float64\n",
      "FACT_PHONE_FL                 30133 non-null int64\n",
      "REG_PHONE_FL                  30133 non-null int64\n",
      "GEN_PHONE_FL                  30133 non-null int64\n",
      "LOAN_NUM_TOTAL                30133 non-null int64\n",
      "LOAN_NUM_CLOSED               30133 non-null int64\n",
      "LOAN_NUM_PAYM                 30133 non-null int64\n",
      "LOAN_DLQ_NUM                  30133 non-null int64\n",
      "LOAN_MAX_DLQ                  30133 non-null int64\n",
      "LOAN_AVG_DLQ_AMT              30133 non-null object\n",
      "LOAN_MAX_DLQ_AMT              30133 non-null object\n",
      "PREVIOUS_CARD_NUM_UTILIZED    600 non-null float64\n",
      "sample                        30133 non-null object\n",
      "dtypes: float64(2), int64(32), object(19)\n",
      "memory usage: 12.2+ MB\n"
     ]
    }
   ],
   "source": [
    "df.info()"
   ]
  },
  {
   "cell_type": "markdown",
   "metadata": {
    "collapsed": true
   },
   "source": [
    "Видим, что часть данных - object, скорее всего стоки.\n",
    "\n",
    "\n",
    "Давайте выведем эти значения для каждого столбца"
   ]
  },
  {
   "cell_type": "code",
   "execution_count": 10,
   "metadata": {},
   "outputs": [
    {
     "data": {
      "text/html": [
       "<div>\n",
       "<style scoped>\n",
       "    .dataframe tbody tr th:only-of-type {\n",
       "        vertical-align: middle;\n",
       "    }\n",
       "\n",
       "    .dataframe tbody tr th {\n",
       "        vertical-align: top;\n",
       "    }\n",
       "\n",
       "    .dataframe thead th {\n",
       "        text-align: right;\n",
       "    }\n",
       "</style>\n",
       "<table border=\"1\" class=\"dataframe\">\n",
       "  <thead>\n",
       "    <tr style=\"text-align: right;\">\n",
       "      <th></th>\n",
       "      <th>AGREEMENT_RK</th>\n",
       "      <th>TARGET</th>\n",
       "      <th>AGE</th>\n",
       "      <th>SOCSTATUS_WORK_FL</th>\n",
       "      <th>SOCSTATUS_PENS_FL</th>\n",
       "      <th>GENDER</th>\n",
       "      <th>CHILD_TOTAL</th>\n",
       "      <th>DEPENDANTS</th>\n",
       "      <th>EDUCATION</th>\n",
       "      <th>MARITAL_STATUS</th>\n",
       "      <th>...</th>\n",
       "      <th>GEN_PHONE_FL</th>\n",
       "      <th>LOAN_NUM_TOTAL</th>\n",
       "      <th>LOAN_NUM_CLOSED</th>\n",
       "      <th>LOAN_NUM_PAYM</th>\n",
       "      <th>LOAN_DLQ_NUM</th>\n",
       "      <th>LOAN_MAX_DLQ</th>\n",
       "      <th>LOAN_AVG_DLQ_AMT</th>\n",
       "      <th>LOAN_MAX_DLQ_AMT</th>\n",
       "      <th>PREVIOUS_CARD_NUM_UTILIZED</th>\n",
       "      <th>sample</th>\n",
       "    </tr>\n",
       "  </thead>\n",
       "  <tbody>\n",
       "    <tr>\n",
       "      <th>0</th>\n",
       "      <td>59909969</td>\n",
       "      <td>0</td>\n",
       "      <td>30</td>\n",
       "      <td>1</td>\n",
       "      <td>0</td>\n",
       "      <td>1</td>\n",
       "      <td>1</td>\n",
       "      <td>1</td>\n",
       "      <td>Среднее специальное</td>\n",
       "      <td>Не состоял в браке</td>\n",
       "      <td>...</td>\n",
       "      <td>1</td>\n",
       "      <td>2</td>\n",
       "      <td>2</td>\n",
       "      <td>8</td>\n",
       "      <td>0</td>\n",
       "      <td>0</td>\n",
       "      <td>0</td>\n",
       "      <td>0</td>\n",
       "      <td>NaN</td>\n",
       "      <td>test</td>\n",
       "    </tr>\n",
       "    <tr>\n",
       "      <th>1</th>\n",
       "      <td>59910420</td>\n",
       "      <td>0</td>\n",
       "      <td>48</td>\n",
       "      <td>0</td>\n",
       "      <td>1</td>\n",
       "      <td>1</td>\n",
       "      <td>0</td>\n",
       "      <td>0</td>\n",
       "      <td>Среднее</td>\n",
       "      <td>Состою в браке</td>\n",
       "      <td>...</td>\n",
       "      <td>0</td>\n",
       "      <td>2</td>\n",
       "      <td>1</td>\n",
       "      <td>15</td>\n",
       "      <td>0</td>\n",
       "      <td>0</td>\n",
       "      <td>0</td>\n",
       "      <td>0</td>\n",
       "      <td>NaN</td>\n",
       "      <td>test</td>\n",
       "    </tr>\n",
       "    <tr>\n",
       "      <th>2</th>\n",
       "      <td>59911223</td>\n",
       "      <td>0</td>\n",
       "      <td>35</td>\n",
       "      <td>1</td>\n",
       "      <td>0</td>\n",
       "      <td>0</td>\n",
       "      <td>1</td>\n",
       "      <td>0</td>\n",
       "      <td>Среднее</td>\n",
       "      <td>Не состоял в браке</td>\n",
       "      <td>...</td>\n",
       "      <td>1</td>\n",
       "      <td>1</td>\n",
       "      <td>1</td>\n",
       "      <td>1</td>\n",
       "      <td>0</td>\n",
       "      <td>0</td>\n",
       "      <td>0</td>\n",
       "      <td>0</td>\n",
       "      <td>NaN</td>\n",
       "      <td>test</td>\n",
       "    </tr>\n",
       "    <tr>\n",
       "      <th>3</th>\n",
       "      <td>59911322</td>\n",
       "      <td>0</td>\n",
       "      <td>22</td>\n",
       "      <td>1</td>\n",
       "      <td>0</td>\n",
       "      <td>0</td>\n",
       "      <td>0</td>\n",
       "      <td>0</td>\n",
       "      <td>Среднее</td>\n",
       "      <td>Не состоял в браке</td>\n",
       "      <td>...</td>\n",
       "      <td>1</td>\n",
       "      <td>3</td>\n",
       "      <td>2</td>\n",
       "      <td>9</td>\n",
       "      <td>0</td>\n",
       "      <td>0</td>\n",
       "      <td>0</td>\n",
       "      <td>0</td>\n",
       "      <td>NaN</td>\n",
       "      <td>test</td>\n",
       "    </tr>\n",
       "    <tr>\n",
       "      <th>4</th>\n",
       "      <td>59911438</td>\n",
       "      <td>0</td>\n",
       "      <td>27</td>\n",
       "      <td>1</td>\n",
       "      <td>0</td>\n",
       "      <td>1</td>\n",
       "      <td>2</td>\n",
       "      <td>2</td>\n",
       "      <td>Высшее</td>\n",
       "      <td>Состою в браке</td>\n",
       "      <td>...</td>\n",
       "      <td>1</td>\n",
       "      <td>1</td>\n",
       "      <td>1</td>\n",
       "      <td>5</td>\n",
       "      <td>0</td>\n",
       "      <td>0</td>\n",
       "      <td>0</td>\n",
       "      <td>0</td>\n",
       "      <td>NaN</td>\n",
       "      <td>test</td>\n",
       "    </tr>\n",
       "  </tbody>\n",
       "</table>\n",
       "<p>5 rows × 53 columns</p>\n",
       "</div>"
      ],
      "text/plain": [
       "   AGREEMENT_RK  TARGET  AGE  SOCSTATUS_WORK_FL  SOCSTATUS_PENS_FL  GENDER  \\\n",
       "0      59909969       0   30                  1                  0       1   \n",
       "1      59910420       0   48                  0                  1       1   \n",
       "2      59911223       0   35                  1                  0       0   \n",
       "3      59911322       0   22                  1                  0       0   \n",
       "4      59911438       0   27                  1                  0       1   \n",
       "\n",
       "   CHILD_TOTAL  DEPENDANTS            EDUCATION      MARITAL_STATUS  ...    \\\n",
       "0            1           1  Среднее специальное  Не состоял в браке  ...     \n",
       "1            0           0              Среднее      Состою в браке  ...     \n",
       "2            1           0              Среднее  Не состоял в браке  ...     \n",
       "3            0           0              Среднее  Не состоял в браке  ...     \n",
       "4            2           2               Высшее      Состою в браке  ...     \n",
       "\n",
       "  GEN_PHONE_FL LOAN_NUM_TOTAL LOAN_NUM_CLOSED LOAN_NUM_PAYM LOAN_DLQ_NUM  \\\n",
       "0            1              2               2             8            0   \n",
       "1            0              2               1            15            0   \n",
       "2            1              1               1             1            0   \n",
       "3            1              3               2             9            0   \n",
       "4            1              1               1             5            0   \n",
       "\n",
       "  LOAN_MAX_DLQ LOAN_AVG_DLQ_AMT LOAN_MAX_DLQ_AMT PREVIOUS_CARD_NUM_UTILIZED  \\\n",
       "0            0                0                0                        NaN   \n",
       "1            0                0                0                        NaN   \n",
       "2            0                0                0                        NaN   \n",
       "3            0                0                0                        NaN   \n",
       "4            0                0                0                        NaN   \n",
       "\n",
       "  sample  \n",
       "0   test  \n",
       "1   test  \n",
       "2   test  \n",
       "3   test  \n",
       "4   test  \n",
       "\n",
       "[5 rows x 53 columns]"
      ]
     },
     "execution_count": 10,
     "metadata": {},
     "output_type": "execute_result"
    }
   ],
   "source": [
    "df.head()"
   ]
  },
  {
   "cell_type": "code",
   "execution_count": 11,
   "metadata": {
    "scrolled": true
   },
   "outputs": [
    {
     "name": "stdout",
     "output_type": "stream",
     "text": [
      "==========\n",
      "EDUCATION\n",
      "{'Среднее специальное', 'Среднее', 'Ученая степень', 'Неоконченное высшее', 'Два и более высших образования', 'Высшее', 'Неполное среднее'}\n",
      "\n",
      "\n",
      "==========\n",
      "MARITAL_STATUS\n",
      "{'Вдовец/Вдова', 'Состою в браке', 'Гражданский брак', 'Не состоял в браке', 'Разведен(а)'}\n",
      "\n",
      "\n",
      "==========\n",
      "GEN_INDUSTRY\n",
      "{nan, 'Торговля', 'Информационные технологии', 'Транспорт', 'Коммунальное хоз-во/Дорожные службы', 'ЧОП/Детективная д-ть', 'Страхование', 'Нефтегазовая промышленность', 'Туризм', 'Подбор персонала', 'Маркетинг', 'Образование', 'Химия/Парфюмерия/Фармацевтика', 'Наука', 'Развлечения/Искусство', 'СМИ/Реклама/PR-агенства', 'Металлургия/Промышленность/Машиностроение', 'Салоны красоты и здоровья', 'Логистика', 'Здравоохранение', 'Другие сферы', 'Энергетика', 'Управляющая компания', 'Банк/Финансы', 'Ресторанный бизнес/Общественное питание', 'Сборочные производства', 'Сельское хозяйство', 'Юридические услуги/нотариальные услуги', 'Недвижимость', 'Государственная служба', 'Информационные услуги', 'Строительство'}\n",
      "\n",
      "\n",
      "==========\n",
      "GEN_TITLE\n",
      "{nan, 'Военнослужащий по контракту', 'Высококвалифиц. специалист', 'Другое', 'Работник сферы услуг', 'Служащий', 'Индивидуальный предприниматель', 'Партнер', 'Рабочий', 'Специалист', 'Руководитель высшего звена', 'Руководитель низшего звена', 'Руководитель среднего звена'}\n",
      "\n",
      "\n",
      "==========\n",
      "ORG_TP_STATE\n",
      "{nan, 'Частная компания', 'Некоммерческая организация', 'Государственная комп./учреж.', 'Индивидуальный предприниматель', 'Частная ком. с инос. капиталом'}\n",
      "\n",
      "\n",
      "==========\n",
      "ORG_TP_FCAPITAL\n",
      "{nan, 'С участием', 'Без участия'}\n",
      "\n",
      "\n",
      "==========\n",
      "JOB_DIR\n",
      "{nan, 'Адм-хоз. и трансп. службы', 'Юридическая служба', 'Пр-техн. обесп. и телеком.', 'Бухгалтерия, финансы, планир.', 'Участие в основ. деятельности', 'Служба безопасности', 'Кадровая служба и секретариат', 'Вспомогательный техперсонал', 'Снабжение и сбыт', 'Реклама и маркетинг'}\n",
      "\n",
      "\n",
      "==========\n",
      "FAMILY_INCOME\n",
      "{'от 10000 до 20000 руб.', 'от 5000 до 10000 руб.', 'до 5000 руб.', 'от 20000 до 50000 руб.', 'свыше 50000 руб.'}\n",
      "\n",
      "\n",
      "==========\n",
      "PERSONAL_INCOME\n",
      "{'14700', '15380', '6800', '11500', '41000', '16050', '21500', '160000', '100000', '16700', '11200', '6100', '5500', '38000', '10600', '6500', '18500', '4950', '10300', '17404', '8000', '31000', '50000', '9200', '51000', '37000', '3000', '5600', '80000', '4360', '5200', '28000', '48000', '9628', '4100', '5900', '17000', '9330', '42000', '60000', '4400', '47000', '17900', '12100', '19300', '32640', '5360', '9500', '1950', '68000', '7250', '5700', '10100', '7400', '33000', '3600', '4800', '19700', '15500', '44000', '20646,16', '6700', '14500', '5680', '11600', '36000', '13900', '5000', '29000', '2000', '15600', '8300', '21800', '10200', '9340', '13600', '16000', '9400', '17600', '29800', '17700', '17800', '77000', '27300', '5100', '10400', '5800', '12300', '3200', '10800', '24800', '65000', '150000', '19500', '11400', '13400', '8800', '11900', '3300', '2800', '4515', '15300', '7900', '41900', '110000', '17200', '4590', '15000', '6200', '7850', '9300', '4200', '13300', '22500', '24500', '12600', '19800', '7101', '8900', '43000', '7251', '20500', '11640', '45000', '23100', '5300', '9900', '16800', '22955', '5400', '25800', '170000', '23000', '15400', '4900', '29500', '32000', '9100', '9600', '5230', '11700', '6300', '3500', '13700', '4340', '30000', '7050', '18000', '6600', '13000', '12500', '4000', '12400', '4700', '8700', '53000', '4500', '17500', '8250', '67000', '6359', '16200', '6670', '8726', '56000', '13150', '14000', '3400', '5425', '20000', '55000', '46000', '7830', '18200', '21000', '9000', '12900', '5088', '6299,19', '10700', '7220', '5446', '16100', '13160', '19000', '10500', '5582', '52000', '18700', '25000', '27000', '8100', '13800', '3800', '15200', '7640', '7650', '14300', '14358', '9800', '8600', '11000', '8350', '5790', '6000', '67700', '7550', '13450', '28300', '92000', '12000', '40000', '250000', '7100', '3700', '220000', '2100', '11300', '49000', '4330', '7000', '19600', '9240', '42500', '54000', '8066', '24', '12700', '12800', '16900', '10900', '7700', '7500', '22000', '34000', '15560', '13200', '18600', '35000', '26000', '6400', '2300', '5460', '16500', '6180', '24000', '7800', '3100', '6608', '9700', '4300', '70000', '5350', '39000', '12650', '6900', '23800', '7300', '4600', '7600', '8200', '75000', '8400', '3900', '23500', '5050', '11800', '8500', '13500', '5339', '10000', '26500', '7200', '14800'}\n",
      "\n",
      "\n",
      "==========\n",
      "REG_ADDRESS_PROVINCE\n",
      "{'Горный Алтай', 'Санкт-Петербург', 'Белгородская область', 'Свердловская область', 'Тамбовская область', 'Новгородская область', 'Читинская область', 'Сахалинская область', 'Калмыкия', 'Вологодская область', 'Ростовская область', 'Смоленская область', 'Чувашия', 'Москва', 'Ямало-Ненецкий АО', 'Рязанская область', 'Марийская республика', 'Тюменская область', 'Новосибирская область', 'Пензенская область', 'Липецкая область', 'Дагестан', 'Карелия', 'Ярославская область', 'Хакасия', 'Ханты-Мансийский АО', 'Камчатская область', 'Брянская область', 'Якутия', 'Эвенкийский АО', 'Тверская область', 'Кабардино-Балкария', 'Краснодарский край', 'Курская область', 'Агинский Бурятский АО', 'Калужская область', 'Татарстан', 'Нижегородская область', 'Московская область', 'Челябинская область', 'Ивановская область', 'Пермская область', 'Ставропольский край', 'Архангельская область', 'Карачаево-Черкесия', 'Владимирская область', 'Коми', 'Удмуртия', 'Ульяновская область', 'Волгоградская область', 'Еврейская АО', 'Кировская область', 'Мурманская область', 'Алтайский край', 'Красноярский край', 'Иркутская область', 'Усть-Ордынский Бурятский АО', 'Башкирия', 'Магаданская область', 'Самарская область', 'Бурятия', 'Оренбургская область', 'Адыгея', 'Псковская область', 'Северная Осетия', 'Омская область', 'Курганская область', 'Амурская область', 'Воронежская область', 'Хабаровский край', 'Орловская область', 'Астраханская область', 'Калининградская область', 'Тульская область', 'Мордовская республика', 'Ленинградская область', 'Костромская область', 'Томская область', 'Приморский край', 'Кемеровская область', 'Саратовская область'}\n",
      "\n",
      "\n",
      "==========\n",
      "FACT_ADDRESS_PROVINCE\n",
      "{'Горный Алтай', 'Санкт-Петербург', 'Белгородская область', 'Свердловская область', 'Тамбовская область', 'Новгородская область', 'Читинская область', 'Сахалинская область', 'Калмыкия', 'Вологодская область', 'Ростовская область', 'Смоленская область', 'Чувашия', 'Москва', 'Ямало-Ненецкий АО', 'Рязанская область', 'Марийская республика', 'Тюменская область', 'Новосибирская область', 'Пензенская область', 'Липецкая область', 'Дагестан', 'Карелия', 'Ярославская область', 'Хакасия', 'Ханты-Мансийский АО', 'Камчатская область', 'Брянская область', 'Якутия', 'Эвенкийский АО', 'Тверская область', 'Кабардино-Балкария', 'Краснодарский край', 'Курская область', 'Агинский Бурятский АО', 'Калужская область', 'Татарстан', 'Нижегородская область', 'Московская область', 'Челябинская область', 'Ивановская область', 'Пермская область', 'Ставропольский край', 'Архангельская область', 'Карачаево-Черкесия', 'Владимирская область', 'Коми', 'Удмуртия', 'Ульяновская область', 'Волгоградская область', 'Еврейская АО', 'Кировская область', 'Мурманская область', 'Алтайский край', 'Красноярский край', 'Иркутская область', 'Усть-Ордынский Бурятский АО', 'Башкирия', 'Магаданская область', 'Самарская область', 'Бурятия', 'Оренбургская область', 'Адыгея', 'Псковская область', 'Северная Осетия', 'Омская область', 'Курганская область', 'Амурская область', 'Воронежская область', 'Хабаровский край', 'Орловская область', 'Астраханская область', 'Калининградская область', 'Тульская область', 'Мордовская республика', 'Ленинградская область', 'Костромская область', 'Томская область', 'Приморский край', 'Кемеровская область', 'Саратовская область'}\n",
      "\n",
      "\n",
      "==========\n",
      "POSTAL_ADDRESS_PROVINCE\n",
      "{'Горный Алтай', 'Санкт-Петербург', 'Белгородская область', 'Свердловская область', 'Тамбовская область', 'Новгородская область', 'Читинская область', 'Сахалинская область', 'Калмыкия', 'Вологодская область', 'Ростовская область', 'Смоленская область', 'Чувашия', 'Москва', 'Ямало-Ненецкий АО', 'Рязанская область', 'Марийская республика', 'Тюменская область', 'Новосибирская область', 'Пензенская область', 'Липецкая область', 'Карелия', 'Ярославская область', 'Хакасия', 'Ханты-Мансийский АО', 'Камчатская область', 'Брянская область', 'Якутия', 'Эвенкийский АО', 'Тверская область', 'Кабардино-Балкария', 'Краснодарский край', 'Курская область', 'Агинский Бурятский АО', 'Калужская область', 'Татарстан', 'Нижегородская область', 'Московская область', 'Челябинская область', 'Ивановская область', 'Пермская область', 'Ставропольский край', 'Архангельская область', 'Карачаево-Черкесия', 'Владимирская область', 'Коми', 'Удмуртия', 'Ульяновская область', 'Волгоградская область', 'Еврейская АО', 'Кировская область', 'Мурманская область', 'Алтайский край', 'Красноярский край', 'Иркутская область', 'Усть-Ордынский Бурятский АО', 'Башкирия', 'Магаданская область', 'Самарская область', 'Бурятия', 'Оренбургская область', 'Адыгея', 'Псковская область', 'Северная Осетия', 'Омская область', 'Курганская область', 'Амурская область', 'Воронежская область', 'Хабаровский край', 'Орловская область', 'Астраханская область', 'Калининградская область', 'Тульская область', 'Мордовская республика', 'Ленинградская область', 'Костромская область', 'Томская область', 'Приморский край', 'Кемеровская область', 'Саратовская область'}\n",
      "\n",
      "\n",
      "==========\n",
      "TP_PROVINCE\n",
      "{nan, 'Рязанская область', 'Челябинская область', 'Тюменская область', 'Марийская республика', 'Новосибирская область', 'Ивановская область', 'Горный Алтай', 'Пензенская область', 'Санкт-Петербург', 'Липецкая область', 'Самарская область', 'Белгородская область', 'Свердловская область', 'Ставропольский край', 'Пермская область', 'Бурятия', 'Архангельская область', 'Карелия', 'Тамбовская область', 'Ярославская область', 'Оренбургская область', 'Адыгея', 'Псковская область', 'Новгородская область', 'Ханты-Мансийский АО', 'Камчатская область', 'Брянская область', 'Владимирская область', 'Омская область', 'Коми', 'Курганская область', 'Якутия', 'Читинская область', 'Сахалинская область', 'Амурская область', 'Тверская область', 'Воронежская область', 'Удмуртия', 'Хабаровский край', 'Орловская область', 'Астраханская область', 'Калининградская область', 'Ульяновская область', 'Краснодарский край', 'Вологодская область', 'Тульская область', 'Курская область', 'Кабардино-Балкария', 'Калужская область', 'Волгоградская область', 'Мордовская республика', 'Татарстан', 'Еврейская АО', 'Ростовская область', 'Смоленская область', 'Кировская область', 'Мурманская область', 'Костромская область', 'Чувашия', 'Алтайский край', 'Красноярский край', 'Иркутская область', 'Томская область', 'Башкирия', 'Нижегородская область', 'Москва', 'Приморский край', 'Магаданская область', 'Кемеровская область', 'Саратовская область'}\n",
      "\n",
      "\n",
      "==========\n",
      "REGION_NM\n",
      "{nan, 'ЦЕНТРАЛЬНЫЙ 1', 'УРАЛЬСКИЙ', 'ЦЕНТРАЛЬНЫЙ ОФИС', 'СЕВЕРО-ЗАПАДНЫЙ', 'ПОВОЛЖСКИЙ', 'ДАЛЬНЕВОСТОЧНЫЙ', 'ВОСТОЧНО-СИБИРСКИЙ', 'ЗАПАДНО-СИБИРСКИЙ', 'ПРИВОЛЖСКИЙ', 'ЮЖНЫЙ', 'ЦЕНТРАЛЬНЫЙ 2'}\n",
      "\n",
      "\n",
      "==========\n",
      "CREDIT\n",
      "{'17789,2', '4760', '26379,91', '8225', '2799', '27971', '17330', '5592', '7337', '39028', '5949', '6529', '9719', '22890', '4021,92', '21510', '60000', '4921', '44690', '4674', '4452,91', '14857', '19925', '15110', '21736,2', '8991', '38058', '26400', '38830', '4056', '19045', '12472', '20263', '6415', '13193', '14144', '3195,9', '3290', '26997', '77000', '29599', '21083', '17470', '6282', '5100', '28310', '70500', '9798', '14331', '18143', '13882,92', '22394', '10884', '7632,92', '9594', '6598', '30350', '15067', '22905', '5835', '31014', '18566', '3353', '3897', '8669', '14917', '12508,2', '8088', '7208', '34390', '12206', '3660', '13491', '12910', '21062', '8492', '7404', '11034', '8198', '14199', '5282', '21730', '6835', '9198', '13010,94', '23684', '9397', '44900', '7420', '29615', '15582', '8604', '13386', '3498', '18882', '11150', '30729', '19000', '18334', '8355', '9655', '15700', '11305', '18603', '44697', '7578', '7430', '8856', '6454,8', '7063', '19489,91', '4738', '40824', '15160', '14669', '6101', '11651', '4777', '6750', '27398', '10390', '21847', '7123', '22269', '23539', '10990,92', '4392', '19945,35', '10323', '42408', '25140', '6690', '11630', '29250', '18840', '9790', '18370', '10359', '7490', '24647', '6270', '26329', '6567', '19889,92', '23095', '13430', '13302,83', '9689', '8977', '17190', '9461,5', '23797', '14550', '4945', '7166', '8441', '3415', '37150', '5614', '39020', '23297', '10750', '16175', '8370', '6730', '13148', '22160', '10773', '24330', '12265', '7240', '12493', '17308', '23154', '11441', '14489,2', '4293', '26489', '6039', '4860', '7629', '19446', '22770', '19977', '5665', '9610', '6370', '23040', '2572', '19133', '6780', '38832', '11290', '6883', '15897', '9490', '7189,6', '13134', '14921', '28932', '21597,8', '22558', '10508', '39025', '33190', '11810', '14848', '2135,14', '86071', '9398', '17510', '27680', '23822', '4690', '4005', '23425', '17099,1', '3400', '14004', '11383', '4910', '7858', '10700', '8416', '9789', '22947', '17230', '5265', '16730', '19740', '11495', '40534', '26970,6', '12191', '30940', '6097,5', '25454', '9899', '2447', '4290', '33280', '10479', '19626', '7000', '6495', '5330', '35450', '71243', '18580', '9956', '35000', '38120', '16265', '3894,2', '14744', '29830', '9365', '36400', '28700', '4115', '3682', '6747', '15629', '11800', '22011', '3033,9', '62800', '24840', '16045,2', '6785', '10085,9', '14570', '13835', '38718', '21881', '29948', '32335', '7611', '14097', '19993,4', '8935', '44879', '20356', '10124', '17826', '35201', '37790', '22302', '18246', '22810', '5200', '39780', '9680', '5496', '11133', '25200', '16330', '3879', '14599', '10836', '11565', '23985', '21482', '21660', '4843', '4004', '5798', '4779', '18350', '13380,56', '10439', '9991', '34449', '3358', '6200', '6766,4', '7084', '12396', '4804', '4642', '2680', '12044', '5300', '16317', '15127,38', '23865', '11665', '3744', '17649', '9416', '29691', '5899', '29750', '8456', '6168', '33459', '5616,15', '14840', '20190', '15960', '3033', '20209', '16605', '11392', '3547', '16064', '48600', '11077', '8869', '14000', '3448', '28955', '13875', '16512', '18481', '38520', '33097', '4150,95', '2930', '8920', '10964', '15199', '12593,7', '10193', '19769', '3690,82', '35035,2', '5818,5', '16690', '10990,91', '12331', '12246', '9985', '11639', '30999', '10900', '8170', '27313', '17560', '16416', '8878', '14570,01', '99000', '26555', '5380', '13921,36', '12559', '11583', '28933', '24630', '12550', '18650', '11409', '20820,2', '32822', '6919', '13488', '2990', '18022', '8880', '41907', '21984,55', '25520', '39741', '4365', '9842', '20871', '9664,5', '12498', '19457', '11779', '26990', '5109', '13671', '13825', '28460', '4110', '16280', '10898', '5542', '12283', '16185', '5800', '19415', '27846', '14930', '7066', '25749', '4973', '30946,29', '34500', '23137', '15442', '12980', '20751', '8652', '8532', '35529', '14942', '10116', '43373', '11776', '5687', '4180', '18330', '2638', '8210', '30590,92', '9360', '20790', '17099', '4980', '27518', '14890', '8025', '13975', '5370', '3170', '17613', '5775', '16850', '34821', '29990', '31040', '14388,3', '32770', '18121', '3046', '29526,12', '21999', '9445', '8420', '25360', '12640', '20330', '3800', '17075', '6692', '99308', '24502', '16882', '24778', '3530', '6246', '12389', '33510', '42228', '18999', '30197', '10690', '9215', '10115', '28600', '47247', '13216', '11778', '4896', '4827', '7433', '7173', '4020', '26928', '18990', '20430', '14588', '5040', '19797,1', '7710', '16392', '4652', '17885', '51700,5', '5232,2', '12232', '4628', '23389', '25492', '37780', '14717', '18582', '6256,8', '26590', '18819', '18740', '11637', '12470', '9998', '3239', '22980', '5095', '19897,1', '5745', '19278', '13670', '6170', '23784', '27690', '11646', '5516', '8515', '29177', '32090', '15427', '7310', '7470', '14140', '8550', '13050', '7170', '7147', '10497', '19410', '19748', '14856', '22950', '15914', '10220', '2860', '9580', '17220', '11558', '15598', '9652', '5424', '65250', '6475', '12080', '5155', '7370', '14497', '3311', '27370', '6435', '4700', '9621', '2679', '37350', '9248', '15070', '21328', '22233', '54105', '14197', '3880', '9533', '28469', '5190', '18049', '12833', '26650', '52000', '4984', '3269', '14571', '14760', '17049', '2270', '10708', '6640', '16680', '17297,6', '13290', '6650', '19600', '20530', '5968', '8850', '4117,5', '25122', '15790', '13897', '37200', '9588', '13324', '19630', '10456', '18910', '10697', '3540,2', '6552', '16198', '2792', '3141', '9406', '4835', '19224', '3882', '12730', '23577', '4640', '10647', '20179,3', '13440', '30390', '11377', '15650', '26499', '18138', '17920', '28530', '9301', '23584', '14348', '14513', '21624', '19521', '14130', '24199', '11551', '27510', '3942', '15030', '8589', '19130', '23882', '7648', '8725', '7687', '7899', '12199', '8744', '4099,9', '25937', '10280', '7838', '27706', '4608', '36000', '16380', '11920', '12159', '17324', '20960', '29198', '27570', '10400', '13952,73', '18170', '15340', '24680', '6350', '58670', '7558', '11460', '10435', '23251', '63000', '15927', '4858', '7739', '14169,1', '11799', '13847', '20500', '11727', '24281', '25240', '27670', '21597', '13136', '14940', '78400', '9326', '29478', '17869', '40110', '8080', '2650', '2399', '9738', '7857', '6995', '18060', '15121', '20053', '26300', '24550', '6024', '5174', '15216,06', '23790', '4281', '11370', '5017,9', '18885', '36177', '9315', '18458', '3040', '8988', '3916', '5994', '35097,66', '12228', '11317', '12606', '10548', '12530', '7499', '8685', '12996', '15314', '11349', '20648', '13567', '19791', '34190', '7747', '11405', '29875', '26780', '22455', '19128,41', '34905', '14696', '19674', '32175', '12903', '24768', '19051', '22621', '49490', '19269', '32810', '13298', '96200', '5180', '10769', '5220', '39110', '7874', '15380', '20520', '16050', '13447', '21128', '20477', '4195', '41990', '4550', '2599,2', '16750', '42669', '19750', '10105', '10656', '4799', '17040', '20536', '18799', '16312', '2255,4', '3875', '14065', '3560', '53499', '18632', '11710', '10188', '7794', '17263', '7715', '21295', '4589', '4244', '34891', '4842', '15897,92', '20480', '6323', '21237', '4745', '6237,03', '4230', '19597', '13325', '19719', '8050', '6150', '25820', '10970', '19500', '20601', '22398', '11050', '6373', '15098', '8127', '15460', '33830', '28050', '21347', '3718', '14494', '5750', '10520', '36500', '14498', '12935', '43353', '21750', '18719', '49500', '14610', '44700', '17888', '11949', '12463', '19420', '73230', '8777,1', '26084', '26055', '16370', '11136', '2880', '16063,29', '6492', '16961,1', '15200', '7157', '8470', '9396', '30800', '5149', '5607', '19377', '4130', '50652,94', '28820', '20249', '10319', '10660', '23450', '10061', '5855', '10149', '26090', '4629', '4399', '25263', '6130,8', '14383', '7999,1', '18300', '8400', '11719', '26100', '46921', '14885', '10225', '11042', '10880', '51370', '24830', '13465', '16010', '3130', '5366', '24858', '21218', '18224', '9468', '44560', '8648,5', '4165', '48000', '24119', '8268', '84630', '25508', '7709', '22792', '13456', '10978', '13140', '7530', '12148', '33192', '12906', '16358', '29780', '33340', '6247', '7335', '3275', '39980', '18328,6', '13995', '4560', '4785', '31190', '3983', '19540', '6938', '15887', '19730', '3391', '5131', '18012', '8999', '10540', '5852', '9729', '17428', '4648', '6948', '2590', '2000,51', '3535', '5211', '5480', '21838', '6490', '6300', '11113', '2305,8', '16748,1', '18048', '21216', '13254', '4850', '17590', '45952', '2498', '12130', '7839', '24458', '53400', '17398,1', '3308', '11310', '21506', '18960', '7425', '12289', '11754', '31250', '14219', '25080', '3762', '14849', '4377', '27925', '22356', '26479', '16395', '18962', '31850', '20381', '5280', '24950', '3407', '5793,3', '6960', '32750', '28160', '6561', '4890,2', '11099', '14629', '8697', '5936,81', '7776', '5723', '25990', '4540', '20220', '14595', '10432', '3490,92', '12339', '17567', '13197', '5825', '2420', '22515', '24810', '9259', '2380', '3680', '3752,9', '23070,6', '15327', '6099', '10990', '20856', '20490', '20095', '14593', '4930,95', '11055', '27040', '5912', '27877', '16859', '14521', '20040', '8540', '30471', '51300', '14560', '13490,2', '13889', '24983', '3387', '28590', '12511', '6228', '12960', '7638', '5987', '3600', '7455', '25440', '40900', '21498', '8199', '4080', '15214', '3808', '12762', '24800', '8487', '7799', '18535', '13400', '3300', '3834', '21280', '11085', '4970', '18206', '21550', '21580', '5409', '19877', '25898', '11672', '10430', '10539', '24260', '30000', '12749', '29388', '26730', '13768', '8957', '6993', '16669,84', '17098,2', '6480', '9555', '5239', '15850', '19886', '18970', '28755', '11796', '12554', '17415', '23667', '9456', '16371', '14456', '38700', '15010', '4497', '6875', '83106', '7137', '9342', '14639', '10496', '32450', '32980', '9395', '5531,8', '7920', '21190', '7890', '10687', '13199', '24003', '10463', '15085', '2580', '8860', '47900', '8698,1', '9675', '15359', '4265', '3538', '25899', '14698', '2158', '8617', '16870', '3990', '11250', '15570', '26034', '14040', '26690', '4489', '18686', '23688', '10870', '29382', '86041', '21500', '10457', '28340', '22525', '61540', '5011', '3798', '51200', '14620', '19430', '6672', '11230', '9212', '4581,87', '15192', '25278,14', '4280', '16540', '6820', '18780', '9655,2', '6440', '15920', '20706', '7980', '3231', '6007', '24160', '29120', '14205', '25855', '21936', '10555', '23575', '12495', '17594', '11180', '6721', '16799,4', '16436', '5487', '6390', '3119', '2881', '79200', '12024', '16081', '31990', '14148', '4182', '15795', '4592', '2490,92', '3868', '8057', '3731', '3899', '10820', '6311', '7604', '14527', '12057', '29001', '38340', '18669,2', '3500', '33680', '11586', '4401', '20113', '43950', '9241', '2180', '4369', '30825', '71600', '6967', '10570', '11751', '21460', '13922', '20630', '11489,91', '4579', '32387', '12542', '14046', '6070', '17270', '19591,36', '17820', '31490', '7228,2', '92000', '13060', '10495', '6138', '25298', '13624', '9059,92', '3240', '16300', '13541', '13872', '24223', '5465,26', '26872', '7625', '6680', '11429', '7978', '2290,7', '9858', '3442', '17100', '19809', '10279', '7163', '29400', '3904,3', '37450', '23393', '32975,3', '6540', '16598', '4918', '29280', '11167', '30596', '6093', '6374,78', '21696', '40700', '4380', '16950', '16190', '13489', '9596', '14875', '5296', '8763', '20980', '7619', '16499', '10512', '12100', '2322', '4767', '18711,05', '13950', '20640', '26461', '13678', '7180,9', '17231', '4500,95', '21800', '10853', '9325', '23783', '3790', '32650', '5490', '5232', '13289', '13179', '3870', '17946,2', '16428', '19340', '27062', '30418', '18784', '18209', '6947', '12597,3', '12944', '21496', '9144', '16218', '35522', '13686', '6075', '22800', '11996', '14999', '7416', '69000', '23647', '3989', '7581', '9009', '19615', '9902', '21330', '26641', '2620', '7750', '8150', '96860', '6605', '25732,2', '8099', '21069,8', '25599', '73300', '26355', '17648', '26595', '8429', '27369', '16860', '29490', '8006,1', '19260', '19080', '16647', '7632', '7645', '14646', '11090', '2100', '10245', '16766', '16868', '8883', '20644', '19286', '19895', '19999', '3784', '40521', '8825', '4274', '6327', '3015,2', '5097', '2243,7', '9919', '2635', '20995', '5736,6', '15466', '27470', '3354', '9467', '10320', '6580', '6979', '23475', '10150', '9695', '22960', '19341,2', '20583', '11595', '4100', '16824', '12914', '30198', '7296', '9290,91', '12848', '5499', '15910', '22275', '27620', '23226', '3616', '5789', '11600', '58640', '30720', '29445', '39638', '7169', '5720', '46540', '16910', '27990,91', '11400', '29905', '10778', '24131', '6546', '12581,89', '21050', '10960', '29677', '7394', '15354', '8421', '9498', '7112', '11589', '24682', '15293', '11753', '32499', '17880', '8055', '21950', '24587', '16530', '11325', '13087', '7618', '5043', '13536', '34140', '17010', '53000', '17531', '10114', '9760', '9930', '23992', '6876', '27342,5', '3764', '34650', '5799', '15498', '12639', '6272', '8390', '5710', '14598', '10021,5', '7650', '12210', '33760', '30735', '3699', '27170', '9546', '45297', '4405', '27356', '10525,01', '6887', '15556', '6652', '29694', '30738', '3173', '23680', '16284', '6647', '14035', '27781', '6090', '7083,05', '22317', '28162', '6058,1', '11389', '9219', '6260', '3737,6', '22930', '16980', '20464', '11070', '34150', '18692', '29075', '5060', '9913', '22299', '27986', '26910', '16060', '13580', '25068,94', '14245', '29386', '5590', '22999', '5078', '51000', '9990', '15580', '4725', '29680', '4775', '24600', '18113', '34020', '18825', '3045', '7514', '59629', '22150', '6881', '5669', '17380', '13728', '7240,5', '13745', '12820', '13287', '10340', '78550', '21999,2', '17379', '23351', '30372', '12300', '4851,81', '21985', '4867', '31491', '27500', '15616', '14596', '9917', '21654', '17199', '8341', '3117', '17425', '23202', '16141', '11130', '3849', '18240,91', '8480', '23485', '8689', '3919', '3906', '10981,82', '22570', '12557', '5880', '38800', '17111', '20242', '9282', '43732,8', '3509', '6191', '23852', '36701', '23268', '16407', '14047', '9520', '2165,4', '26380', '72000', '9545', '5088', '26875', '30545', '16785', '18997', '18198', '3501', '16420', '7892', '8128', '78800', '19085', '10295', '4525', '20700', '9417', '11911', '11154', '19680', '17595', '20252', '18725', '11958', '9007', '5676', '3984', '35669', '11950', '9630', '10841', '20510', '16199', '12797', '4320', '15730', '42335', '30150', '90000', '16660', '17173', '18899', '75535,08', '21943', '14365', '17760', '10010', '23825', '9989', '15907', '6609', '13155', '3276', '7667', '4801', '97026', '4879', '9347', '7135', '27501', '6071', '15705', '7937', '10446', '4720', '14950', '21940', '15065', '50177', '18654', '10134', '9074', '21724', '7281,94', '17499', '5310', '7895', '13301', '13695', '15220', '5175', '11240', '2282', '2724', '9130', '73996', '18119', '22345', '11697,1', '11116', '14976', '18999,2', '7505', '20850', '16399', '13498', '3949,92', '9681,5', '5144', '4765', '7729', '6898', '6354', '6035', '23715', '21479', '21520', '4495', '3885', '3717', '3250', '4148', '5724,2', '23060', '3301', '7327', '15360', '24990', '10536', '27700', '14690', '19547', '12315', '44415', '87880', '21381,12', '19491', '23240', '18880', '19810', '9515', '4239', '18720', '22198,1', '6616', '15739', '18216', '26999', '10330', '17350', '23104', '24367', '16498', '5870', '5408', '7610', '4021', '13448', '30603', '15036,21', '36290', '14460', '14891,92', '6399', '23511', '6397', '3128,2', '21265', '12236', '14370', '7493', '13039', '28242', '11321', '27980', '11871', '34162', '6624', '21717', '5130', '6329', '2831,97', '10001', '16425', '15863', '16065', '30799', '11243', '6502', '12150', '7480', '12173', '3602', '6665', '33470', '17900', '8037', '5351', '6537', '8445', '15500', '9994', '22361', '7590', '7676', '10470', '28288', '16285', '21619', '4454', '21895', '3484', '8188', '15290', '6411,72', '13830', '22872', '21298', '60300', '15889', '21166', '14050', '20205', '3941', '30951', '8581', '27234', '45000', '33450', '9367', '46881', '4781', '18895', '70705,96', '9759,4', '13198', '21598', '6346', '16949', '6018,39', '12097', '12417', '34466,4', '14391', '5005,8', '5085', '5661', '7380', '4177', '9754', '10854', '15040', '18250', '18200', '13021', '5611', '22072', '4299', '5055', '5143', '17367', '25150', '18855', '17769', '13230', '11362', '6000', '13550', '15930', '25460', '2676', '26339', '13890', '19470', '4089', '28431', '12741', '15290,7', '29200', '4752', '6720', '31885', '8619', '20610', '8410', '5290', '43682', '33996', '22310', '18197', '25220', '6283', '12616', '6958,92', '4202', '17082', '15763', '7454', '3237', '19400', '25390,94', '4410', '20910', '7898', '20575', '19529', '16450', '5930', '9995', '16698', '41470', '3294', '17901', '52561', '4469', '17091,9', '17146', '6118', '16272', '31694', '7909', '11539', '4400', '21760', '7348', '11789', '19502', '2119', '24495', '24405,4', '18398', '23399', '7459', '19993', '22230', '8405', '32415', '5920', '11765', '4477', '25199', '27945', '9370', '3399', '8530', '4077', '2152', '42320', '21238', '14031', '14399', '8034,2', '4816', '9654', '5977', '8240', '6347', '6367', '6119', '20143', '8515,7', '15540', '50700', '15624', '10315', '59398,2', '14288', '15788', '5309', '13312', '5535', '37881', '21665', '16995', '16621', '40500', '10500', '5827', '10818', '8723', '24270', '17140', '14798', '5404', '16278', '13747', '12488,25', '4057', '13321', '16418', '14750', '65400', '8644', '39627', '10442', '16649', '24263', '12262', '5189', '6867', '26740', '41000', '5877', '78120', '20133', '13157', '6756', '29612', '3883', '28215', '10240', '7498,9', '35520', '6746', '13941', '17170', '14090', '4653', '4240,91', '42135', '6288', '17043', '4892', '14165', '2999', '7982', '13100', '19324', '10972', '6562', '38810', '70410', '14500', '4398', '4949', '27350', '13850', '17763', '48572', '30299', '11138', '18789', '10780', '3200', '19580', '24295', '2310', '19550', '5478', '32293', '22139', '20317', '22320', '12038', '16985', '10530', '10992', '6797', '5400', '35825', '18144', '25109', '10290', '79910', '17556', '48800', '2160', '11195', '3390', '3335', '14209', '12580', '2350', '25713', '18460', '16160', '16733', '15096', '4186', '19720', '9237', '17790', '3107,7', '31560', '20000', '23980', '9876', '20679', '7247', '21802', '7597', '13930', '5931', '11489', '24844', '11000', '19542', '15128', '31895,48', '17702', '3729', '2511,82', '28674', '14773', '3604', '16999,82', '6660', '6530', '26550', '20443', '2333', '34916', '2031', '10844', '53673', '30224', '18578', '10779', '11855', '5560', '8899', '2907', '30686', '20343', '8220', '12782', '7040,92', '8780', '15078', '5650', '50970', '4527', '17752', '19390', '70047', '29950', '11519,1', '10310', '4619', '24314', '3000', '15940', '4727', '17650', '7660,42', '10361', '4869', '5700', '6779', '15389', '14081', '11690', '5195', '2975', '12239', '27880', '23595', '28338', '62100', '17690', '16591', '15390', '10805', '3943', '87673', '11266', '17966', '15912', '21762', '24520', '36800', '62468', '12816', '8360', '84570', '21690', '26890', '9444', '12170', '17261', '11333', '17112', '21408', '3930', '2490', '16070', '47529,91', '15640', '18338', '11514', '10025', '13409', '9438', '31646', '2250', '20100', '10528,3', '25785', '2871', '18495', '7440', '18270', '3674', '6490,5', '27298', '12699', '5345', '9095', '15120', '25920', '24475', '26260', '7460', '17896', '3789', '7030', '26543', '2030', '20863', '19060', '27347', '15280', '6393', '53169', '16948', '49798,1', '4963', '40037', '5297', '5990', '6959', '29380', '4600', '16736', '9072', '21890', '6240', '34200', '3440', '27498', '16653', '3187', '4125', '24650', '18906', '25730', '20985,62', '16052', '9349,92', '6053', '7350', '29065', '12342', '12570', '7080', '14510', '18468', '5179', '35142', '18304', '4996,8', '27196,1', '9500', '11935', '7199', '5857', '59760', '22488', '31875,3', '6893,7', '5045', '7369', '16940', '8741', '8698', '23861', '6999,3', '7560', '13018,1', '16485', '19460', '10785', '9845', '30820', '18030', '6819', '26865', '19650', '14644', '6250', '8730', '9590', '8943', '15000', '3540', '9300', '16544', '28059,81', '46156', '13558', '29580', '14177', '5299', '4336,2', '20800', '7236', '13435', '17991', '6360', '16150', '23975', '20882', '6848', '10526', '13390', '27372', '6461', '20050', '8630', '42180', '20060', '26710', '3418,5', '16030', '3715', '12280', '15363', '10616', '23044', '10492', '30011', '26462', '18700', '8745', '20753', '23259', '11196', '13383', '3617', '23124', '19125', '23400', '19991', '19315', '4275', '12393', '4252', '4624', '5550', '7698', '3700', '4390,91', '3771', '7975', '6978', '17981,9', '4330', '19005', '6944', '11060', '12959', '32576,5', '32800', '28417', '7088', '10231', '23128', '10752', '6584', '55174', '3314', '21080', '19950', '25641', '28565', '9054', '36980', '3430', '56673', '20063', '7353', '27759', '30422', '17316', '18450', '10670', '11227', '22848', '6236', '6109', '3630', '5545', '3035', '35640', '27248', '9128', '63320', '20658,2', '15625', '31000', '20488', '25168', '7390', '20928', '19245', '22250', '31509', '31050', '19622', '23792', '5639', '6445', '2873', '11335', '35700', '26988', '31833', '13480', '18050', '16880', '41170', '24283', '26820', '4978', '14107', '29384', '83000', '6295', '3892,2', '4923', '7766', '19938', '5472', '24100,83', '17540', '32846', '5399', '32617', '8590', '22990', '9924', '8303', '22085', '35775', '18670', '27270', '14796', '20379,5', '9349', '3316', '6940', '4689', '34396', '62240', '25683', '37752', '35683', '3072', '6726,1', '14938', '34493', '19839', '19593', '7077', '28221', '4650', '4961', '17593', '8980', '22672', '3610', '12048', '21850,94', '35770', '6069', '3410', '61487', '26200', '4522', '10640', '23677', '10630', '8666', '10855', '33126', '19998', '43996', '31015', '98644', '9224', '20326', '14083', '23280', '8609,92', '32076', '12198', '16501', '8102,08', '23029', '4097', '6056', '8253', '12450', '13920', '15756', '8386', '39865', '14201', '4487,4', '50678', '56964,6', '21586', '5260', '19989', '12410', '17310', '31520', '16189,4', '4580', '25343', '10238,82', '4672', '6856', '10830', '27540', '16600', '14765', '24519', '22482', '4845', '4941', '6479', '8204', '7183', '12209,5', '6930', '3330', '16776', '6964', '29975', '4260', '9650', '5955', '5436', '7614', '6983', '7410', '11892', '8775', '26774', '4890', '19930', '22286', '10349', '25639', '20680', '3060', '94358', '24174', '37500', '13499', '22349', '4853', '7869,61', '9648', '6457', '5690', '50879,83', '32850', '8237', '17592', '16789,98', '16781', '6345', '16993', '7609,5', '34695', '3061,45', '4920', '6280', '13122', '6906', '18067', '8117', '33850', '24344', '4986', '6513', '58490', '9460', '19498', '7515', '16519', '14089', '12919', '5799,2', '10795', '20670', '17193', '4754', '4500', '2219', '56518', '70360', '5942', '23478', '45863', '12695', '26490', '6789', '7549,89', '27260', '20424', '2421,9', '9971,3', '18217', '19011', '4050', '4983', '21930', '3339', '10590', '13998', '22850', '11970', '12110', '10917', '18660', '4872', '7582', '29295', '4242', '8844', '13598', '6643', '18900', '22499', '12972', '2500', '14260', '9452,97', '31730,91', '10021', '5350', '14240', '29443', '5688', '18575,2', '33725', '4826', '18491', '2781', '25960', '51750', '26461,91', '7128', '25783', '9251', '17248', '29944', '14310', '19170', '6205', '4199', '20155', '27714', '14337', '15984', '11399', '4319', '6469', '7070', '23490', '34479', '4922', '18599,4', '6682', '5748', '39388', '22662', '3089', '23121', '19983', '22760', '3289', '21009', '8517', '17600', '17700', '5683', '37440', '60829', '28410', '10740', '10420', '8638', '13820', '10575', '62000', '32938', '16290', '8221', '14781', '16480', '9748', '12290,9', '5630', '9117', '8398', '11148', '42436', '18517,1', '8110', '9910', '5448', '22635', '27180', '20768', '5032', '5489', '25506,19', '3750', '6190,92', '14060', '46000', '4241', '12900', '14994,6', '3031', '48700', '9030', '38570', '6115', '13848', '3550', '3377', '21840', '9045', '34900', '6733', '3255', '7908,1', '8108', '12850', '15975', '22490,91', '13351', '21150', '10755', '84558', '6780,95', '7586', '23331', '10169', '12868', '17960', '6180', '36527', '20519', '6142', '8874', '21989', '6361', '2900', '18707,1', '10198', '52509', '14360', '7047', '12340', '17130', '4812', '5995', '30990', '64670', '79959', '24300', '17890', '12636', '12560,01', '37000', '67795', '22330', '8116', '3590', '25386', '12742', '10140', '6120', '96000', '3380', '12127', '40313', '26950', '19360', '4375', '25180', '25830', '7130', '23186', '60720', '9534', '20475', '2730', '5940', '10538', '11416', '29460', '11990', '5253', '2573', '6710', '2850', '15020', '45665', '7845', '14230', '2240', '23780', '6858', '20450', '5228', '13326,5', '6854', '5494', '5889', '7105', '6089', '13653', '11677', '7998', '7563', '14361', '2065,5', '8038', '8120', '3312', '18463', '9622,77', '13005', '11289', '8424', '7970', '22460', '16100', '24125', '11899', '24145', '16692', '25588', '10999', '27110', '7110', '11524,79', '17631', '21350', '23930', '7040', '39690', '44225', '7910', '10799', '5037', '5575', '16257', '8770', '19343', '6255,15', '7824', '12138', '11115', '6048', '3779', '22105', '9990,91', '15857', '29858', '13689', '23365', '28778,3', '26930', '19230', '25940', '11217', '24399', '3854', '3450', '7588', '23498', '8132', '74319', '5999', '4644', '16838', '18190', '28059', '9823', '19745', '2995', '19660', '16670', '18500', '19830', '3396', '14925', '4852', '83871', '2691,9', '8904', '14094', '12478', '25991', '17839,92', '30580', '22750', '16743', '16479', '4196', '5243', '18280', '12991,82', '18782,2', '7690', '9599', '10084', '14724', '23989', '34195', '7360', '5680', '15165', '4492', '18730', '9647', '15226', '3188', '18777', '22904', '12940', '7693', '6928', '19976', '26770', '10668', '21270', '27950', '9825', '21810', '65000', '17422', '6379', '4268', '4212,9', '25515', '34280', '17572,68', '19782', '13880', '18615', '18399', '9595', '16520', '12465', '19819', '23850', '37508', '5279', '14461', '28502', '21481', '5230', '12546', '13294', '6470', '8906', '8549,9', '11916', '3103,2', '22188', '4351', '19100', '29461,34', '22692,96', '4499,2', '7011', '4661', '5335', '34618', '18140', '13355', '17451', '17276', '3014', '6796', '7830', '5064', '13278', '9217', '17050', '8322,77', '3825', '3429', '11690,91', '20225', '4107', '16063', '2790', '5445', '19140', '7198', '29661', '16996', '11434', '11978', '5751', '21038', '34295', '69188', '8188,04', '9107', '28208', '5076', '14600', '2095', '9230', '18547', '74700', '11488', '6219', '16908', '29390', '30920', '5740', '6585', '10174', '10912', '12405', '9025', '8340', '30500', '2748', '9570', '2439', '22747,4', '33978,63', '19746', '17134', '36308', '8156', '14854', '16189', '10058,5', '16992', '7144', '15245', '4349', '13275', '7539', '17025', '13366', '3215', '12220', '10695,13', '9287', '10348', '14100', '41211', '5312', '7760', '6522', '29799', '9504', '12803,4', '4122', '7999', '8186', '9180', '21209', '4999', '27088', '17398,2', '25800', '25980', '4675', '18099', '23700', '5965', '2633', '30930', '28172', '20691', '23971', '3651', '25480', '3619', '3816', '21673', '4809', '7441', '10389', '23108', '19789', '16669', '18329', '16197', '5530', '4870', '3599', '35145', '34555', '7730', '4175', '18510', '16194', '16519,02', '25897', '12160', '3357', '13288', '5110', '11689', '9629', '12889', '9250', '4131', '4746', '8430', '26370', '18861', '6291', '10969', '5435', '10190', '5837', '17580', '25158', '7795', '17863', '93947', '5848', '23470', '30361', '43631', '11296', '34804', '9540', '11151', '11100', '33475', '4134,4', '3654', '99540', '7600', '37456', '21670', '24675,85', '4620', '11500', '4744', '19850', '12725', '13649', '33660', '12899', '23690,91', '5636', '30344', '3360', '16988', '64500', '3284', '7788', '17765', '7210', '6918,34', '27589', '5272', '10100', '6199', '13989,4', '9050', '9160', '9499', '5610', '17091', '3392', '8948', '15843', '20748', '22280', '16551', '4947', '7336,3', '7230', '9940', '10090', '27005', '7280', '3869', '13566', '47195,92', '15985', '8529', '20237', '12598,1', '12818', '70245', '24777', '11219', '17280', '7523', '14678', '5938', '6429', '8412', '11385', '17910', '23025', '26960', '3464', '21615', '4221', '5405', '5058', '12810,94', '19567', '10019', '31200', '10699', '56000', '5829', '17633', '33900', '2520', '29600', '4413', '18001,28', '2610', '27740', '16400', '26900', '25050', '18740,5', '8717', '6939', '3199,2', '41498', '10373', '8070', '16260', '2165,16', '13462', '17340', '11175', '2248', '18890', '26241,6', '9538,9', '15102', '2955', '24760', '3553', '27599', '48580', '6220', '12598', '11529,91', '41125,88', '8071', '44100', '4168,8', '10542', '72885,57', '14098,1', '10366', '14990', '91168', '14450', '24700', '4555', '116360', '13599', '12460', '18898', '4950', '15518', '24450', '11446', '3998', '22498', '77210', '35940', '10550', '30325', '22395', '19765', '24479', '15393', '41500', '47000', '39830', '18913', '38244', '5645', '8694', '4904', '17949', '21865', '7780', '41397', '6941', '21410', '13240', '29877,3', '5910', '15599', '42300', '13600', '6299,2', '23109', '30060', '23094', '17697', '5353,5', '7290', '40180', '25385', '45900', '15300', '11786,85', '29345', '3735', '5922', '55500', '22075', '25936', '9390', '17529,91', '14453', '3143', '20979', '18096', '31096', '9021', '21889,92', '16691', '19083', '7949', '29266', '28790', '54700', '19145', '10989', '18470', '30925', '10840', '23990', '5267', '19205', '15875', '36194', '17320', '13630', '5796', '8361', '7279', '31450', '12687', '22656', '6749', '4160', '8912', '11601', '15240', '7640', '8680', '29622', '4756,5', '17840', '6030', '31498', '78000', '4243', '4498', '15470', '16448', '4664', '10655', '20088', '26708', '31596,92', '4302', '5689', '18068', '26440', '18040', '3959', '57581', '12998', '28026', '13641,3', '17906', '5340', '8951', '6630', '11340', '23382', '26049', '58541', '23706', '22300', '7981', '27340', '8549', '9980', '4030', '5695', '3271,5', '18410', '21398', '10046', '18693', '12474', '15824', '7870', '8806', '22864', '11428', '30879,55', '15523', '79380', '18054', '14480', '25301', '9004', '22590', '5570', '12950', '6145', '5090', '6699', '19857', '10080', '23663', '19035', '22509', '28247', '26140', '10800', '76300', '8648', '24280', '16629', '14993', '21650', '23440', '9189', '6313', '38406', '9574', '94300', '3520', '14204', '16450,71', '17622', '20393', '97220', '14396', '16657', '11817', '8076', '28722', '7559', '26099', '38070', '12140', '13250', '41021', '6559', '3799', '19798', '7368', '22495', '11650', '20820,44', '11159', '10890', '8308,35', '6839', '9750', '8228', '9960', '9866', '5329', '6004', '6920', '23057', '4328,1', '23795', '27065', '10417', '43880', '25999', '4440', '3703', '6181,09', '2341', '4493', '7150', '22458', '12347', '24015', '25680', '16245', '37818', '10490', '7035', '17998', '20272', '6264', '15084', '27010', '25137', '12799', '9855', '2088', '20792', '19610', '12309', '23200', '3647', '20699', '24290', '7815', '20990', '15899', '15315', '14580', '19608', '11669', '38200', '31466', '15398', '40581', '9200', '3152', '10953', '26365,6', '7769', '22945', '19790', '4090', '27962', '12716', '21990', '21726', '6783', '5573', '14316', '13689,86', '8295', '30826', '12397', '4047', '6517', '8184', '9009,91', '37069', '4109', '14406', '25897,4', '6889', '7810', '24833', '20587', '4118', '2950', '6925', '22977', '20498,1', '19404', '6323,33', '5077', '9730', '4135', '17459', '10128,8', '4641', '10113', '19475', '33088,5', '12400', '21770', '15041', '6999,9', '11670', '19106', '31588', '31696', '8950', '8910', '19805', '21861', '8625', '9127', '8491,82', '15770', '17020', '18648', '8140', '22951', '25631', '8536', '22213', '8398,1', '18984', '18105', '3555', '30220', '5285', '4741', '70300', '8658', '16965', '14481', '6984', '33255', '20900', '17251', '23037', '29450', '13178', '18553', '14398', '20877', '75500', '26800', '19689', '8835', '24667', '25491', '11190', '87570', '19143', '27900', '5377', '23160', '19513', '5240', '14960', '10646', '14020', '8633,7', '4458', '5337', '6865', '6850', '30796', '30590', '19482', '7349', '24552', '10163', '7630', '12541', '47789', '13948,2', '22469', '22329,67', '20069,33', '10185', '14443', '21197', '3929', '5859', '12328', '24059', '9977', '5768', '15840', '7917', '8396', '18374', '11188,14', '4026,55', '30050', '11730', '7187', '46500', '12195', '3398', '13130', '19960', '7900', '15890,9', '13815', '31726', '17911', '14185', '13530', '8797', '9227', '40574', '4979', '23395', '5015', '9600', '30340', '7473', '4891', '23230', '12219', '9430', '3798,9', '34806', '3199', '6146', '6489', '5019', '8298', '4460', '7977', '21290', '12090', '3497', '24120', '13981,8', '25280', '14795', '63776', '11170', '17448', '20090', '14338', '16491', '28490', '8598', '29700', '19840,5', '24112', '32593', '29012', '24599', '12310,91', '15784', '4248', '98136', '13780', '21082', '12904', '13080', '6969', '6197', '21721,1', '5482', '19439', '39000', '21390', '3900', '16880,91', '12284', '2200', '43010', '4420', '14250', '14755', '8292', '21648', '20767', '8840', '11260', '9660', '34154', '6202', '38000', '6020', '8735', '30420', '21948', '7116', '8180', '61920', '17006', '25662', '12490', '6741', '17501', '16662', '28999', '9120', '31484,1', '11223', '4207', '26547', '10910', '21877', '6273', '17480', '30110', '2028,56', '4379', '9525', '8498', '25896', '2457', '11930', '21187', '25695', '5913', '7598', '6365', '10194', '31255', '8118', '22589', '22290', '29742', '11900', '7498', '6491', '23711', '39900', '15822', '7820', '39500', '9577,8', '10262,2', '8360,92', '7020', '11192', '86900', '4880', '15035', '57593', '24370', '16648', '20989', '4598,6', '19382', '3898,1', '8380', '24210', '23758', '6799', '35563', '17390', '16615', '6193', '2150', '4315', '4820', '5320', '40000', '6477', '4647', '11648', '4670', '28230', '3059', '17117', '16222', '13469', '17203', '3337', '29760', '5268', '33678,2', '8067', '7084,28', '23552', '22789', '28450', '17215', '11477', '17090', '3110', '9679', '2690', '6622', '23760', '23608', '3561', '47309', '7259', '13229', '13895', '22057', '2048', '20180', '2870', '16823', '4217', '5988', '27541', '8641', '13265', '30313', '12713', '13492', '16635', '12745', '11990,95', '7191', '17804', '8941', '18010', '3490', '12840', '9755', '5080', '6782', '4967', '90590', '8195', '9405', '2720', '15372', '11063', '18390', '44500', '19854', '3137', '13699', '4059', '8979', '20300', '4292', '10200', '20250', '22225', '9480', '15115', '15435', '4480', '14472', '5300,9', '24059,83', '26020', '16704', '15895', '10073', '7848', '25260', '15806,5', '9550', '18020', '8849', '4743', '7599', '25182,4', '18319', '8280', '12200', '6281', '15221', '9447', '9606', '16440', '14747,1', '7373', '3134', '43573', '22640', '11804', '3030', '7366', '34335', '26896', '22180', '24466', '33800', '3640', '28273', '5199', '17545', '8095', '8929', '13999,2', '9810', '28810', '2241', '22430', '24580', '31933', '3280', '16796', '14688', '3861', '34199', '6494', '18490,91', '6838', '27850', '16899', '27736', '9567', '21279', '49000', '23050', '24835', '4898', '15980', '30600', '8998', '27012', '11830', '16002', '61600', '2699', '8091', '39327,2', '14900', '6299,72', '22561', '7556', '6831', '26315', '16500', '21590', '11666', '32990', '12711', '2797', '27166', '11954', '27208', '31882', '21021,9', '16105', '20440', '7905', '28930', '18881', '13479', '7469', '28551', '4789,92', '100000', '8829', '14850', '10480', '13260', '5580', '3048', '36136', '14860', '35991', '27886', '76730', '17045', '14470', '28775', '8419', '20880', '4428,1', '4909', '8438', '19700', '12029', '5960', '62550', '20565', '4510', '5599', '20925', '15600', '4212,8', '16214', '16000', '13793', '7090', '7422', '19890', '12095', '11853', '10075', '28750', '5928,1', '9840', '10609,2', '2961', '5921', '12398', '13899', '21900', '7984', '11842', '4595', '31790', '11938', '18540', '4257', '5150', '9928', '3001', '18934', '14052', '22599', '6527', '56310', '13640', '14257,91', '35992', '18380', '15215', '46960', '33030', '11860', '23890', '11212', '15367', '24250', '6538', '15150', '5625', '47223', '25299', '19296', '6860', '3720', '7812', '27228', '15658', '33344', '10968', '11422', '21740', '7752', '8620', '4982,4', '14574', '4079', '13679', '15789', '12318', '2759', '5749', '19187', '28428', '10413', '57209', '28224', '29205', '13733', '45500', '6792', '2421', '25989', '2957', '24605', '5050', '28666', '20931', '9830', '3792,92', '9290', '19320', '6127', '22761', '3385', '39240', '31278', '24190', '3711', '30324', '7160', '19047', '17360', '14340', '26510', '2745', '12427,1', '14847', '49750', '13990,92', '8978', '6610', '40499', '12260', '5431,2', '9850', '5797', '8905', '29630', '3185', '25498', '5765', '79770', '28879', '32670,79', '11456', '4773', '29949,7', '25146', '15760', '15759', '2366', '11655', '20397', '9457', '22881', '32955', '8994', '22410', '16814', '20169', '19503', '12390', '13846', '35750', '24132', '13141', '14385', '9814', '19082,3', '16390', '22307', '34630', '4939', '20755', '65747', '15524', '2390', '17039,91', '96490', '19150', '29471', '7050', '16310', '24301', '35165', '7399', '4887', '14590', '10490,91', '34699', '11039', '26199', '14189', '22627', '3320', '55000', '2619', '3299', '21490', '23204', '3910', '16840', '13495', '12424', '6550', '4740', '21870', '23579', '3865', '16114', '9153', '13259', '13527', '27895', '27550', '10757', '21170', '21809', '22700', '23480', '3675', '9422', '21060', '4208', '26000', '17630', '17273', '16490', '3160', '9448', '4994', '10471', '11927', '8790', '13433', '24017', '50400', '7200', '13302', '15190,5', '10860', '13690', '70936,32', '16783', '14420', '21805', '5879', '25406', '15904', '10248,2', '15027', '2489', '2555', '26848', '17802', '28060', '13166', '19710', '28210', '3874', '14290', '9496', '9923', '8435', '31020', '4610', '23517', '7880', '10216', '28041', '14330', '18185', '19820', '36350', '21710', '4228', '18400', '17575', '7639', '76360', '11620', '4905', '21646', '13959', '6890', '9950', '9097', '7682', '4534', '3090', '11487', '15403,02', '12290,94', '26700', '40080', '5540', '24850', '4099', '30697', '11943', '29690', '15725', '19560', '5451', '9464', '19980', '4935', '18340', '38032', '37710', '15621', '13992', '4372,2', '6290', '29933,4', '8011', '6161', '58500', '16298', '21154', '26920', '7741', '5261', '11520', '21974', '26596', '10910,6', '32348', '13990', '21086', '8289', '17339', '21382', '3769', '15670', '29336,4', '20786', '8955', '11390', '46729', '32900', '2934', '15639', '31091', '40200', '4041,9', '8990', '3350', '17995', '21388', '37360', '24389', '4735', '38625', '8233,95', '2259,9', '10112,8', '16048', '19959', '3359', '5031', '10987', '9371', '16616', '8811', '10617', '6396', '4188', '26120', '7120', '20636,91', '16872,3', '7593', '12645', '22338,94', '11526', '3168', '4291', '24962', '11660,93', '2689', '23940', '27934', '20431', '5333', '9140', '3196', '19570', '22598,1', '8010', '32280', '49743', '10431', '10936', '25812,5', '16170', '34499,2', '22970', '67500', '14320', '31991', '33000', '14350', '2671,2', '23391', '21688', '6201', '59009', '12070', '16650', '31910', '17800', '52469,87', '14680', '14005', '14718', '35767,4', '2224,8', '8580', '10191', '15755', '27600', '18820', '7885', '13891,5', '3717,9', '6597', '10423', '10265', '21340', '22145,1', '47691', '6424', '4830', '17550', '6192', '10428', '10846', '9949', '9260', '4000', '23920', '23840', '10599', '12860', '56277', '12780', '17366', '16875', '8068', '19350', '3419', '30630', '17370', '25870', '9040', '15210', '7544', '10250', '4082', '9801', '4039', '20943', '16760', '4329', '30980', '41171', '10505,5', '10158', '27890', '11748,2', '27769', '8830', '5295', '7847', '15575', '22082', '61250', '3598', '6975', '21685', '33570', '7471', '10560', '4190', '21015', '14651', '30918', '89344', '11769', '22140', '28728', '7342', '6050', '19736', '13960', '3123', '35990', '19970', '5010', '4908', '21630', '22263', '4074', '9430,38', '17505', '14133', '21595', '19177', '22550', '9298', '8879', '23020', '26150', '20715', '20710', '18573', '2183', '10233', '17000', '11236', '8990,9', '22167,6', '4362', '5589', '16786', '8460', '6910', '16090', '27922', '7250', '2450', '19572,1', '4189', '22240', '27493', '11445', '18230', '5906', '6166', '23659', '2090', '14645', '28090', '12670', '4072', '17865', '20600', '28016', '3128', '29640', '8900', '8346', '38108', '15100,82', '3886', '9484', '4704', '16975', '13860', '17720', '12995', '17490', '5456', '75424', '7965', '15097', '5238', '14658', '30200', '23459', '4995', '49838', '11280', '8639', '16990', '4930', '30370', '8597', '6590', '21214', '13999', '20699,1', '3493', '25290', '13591', '5184', '5746', '32970', '18318', '28294', '30627', '7224', '15685', '18702', '2412', '5980', '7997', '16467', '6380,91', '14530', '16350', '5129', '45034', '6309', '6739', '19240', '24897', '12696', '15560', '15883', '11642,3', '15450', '7385', '6400', '11808', '16128', '11764', '98030', '18649', '7249', '8393', '4858,1', '25632', '16630', '19464', '4596', '26547,3', '20826', '17476', '15865,65', '18225', '10350', '2680,4', '12835', '3159', '3955', '5533', '11199', '20987', '17184', '21860', '13137', '7595', '6462', '3877', '8564', '16720', '9375', '3510', '40490,91', '16571', '28500', '28842', '3095', '7947', '6873', '45160', '19899', '32449', '21960', '6570', '72890', '5231', '9264,69', '60500', '21243', '13829', '17549', '32100', '12499', '36086', '4962', '9955', '29653', '25992', '7651', '5780', '11350', '22194', '14910', '17361,76', '7207', '8650', '4132,5', '59590', '63306', '21207', '26999,2', '53364', '16070,5', '2998', '20903,5', '16145', '5897', '4911', '4580,92', '21097', '10580', '15440', '26818', '25829,1', '21845', '8260', '9971,89', '84500', '5895', '6561,9', '22900', '14356', '15880', '14820', '39720', '14493', '29997,24', '35610', '10429', '4008', '17970', '25211', '20499', '7443', '28440', '10930,52', '15732', '24740', '7189', '31224', '13190', '28098', '10551', '12509,9', '20324,92', '7357', '5185', '21250', '8290', '10298', '11850', '7369,7', '6377', '4928,96', '22870', '7092', '7637,63', '24470', '11286', '2599', '10338', '19520', '6297', '6299', '10576', '7605', '3786', '13980', '9927', '52250', '34990,8', '12760', '9538', '4300', '7020,9', '30756', '17875', '6719', '5670', '32500', '12750', '15750,91', '84000', '10738,5', '32397', '12790', '4095', '13644', '4284', '28509', '6990,92', '6500', '18750', '7152', '7431', '2050', '16389', '23954', '66680', '37466', '18360', '5755', '12999', '8889', '28280', '7547,2', '7204', '22617', '7132', '19883', '7417,5', '22756', '19079', '5605', '13900', '27490', '8917', '4140,2', '16447', '24506', '10360', '8241', '16547,3', '13173', '27780', '14490', '6678', '28900', '30455', '14780', '7174,6', '2514', '9728', '18760,75', '32041', '16263', '15299,9', '17670', '6342', '5135', '42940', '32000', '4761', '12870', '7995', '23166', '7002', '11999', '2104', '13421', '13776', '13921,52', '5577', '27472', '25315', '25538', '15017', '24030', '4139', '8892', '5820', '25584', '22212', '21440', '5840,5', '30599', '10938', '7450', '25627', '14168', '5847', '30673', '27070', '4435', '17860', '12512', '22252', '27673', '13170', '26183,5', '7100', '14648', '3749', '3515', '12211', '9898', '13016', '5210', '26022', '3070', '28922', '27939', '7902', '5270', '11440', '26138', '18497', '23499', '15547', '8690', '7300', '2629,8', '82700,9', '18599', '4455', '18376', '14390,92', '10940', '10097', '19611', '26340', '13665', '52930', '7307', '35950', '9996', '22210', '4710', '14758', '9345', '4548', '7452', '17250', '6450', '14321', '10024', '80000', '12435', '16367', '20132', '17279,2', '6298,6', '7313', '81612', '13494', '12132', '3093', '3659,5', '10591', '8185', '7229', '12345', '6809', '19169', '14949', '17060', '51900', '5738', '8603', '6027', '8490,92', '14193', '25904', '25105,1', '13356', '7101', '12600', '20598', '15292', '6899', '2470', '24195', '98042', '7996', '13040', '3935', '15400', '9690', '5839', '6596', '20046', '9477', '23625', '21180', '24362', '6103', '13620', '25983', '6790', '11623', '7541', '5346', '23945', '39450', '15704', '7317', '18724', '30170', '13110', '22168', '13227,7', '23854', '6452', '5660', '8755', '78390', '18949', '4899', '20296', '5708', '9800', '11126', '4572', '5030', '4240', '14207,1', '17546', '11300', '14440', '3999', '2798', '15147', '4575', '12800', '5936', '22896', '12366', '12655', '3028', '93890', '5105,7', '4475', '20802', '11724', '5225', '4951', '7089', '16999', '6639', '3348', '4390', '18413', '30428', '4064', '7679', '6885', '5339', '27598', '10706', '42930', '6100', '7574', '32508,2', '5606', '8699', '32700', '4869,66', '20999', '13365', '8190', '14328', '7796', '4535', '2569', '5242,3', '18810', '20646', '27898', '25271', '3413', '2819', '12249', '40410', '8750', '22390', '80440', '30131', '23390', '9440', '13221', '9296', '13443', '17300', '9820', '15347', '35369,4', '17424', '10394', '9839', '11135', '5389', '23660', '13989', '18538', '4200', '10791', '27124', '8547', '3681', '9573,1', '99313', '50568', '56340', '21700', '4463', '6496,1', '3480', '5391', '22080', '7745', '6449', '7509', '20536,1', '26379', '11498', '8020', '6336', '47704', '4590,2', '14872', '4428', '18006', '22040', '12514', '26457', '21505', '6021', '8381,5', '13225', '9230,9', '4488', '5995,46', '8330', '6740', '29037,12', '43515', '8792', '8350', '9791', '9702', '22560', '12849', '32310', '18445', '14229', '16900', '2389', '4504', '20129', '43200', '11960', '7181', '24035,5', '19602', '2120', '25881', '9116', '37480', '3140', '12651', '11480', '4290,95', '55846', '9700', '20862', '3305', '2529,61', '5525', '6985', '24640', '16449', '7190', '14487', '3760', '10256,1', '13205', '29663', '8278', '15370', '20939', '10935', '10410', '11470', '11194,06', '19110', '35332', '18749', '19781', '13965', '3548', '29699', '31990,6', '2045', '7439', '14661', '11211', '22244', '2570', '5850', '12455', '5931,8', '7140', '3542', '11936', '50020', '6060', '5398', '6698', '22944', '27080', '9351', '4297', '6504', '20992,78', '20350', '2435', '24103', '35250', '7448', '15990', '5347', '16576,2', '25300', '6375', '28970', '3099', '22600', '33821', '9536', '3895', '13489,91', '6950', '10618', '7878', '10130', '35360', '45820', '10939', '14965', '10852', '21487', '13366,2', '33700', '22969', '16507', '15999', '9900', '14659,2', '29707', '9019', '7151', '15900', '23598', '29052', '22097', '18150', '6348', '25887', '2125', '7875', '37415', '67950', '3951', '25625', '14619', '21112', '7876', '25179', '13680', '15565,5', '17500', '10210', '37640,77', '31538', '6519', '5612', '4403', '10672', '18171', '12708', '7180', '30696', '6950,7', '23358', '6189,3', '6116', '15520', '12549,07', '20268', '21355', '7590,31', '24752', '9380', '17347', '8940', '16773', '20355', '25250', '5865', '12890', '7510', '17240', '42740', '11293', '22490', '23148', '16613', '5397', '49860', '15481', '15299', '29650', '7507', '25574', '13257', '17388', '4041', '27820', '29898', '12948', '27480', '5128', '24889', '10734', '63657', '9983', '13727', '8311,29', '7968', '3824', '10990,2', '16700', '17854', '69282', '9774', '4103', '19289', '12412', '9450', '4701,6', '4326', '4120', '4366,8', '26051', '5600', '10720', '22384', '21124', '3748', '2990,92', '22400', '9010', '23516,84', '24110', '10950', '35900', '2600', '7197', '21938', '61832', '10789', '21286', '10775', '6105', '8406', '42928', '32481,83', '26174', '20338', '2559', '9899,92', '14948', '21320', '26164', '21915', '9526', '14387', '23944', '15255', '4703', '19800', '23185', '21771', '35943', '3924', '21349', '28070', '21204', '10671', '16561', '10448', '23304,6', '19990', '7642', '12425', '13496', '11718,94', '8262', '22480', '8129', '4726', '21858', '17660', '22927', '12608', '26080', '6675', '6556', '4838', '3541', '2704', '34720', '33292', '16020', '40756', '12250', '8995', '12690', '29493', '30615', '6139', '41994', '3010', '2189', '6186,7', '27348', '24027', '92951', '6544', '33330', '8544', '11080', '10268', '9759', '15830', '17810,82', '23103', '3310', '32370', '6935', '21195', '10450', '23453', '21030', '28055', '21899,94', '12443', '9908', '4837', '35100', '10151', '20196', '9276', '16011', '7209', '22221', '14175', '4370', '7472', '19254', '4915', '4318,2', '19728', '17329,92', '23146', '20495', '39254', '23750', '3063', '16745', '5250', '8389,91', '15680', '6470,9', '6520', '4611', '4934', '23830', '4617', '58900', '29590', '5555', '20091', '3710', '27560', '4940', '6945', '5759', '30974', '7867', '11750,31', '13030', '76000', '4114', '16379', '38250', '11270', '32292', '2151', '4900', '8886', '31263', '7888', '27446', '12330', '17150', '23696', '24900', '12451', '28971', '7017', '7107', '36910', '3848', '6787,8', '16579', '16979', '69500', '27000', '17688', '8056', '3645', '20698,1', '29470', '10650', '10790', '26538', '2974,15', '46385', '10998', '15490', '11615,4', '15100', '6594', '15780', '14215', '2660', '9892', '21640', '30196', '8499', '23793', '4768', '3933', '22670', '6707', '5807', '26450', '13905', '41100', '10635', '20561', '17073', '7272', '21380', '7713', '4290,9', '37656', '31800', '15190', '14355', '4339', '5390', '12428,7', '14449', '17346', '26485', '21780', '5761,9', '15320', '30391', '11410', '17298', '6278', '63700', '27190', '10300', '7486,1', '18498', '24771', '15695', '4966', '2751', '7285', '6498', '34422', '8453', '4570', '13720', '9804', '6653', '4350', '51140', '18392,91', '10060', '6338', '6247,8', '10631', '36570', '13978', '6190', '20305', '11877', '26346', '18850', '8640', '22781', '27149', '11680', '17770', '12092', '8244', '8610', '22692', '22955', '31499', '7940', '90200', '5193', '5721', '6575', '11700', '27020', '19120', '14766', '8970', '29970', '3195', '12411', '19280', '3076', '44760', '24400', '4031', '6499', '119700', '21105', '15745', '7735', '7459,6', '11740', '3547,42', '26760', '6691', '38408', '56130', '14160', '6998', '2428,2', '5005', '14397', '18598', '18891', '16634,5', '16620', '12360', '16848', '33990', '4986,5', '10205,5', '6543', '3340', '61290', '13623', '24420', '4671', '11363,99', '19295', '81000', '19116', '11098,8', '17640', '35500', '3356', '5715', '11749', '9879', '26750', '16092', '4790', '3222', '23998', '18698', '28684', '16040', '7711', '15309', '22293', '15948', '13120', '12784', '12320', '6420', '9813', '8490', '8389', '14446,3', '29206', '8785', '10418', '19301', '8041', '3879,17', '17106', '14044', '4800', '8442', '28116', '20592', '24236', '4599', '51685', '89200', '6088', '8489', '33358,84', '10837', '5634', '18550', '40084', '18358', '22192', '13792', '21300', '19290', '38778,01', '22323', '5778', '5640', '9586', '9350', '13139', '32828', '27905', '29500', '2430', '19880', '3460', '7860', '39800', '61915', '17420', '27790', '27450', '5754', '15016', '10610', '5162', '8320', '18045', '19627', '23713', '21994', '34148', '5301', '28845', '13115', '19235', '18425', '37235', '8286', '7720', '2400', '22369', '16893', '11160', '16883', '6033', '7790', '8450', '5869', '37016', '18631', '22050', '31300', '21123', '5966,7', '17780', '5742', '12050', '21536', '21588', '28899', '34700', '15230', '2300', '64660', '3180', '12325', '4780', '22102', '75000', '12755', '13916', '28110', '12012', '11322', '13500', '15998', '15250', '7201', '13769,2', '10040', '5817', '9060', '4878', '6419,78', '3389', '14632', '15615', '27150', '8000', '5268,47', '4485', '14709', '3039', '17400', '2947', '24795', '5364', '19250', '6840', '14990,95', '20690', '6467', '26524', '12434', '20409', '5176,8', '22214,69', '3928', '16438', '25702', '18389', '9554', '3770', '21919', '2540', '10499', '29788', '5018', '26397', '18290', '9427', '14279', '8369', '13267', '23774', '12421', '95441', '6080', '10339', '18490', '23900', '24881', '13300', '17254', '16324', '28186', '14891', '47600', '23000', '31502', '13700', '9870', '16180', '36900', '23377', '32844', '41210', '14390', '45672', '17851', '12348', '17615', '27130', '18296', '3179', '28640', '17198', '17558', '17750', '23399,2', '2970', '22860', '5359', '9295', '20505', '10374', '26817', '6619', '17496', '23110', '15602,5', '6776', '2890', '15820', '6430', '4048', '8651', '4491', '10712', '17272', '29697', '11189', '3109', '15771', '19095', '10770', '20779', '4729', '6757', '13200', '3296', '24328', '22674', '28341', '23126', '11247', '22711,21', '9835', '5757', '25081,98', '31460', '8832', '18592', '10022', '11698', '4533', '8718,1', '2595', '9749', '23912', '81743,87', '32391', '7580', '6997', '10611', '22440', '31580', '30430', '10230', '7908', '8754', '10864', '21600', '5988,46', '15003', '22530', '8033', '4220', '11315', '3385,92', '4638', '3827', '5152', '18849', '16833', '11723,2', '17714', '5684', '17080', '11304', '19795', '29880', '9340', '97000', '33881', '6129', '12380', '3840', '20294', '28850', '17795', '2372', '16098', '3628', '25966', '17573', '5306', '25998', '14270', '23216', '20370', '25600', '9270', '5548', '44440', '15090', '11619,84', '29300', '3650', '4150', '28890', '11977', '20079', '31610', '17609', '10419', '18260', '46600', '2190,2', '2089', '58947', '14469', '3238', '4345', '10048', '19200', '6758', '19924', '7798', '16920', '5562', '39276', '38300', '78150', '5247', '14300', '13063', '9034', '22419', '5794', '5790', '18560', '19490', '28170', '22236', '6916', '27800', '5757,1', '17950', '22920', '9013', '22000', '4366', '5419', '5221', '16977', '8440', '3321', '11980', '3285', '11212,06', '12520', '4645', '23800', '23500', '8200', '29334', '32940', '6697', '21312', '3740', '13232,88', '4952', '2936', '13387', '53091', '25760', '8169,55', '81423', '31900', '14196', '16879', '5500', '45280', '23530', '4680', '21620', '11540', '18187', '7770', '5099', '9176', '7713,42', '11560', '7194,72', '8902', '19375', '28000', '4936', '6744', '9899,1', '3520,8', '2245', '4576,5', '30656', '25227', '14618', '6834', '60080', '8595', '41936', '17955', '28781', '41490', '5288', '22940', '13456,82', '30681', '4210', '18515,03', '22898', '24275', '2000', '4276', '3145', '24233', '9972', '5520', '14110', '23397', '5410', '3898', '2578', '16820', '10089', '14206', '2070', '15800', '4807', '22324', '46671', '9497', '30597', '7182', '2099', '24945', '12510', '16849', '19797', '10585', '12990', '14170', '41730', '13344', '35960', '28420', '20290', '12310', '17325', '11795', '89196', '12945', '13750', '9432', '28421', '74690', '12628,91', '35580,91', '4968', '29782', '18027', '20660', '9246', '7990', '17838', '10445', '11787', '3205', '14430', '11598', '14609', '3549', '26695,8', '5328', '5178', '19020', '26330', '5773', '5860', '63271', '26989', '9963', '17483', '34999', '11926', '3940', '12480', '7516', '82910', '10925', '10483', '16989,92', '4889', '30837', '3385,83', '32914,31', '22413', '10803,84', '94720', '10850', '7386,75', '4505', '11295', '7262', '14700', '10322', '22195', '13208', '23140', '9793', '22522', '31400', '6980', '25100', '17439', '6904', '27428', '7891', '14006', '27637', '25330', '17997', '15602', '2007', '12566', '25727', '33111', '18790', '25225', '33300', '5360', '20400', '17850', '12060', '12240', '10874', '23411', '23197', '23009', '8715', '29789,91', '23300', '6982', '10879', '7763', '11048', '12902', '31060', '10659', '30031', '88000', '5898', '11798', '35530', '48900', '15890', '13315', '16800', '6165', '13985', '22147', '29100', '46695', '13709', '32525', '6407,5', '2940', '75581', '19037,2', '22498,2', '26219', '66504', '39090', '9169', '7478,2', '21866', '3820', '44660', '9970', '34766', '2878', '24357', '5120', '12304', '24933', '4673', '11395', '6204', '28557', '16590', '4607', '6319', '8373', '29942', '42689', '35550', '26337,6', '31680', '11391', '23410', '5016', '7985', '15638', '28715', '21658', '8047', '5950', '17998,2', '4919', '9597', '6696', '37560', '10995', '35326', '21704', '21200', '4042', '11685', '12350', '16112', '26819', '5504', '14916', '11288', '19316', '13009', '23488', '26600', '10342', '37880', '15270', '12317', '12590', '2009', '9173,88', '13388', '13438,3', '17811', '24061', '17450', '14400', '4408', '18180', '9080', '16240', '4520', '7407', '26720', '17605', '15237,1', '14280', '4730', '15619', '5832', '16460', '14991', '13476', '26060', '25840', '9862', '17873,75', '2800', '20086', '4810', '19860', '5997', '15870', '4436', '17990', '17952', '19050', '8235', '6599', '12166', '16362', '3646', '87600', '33862', '11455', '13507', '24070', '21980', '24179', '41700', '4633', '19770', '11968', '20229', '15856', '65629,5', '46800', '20009', '12384', '3920', '12884', '5169', '17372', '7859', '21000', '23451', '6263', '14540,04', '27860', '24717', '4290,91', '32935', '6880', '5602', '20698,2', '31672', '13420', '30360', '6732', '71740', '11269', '16110', '19940', '23130', '7500', '56899', '5517', '19929', '15610', '24000', '4602', '3411', '3370', '28800', '12650', '16039', '19040', '17599', '83407', '3979', '3245', '17712', '27970', '3575', '21480', '18590', '28241', '3222,9', '3960', '6991', '11940', '12646', '6096,13', '6230', '2268', '4060', '21850', '20852', '28308', '11580', '45750', '74482', '18689', '5770', '2075', '3565', '4879,8', '49653', '12672', '3970', '30300', '8160', '21246', '12572', '12575', '26276', '15045', '13910', '7348,52', '3860', '3850,85', '29000', '2800,85', '17775', '15325', '9400', '13887,68', '12599,9', '23437', '5304', '13300,91', '11308', '6748', '16455', '15844', '8771', '26889', '11600,6', '25490', '28400', '3069,9', '17842', '90747,9', '11426', '19358', '18690', '7649', '11021', '7677', '16099', '21160', '4683', '11345', '3850', '3167', '5805', '6651', '14096', '18797', '18000', '12843', '10287', '9308', '17432', '11986', '8960', '8275', '6970', '74650', '5208', '16991', '22798', '15186', '6539', '14927,83', '9573', '14845', '27400', '10714', '16687', '9053', '5357', '17756', '7452,4', '27795', '4386', '16830', '10467,1', '19905', '17076,2', '4679', '11204', '20570', '11995', '15164', '37857,2', '19218', '29790', '14787', '88312', '32790,9', '4311', '8560', '10990,94', '15170', '7755', '13650', '7513', '21578', '18624', '48920', '30960', '14800', '23406', '8230', '89640', '35670', '22520', '25950', '11298', '16890', '5298,1', '5694', '5908', '14678,63', '74466', '18868', '5760', '86618', '88440', '4546', '5020', '10352', '21778', '29220', '9979', '82162', '8148', '6870', '4450', '15690', '2899', '21470', '18175', '50940', '25459,3', '26529', '14947', '9920', '9199', '11093', '13730', '36490', '7497', '22588', '16220', '3668', '3537', '20590', '5867', '31317', '25570', '9158', '94330', '3307', '22428', '11529', '13615', '27360', '24408', '5989', '31090', '8299', '4098', '3434', '10675', '10034', '35600', '12822', '18602', '7115', '10248', '37017', '8448', '10354', '19419', '4658', '9550,82', '5937', '16470', '6770', '15272', '11394', '33920', '11081,52', '8250', '3580', '6209', '30510', '22070', '20140', '19799', '4499', '20179', '12189', '18710', '13800', '8100', '13688', '3923', '32907,5', '6380', '6181', '18940', '21405', '7550', '14660', '14866', '8788', '13318', '11890', '35787', '25320', '12700', '7700', '6525', '9338', '5579', '22575', '7655', '11502', '3876', '2872', '5510', '32540', '9710', '2691', '8890', '21880', '14725', '41837', '7302', '37400', '38725', '41132', '18080', '6893', '17528', '29980', '19021', '7495', '10920', '13770', '37800', '20653', '5198', '5440', '26232', '20750', '19189', '5450', '24220', '11368', '4470', '9988', '24772', '5941', '62700', '16199,2', '8090', '5824', '7787', '6289', '91536', '8300', '8675', '7315', '16780', '33476', '12908', '24346', '23650', '20609', '15740', '13441', '27580', '16191', '23290', '27096', '6781', '6217', '8901', '17624', '8984', '21464', '21746', '17610', '6340', '20375', '93000', '8381', '29006', '33400', '17789', '6455', '13841', '2330', '7327,8', '11876', '18964', '17704', '15555', '9614', '22528', '10424,6', '19129', '20562,2', '77762', '56700', '14284', '19699', '28402', '18220', '9510', '3987', '20650', '35320', '4462', '5089', '11430', '7319', '20645', '23152', '9470', '10422', '14080', '9620', '21910', '25900', '13450', '14190', '14150', '9278,1', '24980', '5699', '23315', '11750', '20007', '17538', '34000', '10740,64', '5632', '15079,91', '93400', '5369', '85100', '24239', '24711', '7022,7', '7589', '18471', '12898', '7797,6', '31500', '11297', '3230', '23220', '8870', '18414', '3996,9', '10693', '11200', '4170', '19044', '32765', '10438', '14520', '9420', '44030', '12365,2', '6966', '22162', '6503', '50000', '22880', '37100', '5119', '11450,9', '5745,12', '17815', '26961', '11040', '20280', '8097', '11790', '7660', '33320', '11030', '6828', '22536', '36093', '31806', '6700', '29070', '13934', '16169', '23550', '5415', '5051', '12251', '8098', '27645', '4563', '4840', '13382', '33598', '20059', '6136', '16550', '8800', '18210', '17200', '4590', '82800', '28039', '22500', '13332', '13180', '14996', '3730', '13940', '7235', '16701', '9592', '14770', '6386', '15033', '4430', '2889', '3701', '13399', '4270', '6301', '28745', '19184', '13455', '19046', '8997', '13577', '31294', '8078', '18530', '20200', '14625', '11819', '17247', '12019', '6507', '5023', '22987', '3614', '31817,2', '21400', '15859', '8570', '17956', '21042', '5970', '5070', '12197', '18162', '5984', '23661', '25700', '15034', '8500', '3801', '5426', '3448,8', '12702', '8568', '5772', '5718', '3420', '6800', '11536', '18696', '11398', '16381', '8720', '13350', '26658,9', '10600', '13191', '17561,8', '9412', '3980', '28238', '13719', '8762', '31333', '7991', '32580', '11510', '66578', '5207', '19751', '21100', '3034', '9429', '6040', '12077', '50950', '10189', '17399,2', '5438', '13392', '19589', '44000', '16798,2', '13539,2', '45110', '10170', '20433', '23749,76', '9557,1', '36267', '3639', '15727', '15647', '18980', '13463', '2979', '13326', '3815', '7703,1', '32400', '41600', '5449', '13460', '25720', '18130', '3990,92', '22660', '17895', '24690', '24465', '6481,8', '4758', '5929,95', '16364', '11496', '17940', '3474', '5748,3', '18004', '4040', '20833', '9769', '9768', '4191', '71400', '16897', '6036', '26547,1', '16715', '10584', '24721', '23147', '17430', '3961', '15127,4', '20883', '26091', '8600', '28472', '27250', '9999', '11699', '6745', '32444', '23999', '5103', '9840,6', '6518', '16107', '16596', '7620', '11910', '18499', '22450', '5678', '27617,1', '8767', '3780', '6081', '17110', '5806', '9150', '21901', '12518,5', '6900', '26642', '7381', '6266', '12610', '5735,7', '25780', '21499', '7849', '26500', '13078', '12385', '8270', '5730', '31702', '5594', '8459', '26054', '3114', '5963', '26580', '6903', '2700', '5620', '3220', '3894', '27200', '9061', '42000', '12890,92', '84800', '12947', '16627', '10466', '85270', '28220', '17541', '6698,3', '26085', '22618', '8543', '4769', '12490,9', '21146,4', '7060', '9393', '2489,4', '14092', '13520', '98996', '11323', '32706', '15319', '16740', '13698', '7850', '13112', '23735', '16005', '27750', '26886', '5197', '38553', '10804', '6086', '23820', '17460', '29040', '40050', '14994', '9889', '10991', '12136', '23347', '9720', '19840', '2879', '13000', '2745,9', '28594', '11025', '24340', '5259', '8064', '20295', '23396', '6892', '4185', '16227', '2440', '10238', '17162', '4389', '7829', '19734', '10523', '71500', '4040,1', '15269', '23310', '23355', '32819', '18090', '4209,2', '52200', '11748', '12829', '3376,8', '22121,1', '19620', '6793', '13195', '34557,1', '13020', '30813', '4070', '14522', '51570', '88300', '26560', '35744', '6364', '9278', '25313', '22959', '10767', '15247', '23737', '9389', '19670', '20874', '2060', '12720', '35400', '8918', '18549', '11576', '4542', '31587', '11389,2', '13284', '24929', '6514', '11989', '20310', '11897', '8556', '12053', '22799', '19772', '5900', '9069', '14438', '7334', '20977', '6269', '11202,3', '3499', '6830', '89018', '19920', '13993', '13888', '28983', '18074', '7291,85', '2223', '24130', '6679', '7395', '3023,58', '3006', '16732', '3050', '3725', '12454', '21907', '2910', '24200', '25350', '2299', '28350', '13001', '10286', '11720', '37305', '5218', '19089', '4660', '12710', '24198,2', '14495,35', '5427', '9669', '9551', '2855', '11450', '7988', '18643', '35060', '22124', '5384', '7376', '30100', '14380', '32114', '16398', '7749', '10381,5', '11396', '14441', '22098', '10782', '14978', '7019', '31221', '19220', '6330', '17453', '13090', '36260', '37531', '4888', '17716', '14880', '6822', '9263', '20298', '41400', '17399,1', '7680', '12059,1', '6130', '15468', '21120', '8753', '9268', '10000', '10665', '27456', '3270', '3470', '9532', '11725', '13165', '15838', '15806', '25340', '25640', '10566', '11259', '14980', '7954', '23170', '5430', '44495', '80973', '6023,7', '13785', '5849', '19590', '21570', '29900', '12872', '20770', '24047', '3909', '5276', '10071', '14989', '5830', '20160', '33500', '31415', '4750', '6108', '11755', '15512', '17999', '5000', '13949', '9733', '3745', '39600', '22100', '24459', '16140', '6189,92', '5160', '6245', '8149', '20720', '13025', '5355', '40970', '24970', '21827', '26941', '23352', '13748', '9280', '3190', '23689', '6715,2', '41451', '4169', '21589,9', '9085', '15496', '15336', '5707,8', '13360', '3067', '25500', '15246', '6182', '19440', '3329', '41620', '27810', '5488', '4476', '7098', '29475', '53162', '49100', '24940', '10347', '13389', '28991', '3889', '20580', '9137', '5091', '9000', '3670', '30190', '76550', '7039', '25587', '11966', '10735', '10052', '11049', '19843', '10737', '20789', '9240', '35793', '24864', '24867', '6381', '11466', '11571', '11768', '7800', '12830', '4788', '11518', '11303', '14637', '2360', '11590,92', '21927', '4841', '14295', '18440', '3375', '33120', '38850', '58567', '5712', '3636,9', '18426', '9031', '14528', '16322', '2072,7', '15099', '15552', '31716', '4314', '18286', '16865', '7872', '11955', '3424', '32490', '15653', '11635', '5219', '19099', '87786', '12599', '7299', '17097', '25177', '24741', '2928', '20659', '17530', '13410', '12120', '6999', '6510', '5871', '13592', '11880', '3489', '16998', '16489,9', '22830', '6662', '3722', '17379,99', '7492', '13843', '17568,3', '23030', '19417', '33183,4', '13310', '13006', '26280', '23100', '16834', '10260', '9341', '11020', '21240', '15832', '14030', '19760', '28661', '11302', '9042', '3322', '13570', '9167', '5840', '10147', '12500', '24570', '10506,76', '6549,83', '21784', '19210', '14349', '34120', '22650', '7220', '35955', '13790', '3750,91', '2495', '12591', '37437,66', '21450', '19522', '3663', '8793', '10447', '29294', '12000', '3393', '3690,92', '3150', '12447', '22015', '30230', '2263', '5388', '7551', '20313', '10274', '17962', '7391', '23990,83', '20540', '8297', '25540', '15720,91', '10029,92', '4312', '29094', '9425', '11590', '11833', '17930', '18085', '9880', '14292', '9986', '17671,2', '22427', '3080', '28042', '21592', '39590', '28990,91', '19665', '3743', '26321', '28517', '6073', '19844', '12896', '19300', '7400', '13184', '20620', '16960', '26390', '4630', '5508', '6163', '31404', '28580', '9890', '11550', '17397', '23390,91', '17988', '10980', '14730', '4882', '15950', '5140', '24500', '23772,27', '25020', '3892', '28641', '17509', '7478', '13635', '25420', '20390', '35598', '3490,91', '13439', '9100', '13280', '22090', '13010', '12598,2', '34990', '15430', '23720', '27686,2', '5083', '54738', '2039', '17520', '24750', '27816', '8171', '27854', '4938', '3930,81', '13150', '30520', '5292', '12213', '13710', '18667', '13740', '28258', '9341,5', '21814', '46649', '15696', '4212', '3752', '10088', '24423', '10760', '22803', '6843', '4013', '16320', '14611', '12789', '16045', '15036', '7950', '4010', '6863', '18176', '5681', '45438', '26660,2', '18361', '18600', '9907,2', '10440', '12099,1', '3100', '6578', '70000', '13263', '8833', '34391', '15503', '5170', '32200', '52295', '13669', '29376', '13926', '5482,3', '22497', '9973', '12290', '21484', '9530', '11499', '73306', '39422', '4018', '8047,1', '7488', '50929,82', '9891', '25447', '17290', '9098', '8285', '31810', '13248', '15748', '18100', '35091', '7740', '6658', '27796', '19966', '36617', '6279', '6703', '21430', '3545', '11225', '9529', '6620', '5932', '12537', '40480', '23320', '36805', '3492', '31792', '83194', '10057', '7362', '18630', '28950', '14119', '15279', '4969', '23950', '15480', '9997', '2844', '19008', '34740', '61000', '14998', '16765', '23600', '22091', '21808', '28079,84', '9670', '23370', '15810', '10525', '13235', '27381', '27448', '2190', '10759', '26790', '24480', '4035,2', '6990', '13336', '33100', '12734', '18990,5', '10616,4', '15201', '7621', '26410', '5432', '4088', '24949,09', '14636', '18239', '5706', '42746', '7511', '10730', '8432', '3149', '3690', '21420', '29430', '8857', '25623', '27744', '10020', '11674', '24871', '3051', '3138', '9651', '7919', '20550', '10801', '5505', '19342', '26871', '10971', '4998', '11691', '18251', '9846', '4479', '3570', '22616', '18800', '21075', '4360', '11359', '18269', '18450,8', '27449', '14243', '21473', '4310', '26430', '9718', '15482', '24490', '26170', '18857', '9235', '16244,9', '88555', '26395', '18528', '42950', '11528', '3383', '9560', '16080', '18668', '13490', '10680', '4262', '14200', '7863', '12737', '4250', '13320', '20297', '22264', '76738', '10704', '4490', '13138', '9826', '4140', '10605', '12810', '18734', '17778', '12845', '16200', '11692', '39160', '6210', '44290', '7540', '27990', '34641', '25400', '11687', '26082', '2719,2', '4964', '4990', '17466', '18972', '23745', '25317', '6712', '22962', '25000', '8102', '4743,68', '4387', '8377', '7570', '12061', '7258', '2909', '43376', '21220', '54000', '20320', '13402', '15313', '6545', '9090', '79679', '3591', '24272', '19497', '24923', '22110', '11490', '12631', '21920', '9576', '4508', '22047', '6560', '50098', '13780,82', '11997,2', '22645', '10628', '17980', '50330', '77860', '11264,25', '9170', '35596', '3528', '7032', '12989', '34100', '9799', '19900', '15350', '10904', '21475', '13563', '8606', '5287', '29285', '17503', '3768', '2238', '14410', '10648', '59224', '7289', '12506', '27995', '12854', '15750', '21728', '7068', '18240', '14013', '13590', '18115', '6460', '37517', '8399', '10331', '11330', '29234', '25167', '14670', '10478', '8049', '36730', '20698', '6625', '37495,2', '6049', '10646,2', '31070', '10398', '9809', '11760', '31474', '3516', '21717,92', '11898', '5455,8', '24085', '12680', '5222', '12597', '9931', '7336', '6136,58', '5588', '5888', '10529', '7695', '8846', '6600', '9310', '6141,75', '29592', '27283', '8700', '18896', '13918', '15291', '60888', '16250', '5294', '4770', '26115', '12953', '8508', '4885', '13734', '38880', '6125', '18472', '25765', '21494', '41929', '11376', '26837', '3032', '29199', '5025', '5568', '22200', '25145,79', '49227', '8858,8', '17089,9', '18610', '9443', '3405', '18204', '3890', '4729,72', '5890', '24380', '3328', '3950', '28861', '20277', '7340', '27060', '11279', '25740', '5544', '13098', '2499', '9837', '12678', '28945'}\n",
      "\n",
      "\n",
      "==========\n",
      "FST_PAYMENT\n",
      "{'3165', '1005', '41000', '4139,36', '4823', '535', '3371', '5500', '4983,2', '1141', '1195', '5580', '1260', '4680', '281', '3787', '42518', '10240', '933', '936', '1371', '1597', '11560', '2825,5', '3830', '28000', '965,92', '4653', '2245', '1549', '1980', '4363', '553,6', '13100', '3568', '2338', '159', '1099', '1200,2', '381', '1267', '1243', '341,1', '4145', '783', '14500', '1213', '8082', '4210', '2293', '3569', '14448', '630', '4398', '39400', '4510', '1504', '450', '4949', '772,3', '2000', '2290', '27350', '455', '15600', '1093,4', '3136', '3290', '16000', '6317', '7243', '5100', '5245', '3749,74', '3609', '3200', '2310', '8710', '2403', '637,3', '70940', '1003', '33694', '2070', '1460', '375', '2025', '2016', '6598', '2398', '815', '1970', '813', '21900', '2099', '511', '549', '1442', '8274', '5400', '1992', '4523', '1997', '3100,3', '5150', '1082', '4014', '458', '1871,75', '48800', '456', '2160', '2098', '2985', '3390', '747', '418', '3335', '5383,85', '660', '1417', '2350', '3660', '5148', '1752', '12910', '2625', '713', '508,79', '250', '13750', '11860', '1411', '2690,92', '941', '559', '6325', '1463', '6835', '900', '1355', '7420', '824', '20000', '5979', '3498', '7990', '6534', '3720', '1649', '19000', '7034', '3595', '6837', '938', '834', '827', '3205', '5033', '480,9', '1528', '2651', '1855', '11000', '1561', '430', '6923', '1081', '478', '1897', '1374', '1605', '10397', '16515', '2568', '2667', '10465', '34492', '6750', '7883', '3000,92', '2980', '20890', '1065', '4536', '3763', '26550', '1808', '393', '1280', '3187,74', '2333', '774', '2031', '5050', '9790', '2898', '1722', '1784,81', '2954', '6127', '5560', '3385', '691', '443', '3711', '5244', '49200', '9793', '4925', '1815', '1890', '5985', '2745', '1515', '5650', '337', '842', '769', '4619', '6610', '3000', '552', '2007', '7816', '11425,8', '1424', '1530', '2816', '3415', '2000,9', '2477', '634,2', '10750', '304', '682', '5700', '555', '875', '413,1', '6730', '50500', '10619', '3678', '3363', '1500,2', '2598', '3408,8', '370', '2975', '50642', '7240', '2729', '2515', '9457', '10098', '4287', '4000,22', '6370', '735', '376,21', '2210', '2572', '3943', '60432', '9770', '14385', '1608', '20235', '1922', '2940', '2390', '9490', '4953', '9444', '2405,69', '3800,2', '9288', '1199', '24500,03', '5375', '8816', '2490', '3930', '643,7', '16070', '1261', '669,3', '1258', '2878', '14935', '5120', '17669', '1937', '2250', '4005', '6641', '4690', '475', '1883', '3400', '3320', '55000', '1487', '3299', '2900,5', '4910', '1293', '5767', '10700', '3910', '2198', '6550', '3449', '1056', '1813', '1750', '3318', '952', '1077', '5726,3', '2030', '955', '15886', '1256', '5752', '1255,41', '600', '13126', '1130', '868,42', '7000', '120', '54470', '6495', '2807', '699', '5950', '4919', '2011', '1046', '10015', '35000', '26000', '9108', '5990', '3160', '2758', '1933', '1172', '1125', '1289', '5999,2', '5504', '54870', '4600', '3293', '1015', '8790', '11800', '6240', '1866,6', '1760', '4289', '7200', '1648,5', '1266', '3214', '5445,92', '6785', '3440', '1000,2', '1973', '776', '1567', '520', '1099,9', '1560', '2760', '1982', '7350', '2205', '1474,3', '3183', '5200', '7080', '367', '3364', '2555', '985', '3874', '9602', '1020', '3023', '293', '599', '9788', '3765', '1207', '9500', '7880', '2472,5', '558', '51127', '7707', '5045', '1999,8', '608', '8342,38', '8688', '1978', '18400', '2778', '1115', '2062,5', '1545', '369', '6890', '1422,6', '9845', '258', '7528', '573', '2800', '9991', '3739', '3090', '3433', '706', '15000', '6200', '5540', '9300', '5022', '1819', '12044', '2680', '1310,62', '1338', '2765', '5300', '670', '10267', '11660', '1486', '4935', '579', '2015', '2832', '31350', '8688,09', '1050', '1796,94', '1340', '5074', '724', '3482', '5899', '6290', '5075,84', '1455', '1677', '2121', '1010', '3657', '7049', '1488', '10136', '1398', '1710', '9418', '2179', '4565', '512', '9528', '1200,8', '651', '14000', '3448', '409', '5398,1', '19355', '2259', '930', '463,2', '21000', '3669,6', '626', '667', '3245,95', '1860', '446,05', '1001,7', '1935', '2930', '11027', '2988', '540', '675', '5305', '15670', '839', '1622', '820', '2237', '2029', '362', '2934', '5550', '3700', '4330', '353', '676', '1955', '4263', '2500,4', '3350', '9391', '10900', '7500', '1215', '1348', '5517', '4086', '1312', '4343', '1000,1', '1399,7', '2698,93', '300', '24000', '3359', '645', '3411', '625', '19950', '3370', '11924', '28800', '2132', '1462', '16000,1', '893', '1090', '8879,48', '685', '6396', '2114', '14786', '1759', '3245', '726', '1540', '305,1', '1786,9', '1165', '2990', '3575', '2355', '25089', '3960', '7531', '2689', '3538,92', '1009', '31000', '10516', '7567', '1557', '4060', '1700', '5786', '1702', '1639', '2001', '0', '980', '481,8', '1959', '4806', '1952', '798', '10431', '1895', '269', '977', '3970', '1950', '1200', '5352', '1300', '1430', '1990', '4110', '1680,82', '239', '553', '13613', '930,91', '718', '1958', '400', '9400', '777', '858', '3463', '1225', '5800', '3270,82', '754,2', '6748', '891', '1975', '2289', '391,2', '4978', '272', '8349', '1873', '2869,9', '5472', '16484', '1508', '2080', '3850', '959,3', '3252', '1899,9', '4830', '6445,86', '5461,11', '2553', '1987', '1503', '18000', '3170', '4000', '3000,91', '2840', '2022', '1740', '2206', '1884', '3084', '640', '2348,8', '639', '2911', '3698', '1087', '1297', '4650', '3677', '40100', '588', '3610', '9639', '4138', '1385', '1393', '6000,81', '383', '11221,5', '3800', '3410', '589', '9040', '6844', '1500,92', '2384', '4082', '748', '800,82', '9699,69', '1190', '2444', '3304', '2865', '7553', '334', '2010', '3511', '3810', '1499', '2299,8', '49038', '1820,94', '6410', '6975', '725', '4346', '781', '10560', '1042', '473', '2698,89', '2500,2', '4190', '4020', '21094', '2754', '13650', '1374,88', '12335', '9871', '705', '800', '1299', '832', '269,1', '704', '2370', '6050', '562', '1279', '1390', '1866', '687', '2510', '28257', '1259', '5260', '606,2', '5010', '4580', '6929', '2696', '3534', '2491', '5532,66', '5760', '2369', '400,2', '1394', '3003,3', '439,95', '3454', '359', '4000,9', '3330', '17000', '694', '464', '9979', '5095', '4260', '1999,2', '1829', '1510', '1126', '1257', '6910', '2899', '4450', '940', '5246,5', '13670', '2450', '7250', '459', '1588', '306', '2199,95', '366', '2613', '2040', '542,2', '444,1', '3502', '368', '3060', '1356', '9838', '29860', '2090', '2811', '4000,92', '7170', '10497', '6398', '3537', '2000,22', '5690', '1717,92', '1254', '2597', '1885', '847', '1112', '34923', '1915', '2860', '1353', '700,83', '1306', '507', '1550', '4053', '1809', '15091', '283', '686', '6399,9', '2052', '20595', '8900', '5989', '10489,92', '1829,43', '500', '421', '217,5', '42906', '16086', '5722,21', '5361', '4098', '2356', '11382', '5155', '8117', '1326', '14753', '6513', '1399,3', '845', '26565', '711', '3311', '677,5', '1160', '2323', '899', '3620', '7125', '4155', '4995', '4700', '1146', '10795', '517', '250,6', '4500', '5744,5', '238', '1291', '586', '8250', '1779', '695', '1788', '2803', '9248', '2047', '556,2', '1250', '1271,1', '2710', '1470', '496', '2222', '6481,31', '413', '1609', '888', '804,5', '4499', '3880', '637,4', '6789', '1030', '1091', '780', '1196', '1132', '2092,94', '1036', '2315', '8100', '5746', '446,88', '4050', '14760', '1771', '3088', '10933', '5980', '2270', '3339', '2858', '2455', '9096', '7550', '16350', '2522', '3585', '11890', '8522,2', '2110', '6650', '3425', '1489', '12700', '6995,92', '1610,4', '7700', '2532', '2394', '555,2', '5902', '4348', '3049', '855', '2459', '3210', '2155', '6400', '18900', '2487', '2500', '1556', '345,3', '5350', '290', '1340,92', '1948,92', '5000,8', '759', '2550', '316', '435', '2024', '1874,7', '2567', '825', '4640', '39487', '10350', '18080', '2395', '448,9', '4225,44', '2518', '7506', '7495', '3159', '22399', '4817', '7128', '35800', '352', '631', '2201', '5198', '3107', '2700,75', '5440', '1901', '9375', '8000,91', '3510', '2467', '544', '550', '19521', '3095', '7447', '4199', '2604', '1556,8', '2770', '1008', '5450', '4184', '1842', '1410', '22097,99', '2508', '1475', '2668', '1634', '915', '6151', '3000,2', '4319', '532', '7794,92', '3100,1', '539,09', '8945', '2647', '1717', '5814', '1333', '3318,4', '2166', '1035', '1685', '525', '10729', '13395', '9955', '760', '1386', '11044', '8300', '1845', '7207', '8650', '1747', '1331', '10400', '1058', '311', '2998', '1590', '2596', '601', '627', '1253,7', '528,5', '6217', '2574', '1691,6', '17610', '1268', '754', '6340', '1914', '384', '513', '319', '2560', '2330', '1063', '14940', '1201', '1949', '5000,91', '1899', '7095', '323,25', '360', '1509', '9910', '2650', '2399', '375,2', '1700,91', '514', '1330', '6957', '1660', '519', '150', '2414', '3750', '60488', '10394,5', '596', '200', '20645', '1869', '947', '13772,82', '2830', '863', '53541', '1481', '6115', '18589', '344,8', '3550', '50', '580', '3916', '1433', '3216', '1361', '4715', '1373', '659', '14190', '677,3', '2599', '16481', '7764', '2750', '6297', '2200,05', '2564', '2826', '2616', '7747', '7586', '710', '34000', '6646', '1445', '1781,83', '18735', '1458', '1392,4', '1000', '5811', '732', '1383', '1763', '2244', '4000,5', '1680', '4300', '1328', '1381', '943', '2460', '1889', '878', '5670', '613', '2900', '1566', '958', '638', '1072', '3230', '3374', '4095', '6509', '1524', '15701', '11200', '1000,95', '1050,92', '6500', '1894', '485', '2050', '1615', '1016', '2429', '3236', '2482,84', '50442', '4550', '9267', '2775', '50000', '1151', '355', '1656', '16750', '927', '3369', '1107', '12999', '323', '4937', '2504', '3590', '690', '850', '5036', '3899,95', '740', '7660', '1319', '10140', '8008', '1507', '39910', '2578,8', '468', '3380', '1912', '1491', '1765', '672', '650,95', '6700', '1629', '690,95', '1495', '2730', '1523', '6323', '1800', '610', '4335', '5940', '949', '1849', '12251', '4230', '1991', '3055', '720,2', '11990', '2915', '969,8', '1477', '3639,5', '8800', '2850', '7270', '342', '4590', '13526', '1834', '1544', '3092', '2514', '22500', '1405', '1812', '7845', '571', '2136', '449', '2240', '1247', '460', '756', '7238,86', '420', '60245', '2702', '2410', '3730', '390', '5750', '3235', '1789', '1497', '468,1', '1229', '4197', '1565', '457,5', '7995', '10467', '363', '21750', '545', '18719', '416', '8120', '648', '13776', '764', '488', '280', '2157', '1928', '1880,2', '4430', '1380', '1000,67', '4270', '1924', '2228', '7000,5', '5820', '1580', '2469', '1108', '1147', '16100', '2880', '3901', '5847', '7110', '2079,02', '1635', '965', '7261', '619', '1399,8', '1892', '564', '1170', '530', '2697', '1751', '7100', '299,1', '867', '12211', '1368', '9898', '4593', '5210', '7547,8', '279', '1310', '3779', '392', '5023', '2186', '11440', '11673', '1231', '0,95', '26090', '5177', '4629', '1366,05', '1921', '56638', '4399', '1670', '7300', '7464', '1501', '1185', '3450', '8400', '2923', '2863', '4455', '5999', '8500', '1399', '4353', '1080', '2239', '1071', '1102', '10000,1', '1106', '10097', '5718', '1778', '6554', '1570', '5631', '709', '2952', '6800', '1351', '1940', '2530', '1996', '9996', '799,5', '1841', '1244,7', '1041', '2034', '3037', '3130', '5366', '315', '1939', '3159,86', '2000,92', '2740', '3980', '857', '616', '13519', '276', '340', '230', '1161', '1287', '1720', '9472', '364', '3414', '1337', '2457,9', '7124', '3872', '13140', '4846,96', '1288', '249', '1198', '1962', '2013', '1179,6', '54080', '4000,91', '4267', '11548', '2345', '681,2', '5838', '1864', '3275', '2517', '3815', '10177', '1034', '3435', '1818', '3391', '33590', '249,3', '65000', '16668,82', '2046', '21839', '1302', '1994', '13818', '3444', '12600', '833', '3666,2', '567,3', '6948', '3223', '2470', '2590', '973', '1823', '437', '1392', '1625,2', '3935', '1600', '5279', '11233', '887', '775', '6300', '1482', '889', '4194,3', '10460', '1040', '515', '2500,8', '1139', '4040', '2279', '2387', '771', '6196', '2498', '7541', '1721', '1255', '3264', '934', '11754', '531', '3014', '5705', '912', '1802', '4198', '5660', '767', '979', '2846', '1694', '642', '5708', '9800', '652', '2790', '8751', '3597', '788', '1379', '3212', '1555', '3126', '14440', '2175', '3999', '4697', '240,6', '32750', '1516', '2798', '1329', '2877', '1272', '2130', '8650,48', '3028', '7776', '838', '3975', '15939', '2095', '3780', '3469', '17110', '2655', '44963', '1719', '1595', '6900', '426', '1075', '723', '4390', '48052,1', '818', '1880', '1143', '160', '1814', '1053', '984', '2420', '859', '213', '2170', '2380', '3680', '5730', '1233,2', '10706', '5594', '2280', '4546,8', '25131,59', '2233', '6100', '2454', '7082', '3114', '2887', '210', '576', '2587', '9570', '779', '2700', '3220', '8540', '49582', '8190', '15000,4', '1341', '10725', '1847', '560', '2569', '1210', '6228', '598', '1365', '3413', '539', '1876', '1123', '2649', '998', '8750', '1703', '3600', '479', '1899,8', '736', '1800,1', '4517', '1715', '2076', '3969', '2231', '874', '8618', '4011', '7659,01', '2017', '4080', '529', '320', '1821', '3215', '2499,8', '962', '1960', '1770', '2835', '1568', '14100', '2901', '24800', '2149', '10637,7', '729', '1089', '13400', '3300', '3298,92', '1515,7', '2688,69', '681', '4200', '680', '2843', '3104', '1270', '346', '11762,27', '1900', '11076', '377', '5108', '509', '4567', '3822', '2200,91', '3480', '1596', '13203', '4675', '48210', '1284', '23700', '2213', '964', '755', '30000', '1290,6', '3619', '14221', '674', '1360,92', '2879', '13000', '4498,91', '4809', '2916', '1514', '6480', '1230', '1630', '1830', '1278', '749', '1050,33', '1535', '8064', '816', '2299,9', '10981', '730', '4870', '1235', '1103,85', '3599', '4185', '2178', '1084', '10026', '6875', '2440', '1961', '5703', '739', '6010,3', '3357', '2027,7', '1180', '11689', '9250', '3124', '1700,95', '4746', '2000,7', '2716', '999,2', '4318', '373', '582', '1484', '987', '561', '7795', '3087', '4504', '2580', '6820,45', '205', '687,7', '1265', '1248', '3140', '1872', '3538', '10270', '9700', '541', '1575', '518', '1025', '1731', '7600', '3990', '276,6', '2605', '4186,59', '3760', '1295', '1395', '2615', '39804', '4045', '2173', '1899,1', '5667', '11500', '21500', '2857', '1512,1', '5784', '46300', '5928', '2060', '10696', '1069', '3679', '2045', '814,2', '19430', '5373', '11230', '2077', '2570', '5850', '3403', '2997', '4280', '330', '953', '3360', '510', '6820', '5001,9', '8', '2365', '1051', '1800,2', '1837', '5900', '1559', '3284', '46832', '301', '1776', '6007', '522,4', '10100', '1245', '503', '3499', '1148', '1835', '8040', '2324', '9784', '5610', '2055', '1264', '2763', '498,6', '25300', '3392', '8923', '3099', '10227,2', '1153,5', '1171', '6000,1', '6599,8', '7230', '1887', '2223', '10090', '3119', '3907', '3105', '6950', '4444', '835', '43359', '1150', '2780', '7395', '1400,95', '1500', '25405', '40758', '3006', '2433', '3050', '594', '1786', '5226,9', '9900', '10008', '2910', '1500,5', '3899', '860', '15900', '0,92', '3172', '3500', '7298', '499', '663', '2125', '4660', '6174', '17500', '1828', '5844', '2981', '2180', '6519', '1490', '745', '4403', '2855', '2665', '554', '440', '2520', '1780', '405', '18375', '4091', '3249', '415', '19151', '4579', '5812', '4948', '6832', '2286', '1029,41', '2610', '1865', '1522', '1279,9', '16400', '1188', '1281', '1768', '247', '1689', '7953', '1701', '399', '41580', '7019', '1999,94', '9922', '6138', '8940', '1120', '1547', '5192', '1327', '3240', '649', '2253', '1370', '14990,94', '2861', '3650,1', '2248', '1322,9', '433', '371', '694,2', '9664', '2584', '2437', '451', '3621,7', '3442', '3228', '225', '479,8', '1860,9', '2287', '2955', '7507', '728', '2260', '3278,9', '5038,1', '5000,1', '9039', '410', '4798', '989', '10000', '2608', '6933', '3270', '3470', '2352', '1679', '1124', '5081', '2413', '557', '4950', '1012', '1013', '971', '299', '1725', '10550', '10041', '21696', '5044', '5600', '404,1', '772', '2885', '4712', '1103', '54910', '9411', '22400', '2888', '1168', '10512', '2067', '4364', '12100', '10950', '2600', '10152', '438', '1785', '988', '4750', '970', '929', '10051', '9663', '5000', '3745', '39600', '3495', '4597', '1110', '2559', '1420', '251,1', '6160', '9037', '1534', '9325', '6357', '974', '3790', '15140', '12144,42', '2415', '1095', '6326', '9272', '3870', '1159', '4352,37', '605', '799,92', '1220', '296,8', '3735', '590', '873', '1273', '285', '3015', '3829,6', '10557', '942', '5998', '1690', '7964', '13360', '1004', '9824', '6075', '799', '1571', '1360', '1418', '2776', '3120', '2480', '3257,04', '19990', '2620', '7750', '4476', '646,5', '260', '500,39', '7633', '2044', '8099', '25599', '1450', '168', '765', '643', '489', '6257', '1222', '9000', '3774', '1179', '3670', '4160', '470', '606', '6320', '3043', '1790', '1064,2', '894', '3108', '8680', '1434', '1292', '738', '2588', '10000,92', '4268,72', '1969', '3010', '11090', '4027', '2100', '4498', '20644', '1309,65', '2142', '1121', '7142', '2949,7', '2006', '4274', '1666', '5460', '11080', '5097', '2653', '1175', '7800', '2635', '4788', '1440', '2375,68', '11337', '2360', '4739', '696', '4916', '3310', '1249,95', '538', '1995', '5340', '1546', '256,2', '223', '1584', '700', '2442', '1004,2', '2698', '2131', '2328', '1389,8', '1870', '4632', '551', '4030', '2197', '2937', '1810', '9695', '1140', '2316', '752', '1517', '1400,1', '2966,2', '1290', '4370', '717,2', '636', '546', '36330', '4686', '49356', '1155', '7836', '4100', '982', '480', '1705,5', '363,5', '2014', '9661,66', '1246', '5499', '2349,6', '14640', '5250', '19556', '628', '5521', '2703', '11600', '2538', '15680', '177', '75606', '1708', '6699', '6999', '5145', '29590', '1093', '7913', '1252', '3489', '490', '10800', '527', '3710', '386', '2285', '2490,95', '2485', '6945', '365', '3265', '2926,4', '9498', '197', '4587', '9574', '7148,1', '3520', '10260', '10515', '895', '11020', '750', '1318', '16657', '524', '2151', '4900', '840', '10434', '1745', '797', '2199', '3162,71', '508', '336', '2466', '10147', '2278', '981', '12500', '2753', '52182', '13536', '326', '1695', '2294', '2135', '6670', '1806', '8328', '1339,9', '602', '7631', '612', '7623,3', '855,9', '2848', '9750', '9960', '13790', '780,1', '2495', '8390', '5710', '1841,91', '2805', '27000', '2845', '1158', '2368', '4521', '10650', '917', '10', '4551', '1059', '12000', '697', '3703', '570', '1619', '19958', '2660', '1638', '6532', '3902', '3150', '1625', '2849', '3173', '4393', '2263', '8499', '4768', '1500,95', '3137,9', '4081', '2357', '9445,95', '1512', '2088', '655', '358,1', '2235', '3439', '1018', '9425', '2204', '808', '395', '1620', '542', '698', '5060', '17930', '2346', '431', '4980,91', '13807', '13580', '339', '3266', '1591', '2062', '1831', '2751', '9200', '3334', '3080', '1045', '3073,8', '4775', '7811', '950,92', '1216', '3260', '3687,5', '920', '2409', '1240', '3045', '1820', '2192', '50120', '1661', '4350', '7400', '309', '3685', '3078', '2549', '1479', '1320', '1632', '12300', '2265', '2950', '2247', '3064', '2358', '6625,16', '2749', '10980', '2000,2', '18850', '7174,87', '8640', '16293', '5140', '746', '5387', '24500', '1598', '3000,95', '644', '2041', '11292', '4245', '1152', '130', '1197', '8480', '1369', '9730', '1384', '6575', '18152', '7165', '1480', '419', '38800', '3298', '2528', '2535', '3195', '870', '2039', '778', '2688', '1739,69', '1999', '9964', '4851', '14806', '9520', '1599', '790', '918', '1453', '1708,5', '2852', '1026', '10425', '10000,2', '1703,2', '853', '8263', '1300,92', '1343', '567', '1457', '2685', '999', '7822', '3752', '575,2', '7118', '795', '734', '1226', '3555', '229,5', '2999,6', '846', '3846', '3995', '2614', '1543,5', '956', '2643', '7950', '4986,5', '2000,6', '10205,5', '6543', '1910', '9685', '3340', '9568', '948', '3416', '53370', '3984', '2458', '3100', '2999,9', '793', '911', '9254', '299,92', '4320', '13539', '1313', '592', '3288', '75500', '465', '5170', '1116', '1957', '2000,4', '1182', '6000,95', '4206,8', '1655', '60360', '30660', '868', '2375', '5240', '3086', '1178', '9530', '407', '1573', '792', '2571', '905', '3097,8', '3194', '4018', '9068', '1704', '1670,69', '1540,84', '7520', '469', '742', '5002', '3000,4', '8389', '1498', '7630', '715', '2500,95', '4720', '1303', '7477', '7945', '429', '4800', '656', '2129', '1674', '7740', '485,8', '1202', '3346', '623', '7670', '2084', '2962,1', '2437,5', '3545', '2335', '46500', '495', '1119', '1271', '3398', '350', '2340', '2383', '7900', '4358', '1135', '2000,79', '176', '849', '11116', '1048', '3492', '388', '379', '780,3', '2373', '439', '3658', '140000', '868,83', '12358', '1176', '4992', '11597', '2430', '29500', '10095', '422,1', '9600', '4340', '1363', '3885', '1898', '10695', '2327', '14220', '677', '1000,89', '854', '3717', '3250', '138', '2712', '2028', '349', '8320', '2586', '3135', '2004', '10525', '2892', '629', '925', '2190', '10759', '1000,92', '268', '7805', '6990', '2419', '1574,1', '1469', '2400', '2630', '1204', '1767', '744', '4239', '1563', '5038', '880,2', '8450', '1275', '10330', '1581', '1238', '26410', '34698,2', '3202', '900,2', '4434', '2547', '7669', '2864', '230,3', '3795', '1875', '3297', '445', '845,5', '4828', '8164', '712', '2772,13', '5735', '2300', '55982', '729,1', '3149', '1572', '3020', '1060', '890', '3180', '10527', '41774', '3900', '12012', '2200', '5761', '3277', '4395', '3997', '13500', '21648', '1920', '3138', '5130', '3198', '2112', '1138', '20550', '2784', '1294', '5817', '38000', '30303', '880', '1956', '1055', '3524', '4666', '8000', '3570', '7116', '40664', '1640', '8180', '425', '615', '1888', '387', '424', '18800', '8820', '7480', '1671', '2019', '4360', '3602', '457', '3039', '1799', '4989,92', '1452', '2288', '2947', '2020', '622', '1098', '75570', '1700,92', '6541', '4310', '1682', '515,85', '62250', '2708', '910', '54230', '15500', '380', '4275,2', '650', '7590', '1610', '2540', '1239', '54929', '3333', '247,2', '6365', '2140', '1840', '6882', '1011', '1047,82', '2935', '3484', '1039', '11528', '635', '11900', '6777', '6491', '1070', '23900', '3500,6', '13300', '8734', '14200', '737', '45000', '4250', '7820', '9020', '1129', '9047', '9016', '23000', '1049', '1525', '4490', '13700', '7020', '53530', '3794', '848', '1002', '885', '516', '5609', '2482', '337,1', '2674', '1936', '1824', '3451', '7185', '2420,1', '770', '1408', '4177', '9754', '25400', '2506', '1100', '4990', '1989', '2325', '1519', '638,7', '2970', '5611', '1111', '10502', '2670', '6712', '2686', '2331', '25000', '995', '8125', '2220', '2890', '5143', '4387', '758', '4048', '2958', '1651', '2150', '4315', '6000', '5320', '4820', '2096', '389', '40000', '2248,1', '4647', '2230', '688', '2640', '4815', '633', '4752', '13200', '787', '620', '1305', '1726', '3337', '3186', '2115', '3718,2', '29080,92', '11490', '695,2', '3000,68', '51929', '757', '2159', '3110', '18588', '2690', '684', '3596', '2283', '2271', '903', '436', '2595', '7259', '727', '4235', '1533', '524,85', '862', '2156', '861', '2810', '2218', '2870', '2078', '653', '1850', '1520', '11024', '1730', '877', '10230', '2238', '828', '3169', '3294', '2493', '2053', '3209', '3688', '3605', '3490', '4850,8', '6782', '4400', '1805', '2720', '63219', '837,91', '11320', '44500', '1364', '599,95', '1876,25', '3158', '1650', '668,71', '48156,13', '10200', '9480', '292,2', '1737', '4480', '1444', '1854', '1181', '810', '565', '5234', '3840', '720', '2152', '3319,7', '6603', '2372', '9550', '3516', '1094', '432', '2320', '4743', '9190', '869', '58800', '618', '9270', '583', '372', '1219', '3650', '485,2', '2364', '332', '5437', '1431', '2000,85', '1877', '3134', '7882', '6600', '7519', '3030', '2796', '1619,95', '8700', '1648', '1493', '1350', '16250', '508,5', '669', '1376', '4770', '10007', '990', '3976,32', '5000,87', '2241', '2634', '2167', '234', '19924', '3148', '574', '6387', '10500', '3280', '5562', '1693', '1251', '1930', '1438', '4742', '658', '786', '1269', '811', '5790', '960', '1400', '692', '921', '830', '2920', '2593', '4898', '26802', '8998', '1092', '3426', '4944', '22000', '1979', '1686', '3157', '10723', '510,9', '16500', '5890', '3328', '1653', '12520', '950', '3950', '2989', '2797', '29032', '23800', '10162', '2347', '2632', '1735', '8200', '4708', '100', '449,1', '383,2', '5248,91', '2499', '3740'}\n",
      "\n",
      "\n",
      "==========\n",
      "LOAN_AVG_DLQ_AMT\n",
      "{'2151,50333333333', '552,57', '1620', '2510', '1033,905', '2280', '957,59', '1113,335', '5500', '4760', '1670,18', '1068,47', '532,24', '1260', '1634,81', '1931,44', '4680', '429,11', '1535,89', '2569,05', '2235,225', '5760', '2700', '2510,2', '651,625', '1830,2', '2701,26', '2462,1', '1477,37', '2379,46', '1182,23', '879', '1492,404', '948,58', '3080', '1683,49', '1344,33', '1845,5', '2368,84', '1509,44', '560', '327,98', '1626', '1210', '3330', '677,474', '1639,99', '481,506', '1686,92', '3260', '1980', '1666,28', '2477,64', '920', '4260', '1240', '1510', '1781,225', '673,02', '4450', '940', '1820', '2450', '4350', '3106,29', '3600', '789,23', '5545,0225', '4530', '2040', '4210', '2647,9', '630', '450', '845,55', '702,23', '2000', '2957,71', '2290', '4630', '2656,68', '2044,155', '4164,34', '3060', '753', '1320', '2549,52', '1770', '2090', '554,36', '1144,03', '1879,28', '1960', '1056,95', '1663,27', '5410', '750,175', '714', '510,136666666667', '2310', '3964,85', '1296,74', '1939,61', '3200', '656,705', '1439,9', '2961', '837,48', '1091,2', '1957,21', '2950', '1582,435', '3300', '3018,275', '2860', '569,121428571429', '658,42', '1029,75', '2070', '1460', '767,7', '1550', '1149,495', '1152,15', '4200', '5140', '680', '1498,26', '535,53', '755,063333333333', '1270', '1549,18', '3072,475', '1529,06', '1970', '1985,3', '726,57', '1215,45777777778', '500', '4920', '1900', '2326,81', '2201,11', '94,89', '1140,2', '51,8', '776,3', '3480', '769,43', '2796,66', '2186,585', '1508,79', '1319,56', '366,58', '778,32', '1160', '567,16', '1480', '526,563333333333', '2160', '605,496', '913,4975', '3716,35', '2269,565', '762,93', '3620', '3390', '670,085', '1412,55', '2142,2', '1986,88', '660', '870', '4700', '3660', '1778,635', '849,085', '2350', '3102,49333333333', '2139,63375', '8020', '1230', '1630', '1830', '2157,32', '4001,34', '49,35', '339,83', '1250', '2710', '1470', '900', '3501,45', '790', '730', '5075,99', '3880', '862,5', '588,9', '2178', '3702,8', '1030', '780', '2088,86', '110,91', '2440', '1134,58', '1829,73', '367,35', '4050', '1180', '5110', '2270', '1266,34', '115,65', '437,26', '430', '669,12', '863,68', '1724,15333333333', '1424,9175', '1398,58', '684,89', '2476,77', '567,51', '3589,09', '2524,28', '1410,53333333333', '2110', '6650', '1405,53', '1160,96', '1552,325', '2580', '3209,5', '1910', '855', '2120', '3940', '1259,39', '2980', '6660', '894,29', '1145,85', '1098,8', '2500', '3100', '3140', '981,71', '5510', '1329,54', '642,31', '1589,92333333333', '2755,21', '1280', '777,84', '289,02', '3990', '1386,96', '2550', '4320', '3760', '1883,04', '4070', '6310', '4640', '4620', '1077,03', '5170', '1147,5', '896,1', '600,93', '5560', '3691,2675', '3509,805', '2269,735', '683,9975', '975', '728,49', '1119,27', '1798,49', '1605,95', '2185', '2060', '892,18', '1072,34', '1890', '1880,59', '631', '1706,3', '2184,66', '3506,07', '5650', '1193,9675', '796,59', '1851,55', '3510', '1120,93', '433,3425', '550', '1555,00090909091', '1441,57', '1817,76', '2679,82', '2770', '2570', '3769,3625', '5850', '3000', '38,32', '330', '3360', '1410', '510', '1317,06', '1247,92', '1007,8', '1313,33333333333', '1675,75', '1530', '502,1', '1601,63', '1733,88', '674,263333333333', '1324,41285714286', '604,43', '1154,34', '558,06625', '766,26', '1539,13', '1427,295', '1697,22', '28012,2', '1002,22', '682', '2272,5', '5394,29', '702,565', '2083', '2372,77', '1391,47', '315,796666666667', '2547,85', '1222,06', '760', '772,73', '198,88', '2492,54', '5780', '1418,86', '1920,9575', '1478,49', '1374,28', '370', '1581,82', '3119,99', '240', '1433,4', '7670', '4729,07', '1095,61', '862,43', '1208,09', '2202,69', '812,11', '446,31', '6390', '1570,46', '1109,855', '5603,82', '1241,32428571429', '1003,255', '1388,83769230769', '957,46', '761,866666666667', '1299,55', '2340', '989,39', '1059,47', '1768,07', '1135', '909,424285714286', '1150', '1590', '1959,99', '1439,815', '613,12', '735', '457,71', '836,6', '2210', '1500', '1175,57', '3050', '1283,93', '3433,42', '846,74', '1088,05', '2910', '2258,3', '62,46', '860', '2237,245', '613,21', '1459,54666666667', '2390', '2560', '2940', '2430', '2119,77', '3428,56', '1894,04', '3460', '1636,04', '3500', '2739,76', '986,606666666667', '5397,15', '2330', '1402,43', '1164,99666666667', '779,415', '1713,74', '4660', '559,94', '3024', '2467,33', '3250', '2050', '1006,59', '1833,77', '836,79', '2490', '360', '4055,03', '2650', '2690,33333333333', '3820', '2013,19', '2259,35', '2820', '1330', '2180', '1200,99', '216,59', '1490', '2707,25', '4690', '2960', '699,78', '3750', '2250', '1155,02142857143', '2190', '1196,43', '440', '2520', '1780', '879,74', '3400', '2163,94', '1258,585', '560,36', '763,3', '673,89', '2699,88', '549,88', '3910', '2830', '2094,3', '1052,63', '758,95', '1260,55', '2630', '2610', '2400', '6070', '1292,59', '1288,63', '1750', '355,04', '2262,12', '1007,36', '2590,15', '580', '2240,34', '2425', '2509,38', '3040', '2030', '880,2', '543,17', '875,2', '1176,82', '1563,45', '1108,574', '4290', '1966,99', '1144,98', '1120', '600', '709,96', '6041,86', '1130', '5870', '1679,2', '896,31', '3240', '1370', '2750', '3860,18', '59,68', '2464,55', '1116,49', '2002,45', '682,56', '2386,505', '497,62', '710', '3322,7775', '904,08', '2031,34333333333', '2300', '5048,19', '1000', '846,55', '3020', '1305,97', '407,8', '1286,73', '578,3', '1060', '890', '3180', '1680', '791,98', '4300', '3160', '820,124', '1889,43', '2779,4', '4600', '1283,89', '2260', '6130', '3900', '1335,47', '1373,99333333333', '1272,72', '2573,8', '2742,25', '1015', '2200', '722,59', '2466,8625', '599,19', '2900', '1597,92', '1230,63', '2732,2', '1760', '1920', '14990', '1751,37', '3230', '804,32', '821,93', '3470', '1369,755', '3440', '1867,66166666667', '791,56', '806,19', '1095,89', '451,495', '2959', '880', '6500', '9060', '1776,96666666667', '598,5', '824,581428571429', '860,505', '5430', '1615', '2239,37', '1314,58666666667', '2009', '1560', '908,78', '4550', '455,32', '3570', '816,83', '63,31', '2760', '1640', '1348,68', '2059,46', '2568,45', '647,42', '1844,885', '4120', '2349,51', '367', '954,65', '1264,23', '3237,94', '2343,41', '2082,47857142857', '3590', '850', '690', '2005,15', '2261,19', '957,63', '2518,18', '782,705', '2020', '1020', '1413,765', '1237,24', '619,73', '740', '1671,7', '749,82', '4310', '2600', '3762,5', '5830', '756,1', '901,64', '1831,51333333333', '910', '7780', '1179,86', '970', '134,78', '380', '1300,386', '2315,64857142857', '650', '823,54', '5076,65', '1496,3275', '2361,22', '976,68', '1610', '1716,52', '1848,05', '2365,47', '3770', '1110', '2540', '1420', '5160', '663,05', '630,49', '1800', '2140', '610', '1004,225', '946,49', '2097,97333333333', '3127,19', '2247,51', '1840', '3635,77', '5526,72666666667', '2751,25', '1258,95', '1892,238', '1608,255', '2800', '6080', '2287,02', '2293,65', '2850', '1304,0625', '4810', '4115,33333333333', '668,53', '1220', '1070', '802,36', '3540', '6200', '2585', '9280', '499,69', '1352,85714285714', '875,09', '3190', '1875,70333333333', '1409,965', '2240', '2680', '4250', '670', '2910,25', '1275,785', '1097,86', '582,386666666667', '1371,86', '2263,2', '678,2', '2128,74', '1050', '1690', '2410', '2276,54666666667', '3777,93333333333', '1070,52', '1340', '517,51', '1949,8', '1288,898', '1360', '1197,38333333333', '1108,96333333333', '1010', '1066,005', '3120', '4140', '2112,17', '2480', '704,93', '4827,666', '1710', '887,79', '859,92', '1692,49', '4158,85', '1221,92', '4565', '770', '1380', '3037,58', '1010,27', '2070,52', '2598,9', '586,646666666667', '1259,43', '805,86', '1155,125', '1450', '776,59', '5872,64', '1100', '1580', '2066,905', '724,38', '610,986666666667', '930', '763,185', '2970', '1093,75', '2265', '2018,255', '3670', '4160', '1359,6', '856,64', '2670', '2880', '2273,72', '1085,5', '1179,394', '438,19', '740,575', '1860', '1790', '2441,465', '1909,16', '2930', '1745,7', '1093,22', '869,26', '2220', '2890', '472,11', '540', '444', '310,126', '951', '830,53', '2150', '820', '1459,99', '5320', '2101,256', '533', '1205,4725', '530', '1170', '1593,76', '3010', '18307,16', '5550', '1932,5', '14870', '1749,69', '911,793333333333', '2100', '7100', '2989,98', '1258,49', '1649,37', '2230', '3172,83', '970,155', '2640', '1614,36', '1138,2', '3070', '1310', '1215', '2979,31', '620', '2084,32', '3626,91', '300', '2676,2125', '966,953333333333', '1440', '386,666666666667', '1792,71', '2503,19', '1670', '752,923076923077', '3283,1', '1258,69', '3310', '224,59', '849,91', '3959', '2360', '1010,55', '1090', '1102,7', '310', '1639,24571428571', '3110', '991,19', '3279,705', '2497,09', '855,675', '2409,01', '1080', '700', '1402,92', '324,16', '3630', '3782,39', '1570', '3420', '1139,49', '1411,31', '177,34', '2858,6', '830,7', '1540', '1870', '1940', '516,18', '2530', '478,13', '965,1', '859,84', '4710', '1489,13', '818,74', '2810', '2990', '2870', '3509,22', '980,42', '1040,78666666667', '1850', '821,45', '1520', '4030', '1429,99', '370,77', '1141,06', '849,19', '1810', '3960', '3303,2', '1730', '1070,05', '2782,89', '568,7', '1953,6', '1878,86', '2740', '1140', '957,4', '1804,9', '1516,872', '3086,66666666667', '1290', '4370', '648,68', '1700', '1002,60333333333', '1720', '812,693333333333', '980', '0', '2154,02', '588,13', '3490', '480', '87,39', '518,9', '979,63', '2629,87', '4220', '4445,6', '1387,15', '604,353333333333', '4400', '2051,5', '1538,69', '1149,395', '673,6825', '1113,74', '3870,25', '2720', '4376,4', '4884,95', '3970', '3659,0625', '929,51', '1950', '1200', '840,7', '782,21', '1300', '1309,89', '2429,09', '1539,2', '1922,69', '1430', '1990', '3539,82', '2554,005', '959,955', '1899,7', '2538', '2359,898', '825,10875', '1650', '553', '1399,25', '687,11', '400', '1942,72', '2340,06777777778', '3089,155', '490', '2702,4', '810', '578,06', '1740,19', '1107,5', '3637,43', '1127,76', '5428,62', '1731,06', '5698,46', '3840', '1841,9', '720', '4940', '1088,48', '1684,04', '3315', '1930,595', '1386,115', '1094', '2320', '2090,53', '798,53', '2470', '2590', '3520', '1677,48', '1599,9', '1793,66', '1010,43', '560,86', '918,255', '750', '857,956666666667', '2080', '3850', '1600', '0,71', '840', '3768,7', '1033', '1269,82', '1069,6', '6490', '2794,22333333333', '2916,18', '619,4', '767,566', '1040', '5370', '1077,605', '509,52', '1594,914', '651,16', '2701,5', '882,01', '984,79', '3170', '3030', '1810,155', '0,04', '4000', '1789,04', '1626,75', '768,97', '918,55', '2840', '2441,4', '1740', '269,51', '1350', '11310', '988,85', '574,21', '543,33', '640', '2925', '4770', '990', '433,306666666667', '4650', '1761,03', '758,82', '1288,7', '2127,1', '3610', '620,75', '2406,8', '6133,41', '809,42', '872,065', '3410', '1930', '4472,91333333333', '1199,27', '1468,38', '990,85', '5030', '727,63', '3651,445', '4240', '2790', '865,05', '1190', '3971,6', '2816,25', '1066,605', '3202,2', '960', '1400', '665,57', '966,07', '830', '3530', '570', '1259,71333333333', '603,55', '1325,63', '2920', '4508,2', '989,15', '2660', '3201,95', '1090,8', '769,915', '3150', '1742,41', '2010', '2419,9', '3810', '2130', '136,76', '1065,62', '1411,835', '2158,72', '827,57', '1314,11', '605,32', '1259,1', '3890', '2232,28333333333', '1312,44', '3780', '950', '1512', '7340', '6689,82', '4190', '1439,94', '4020', '1717,47333333333', '1296,4', '13920', '270', '4390', '917,57', '100', '425,97', '1880', '892,95', '6260', '1426,72', '596,29', '800', '2105', '1053', '1591,94', '5040', '2370', '1321,68833333333', '1171,686', '2170', '2370,01', '3914,24', '1276,66666666667', '2380', '7010', '1390', '5269,78'}\n",
      "\n",
      "\n",
      "==========\n",
      "LOAN_MAX_DLQ_AMT\n",
      "{'3780,1', '552,57', '1620', '2510', '2280', '957,59', '5500', '4760', '1670,18', '1068,47', '1260', '5580', '1931,44', '4680', '429,11', '2569,05', '5760', '2700', '2510,2', '1387,47', '2701,26', '3220', '2462,1', '1477,37', '2379,46', '879', '948,58', '3080', '1683,49', '1344,33', '1845,5', '2368,84', '961,94', '1509,44', '560', '327,98', '1210', '3330', '1686,92', '1639,99', '3260', '1980', '1666,28', '2477,64', '920', '4260', '1365', '1240', '1510', '673,02', '4450', '940', '1820', '2450', '4350', '3106,29', '3600', '789,23', '783', '4530', '2040', '4210', '2647,9', '630', '450', '702,23', '2000', '2957,71', '2290', '2656,68', '3060', '4164,34', '1320', '2549,52', '1770', '2090', '554,36', '1144,03', '1960', '1056,95', '1663,27', '5410', '2265', '714', '1296,74', '2310', '3964,85', '1939,61', '3200', '1439,9', '837,48', '2950', '836,79', '1957,21', '3300', '2860', '658,42', '1029,75', '2070', '1460', '767,7', '1550', '4200', '5140', '680', '1498,26', '535,53', '1270', '1549,18', '1529,06', '1970', '1985,3', '726,57', '500', '4920', '1900', '2201,11', '94,89', '1840,14', '1110,39', '1140,2', '51,8', '776,3', '3480', '918,83', '769,43', '2796,66', '1508,79', '1319,56', '366,58', '778,32', '1160', '567,16', '2102,75', '1480', '2160', '762,93', '3716,35', '3390', '3620', '2142,2', '1986,88', '660', '870', '4700', '3660', '2350', '8020', '1230', '1630', '1830', '2157,32', '4001,34', '49,35', '3111,86', '2618,78', '1250', '339,83', '2710', '1470', '900', '3501,45', '790', '730', '1519,64', '5075,99', '3880', '1324,5', '724,93', '2044,32', '862,5', '2178', '3702,8', '910,63', '1030', '780', '2088,86', '110,91', '2440', '1185,5', '1134,58', '367,35', '4050', '1180', '5110', '2270', '1266,34', '4960', '115,65', '437,26', '430', '669,12', '863,68', '1398,58', '684,89', '1105,07', '2858,62', '567,51', '3589,09', '3089,5', '7890', '2524,28', '2110', '6650', '1405,53', '736,3', '1160,96', '2580', '1910', '586,5', '1901,3', '2120', '3940', '1259,39', '2980', '6660', '828,51', '894,29', '589,45', '1145,85', '2500', '3100', '3140', '1870,69', '1098,8', '981,71', '642,31', '2755,21', '1280', '2058,71', '777,84', '289,02', '3990', '2550', '4320', '3760', '1883,04', '4070', '6310', '4640', '4620', '1300,16', '1077,03', '5170', '896,1', '600,93', '5560', '975', '728,49', '1450,22', '1119,27', '1798,49', '2060', '892,18', '1880,59', '1890', '631', '1706,3', '2184,66', '3506,07', '5650', '826,77', '796,59', '1851,55', '3510', '1120,93', '550', '1817,76', '2679,82', '2770', '2570', '5850', '3000', '38,32', '330', '3360', '1410', '510', '1317,06', '1247,92', '1007,8', '2220,72', '1530', '1386,14', '502,1', '1601,63', '1783,55', '1729,66', '1733,88', '604,43', '1154,34', '766,26', '1697,22', '1539,13', '1002,22', '919,88', '28012,2', '682', '5394,29', '2083', '2372,77', '1391,47', '2547,85', '1222,06', '760', '772,73', '2492,54', '5780', '1418,86', '1478,49', '1374,28', '370', '1581,82', '240', '1433,4', '7670', '4729,07', '1095,61', '862,43', '1208,09', '2289,89', '2202,69', '812,11', '446,31', '6390', '605,59', '5603,82', '856,3', '572,22', '1299,55', '2340', '989,39', '1059,47', '1768,07', '1590', '1150', '1959,99', '2589,2', '836,6', '2210', '1500', '1175,57', '2064,03', '3050', '1427,4', '1283,93', '3433,42', '846,74', '1088,05', '2910', '2258,3', '1837,31', '62,46', '860', '613,21', '2642,83', '2398,8', '2390', '2560', '2940', '2430', '2119,77', '3428,56', '1894,04', '3460', '1636,04', '3500', '2739,76', '5397,15', '1402,43', '2330', '559,94', '4660', '2467,33', '3250', '1006,59', '1833,77', '2490', '360', '3357,52', '4055,03', '2650', '3820', '2013,19', '2820', '1330', '2180', '1200,99', '216,59', '1490', '2707,25', '4690', '2960', '3285,74', '699,78', '2250', '3750', '2190', '1196,43', '440', '2520', '1780', '1387,3', '879,74', '2163,94', '3400', '560,36', '609,52', '673,89', '1090,01', '2699,88', '549,88', '3910', '2830', '2094,3', '1052,63', '758,95', '1260,55', '2630', '2610', '2400', '6070', '1292,59', '1288,63', '1750', '355,04', '2262,12', '2425', '2590,15', '580', '2509,38', '3040', '2030', '880,2', '543,17', '875,2', '1176,82', '1563,45', '4290', '1966,99', '1144,98', '1120', '600', '6041,86', '937,6', '1130', '5870', '1679,2', '896,31', '3240', '1370', '2750', '3860,18', '59,68', '1116,49', '2002,45', '497,62', '710', '1828,89', '1302,38', '490,88', '904,08', '2300', '5048,19', '1000', '846,55', '3020', '457,71', '407,8', '578,3', '1060', '890', '3180', '1680', '791,98', '4300', '3160', '2782,93', '1889,43', '2779,4', '4600', '1539,2', '2260', '6130', '3900', '1335,47', '1272,72', '2573,8', '1015', '2742,25', '2375,59', '2200', '722,59', '599,19', '2900', '1597,92', '1230,63', '2732,2', '1760', '1920', '14990', '1751,37', '3230', '804,32', '821,93', '3470', '3440', '791,56', '620,18', '1095,89', '806,19', '2959', '880', '6500', '9060', '598,5', '5430', '1615', '2239,37', '2050', '2009', '1560', '908,78', '4550', '63,31', '954,34', '816,83', '3570', '2760', '1640', '1860,72', '1348,68', '2059,46', '2568,45', '647,42', '4120', '2349,51', '367', '954,65', '3237,94', '2343,41', '18310', '3590', '690', '850', '2005,15', '1452', '2261,19', '957,63', '2518,18', '2020', '1020', '1819,26', '619,73', '4446,3', '740', '3560', '1671,7', '4310', '2600', '3762,5', '749,82', '1086,57', '5830', '756,1', '901,64', '910', '970', '1179,86', '5980,18', '134,78', '650', '823,54', '5076,65', '2361,22', '976,68', '1610', '1716,52', '1848,05', '2365,47', '3770', '1110', '2540', '1420', '5160', '663,05', '630,49', '1800', '2140', '610', '946,49', '3127,19', '2247,51', '1840', '3635,77', '2751,25', '2800', '6080', '2287,02', '2293,65', '2850', '668,53', '1220', '1070', '802,36', '590', '3540', '6200', '9280', '499,69', '875,09', '3190', '840,4', '2240', '2680', '4250', '670', '1819,09', '1097,86', '1371,86', '2263,2', '678,2', '1050', '1690', '2410', '1070,52', '1340', '4490', '517,51', '1395,7', '1949,8', '2497', '660,86', '1360', '4880', '1010', '3120', '4140', '2112,17', '2480', '704,93', '2620', '1710', '887,79', '859,92', '1692,49', '4158,85', '1221,92', '4565', '1672,88', '770', '1380', '1010,27', '2598,9', '1259,43', '1450', '776,59', '5872,64', '604,76', '3920', '1100', '1580', '724,38', '930', '1093,75', '2970', '3670', '4160', '1359,6', '856,64', '2670', '2880', '1085,5', '438,19', '470', '1860', '1790', '1909,16', '2930', '1745,7', '1093,22', '869,26', '849,07', '2220', '2890', '472,11', '540', '444', '1154,9', '830,53', '2150', '820', '1459,99', '5320', '533', '1593,76', '530', '1170', '3010', '14870', '5550', '1749,69', '7100', '3700', '2989,98', '2100', '1258,49', '2230', '1649,37', '3172,83', '2640', '1056,64', '1614,36', '1138,2', '1066', '3070', '1310', '620', '2084,32', '1489,45', '3626,91', '300', '1408,32', '1440', '1792,71', '2503,19', '1670', '3283,1', '2360', '3310', '224,59', '849,91', '3959', '1010,55', '481,51', '1090', '1102,7', '310', '3450', '3110', '991,19', '5340', '797,16', '2497,09', '2409,01', '1080', '700', '2902,89', '324,16', '3630', '3782,39', '1570', '3420', '1139,49', '1411,31', '177,34', '2858,6', '830,7', '1540', '1870', '1940', '1012,9', '516,18', '2530', '478,13', '965,1', '4710', '1489,13', '818,74', '2810', '2990', '2870', '3509,22', '980,42', '1850', '1520', '4030', '1429,99', '370,77', '1141,06', '849,19', '1810', '3960', '3303,2', '1730', '1070,05', '568,7', '1953,6', '2740', '1140', '957,4', '1804,9', '2064,08', '1290', '4370', '1700', '648,68', '937,79', '918,28', '1720', '2154,02', '980', '0', '588,13', '581,67', '3490', '480', '87,39', '518,9', '979,63', '2629,87', '4220', '1387,15', '883,33', '4400', '2051,5', '1538,69', '1113,74', '3870,25', '2720', '4884,95', '3970', '1950', '1200', '2429,09', '1300', '1309,89', '1430', '1990', '3539,82', '1479,51', '1650', '553', '776,6', '5470', '687,11', '400', '1942,72', '2702,4', '490', '810', '578,06', '1740,19', '3637,43', '1127,76', '5428,62', '1731,06', '5698,46', '3840', '1841,9', '720', '4940', '473,16', '2281,1', '1094', '997,66', '2320', '2090,53', '798,53', '2470', '2590', '3520', '1677,48', '1599,9', '1793,66', '3018,62', '331', '1930,47', '750', '2080', '3850', '1600', '0,71', '840', '3768,7', '1033', '1069,6', '4830', '6490', '2916,18', '1040', '5370', '790,77', '651,16', '3170', '3030', '0,04', '4000', '1789,04', '1626,75', '768,97', '918,55', '2840', '2441,4', '1740', '269,51', '1350', '755,76', '11310', '988,85', '574,21', '543,33', '640', '4770', '990', '4650', '1761,03', '1288,7', '2127,1', '3610', '620,75', '1046,01', '943,56', '2406,8', '6133,41', '809,42', '3410', '1650,53', '1930', '1199,27', '2979,35', '1468,38', '990,85', '2969,75', '5030', '1249,61', '4240', '2790', '1190', '3971,6', '2816,25', '3202,2', '960', '1400', '665,57', '966,07', '830', '3530', '570', '603,55', '1325,63', '2920', '1351,06', '4508,2', '989,15', '2660', '3201,95', '1090,8', '3150', '1742,41', '2010', '2419,9', '3810', '2130', '136,76', '1065,62', '2158,72', '827,57', '605,32', '1259,1', '3890', '1312,44', '489,13', '3780', '950', '7340', '6689,82', '4190', '1439,94', '4020', '1296,4', '13920', '270', '4390', '917,57', '100', '1880', '892,95', '6260', '1426,72', '596,29', '800', '1053', '1591,94', '5040', '2370', '2170', '3914,24', '2380', '7010', '1370,25', '1390', '5269,78'}\n",
      "\n",
      "\n",
      "==========\n",
      "sample\n",
      "{'train'}\n",
      "\n",
      "\n"
     ]
    }
   ],
   "source": [
    "for i in df_train.columns: # перебираем все столбцы\n",
    "    if str(df_train[i].dtype) == 'object': # если тип столбца - object\n",
    "        print('='*10)\n",
    "        print(i) # выводим название столбца\n",
    "        print(set(df_train[i])) # выводим все его значения (но делаем set - чтоб значения не повторялись)\n",
    "        print('\\n') # выводим пустую строку"
   ]
  },
  {
   "cell_type": "markdown",
   "metadata": {
    "collapsed": true
   },
   "source": [
    "Mожно заметить что некоторые переменные, которые обозначены как строки (например PERSONAL_INCOME) на самом деле числа, но по какой-то причине были распознаны как строки\n",
    "\n",
    "Причина же что использовалась запятая для разделения не целой части числа.."
   ]
  },
  {
   "cell_type": "markdown",
   "metadata": {},
   "source": [
    "Перекодировать их можно например так:"
   ]
  },
  {
   "cell_type": "code",
   "execution_count": 12,
   "metadata": {},
   "outputs": [],
   "source": [
    "# df['PERSONAL_INCOME'] = df['PERSONAL_INCOME'].map(lambda x: x.replace(',', '.')).astype('float')"
   ]
  },
  {
   "cell_type": "code",
   "execution_count": 13,
   "metadata": {},
   "outputs": [],
   "source": [
    "for x in df.columns:\n",
    "    if str(df[x].dtype) == 'object':\n",
    "        if df[str(x)].str.isnumeric().median() == 1:\n",
    "            df[str(x)] = df[str(x)].map(lambda x: x.replace(',', '.')).astype('float')"
   ]
  },
  {
   "cell_type": "code",
   "execution_count": 14,
   "metadata": {},
   "outputs": [
    {
     "name": "stdout",
     "output_type": "stream",
     "text": [
      "<class 'pandas.core.frame.DataFrame'>\n",
      "RangeIndex: 30133 entries, 0 to 30132\n",
      "Data columns (total 53 columns):\n",
      "AGREEMENT_RK                  30133 non-null int64\n",
      "TARGET                        30133 non-null int64\n",
      "AGE                           30133 non-null int64\n",
      "SOCSTATUS_WORK_FL             30133 non-null int64\n",
      "SOCSTATUS_PENS_FL             30133 non-null int64\n",
      "GENDER                        30133 non-null int64\n",
      "CHILD_TOTAL                   30133 non-null int64\n",
      "DEPENDANTS                    30133 non-null int64\n",
      "EDUCATION                     30133 non-null object\n",
      "MARITAL_STATUS                30133 non-null object\n",
      "GEN_INDUSTRY                  27420 non-null object\n",
      "GEN_TITLE                     27420 non-null object\n",
      "ORG_TP_STATE                  27420 non-null object\n",
      "ORG_TP_FCAPITAL               27425 non-null object\n",
      "JOB_DIR                       27420 non-null object\n",
      "FAMILY_INCOME                 30133 non-null object\n",
      "PERSONAL_INCOME               30133 non-null float64\n",
      "REG_ADDRESS_PROVINCE          30133 non-null object\n",
      "FACT_ADDRESS_PROVINCE         30133 non-null object\n",
      "POSTAL_ADDRESS_PROVINCE       30133 non-null object\n",
      "TP_PROVINCE                   29543 non-null object\n",
      "REGION_NM                     30131 non-null object\n",
      "REG_FACT_FL                   30133 non-null int64\n",
      "FACT_POST_FL                  30133 non-null int64\n",
      "REG_POST_FL                   30133 non-null int64\n",
      "REG_FACT_POST_FL              30133 non-null int64\n",
      "REG_FACT_POST_TP_FL           30133 non-null int64\n",
      "FL_PRESENCE_FL                30133 non-null int64\n",
      "OWN_AUTO                      30133 non-null int64\n",
      "AUTO_RUS_FL                   30133 non-null int64\n",
      "HS_PRESENCE_FL                30133 non-null int64\n",
      "COT_PRESENCE_FL               30133 non-null int64\n",
      "GAR_PRESENCE_FL               30133 non-null int64\n",
      "LAND_PRESENCE_FL              30133 non-null int64\n",
      "CREDIT                        30133 non-null float64\n",
      "TERM                          30133 non-null int64\n",
      "FST_PAYMENT                   30133 non-null float64\n",
      "DL_DOCUMENT_FL                30133 non-null int64\n",
      "GPF_DOCUMENT_FL               30133 non-null int64\n",
      "FACT_LIVING_TERM              30133 non-null int64\n",
      "WORK_TIME                     27416 non-null float64\n",
      "FACT_PHONE_FL                 30133 non-null int64\n",
      "REG_PHONE_FL                  30133 non-null int64\n",
      "GEN_PHONE_FL                  30133 non-null int64\n",
      "LOAN_NUM_TOTAL                30133 non-null int64\n",
      "LOAN_NUM_CLOSED               30133 non-null int64\n",
      "LOAN_NUM_PAYM                 30133 non-null int64\n",
      "LOAN_DLQ_NUM                  30133 non-null int64\n",
      "LOAN_MAX_DLQ                  30133 non-null int64\n",
      "LOAN_AVG_DLQ_AMT              30133 non-null float64\n",
      "LOAN_MAX_DLQ_AMT              30133 non-null float64\n",
      "PREVIOUS_CARD_NUM_UTILIZED    600 non-null float64\n",
      "sample                        30133 non-null object\n",
      "dtypes: float64(7), int64(32), object(14)\n",
      "memory usage: 12.2+ MB\n"
     ]
    }
   ],
   "source": [
    "df.info()"
   ]
  },
  {
   "cell_type": "markdown",
   "metadata": {},
   "source": [
    "Такой эффект наблюдается в столбцах `PERSONAL_INCOME`, `CREDIT`, `FST_PAYMENT`, `LOAN_AVG_DLQ_AMT`, `LOAN_MAX_DLQ_AMT`"
   ]
  },
  {
   "cell_type": "markdown",
   "metadata": {},
   "source": [
    "### Теперь ваше небольшое исследование"
   ]
  },
  {
   "cell_type": "markdown",
   "metadata": {
    "collapsed": true
   },
   "source": [
    "#### Задание 1. Есть ли пропуски в данных? Что с ними сделать?\n",
    "\n",
    "(единственного верного ответа нет - аргументируйте)"
   ]
  },
  {
   "cell_type": "code",
   "execution_count": 15,
   "metadata": {},
   "outputs": [
    {
     "data": {
      "text/plain": [
       "AGREEMENT_RK                  False\n",
       "TARGET                        False\n",
       "AGE                           False\n",
       "SOCSTATUS_WORK_FL             False\n",
       "SOCSTATUS_PENS_FL             False\n",
       "GENDER                        False\n",
       "CHILD_TOTAL                   False\n",
       "DEPENDANTS                    False\n",
       "EDUCATION                     False\n",
       "MARITAL_STATUS                False\n",
       "GEN_INDUSTRY                   True\n",
       "GEN_TITLE                      True\n",
       "ORG_TP_STATE                   True\n",
       "ORG_TP_FCAPITAL                True\n",
       "JOB_DIR                        True\n",
       "FAMILY_INCOME                 False\n",
       "PERSONAL_INCOME               False\n",
       "REG_ADDRESS_PROVINCE          False\n",
       "FACT_ADDRESS_PROVINCE         False\n",
       "POSTAL_ADDRESS_PROVINCE       False\n",
       "TP_PROVINCE                    True\n",
       "REGION_NM                      True\n",
       "REG_FACT_FL                   False\n",
       "FACT_POST_FL                  False\n",
       "REG_POST_FL                   False\n",
       "REG_FACT_POST_FL              False\n",
       "REG_FACT_POST_TP_FL           False\n",
       "FL_PRESENCE_FL                False\n",
       "OWN_AUTO                      False\n",
       "AUTO_RUS_FL                   False\n",
       "HS_PRESENCE_FL                False\n",
       "COT_PRESENCE_FL               False\n",
       "GAR_PRESENCE_FL               False\n",
       "LAND_PRESENCE_FL              False\n",
       "CREDIT                        False\n",
       "TERM                          False\n",
       "FST_PAYMENT                   False\n",
       "DL_DOCUMENT_FL                False\n",
       "GPF_DOCUMENT_FL               False\n",
       "FACT_LIVING_TERM              False\n",
       "WORK_TIME                      True\n",
       "FACT_PHONE_FL                 False\n",
       "REG_PHONE_FL                  False\n",
       "GEN_PHONE_FL                  False\n",
       "LOAN_NUM_TOTAL                False\n",
       "LOAN_NUM_CLOSED               False\n",
       "LOAN_NUM_PAYM                 False\n",
       "LOAN_DLQ_NUM                  False\n",
       "LOAN_MAX_DLQ                  False\n",
       "LOAN_AVG_DLQ_AMT              False\n",
       "LOAN_MAX_DLQ_AMT              False\n",
       "PREVIOUS_CARD_NUM_UTILIZED     True\n",
       "sample                        False\n",
       "dtype: bool"
      ]
     },
     "execution_count": 15,
     "metadata": {},
     "output_type": "execute_result"
    }
   ],
   "source": [
    "df.isnull().any()"
   ]
  },
  {
   "cell_type": "code",
   "execution_count": 16,
   "metadata": {},
   "outputs": [],
   "source": [
    "# В некоторых признаках присутствуют значения 'NaN', есть смысл заполнить эти пропуски\n",
    "# экстремальными значениями, к примеру с помощью -1."
   ]
  },
  {
   "cell_type": "markdown",
   "metadata": {
    "collapsed": true
   },
   "source": [
    "#### Задание 2. Есть ли категориальные признаки? Что с ними делать?"
   ]
  },
  {
   "cell_type": "code",
   "execution_count": 17,
   "metadata": {},
   "outputs": [
    {
     "name": "stdout",
     "output_type": "stream",
     "text": [
      "TARGET\n",
      "SOCSTATUS_WORK_FL\n",
      "SOCSTATUS_PENS_FL\n",
      "GENDER\n",
      "DEPENDANTS\n",
      "EDUCATION\n",
      "MARITAL_STATUS\n",
      "ORG_TP_STATE\n",
      "ORG_TP_FCAPITAL\n",
      "FAMILY_INCOME\n",
      "REG_FACT_FL\n",
      "FACT_POST_FL\n",
      "REG_POST_FL\n",
      "REG_FACT_POST_FL\n",
      "REG_FACT_POST_TP_FL\n",
      "FL_PRESENCE_FL\n",
      "OWN_AUTO\n",
      "AUTO_RUS_FL\n",
      "HS_PRESENCE_FL\n",
      "COT_PRESENCE_FL\n",
      "GAR_PRESENCE_FL\n",
      "LAND_PRESENCE_FL\n",
      "DL_DOCUMENT_FL\n",
      "GPF_DOCUMENT_FL\n",
      "FACT_PHONE_FL\n",
      "REG_PHONE_FL\n",
      "GEN_PHONE_FL\n",
      "LOAN_NUM_TOTAL\n",
      "LOAN_MAX_DLQ\n",
      "sample\n"
     ]
    }
   ],
   "source": [
    "''' Во-первых, имеются категориальные признаки, которые нужно конвертировать из текстового\n",
    "    вида в числовой.\n",
    "    Во-вторых, есть категориальные признаки в числовом виде и их разбивка по категориям \n",
    "    зависит от выставленной границы (treshold, см. ниже).\n",
    "'''\n",
    "\n",
    "treshold = 10 # Количество уникальных значений, по которому определяем \"категориальность\" \n",
    "              # признака\n",
    "for x in df.columns:\n",
    "    if (len(np.unique(list(df[str(x)])))) < treshold:\n",
    "        print(x)"
   ]
  },
  {
   "cell_type": "markdown",
   "metadata": {},
   "source": [
    "#### Задание 3. Фунция предобработки"
   ]
  },
  {
   "cell_type": "markdown",
   "metadata": {},
   "source": [
    "Напишите функцию, которая бы\n",
    "\n",
    "* Удаляло идентификатор `AGREEMENT_RK`\n",
    "* Избавлялась от проблем с '.' и ',' в стобцах PERSONAL_INCOME, CREDIT, FST_PAYMENT, LOAN_AVG_DLQ_AMT, LOAN_MAX_DLQ_AMT\n",
    "* Что-то делала с пропусками\n",
    "* Кодировала категориальные признаки\n",
    "\n",
    "В результате, ваш датафрейм должен содержать только числа и не содержать пропусков!"
   ]
  },
  {
   "cell_type": "code",
   "execution_count": 18,
   "metadata": {},
   "outputs": [],
   "source": [
    "from sklearn.preprocessing import LabelEncoder\n",
    "le = LabelEncoder()\n",
    "\n",
    "def preproc_data(df_input):\n",
    "    df_output = df_input.copy()\n",
    "    \n",
    "    # Удаляем идентификатор AGREEMENT_RK\n",
    "    df_output.drop('AGREEMENT_RK', axis=1, inplace=True)\n",
    "    \n",
    "    # Меняем ',' на '.' и конвертируем в числа стринги, с которыми это возможно сделать\n",
    "    for x in df_output.columns:\n",
    "        if str(df_output[x].dtype) == 'object':\n",
    "            if df_output[str(x)].str.isnumeric().median() == 1:\n",
    "                df_output[str(x)] = df_output[str(x)].map(lambda x: x.replace(',', '.')).astype('float')\n",
    "    \n",
    "    # С помощью One-Hot-Encoding раскладываем категориальные признаки с текстом \n",
    "    # (для удобства добавляем префиксы)\n",
    "    for x in df_output.columns:\n",
    "        if df_output[str(x)].dtypes == 'object' and str(x) != 'sample':\n",
    "            dn = pd.get_dummies(df_output[str(x)], prefix=str(x))\n",
    "            df_output = df_output.join(dn).drop(str(x), axis=1)\n",
    "            \n",
    "    # Заполняем оставшиеся 'NaN' значениями -1\n",
    "    df_output = df_output.fillna(-1)\n",
    "    \n",
    "    return df_output"
   ]
  },
  {
   "cell_type": "code",
   "execution_count": 19,
   "metadata": {},
   "outputs": [],
   "source": [
    "df_preproc = df.pipe(preproc_data)\n",
    "\n",
    "df_train_preproc = df_preproc.query('sample == \"train\"')\n",
    "df_train_preproc = df_train_preproc.drop(['sample'], axis=1)\n",
    "df_test_preproc = df_preproc.query('sample == \"test\"')\n",
    "df_test_preproc = df_test_preproc.drop(['sample'], axis=1)\n",
    "# Вдобавок дропнул технический столбец 'sample'"
   ]
  },
  {
   "cell_type": "code",
   "execution_count": 20,
   "metadata": {},
   "outputs": [
    {
     "data": {
      "text/plain": [
       "((15223, 443), (14910, 443))"
      ]
     },
     "execution_count": 20,
     "metadata": {},
     "output_type": "execute_result"
    }
   ],
   "source": [
    "df_train_preproc.shape, df_test_preproc.shape"
   ]
  },
  {
   "cell_type": "code",
   "execution_count": 21,
   "metadata": {},
   "outputs": [
    {
     "data": {
      "text/html": [
       "<div>\n",
       "<style scoped>\n",
       "    .dataframe tbody tr th:only-of-type {\n",
       "        vertical-align: middle;\n",
       "    }\n",
       "\n",
       "    .dataframe tbody tr th {\n",
       "        vertical-align: top;\n",
       "    }\n",
       "\n",
       "    .dataframe thead th {\n",
       "        text-align: right;\n",
       "    }\n",
       "</style>\n",
       "<table border=\"1\" class=\"dataframe\">\n",
       "  <thead>\n",
       "    <tr style=\"text-align: right;\">\n",
       "      <th></th>\n",
       "      <th>TARGET</th>\n",
       "      <th>AGE</th>\n",
       "      <th>SOCSTATUS_WORK_FL</th>\n",
       "      <th>SOCSTATUS_PENS_FL</th>\n",
       "      <th>GENDER</th>\n",
       "      <th>CHILD_TOTAL</th>\n",
       "      <th>DEPENDANTS</th>\n",
       "      <th>PERSONAL_INCOME</th>\n",
       "      <th>REG_FACT_FL</th>\n",
       "      <th>FACT_POST_FL</th>\n",
       "      <th>...</th>\n",
       "      <th>REGION_NM_ДАЛЬНЕВОСТОЧНЫЙ</th>\n",
       "      <th>REGION_NM_ЗАПАДНО-СИБИРСКИЙ</th>\n",
       "      <th>REGION_NM_ПОВОЛЖСКИЙ</th>\n",
       "      <th>REGION_NM_ПРИВОЛЖСКИЙ</th>\n",
       "      <th>REGION_NM_СЕВЕРО-ЗАПАДНЫЙ</th>\n",
       "      <th>REGION_NM_УРАЛЬСКИЙ</th>\n",
       "      <th>REGION_NM_ЦЕНТРАЛЬНЫЙ 1</th>\n",
       "      <th>REGION_NM_ЦЕНТРАЛЬНЫЙ 2</th>\n",
       "      <th>REGION_NM_ЦЕНТРАЛЬНЫЙ ОФИС</th>\n",
       "      <th>REGION_NM_ЮЖНЫЙ</th>\n",
       "    </tr>\n",
       "  </thead>\n",
       "  <tbody>\n",
       "    <tr>\n",
       "      <th>0</th>\n",
       "      <td>0</td>\n",
       "      <td>30</td>\n",
       "      <td>1</td>\n",
       "      <td>0</td>\n",
       "      <td>1</td>\n",
       "      <td>1</td>\n",
       "      <td>1</td>\n",
       "      <td>7000.0</td>\n",
       "      <td>0</td>\n",
       "      <td>1</td>\n",
       "      <td>...</td>\n",
       "      <td>0</td>\n",
       "      <td>0</td>\n",
       "      <td>0</td>\n",
       "      <td>0</td>\n",
       "      <td>0</td>\n",
       "      <td>0</td>\n",
       "      <td>0</td>\n",
       "      <td>0</td>\n",
       "      <td>0</td>\n",
       "      <td>0</td>\n",
       "    </tr>\n",
       "    <tr>\n",
       "      <th>1</th>\n",
       "      <td>0</td>\n",
       "      <td>48</td>\n",
       "      <td>0</td>\n",
       "      <td>1</td>\n",
       "      <td>1</td>\n",
       "      <td>0</td>\n",
       "      <td>0</td>\n",
       "      <td>4100.0</td>\n",
       "      <td>1</td>\n",
       "      <td>1</td>\n",
       "      <td>...</td>\n",
       "      <td>0</td>\n",
       "      <td>0</td>\n",
       "      <td>0</td>\n",
       "      <td>0</td>\n",
       "      <td>0</td>\n",
       "      <td>0</td>\n",
       "      <td>1</td>\n",
       "      <td>0</td>\n",
       "      <td>0</td>\n",
       "      <td>0</td>\n",
       "    </tr>\n",
       "    <tr>\n",
       "      <th>2</th>\n",
       "      <td>0</td>\n",
       "      <td>35</td>\n",
       "      <td>1</td>\n",
       "      <td>0</td>\n",
       "      <td>0</td>\n",
       "      <td>1</td>\n",
       "      <td>0</td>\n",
       "      <td>40000.0</td>\n",
       "      <td>1</td>\n",
       "      <td>1</td>\n",
       "      <td>...</td>\n",
       "      <td>0</td>\n",
       "      <td>0</td>\n",
       "      <td>0</td>\n",
       "      <td>0</td>\n",
       "      <td>0</td>\n",
       "      <td>0</td>\n",
       "      <td>0</td>\n",
       "      <td>1</td>\n",
       "      <td>0</td>\n",
       "      <td>0</td>\n",
       "    </tr>\n",
       "    <tr>\n",
       "      <th>3</th>\n",
       "      <td>0</td>\n",
       "      <td>22</td>\n",
       "      <td>1</td>\n",
       "      <td>0</td>\n",
       "      <td>0</td>\n",
       "      <td>0</td>\n",
       "      <td>0</td>\n",
       "      <td>20000.0</td>\n",
       "      <td>1</td>\n",
       "      <td>1</td>\n",
       "      <td>...</td>\n",
       "      <td>0</td>\n",
       "      <td>0</td>\n",
       "      <td>0</td>\n",
       "      <td>0</td>\n",
       "      <td>0</td>\n",
       "      <td>0</td>\n",
       "      <td>0</td>\n",
       "      <td>0</td>\n",
       "      <td>0</td>\n",
       "      <td>0</td>\n",
       "    </tr>\n",
       "    <tr>\n",
       "      <th>4</th>\n",
       "      <td>0</td>\n",
       "      <td>27</td>\n",
       "      <td>1</td>\n",
       "      <td>0</td>\n",
       "      <td>1</td>\n",
       "      <td>2</td>\n",
       "      <td>2</td>\n",
       "      <td>17000.0</td>\n",
       "      <td>1</td>\n",
       "      <td>1</td>\n",
       "      <td>...</td>\n",
       "      <td>1</td>\n",
       "      <td>0</td>\n",
       "      <td>0</td>\n",
       "      <td>0</td>\n",
       "      <td>0</td>\n",
       "      <td>0</td>\n",
       "      <td>0</td>\n",
       "      <td>0</td>\n",
       "      <td>0</td>\n",
       "      <td>0</td>\n",
       "    </tr>\n",
       "  </tbody>\n",
       "</table>\n",
       "<p>5 rows × 444 columns</p>\n",
       "</div>"
      ],
      "text/plain": [
       "   TARGET  AGE  SOCSTATUS_WORK_FL  SOCSTATUS_PENS_FL  GENDER  CHILD_TOTAL  \\\n",
       "0       0   30                  1                  0       1            1   \n",
       "1       0   48                  0                  1       1            0   \n",
       "2       0   35                  1                  0       0            1   \n",
       "3       0   22                  1                  0       0            0   \n",
       "4       0   27                  1                  0       1            2   \n",
       "\n",
       "   DEPENDANTS  PERSONAL_INCOME  REG_FACT_FL  FACT_POST_FL       ...         \\\n",
       "0           1           7000.0            0             1       ...          \n",
       "1           0           4100.0            1             1       ...          \n",
       "2           0          40000.0            1             1       ...          \n",
       "3           0          20000.0            1             1       ...          \n",
       "4           2          17000.0            1             1       ...          \n",
       "\n",
       "   REGION_NM_ДАЛЬНЕВОСТОЧНЫЙ  REGION_NM_ЗАПАДНО-СИБИРСКИЙ  \\\n",
       "0                          0                            0   \n",
       "1                          0                            0   \n",
       "2                          0                            0   \n",
       "3                          0                            0   \n",
       "4                          1                            0   \n",
       "\n",
       "   REGION_NM_ПОВОЛЖСКИЙ  REGION_NM_ПРИВОЛЖСКИЙ  REGION_NM_СЕВЕРО-ЗАПАДНЫЙ  \\\n",
       "0                     0                      0                          0   \n",
       "1                     0                      0                          0   \n",
       "2                     0                      0                          0   \n",
       "3                     0                      0                          0   \n",
       "4                     0                      0                          0   \n",
       "\n",
       "   REGION_NM_УРАЛЬСКИЙ  REGION_NM_ЦЕНТРАЛЬНЫЙ 1  REGION_NM_ЦЕНТРАЛЬНЫЙ 2  \\\n",
       "0                    0                        0                        0   \n",
       "1                    0                        1                        0   \n",
       "2                    0                        0                        1   \n",
       "3                    0                        0                        0   \n",
       "4                    0                        0                        0   \n",
       "\n",
       "   REGION_NM_ЦЕНТРАЛЬНЫЙ ОФИС  REGION_NM_ЮЖНЫЙ  \n",
       "0                           0                0  \n",
       "1                           0                0  \n",
       "2                           0                0  \n",
       "3                           0                0  \n",
       "4                           0                0  \n",
       "\n",
       "[5 rows x 444 columns]"
      ]
     },
     "execution_count": 21,
     "metadata": {},
     "output_type": "execute_result"
    }
   ],
   "source": [
    "df_preproc.head()"
   ]
  },
  {
   "cell_type": "markdown",
   "metadata": {},
   "source": [
    "#### Задание 4. Отделите целевую переменную и остальные признаки\n",
    "\n",
    "Должно получится:\n",
    "* 2 матрицы: X и X_test\n",
    "* 2 вектора: y и y_test"
   ]
  },
  {
   "cell_type": "code",
   "execution_count": 22,
   "metadata": {},
   "outputs": [],
   "source": [
    "X = df_train_preproc.drop(['TARGET'], axis=1)\n",
    "X_test_holdout = df_test_preproc.drop(['TARGET'], axis=1)\n",
    "y = df_train_preproc['TARGET']\n",
    "y_test_holdout = df_test_preproc['TARGET']"
   ]
  },
  {
   "cell_type": "markdown",
   "metadata": {},
   "source": [
    "#### Задание 5. Обучение и оценка качества разных моделей"
   ]
  },
  {
   "cell_type": "code",
   "execution_count": 23,
   "metadata": {},
   "outputs": [],
   "source": [
    "from sklearn.model_selection import train_test_split\n",
    "\n",
    "X = df_preproc.drop(['TARGET', 'sample'], axis=1)\n",
    "y = df_preproc['TARGET']\n",
    "X_train, X_test, y_train, y_test = train_test_split(X, y, \n",
    "                                                    test_size=0.3, random_state=42)"
   ]
  },
  {
   "cell_type": "code",
   "execution_count": 24,
   "metadata": {},
   "outputs": [
    {
     "data": {
      "text/plain": [
       "((21093, 442), (9040, 442), (21093,), (9040,), (14910, 442), (14910,))"
      ]
     },
     "execution_count": 24,
     "metadata": {},
     "output_type": "execute_result"
    }
   ],
   "source": [
    "X_train.shape, X_test.shape, y_train.shape, y_test.shape, \\\n",
    "X_test_holdout.shape, y_test_holdout.shape"
   ]
  },
  {
   "cell_type": "code",
   "execution_count": 25,
   "metadata": {},
   "outputs": [
    {
     "name": "stderr",
     "output_type": "stream",
     "text": [
      "c:\\users\\rncb\\appdata\\local\\programs\\python\\python37\\lib\\site-packages\\sklearn\\ensemble\\weight_boosting.py:29: DeprecationWarning: numpy.core.umath_tests is an internal NumPy module and should not be imported. It will be removed in a future NumPy release.\n",
      "  from numpy.core.umath_tests import inner1d\n"
     ]
    }
   ],
   "source": [
    "# Попробовать следующие \"черные ящики\": интерфейс одинаковый \n",
    "# Постепенно мы узнаем, что они делают а сейчас учимся понимать какой работает качественнее\n",
    "#     fit, \n",
    "#     predict, \n",
    "#     predict_proba\n",
    "\n",
    "from sklearn.tree import DecisionTreeClassifier\n",
    "from sklearn.ensemble import RandomForestClassifier\n",
    "from sklearn.linear_model import LogisticRegression"
   ]
  },
  {
   "cell_type": "code",
   "execution_count": 26,
   "metadata": {},
   "outputs": [],
   "source": [
    "# Посчитать метрики стандартные\n",
    "# accuracy, precision, recall\n",
    "\n",
    "from sklearn.metrics import accuracy_score, precision_score, recall_score"
   ]
  },
  {
   "cell_type": "code",
   "execution_count": 27,
   "metadata": {},
   "outputs": [
    {
     "name": "stdout",
     "output_type": "stream",
     "text": [
      "Decision Tree results: \n",
      "-----------------------------------\n",
      "Accuracy Score: 0.8060840707964602\n",
      "Precision Score: 0.1813819577735125\n",
      "Recall Score: 0.17355371900826447\n"
     ]
    }
   ],
   "source": [
    "tree = DecisionTreeClassifier()\n",
    "tree_model = tree.fit(X_train, y_train)\n",
    "tree_predicted = tree_model.predict(X_test)\n",
    "\n",
    "tree_ac = accuracy_score(y_test, tree_predicted)\n",
    "tree_ps = precision_score(y_test, tree_predicted)\n",
    "tree_re = recall_score(y_test, tree_predicted)\n",
    "\n",
    "print('Decision Tree results: ', '-' * 35,\n",
    "      'Accuracy Score: ' + str(tree_ac), \n",
    "      'Precision Score: ' + str(tree_ps),\n",
    "      'Recall Score: ' + str(tree_re),\n",
    "      sep='\\n')"
   ]
  },
  {
   "cell_type": "code",
   "execution_count": 28,
   "metadata": {},
   "outputs": [
    {
     "name": "stdout",
     "output_type": "stream",
     "text": [
      "Random Forest results: \n",
      "-----------------------------------\n",
      "Accuracy Score: 0.8776548672566372\n",
      "Precision Score: 0.09523809523809523\n",
      "Recall Score: 0.0018365472910927456\n"
     ]
    }
   ],
   "source": [
    "rforest = RandomForestClassifier()\n",
    "rforest_model = rforest.fit(X_train, y_train)\n",
    "rforest_predicted = rforest_model.predict(X_test)\n",
    "\n",
    "rforest_ac = accuracy_score(y_test, rforest_predicted)\n",
    "rforest_ps = precision_score(y_test, rforest_predicted)\n",
    "rforest_re = recall_score(y_test, rforest_predicted)\n",
    "\n",
    "print('Random Forest results: ', '-' * 35,\n",
    "      'Accuracy Score: ' + str(rforest_ac), \n",
    "      'Precision Score: ' + str(rforest_ps),\n",
    "      'Recall Score: ' + str(rforest_re),\n",
    "      sep='\\n')"
   ]
  },
  {
   "cell_type": "code",
   "execution_count": 29,
   "metadata": {},
   "outputs": [
    {
     "name": "stdout",
     "output_type": "stream",
     "text": [
      "Logistic Regression results: \n",
      "-----------------------------------\n",
      "Accuracy Score: 0.878429203539823\n",
      "Precision Score: 0.14285714285714285\n",
      "Recall Score: 0.0018365472910927456\n"
     ]
    }
   ],
   "source": [
    "logit = LogisticRegression()\n",
    "logit_model = logit.fit(X_train, y_train)\n",
    "\n",
    "logit_predicted = logit_model.predict(X_test)\n",
    "\n",
    "logit_ac = accuracy_score(y_test, logit_predicted)\n",
    "logit_ps = precision_score(y_test, logit_predicted)\n",
    "logit_re = recall_score(y_test, logit_predicted)\n",
    "\n",
    "print('Logistic Regression results: ', '-' * 35,\n",
    "      'Accuracy Score: ' + str(logit_ac), \n",
    "      'Precision Score: ' + str(logit_ps),\n",
    "      'Recall Score: ' + str(logit_re),\n",
    "      sep='\\n')"
   ]
  },
  {
   "cell_type": "code",
   "execution_count": 30,
   "metadata": {},
   "outputs": [],
   "source": [
    "# Визуалищировать эти метрики всех моделей на одном графике (чтоб визуально сравнить)\n",
    "# Возможно вас удивит качество! Но задача подобрана специально ;) Такое качество тоже бывает\n"
   ]
  },
  {
   "cell_type": "code",
   "execution_count": 31,
   "metadata": {},
   "outputs": [],
   "source": [
    "from sklearn.metrics import precision_recall_curve"
   ]
  },
  {
   "cell_type": "code",
   "execution_count": 32,
   "metadata": {},
   "outputs": [
    {
     "name": "stderr",
     "output_type": "stream",
     "text": [
      "c:\\users\\rncb\\appdata\\local\\programs\\python\\python37\\lib\\site-packages\\sklearn\\linear_model\\base.py:340: RuntimeWarning: overflow encountered in exp\n",
      "  np.exp(prob, prob)\n"
     ]
    },
    {
     "data": {
      "image/png": "[encoded data removed]",
      "text/plain": [
       "<Figure size 864x360 with 1 Axes>"
      ]
     },
     "metadata": {},
     "output_type": "display_data"
    }
   ],
   "source": [
    "tree_precision, tree_recall, _ = \\\n",
    "precision_recall_curve(y_test, tree_model.predict_proba(X_test)[:,1])\n",
    "\n",
    "rforest_precision, rforest_recall, _ = \\\n",
    "precision_recall_curve(y_test, rforest_model.predict_proba(X_test)[:,1])\n",
    "                                                                   \n",
    "logit_precision, logit_recall, _ = \\\n",
    "precision_recall_curve(y_test, logit_model.predict_proba(X_test)[:,1])\n",
    "\n",
    "plt.xlabel('Recall')\n",
    "plt.ylabel('Precision')\n",
    "plt.step(tree_recall, tree_precision, label='Decision Tree')\n",
    "plt.step(rforest_recall, rforest_precision, label='Random Forest')\n",
    "plt.step(logit_recall, logit_precision, label='Logistic Regression')\n",
    "plt.legend()\n",
    "plt.title('ROC PR Curve')\n",
    "plt.show()"
   ]
  },
  {
   "cell_type": "code",
   "execution_count": 33,
   "metadata": {},
   "outputs": [
    {
     "name": "stderr",
     "output_type": "stream",
     "text": [
      "c:\\users\\rncb\\appdata\\local\\programs\\python\\python37\\lib\\site-packages\\sklearn\\linear_model\\base.py:340: RuntimeWarning: overflow encountered in exp\n",
      "  np.exp(prob, prob)\n"
     ]
    },
    {
     "data": {
      "image/png": "[encoded data removed]",
      "text/plain": [
       "<Figure size 864x360 with 1 Axes>"
      ]
     },
     "metadata": {},
     "output_type": "display_data"
    }
   ],
   "source": [
    "# Потроить roc-кривые всех можелей на одном графике\n",
    "# Вывести roc_auc каждой моделе\n",
    "# Подпишите оси и линии\n",
    "\n",
    "from sklearn.metrics import roc_curve, roc_auc_score\n",
    "\n",
    "tree_fpr, tree_tpr, _ = roc_curve(y_test, tree_model.predict_proba(X_test)[:,1])\n",
    "plt.plot(tree_fpr, tree_tpr, label='Decision Tree')\n",
    "\n",
    "rforest_fpr, rforest_tpr, _ = roc_curve(y_test, rforest_model.predict_proba(X_test)[:,1])\n",
    "plt.plot(rforest_fpr, rforest_tpr, label='Random Forest')\n",
    "\n",
    "logit_fpr, logit_tpr, _ = roc_curve(y_test, logit_model.predict_proba(X_test)[:,1])\n",
    "plt.plot(logit_fpr, logit_tpr, label='Logistic Regression')\n",
    "\n",
    "plt.xlabel('False Positive Rate')\n",
    "plt.ylabel('True Positive Rate')\n",
    "plt.legend()\n",
    "plt.title('ROC AUC Curve')\n",
    "plt.show();"
   ]
  },
  {
   "cell_type": "code",
   "execution_count": 34,
   "metadata": {},
   "outputs": [],
   "source": [
    "from sklearn.model_selection import cross_val_score\n",
    "# Сделать k-fold (10 фолдов) кросс-валидацию каждой модели\n",
    "# И посчитать средний roc_auc\n",
    "\n",
    "tree_cv = cross_val_score(tree_model, X_train, y_train, cv=10)\n",
    "rforest_cv = cross_val_score(rforest_model, X_train, y_train, cv=10)\n",
    "logit_cv = cross_val_score(logit_model, X_train, y_train, cv=10)"
   ]
  },
  {
   "cell_type": "code",
   "execution_count": 35,
   "metadata": {},
   "outputs": [
    {
     "name": "stdout",
     "output_type": "stream",
     "text": [
      "CV results for Decision Tree:\n",
      "-----------------------------------\n",
      "[0.80900474 0.807109   0.81563981 0.79753438 0.79658606 0.77714557\n",
      " 0.79468943 0.79848269 0.80227596 0.80085349]\n",
      "\n",
      "CV results for Random Forest:\n",
      "-----------------------------------\n",
      "[0.88151659 0.88293839 0.88056872 0.88098625 0.88146041 0.88051209\n",
      " 0.88003793 0.87908962 0.87956377 0.88146041]\n",
      "\n",
      "CV results for Logistic Regression:\n",
      "-----------------------------------\n",
      "[0.88151659 0.88246445 0.88246445 0.88193457 0.88288288 0.88288288\n",
      " 0.88146041 0.88288288 0.8838312  0.88193457]\n",
      "\n"
     ]
    }
   ],
   "source": [
    "print('CV results for Decision Tree:', '-' * 35,\n",
    "      tree_cv, sep='\\n', end='\\n\\n')\n",
    "print('CV results for Random Forest:', '-' * 35,\n",
    "      rforest_cv, sep='\\n', end='\\n\\n')\n",
    "print('CV results for Logistic Regression:', '-' * 35,\n",
    "      logit_cv, sep='\\n', end='\\n\\n')"
   ]
  },
  {
   "cell_type": "code",
   "execution_count": 36,
   "metadata": {},
   "outputs": [
    {
     "name": "stdout",
     "output_type": "stream",
     "text": [
      "ROC AUC results for Decision Tree:\n",
      "-----------------------------------\n",
      "0.5331358080640619\n",
      "\n",
      "ROC AUC results for Random Forest:\n",
      "-----------------------------------\n",
      "0.6114720223351499\n",
      "\n",
      "ROC AUC results for Logistic Regression:\n",
      "-----------------------------------\n",
      "0.6346522819579382\n",
      "\n"
     ]
    },
    {
     "name": "stderr",
     "output_type": "stream",
     "text": [
      "c:\\users\\rncb\\appdata\\local\\programs\\python\\python37\\lib\\site-packages\\sklearn\\linear_model\\base.py:340: RuntimeWarning: overflow encountered in exp\n",
      "  np.exp(prob, prob)\n"
     ]
    }
   ],
   "source": [
    "print('ROC AUC results for Decision Tree:', '-' * 35,\n",
    "      roc_auc_score(y_test, tree_model.predict_proba(X_test)[:, 1]), \n",
    "      sep='\\n', end='\\n\\n')\n",
    "print('ROC AUC results for Random Forest:', '-' * 35,\n",
    "      roc_auc_score(y_test, rforest_model.predict_proba(X_test)[:, 1]), \n",
    "      sep='\\n', end='\\n\\n')\n",
    "print('ROC AUC results for Logistic Regression:', '-' * 35,\n",
    "      roc_auc_score(y_test, logit_model.predict_proba(X_test)[:, 1]), \n",
    "      sep='\\n', end='\\n\\n')"
   ]
  },
  {
   "cell_type": "code",
   "execution_count": 37,
   "metadata": {},
   "outputs": [
    {
     "name": "stdout",
     "output_type": "stream",
     "text": [
      "Probs for X_test_holdout:  [[0.84759606 0.15240394]\n",
      " [0.93802067 0.06197933]\n",
      " [0.8077221  0.1922779 ]\n",
      " ...\n",
      " [0.82331111 0.17668889]\n",
      " [0.94296704 0.05703296]\n",
      " [0.83490804 0.16509196]]\n",
      "\n"
     ]
    }
   ],
   "source": [
    "# Взять лучшую модель и сделать предсказания (с вероятностями (!!!)) для test выборки\n",
    "print('Probs for X_test_holdout: ', logit_model.predict_proba(X_test_holdout), end='\\n\\n')"
   ]
  },
  {
   "cell_type": "code",
   "execution_count": 40,
   "metadata": {},
   "outputs": [
    {
     "name": "stdout",
     "output_type": "stream",
     "text": [
      "ROC AUC results for Logistic Regression (Holdout Test): \n",
      "-----------------------------------\n",
      "0.6342475900998698\n",
      "\n"
     ]
    },
    {
     "data": {
      "image/png": "[encoded data removed]",
      "text/plain": [
       "<Figure size 864x360 with 1 Axes>"
      ]
     },
     "metadata": {},
     "output_type": "display_data"
    }
   ],
   "source": [
    "# Померить roc_auc на тесте\n",
    "# Вывести текстом и на графике =)\n",
    "\n",
    "print('ROC AUC results for Logistic Regression (Holdout Test): ', '-' * 35,\n",
    "      roc_auc_score(y_test_holdout, logit_model.predict_proba(X_test_holdout)[:, 1]), \n",
    "      sep='\\n', end='\\n\\n')\n",
    "\n",
    "x, y, _ = roc_curve(y_test_holdout, logit_model.predict_proba(X_test_holdout)[:,1])\n",
    "plt.plot(x, y)\n",
    "plt.title('ROC AUC results for Logistic Regression (Holdout Test)')\n",
    "plt.show();"
   ]
  },
  {
   "cell_type": "markdown",
   "metadata": {},
   "source": [
    "### Больше обязательных заданий нет, но ниже вы можете провести исследование, поиграться с данными\n",
    "### Это возможность написать код, который я посмотрю и в случае чего откомметирую. ;)\n",
    "### Это не оценивается и остается на ваше усмотрение. Просто дополнительная возможность"
   ]
  },
  {
   "cell_type": "code",
   "execution_count": 41,
   "metadata": {},
   "outputs": [
    {
     "name": "stderr",
     "output_type": "stream",
     "text": [
      "c:\\users\\rncb\\appdata\\local\\programs\\python\\python37\\lib\\site-packages\\sklearn\\linear_model\\logistic.py:1232: UserWarning: 'n_jobs' > 1 does not have any effect when 'solver' is set to 'liblinear'. Got 'n_jobs' = -1.\n",
      "  \" = {}.\".format(self.n_jobs))\n",
      "c:\\users\\rncb\\appdata\\local\\programs\\python\\python37\\lib\\site-packages\\sklearn\\linear_model\\base.py:340: RuntimeWarning: overflow encountered in exp\n",
      "  np.exp(prob, prob)\n"
     ]
    }
   ],
   "source": [
    "c_range = np.linspace(0.05, 5, 60)\n",
    "cy = []\n",
    "\n",
    "for c in c_range:\n",
    "    logit = LogisticRegression(C=c, penalty='l1', max_iter=300)\n",
    "    logit_model = logit.fit(X_train, y_train)\n",
    "    cy.append(roc_auc_score(y_test, logit_model.predict_proba(X_test)[:, 1]))"
   ]
  },
  {
   "cell_type": "code",
   "execution_count": 42,
   "metadata": {},
   "outputs": [
    {
     "data": {
      "text/plain": [
       "Text(0,0.5,'ROC AUC Score')"
      ]
     },
     "execution_count": 42,
     "metadata": {},
     "output_type": "execute_result"
    },
    {
     "data": {
      "image/png": "[encoded data removed]",
      "text/plain": [
       "<Figure size 864x360 with 1 Axes>"
      ]
     },
     "metadata": {},
     "output_type": "display_data"
    }
   ],
   "source": [
    "plt.plot(c_range, cy);\n",
    "plt.xlabel('C value')\n",
    "plt.ylabel('ROC AUC Score')"
   ]
  },
  {
   "cell_type": "code",
   "execution_count": 43,
   "metadata": {},
   "outputs": [
    {
     "name": "stderr",
     "output_type": "stream",
     "text": [
      "c:\\users\\rncb\\appdata\\local\\programs\\python\\python37\\lib\\site-packages\\sklearn\\linear_model\\logistic.py:1232: UserWarning: 'n_jobs' > 1 does not have any effect when 'solver' is set to 'liblinear'. Got 'n_jobs' = -1.\n",
      "  \" = {}.\".format(self.n_jobs))\n",
      "c:\\users\\rncb\\appdata\\local\\programs\\python\\python37\\lib\\site-packages\\sklearn\\linear_model\\base.py:340: RuntimeWarning: overflow encountered in exp\n",
      "  np.exp(prob, prob)\n"
     ]
    }
   ],
   "source": [
    "c_range = np.linspace(0.05, 0.5, 30)\n",
    "cy = []\n",
    "\n",
    "for c in c_range:\n",
    "    logit = LogisticRegression(C=c, penalty='l1', max_iter=300, n_jobs=-1)\n",
    "    logit_model = logit.fit(X_train, y_train)\n",
    "    cy.append(roc_auc_score(y_test, logit_model.predict_proba(X_test)[:, 1]))"
   ]
  },
  {
   "cell_type": "code",
   "execution_count": 44,
   "metadata": {},
   "outputs": [
    {
     "data": {
      "text/plain": [
       "Text(0,0.5,'ROC AUC Score')"
      ]
     },
     "execution_count": 44,
     "metadata": {},
     "output_type": "execute_result"
    },
    {
     "data": {
      "image/png": "[encoded data removed]",
      "text/plain": [
       "<Figure size 864x360 with 1 Axes>"
      ]
     },
     "metadata": {},
     "output_type": "display_data"
    }
   ],
   "source": [
    "plt.plot(c_range, cy);\n",
    "plt.xlabel('C value')\n",
    "plt.ylabel('ROC AUC Score')"
   ]
  },
  {
   "cell_type": "code",
   "execution_count": null,
   "metadata": {},
   "outputs": [],
   "source": []
  }
 ],
 "metadata": {
  "anaconda-cloud": {},
  "kernelspec": {
   "display_name": "Python 3",
   "language": "python",
   "name": "python3"
  },
  "language_info": {
   "codemirror_mode": {
    "name": "ipython",
    "version": 3
   },
   "file_extension": ".py",
   "mimetype": "text/x-python",
   "name": "python",
   "nbconvert_exporter": "python",
   "pygments_lexer": "ipython3",
   "version": "3.7.0"
  },
  "toc": {
   "base_numbering": 1,
   "nav_menu": {
    "height": "31px",
    "width": "253px"
   },
   "number_sections": false,
   "sideBar": true,
   "skip_h1_title": false,
   "title_cell": "Table of Contents",
   "title_sidebar": "Contents",
   "toc_cell": false,
   "toc_position": {},
   "toc_section_display": "block",
   "toc_window_display": false
  }
 },
 "nbformat": 4,
 "nbformat_minor": 2
}
