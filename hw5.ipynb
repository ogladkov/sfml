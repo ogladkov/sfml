{
 "cells": [
  {
   "cell_type": "code",
   "execution_count": 1,
   "metadata": {},
   "outputs": [],
   "source": [
    "import xgboost\n",
    "from bs4 import BeautifulSoup\n",
    "from gensim.models import Word2Vec\n",
    "from gensim.utils import simple_preprocess\n",
    "import gensim\n",
    "import nltk\n",
    "import pymorphy2\n",
    "import numpy as np\n",
    "import pandas as pd\n",
    "import pickle\n",
    "from scipy import spatial"
   ]
  },
  {
   "cell_type": "markdown",
   "metadata": {},
   "source": [
    "## Train W2V from other.csv"
   ]
  },
  {
   "cell_type": "code",
   "execution_count": 2,
   "metadata": {},
   "outputs": [],
   "source": [
    "other_e_file = r'other.csv' \n",
    "stopwords = nltk.corpus.stopwords.words('russian')\n",
    "morph = pymorphy2.MorphAnalyzer()"
   ]
  },
  {
   "cell_type": "code",
   "execution_count": null,
   "metadata": {},
   "outputs": [],
   "source": [
    "# clean text and make a list of lists\n",
    "all_words = []\n",
    "with open(other_e_file, 'r', encoding='UTF-8') as other_e:\n",
    "    for line in other_e.readlines()[1:]:\n",
    "        soup = BeautifulSoup(line, \"html5lib\")\n",
    "        tokenized = simple_preprocess(soup.text)\n",
    "        for word in tokenized:\n",
    "            if word in stopwords:\n",
    "                tokenized.remove(word)\n",
    "        for n, word in enumerate(tokenized):\n",
    "            tokenized[n] = morph.normal_forms(word)[0]\n",
    "        all_words.append(tokenized)"
   ]
  },
  {
   "cell_type": "code",
   "execution_count": null,
   "metadata": {},
   "outputs": [],
   "source": [
    "model = Word2Vec(all_words)"
   ]
  },
  {
   "cell_type": "code",
   "execution_count": null,
   "metadata": {},
   "outputs": [],
   "source": [
    "# train word2vec model from preprocessed other.csv\n",
    "model.train(all_words, total_examples=len(all_words), epochs=10)"
   ]
  },
  {
   "cell_type": "code",
   "execution_count": 167,
   "metadata": {},
   "outputs": [],
   "source": [
    "# save w2v model\n",
    "model.save('model.vec')"
   ]
  },
  {
   "cell_type": "markdown",
   "metadata": {},
   "source": [
    "## Read the training set"
   ]
  },
  {
   "cell_type": "code",
   "execution_count": 3,
   "metadata": {},
   "outputs": [],
   "source": [
    "# read the w2v model previously saved\n",
    "model = gensim.models.word2vec.Word2VecKeyedVectors.load('model.vec')"
   ]
  },
  {
   "cell_type": "code",
   "execution_count": 4,
   "metadata": {},
   "outputs": [],
   "source": [
    "train_e_file = r'train.csv' "
   ]
  },
  {
   "cell_type": "code",
   "execution_count": 414,
   "metadata": {},
   "outputs": [],
   "source": [
    "# clean text and make a list of lists\n",
    "all_lists = []\n",
    "with open(train_e_file, 'r', encoding='UTF-8') as train_e:\n",
    "    for line in train_e.readlines()[1:]:\n",
    "        soup = BeautifulSoup(line, \"html5lib\")\n",
    "        all_lists.append(soup.text.split('\\t'))"
   ]
  },
  {
   "cell_type": "code",
   "execution_count": 415,
   "metadata": {},
   "outputs": [],
   "source": [
    "# make a pandas dataframe from train data\n",
    "train = pd.DataFrame(all_lists, columns=['num', 'name', 'descr', 'target']).drop('num', axis=1)"
   ]
  },
  {
   "cell_type": "code",
   "execution_count": 417,
   "metadata": {},
   "outputs": [],
   "source": [
    "train.dropna(inplace=True)"
   ]
  },
  {
   "cell_type": "code",
   "execution_count": 7,
   "metadata": {},
   "outputs": [],
   "source": [
    "# first-stage preprocessing func\n",
    "def preproc(df):\n",
    "    # tokenize words and delete words which are in stopword-list\n",
    "    def tokenize_words(x):\n",
    "        x = simple_preprocess(x)\n",
    "        for word in x:\n",
    "            if word in stopwords:\n",
    "                x.remove(word)\n",
    "        for n, word in enumerate(x):\n",
    "            x[n] = morph.normal_forms(word)[0]\n",
    "        return x\n",
    "    df['name'] = df['name'].apply(tokenize_words)\n",
    "    df['descr'] = df['descr'].apply(tokenize_words)\n",
    "    \n",
    "    # process 'target': delete '\\n' symbol and transform to int\n",
    "    if 'target' in df.columns:\n",
    "        df['target'] = df['target'].str.strip('\\n').astype('int')\n",
    "    \n",
    "    # create average vetors\n",
    "    def text_to_vec(dct, model, size):\n",
    "        text_vec = np.zeros((size,), dtype=\"float32\")\n",
    "        n_words = 0\n",
    "\n",
    "        index2word_set = set(model.index2word)\n",
    "        for word in dct:\n",
    "            if word in index2word_set:\n",
    "                n_words = n_words + 1\n",
    "                text_vec = np.add(text_vec, model[word]) \n",
    "\n",
    "        if n_words != 0:\n",
    "            text_vec /= n_words\n",
    "        return text_vec\n",
    "    def tovec(x):\n",
    "        return text_to_vec(x, model.wv, 100)\n",
    "    df['namevec'] = df['name'].apply(tovec)\n",
    "    df['descrvec'] = df['descr'].apply(tovec)\n",
    "    \n",
    "    # drop superfluous\n",
    "    df.drop(['name', 'descr'], axis=1, inplace=True)\n",
    "    \n",
    "    return df"
   ]
  },
  {
   "cell_type": "code",
   "execution_count": 419,
   "metadata": {},
   "outputs": [],
   "source": [
    "df = preproc(train)"
   ]
  },
  {
   "cell_type": "code",
   "execution_count": 417,
   "metadata": {},
   "outputs": [],
   "source": [
    "# dump the train with bounding vectors\n",
    "with open('df.dump', 'wb') as df_dump:\n",
    "    pickle.dump(df, df_dump)"
   ]
  },
  {
   "cell_type": "code",
   "execution_count": 47,
   "metadata": {},
   "outputs": [],
   "source": [
    "# load the train with bounding vectors\n",
    "with open('df.dump', 'rb') as df_dump:\n",
    "    df = pickle.load(df_dump)"
   ]
  },
  {
   "cell_type": "code",
   "execution_count": 48,
   "metadata": {},
   "outputs": [
    {
     "data": {
      "text/html": [
       "<div>\n",
       "<style scoped>\n",
       "    .dataframe tbody tr th:only-of-type {\n",
       "        vertical-align: middle;\n",
       "    }\n",
       "\n",
       "    .dataframe tbody tr th {\n",
       "        vertical-align: top;\n",
       "    }\n",
       "\n",
       "    .dataframe thead th {\n",
       "        text-align: right;\n",
       "    }\n",
       "</style>\n",
       "<table border=\"1\" class=\"dataframe\">\n",
       "  <thead>\n",
       "    <tr style=\"text-align: right;\">\n",
       "      <th></th>\n",
       "      <th>target</th>\n",
       "      <th>namevec</th>\n",
       "      <th>descrvec</th>\n",
       "    </tr>\n",
       "  </thead>\n",
       "  <tbody>\n",
       "    <tr>\n",
       "      <th>0</th>\n",
       "      <td>1</td>\n",
       "      <td>[-1.1923714, -1.037942, 0.81618166, 1.0052104,...</td>\n",
       "      <td>[-0.11000495, 0.143799, 0.77136016, 1.4077154,...</td>\n",
       "    </tr>\n",
       "    <tr>\n",
       "      <th>1</th>\n",
       "      <td>0</td>\n",
       "      <td>[-1.4009495, -1.752891, -1.6736608, 1.9459628,...</td>\n",
       "      <td>[-1.4900427, -0.7262686, -0.5407763, -1.015697...</td>\n",
       "    </tr>\n",
       "    <tr>\n",
       "      <th>2</th>\n",
       "      <td>0</td>\n",
       "      <td>[1.3747917, -0.9137062, 1.2883497, 1.4640479, ...</td>\n",
       "      <td>[0.53748846, 1.0444499, -0.20906413, -0.682313...</td>\n",
       "    </tr>\n",
       "    <tr>\n",
       "      <th>3</th>\n",
       "      <td>0</td>\n",
       "      <td>[-1.5560954, -5.5392475, -2.4810383, -0.101318...</td>\n",
       "      <td>[0.28356838, -0.6393874, -0.88733375, -1.92325...</td>\n",
       "    </tr>\n",
       "    <tr>\n",
       "      <th>4</th>\n",
       "      <td>1</td>\n",
       "      <td>[-0.7036357, -0.3635234, -0.6468989, 3.3174365...</td>\n",
       "      <td>[0.9476606, -0.10418407, 0.40457508, 0.4247652...</td>\n",
       "    </tr>\n",
       "  </tbody>\n",
       "</table>\n",
       "</div>"
      ],
      "text/plain": [
       "   target                                            namevec  \\\n",
       "0       1  [-1.1923714, -1.037942, 0.81618166, 1.0052104,...   \n",
       "1       0  [-1.4009495, -1.752891, -1.6736608, 1.9459628,...   \n",
       "2       0  [1.3747917, -0.9137062, 1.2883497, 1.4640479, ...   \n",
       "3       0  [-1.5560954, -5.5392475, -2.4810383, -0.101318...   \n",
       "4       1  [-0.7036357, -0.3635234, -0.6468989, 3.3174365...   \n",
       "\n",
       "                                            descrvec  \n",
       "0  [-0.11000495, 0.143799, 0.77136016, 1.4077154,...  \n",
       "1  [-1.4900427, -0.7262686, -0.5407763, -1.015697...  \n",
       "2  [0.53748846, 1.0444499, -0.20906413, -0.682313...  \n",
       "3  [0.28356838, -0.6393874, -0.88733375, -1.92325...  \n",
       "4  [0.9476606, -0.10418407, 0.40457508, 0.4247652...  "
      ]
     },
     "execution_count": 48,
     "metadata": {},
     "output_type": "execute_result"
    }
   ],
   "source": [
    "df.head()"
   ]
  },
  {
   "cell_type": "markdown",
   "metadata": {},
   "source": [
    "## Cosinus distance"
   ]
  },
  {
   "cell_type": "code",
   "execution_count": 49,
   "metadata": {},
   "outputs": [],
   "source": [
    "all_vecs_name = df[df['target']==1]['namevec'] # all vectors of df where target is 1\n",
    "all_vecs_name_length = len(all_vecs_name) # length of all vectors of df where target is 1\n",
    "\n",
    "all_vecs_descr = df[df['target']==1]['descrvec'] # all vectors of df where target is 1\n",
    "all_vecs_descr_length = len(all_vecs_descr) # length of all vectors of df where target is 1"
   ]
  },
  {
   "cell_type": "code",
   "execution_count": 50,
   "metadata": {},
   "outputs": [],
   "source": [
    "# count the average vector of target\n",
    "avg_vec_name = np.zeros(100)\n",
    "for vec in all_vecs_name:\n",
    "    avg_vec_name = np.add(avg_vec_name, vec)\n",
    "avg_vec_name /= all_vecs_name_length\n",
    "\n",
    "avg_vec_descr = np.zeros(100)\n",
    "for vec in all_vecs_descr:\n",
    "    avg_vec_descr = np.add(avg_vec_descr, vec)\n",
    "avg_vec_descr /= all_vecs_descr_length"
   ]
  },
  {
   "cell_type": "code",
   "execution_count": 51,
   "metadata": {},
   "outputs": [],
   "source": [
    "# count the cos distance between average-target-vector and vector of every object in df\n",
    "# second-stage of preprocessing\n",
    "def addcos(df):\n",
    "    def cos_dist_name(x):\n",
    "        return 1-spatial.distance.cosine(avg_vec_name, np.array(x))\n",
    "    def cos_dist_descr(x):\n",
    "        return 1-spatial.distance.cosine(avg_vec_descr, np.array(x))\n",
    "    df['cos_dist_name'] = df['namevec'].apply(cos_dist_name)\n",
    "    df['cos_dist_descr'] = df['descrvec'].apply(cos_dist_descr)\n",
    "    df.drop(['namevec', 'descrvec'], axis=1, inplace=True)\n",
    "    return df"
   ]
  },
  {
   "cell_type": "code",
   "execution_count": 52,
   "metadata": {},
   "outputs": [],
   "source": [
    "train_clean = addcos(df)"
   ]
  },
  {
   "cell_type": "code",
   "execution_count": 53,
   "metadata": {},
   "outputs": [
    {
     "data": {
      "text/html": [
       "<div>\n",
       "<style scoped>\n",
       "    .dataframe tbody tr th:only-of-type {\n",
       "        vertical-align: middle;\n",
       "    }\n",
       "\n",
       "    .dataframe tbody tr th {\n",
       "        vertical-align: top;\n",
       "    }\n",
       "\n",
       "    .dataframe thead th {\n",
       "        text-align: right;\n",
       "    }\n",
       "</style>\n",
       "<table border=\"1\" class=\"dataframe\">\n",
       "  <thead>\n",
       "    <tr style=\"text-align: right;\">\n",
       "      <th></th>\n",
       "      <th>target</th>\n",
       "      <th>cos_dist_name</th>\n",
       "      <th>cos_dist_descr</th>\n",
       "    </tr>\n",
       "  </thead>\n",
       "  <tbody>\n",
       "    <tr>\n",
       "      <th>0</th>\n",
       "      <td>1</td>\n",
       "      <td>0.538825</td>\n",
       "      <td>0.307647</td>\n",
       "    </tr>\n",
       "    <tr>\n",
       "      <th>1</th>\n",
       "      <td>0</td>\n",
       "      <td>-0.028200</td>\n",
       "      <td>-0.082858</td>\n",
       "    </tr>\n",
       "    <tr>\n",
       "      <th>2</th>\n",
       "      <td>0</td>\n",
       "      <td>0.251001</td>\n",
       "      <td>0.172624</td>\n",
       "    </tr>\n",
       "    <tr>\n",
       "      <th>3</th>\n",
       "      <td>0</td>\n",
       "      <td>0.173686</td>\n",
       "      <td>-0.055483</td>\n",
       "    </tr>\n",
       "    <tr>\n",
       "      <th>4</th>\n",
       "      <td>1</td>\n",
       "      <td>0.810259</td>\n",
       "      <td>0.404339</td>\n",
       "    </tr>\n",
       "  </tbody>\n",
       "</table>\n",
       "</div>"
      ],
      "text/plain": [
       "   target  cos_dist_name  cos_dist_descr\n",
       "0       1       0.538825        0.307647\n",
       "1       0      -0.028200       -0.082858\n",
       "2       0       0.251001        0.172624\n",
       "3       0       0.173686       -0.055483\n",
       "4       1       0.810259        0.404339"
      ]
     },
     "execution_count": 53,
     "metadata": {},
     "output_type": "execute_result"
    }
   ],
   "source": [
    "# what we'll put to the train\n",
    "train_clean.head()"
   ]
  },
  {
   "cell_type": "code",
   "execution_count": 54,
   "metadata": {},
   "outputs": [],
   "source": [
    "train_clean.dropna(inplace=True)"
   ]
  },
  {
   "cell_type": "markdown",
   "metadata": {},
   "source": [
    "## Train LR"
   ]
  },
  {
   "cell_type": "code",
   "execution_count": 56,
   "metadata": {},
   "outputs": [],
   "source": [
    "from sklearn.linear_model import LogisticRegression\n",
    "from sklearn.model_selection import train_test_split\n",
    "from sklearn.metrics import roc_auc_score"
   ]
  },
  {
   "cell_type": "code",
   "execution_count": 57,
   "metadata": {},
   "outputs": [],
   "source": [
    "X = train_clean.drop('target', axis=1)\n",
    "# X = train_clean.drop('target', axis=1).iloc[:, 100:]\n",
    "# X = train_clean.drop('target', axis=1).iloc[:, :100]\n",
    "y = train_clean.target"
   ]
  },
  {
   "cell_type": "code",
   "execution_count": null,
   "metadata": {},
   "outputs": [],
   "source": [
    "X_train, X_test, y_train, y_test = train_test_split(X, y)"
   ]
  },
  {
   "cell_type": "code",
   "execution_count": 440,
   "metadata": {},
   "outputs": [],
   "source": [
    "lr = LogisticRegression(C=0.05, \n",
    "                        penalty='l1',\n",
    "                        n_jobs=-1)"
   ]
  },
  {
   "cell_type": "code",
   "execution_count": 441,
   "metadata": {},
   "outputs": [
    {
     "name": "stderr",
     "output_type": "stream",
     "text": [
      "/Library/Frameworks/Python.framework/Versions/3.7/lib/python3.7/site-packages/sklearn/linear_model/logistic.py:433: FutureWarning: Default solver will be changed to 'lbfgs' in 0.22. Specify a solver to silence this warning.\n",
      "  FutureWarning)\n",
      "/Library/Frameworks/Python.framework/Versions/3.7/lib/python3.7/site-packages/sklearn/linear_model/logistic.py:1300: UserWarning: 'n_jobs' > 1 does not have any effect when 'solver' is set to 'liblinear'. Got 'n_jobs' = 24.\n",
      "  \" = {}.\".format(effective_n_jobs(self.n_jobs)))\n"
     ]
    },
    {
     "data": {
      "text/plain": [
       "LogisticRegression(C=0.05, class_weight=None, dual=False, fit_intercept=True,\n",
       "          intercept_scaling=1, max_iter=100, multi_class='warn', n_jobs=-1,\n",
       "          penalty='l1', random_state=None, solver='warn', tol=0.0001,\n",
       "          verbose=0, warm_start=False)"
      ]
     },
     "execution_count": 441,
     "metadata": {},
     "output_type": "execute_result"
    }
   ],
   "source": [
    "lr.fit(X_train, y_train)"
   ]
  },
  {
   "cell_type": "code",
   "execution_count": 442,
   "metadata": {},
   "outputs": [],
   "source": [
    "predicted = lr.predict_proba(X_test)"
   ]
  },
  {
   "cell_type": "code",
   "execution_count": 443,
   "metadata": {},
   "outputs": [
    {
     "data": {
      "text/plain": [
       "0.9011118632883041"
      ]
     },
     "execution_count": 443,
     "metadata": {},
     "output_type": "execute_result"
    }
   ],
   "source": [
    "roc_auc_score(y_test, predicted[:,1])"
   ]
  },
  {
   "cell_type": "markdown",
   "metadata": {},
   "source": [
    "## Train XGBoost"
   ]
  },
  {
   "cell_type": "code",
   "execution_count": 66,
   "metadata": {},
   "outputs": [],
   "source": [
    "from xgboost import XGBClassifier"
   ]
  },
  {
   "cell_type": "code",
   "execution_count": 361,
   "metadata": {},
   "outputs": [
    {
     "data": {
      "text/plain": [
       "0.9730520291012713"
      ]
     },
     "execution_count": 361,
     "metadata": {},
     "output_type": "execute_result"
    }
   ],
   "source": [
    "xgb = XGBClassifier(\n",
    "                    max_depth=19,\n",
    "                    min_child_weight=1,\n",
    "                    subsample=0.85,\n",
    "                    colsample_bytree=0.85,\n",
    "                    learning_rate=0.2,\n",
    "                    random_state=72,\n",
    "                    n_estimators=50,\n",
    "                    reg_lambda=1,\n",
    "                    n_jobs=-1\n",
    "                    )\n",
    "\n",
    "xgb.fit(X_train, y_train)\n",
    "xgb_predicted = xgb.predict_proba(X_test)\n",
    "roc_auc_score(y_test, xgb_predicted[:,1])"
   ]
  },
  {
   "cell_type": "markdown",
   "metadata": {},
   "source": [
    "## Train KNN"
   ]
  },
  {
   "cell_type": "code",
   "execution_count": 397,
   "metadata": {},
   "outputs": [],
   "source": [
    "from sklearn.neighbors import KNeighborsClassifier"
   ]
  },
  {
   "cell_type": "code",
   "execution_count": 398,
   "metadata": {},
   "outputs": [],
   "source": [
    "knn = KNeighborsClassifier(n_neighbors=100, \n",
    "                           weights='distance',\n",
    "                           p=1,\n",
    "                          n_jobs=-1)"
   ]
  },
  {
   "cell_type": "code",
   "execution_count": 399,
   "metadata": {},
   "outputs": [
    {
     "data": {
      "text/plain": [
       "KNeighborsClassifier(algorithm='auto', leaf_size=30, metric='minkowski',\n",
       "           metric_params=None, n_jobs=-1, n_neighbors=100, p=1,\n",
       "           weights='distance')"
      ]
     },
     "execution_count": 399,
     "metadata": {},
     "output_type": "execute_result"
    }
   ],
   "source": [
    "knn.fit(X_train, y_train)"
   ]
  },
  {
   "cell_type": "code",
   "execution_count": 400,
   "metadata": {},
   "outputs": [],
   "source": [
    "knn_predicted = knn.predict_proba(X_test)"
   ]
  },
  {
   "cell_type": "code",
   "execution_count": 401,
   "metadata": {},
   "outputs": [
    {
     "data": {
      "text/plain": [
       "0.9618008809692662"
      ]
     },
     "execution_count": 401,
     "metadata": {},
     "output_type": "execute_result"
    }
   ],
   "source": [
    "roc_auc_score(y_test, knn_predicted[:,1])"
   ]
  },
  {
   "cell_type": "markdown",
   "metadata": {},
   "source": [
    "## Train RandomForest"
   ]
  },
  {
   "cell_type": "code",
   "execution_count": 409,
   "metadata": {},
   "outputs": [],
   "source": [
    "from sklearn.ensemble import RandomForestClassifier"
   ]
  },
  {
   "cell_type": "code",
   "execution_count": 410,
   "metadata": {},
   "outputs": [],
   "source": [
    "rf = RandomForestClassifier(n_estimators=800,\n",
    "                           max_depth=25,\n",
    "                            random_state=72,\n",
    "                            n_jobs=-1,\n",
    "                            min_samples_split=5,\n",
    "                            class_weight='balanced'\n",
    "                           )"
   ]
  },
  {
   "cell_type": "code",
   "execution_count": 411,
   "metadata": {},
   "outputs": [
    {
     "name": "stdout",
     "output_type": "stream",
     "text": [
      "CPU times: user 5min 25s, sys: 7.73 s, total: 5min 33s\n",
      "Wall time: 16 s\n"
     ]
    },
    {
     "data": {
      "text/plain": [
       "RandomForestClassifier(bootstrap=True, class_weight='balanced',\n",
       "            criterion='gini', max_depth=25, max_features='auto',\n",
       "            max_leaf_nodes=None, min_impurity_decrease=0.0,\n",
       "            min_impurity_split=None, min_samples_leaf=1,\n",
       "            min_samples_split=5, min_weight_fraction_leaf=0.0,\n",
       "            n_estimators=800, n_jobs=-1, oob_score=False, random_state=72,\n",
       "            verbose=0, warm_start=False)"
      ]
     },
     "execution_count": 411,
     "metadata": {},
     "output_type": "execute_result"
    }
   ],
   "source": [
    "%%time\n",
    "rf.fit(X_train, y_train)"
   ]
  },
  {
   "cell_type": "code",
   "execution_count": 412,
   "metadata": {},
   "outputs": [],
   "source": [
    "rf_predicted = rf.predict_proba(X_test)"
   ]
  },
  {
   "cell_type": "code",
   "execution_count": 413,
   "metadata": {},
   "outputs": [
    {
     "data": {
      "text/plain": [
       "0.9681211131353059"
      ]
     },
     "execution_count": 413,
     "metadata": {},
     "output_type": "execute_result"
    }
   ],
   "source": [
    "roc_auc_score(y_test, rf_predicted[:,1])"
   ]
  },
  {
   "cell_type": "markdown",
   "metadata": {},
   "source": [
    "## Averaging"
   ]
  },
  {
   "cell_type": "code",
   "execution_count": 414,
   "metadata": {},
   "outputs": [],
   "source": [
    "knn = KNeighborsClassifier(n_neighbors=100, \n",
    "                           weights='distance',\n",
    "                           p=1,\n",
    "                          n_jobs=-1)\n",
    "knn.fit(X_train, y_train)\n",
    "knn_predicted = knn.predict_proba(X_test)[:, 1]\n",
    "\n",
    "xgb = XGBClassifier(\n",
    "                    max_depth=19,\n",
    "                    min_child_weight=1,\n",
    "                    subsample=0.85,\n",
    "                    colsample_bytree=0.85,\n",
    "                    learning_rate=0.2,\n",
    "                    random_state=72,\n",
    "                    n_estimators=50,\n",
    "                    reg_lambda=1,\n",
    "                    n_jobs=-1\n",
    "                    )\n",
    "\n",
    "xgb.fit(X_train, y_train)\n",
    "xgb_predicted = xgb.predict_proba(X_test)[:, 1]\n",
    "\n",
    "rf = RandomForestClassifier(n_estimators=800,\n",
    "                           max_depth=25,\n",
    "                            n_jobs=-1,\n",
    "                            min_samples_split=5,\n",
    "                            class_weight='balanced'\n",
    "                           )\n",
    "rf.fit(X_train, y_train)\n",
    "rf_predicted = rf.predict_proba(X_test)[:, 1]\n",
    "\n",
    "df_avg = pd.DataFrame({'knn':knn_predicted, \n",
    "                       'xgb':xgb_predicted, \n",
    "                       'rf':rf_predicted\n",
    "                      })  \n",
    "\n",
    "df_avg['avg'] = (df_avg.knn + df_avg.xgb + df_avg.rf) / 3\n",
    "\n",
    "df_avg.drop(['knn', 'xgb', 'rf'], axis=1, inplace=True)"
   ]
  },
  {
   "cell_type": "code",
   "execution_count": 450,
   "metadata": {},
   "outputs": [
    {
     "data": {
      "text/plain": [
       "0.9668606388767934"
      ]
     },
     "execution_count": 450,
     "metadata": {},
     "output_type": "execute_result"
    }
   ],
   "source": [
    "roc_auc_score(y_test, df_avg)"
   ]
  },
  {
   "cell_type": "markdown",
   "metadata": {},
   "source": [
    "## Predict holdout"
   ]
  },
  {
   "cell_type": "code",
   "execution_count": null,
   "metadata": {},
   "outputs": [],
   "source": []
  },
  {
   "cell_type": "code",
   "execution_count": 22,
   "metadata": {},
   "outputs": [],
   "source": [
    "holdout_file = r'test.csv'"
   ]
  },
  {
   "cell_type": "code",
   "execution_count": 443,
   "metadata": {},
   "outputs": [],
   "source": [
    "# repeat preproc procedures for test data\n",
    "all_lists = []\n",
    "with open(holdout_file, 'r', encoding='UTF-8') as holdout:\n",
    "    for line in holdout.readlines()[1:]:\n",
    "        soup = BeautifulSoup(line, \"html5lib\")\n",
    "        all_lists.append(soup.text.split('\\t'))\n",
    "\n",
    "holdout = pd.DataFrame(all_lists, columns=['num', 'name', 'descr']).drop('num', axis=1)"
   ]
  },
  {
   "cell_type": "code",
   "execution_count": 445,
   "metadata": {},
   "outputs": [
    {
     "data": {
      "text/html": [
       "<div>\n",
       "<style>\n",
       "    .dataframe thead tr:only-child th {\n",
       "        text-align: right;\n",
       "    }\n",
       "\n",
       "    .dataframe thead th {\n",
       "        text-align: left;\n",
       "    }\n",
       "\n",
       "    .dataframe tbody tr th {\n",
       "        vertical-align: top;\n",
       "    }\n",
       "</style>\n",
       "<table border=\"1\" class=\"dataframe\">\n",
       "  <thead>\n",
       "    <tr style=\"text-align: right;\">\n",
       "      <th></th>\n",
       "      <th>name</th>\n",
       "      <th>descr</th>\n",
       "    </tr>\n",
       "  </thead>\n",
       "  <tbody>\n",
       "    <tr>\n",
       "      <th>0</th>\n",
       "      <td>Дизайнер-консультант мебели</td>\n",
       "      <td>Обязанности:  Работа с клиентом в салоне,выезд...</td>\n",
       "    </tr>\n",
       "    <tr>\n",
       "      <th>1</th>\n",
       "      <td>Продавец-консультант (ТЦ на Пушкина)</td>\n",
       "      <td>Обязанности: ∙ консультирование покупателей по...</td>\n",
       "    </tr>\n",
       "    <tr>\n",
       "      <th>2</th>\n",
       "      <td>Менеджер по продажам</td>\n",
       "      <td>Торговый Дом «Форт» это ведущая компания Петер...</td>\n",
       "    </tr>\n",
       "    <tr>\n",
       "      <th>3</th>\n",
       "      <td>Продавец-консультант в магазин одежды (ТЦ Волн...</td>\n",
       "      <td>Требуются продавцы консультанты в магазин женс...</td>\n",
       "    </tr>\n",
       "    <tr>\n",
       "      <th>4</th>\n",
       "      <td>Специалист по охране труда</td>\n",
       "      <td>Обязанности:   осуществление контроля по соблю...</td>\n",
       "    </tr>\n",
       "  </tbody>\n",
       "</table>\n",
       "</div>"
      ],
      "text/plain": [
       "                                                name  \\\n",
       "0                        Дизайнер-консультант мебели   \n",
       "1               Продавец-консультант (ТЦ на Пушкина)   \n",
       "2                               Менеджер по продажам   \n",
       "3  Продавец-консультант в магазин одежды (ТЦ Волн...   \n",
       "4                         Специалист по охране труда   \n",
       "\n",
       "                                               descr  \n",
       "0  Обязанности:  Работа с клиентом в салоне,выезд...  \n",
       "1  Обязанности: ∙ консультирование покупателей по...  \n",
       "2  Торговый Дом «Форт» это ведущая компания Петер...  \n",
       "3  Требуются продавцы консультанты в магазин женс...  \n",
       "4  Обязанности:   осуществление контроля по соблю...  "
      ]
     },
     "execution_count": 445,
     "metadata": {},
     "output_type": "execute_result"
    }
   ],
   "source": [
    "holdout.head()"
   ]
  },
  {
   "cell_type": "code",
   "execution_count": 446,
   "metadata": {},
   "outputs": [],
   "source": [
    "holdout.dropna(inplace=True)\n",
    "df_holdout = preproc(holdout)"
   ]
  },
  {
   "cell_type": "code",
   "execution_count": 448,
   "metadata": {},
   "outputs": [],
   "source": [
    "with open('holdout_preproc.dump', 'wb') as holdout_preproc_dump:\n",
    "    pickle.dump(df_holdout, holdout_preproc_dump)"
   ]
  },
  {
   "cell_type": "code",
   "execution_count": 476,
   "metadata": {},
   "outputs": [],
   "source": [
    "with open('holdout_preproc.dump', 'rb') as holdout_preproc_dump:\n",
    "    df_holdout = pickle.load(holdout_preproc_dump)"
   ]
  },
  {
   "cell_type": "code",
   "execution_count": 477,
   "metadata": {},
   "outputs": [
    {
     "data": {
      "text/html": [
       "<div>\n",
       "<style scoped>\n",
       "    .dataframe tbody tr th:only-of-type {\n",
       "        vertical-align: middle;\n",
       "    }\n",
       "\n",
       "    .dataframe tbody tr th {\n",
       "        vertical-align: top;\n",
       "    }\n",
       "\n",
       "    .dataframe thead th {\n",
       "        text-align: right;\n",
       "    }\n",
       "</style>\n",
       "<table border=\"1\" class=\"dataframe\">\n",
       "  <thead>\n",
       "    <tr style=\"text-align: right;\">\n",
       "      <th></th>\n",
       "      <th>namevec</th>\n",
       "      <th>descrvec</th>\n",
       "    </tr>\n",
       "  </thead>\n",
       "  <tbody>\n",
       "    <tr>\n",
       "      <th>0</th>\n",
       "      <td>[-0.6419412, -1.829832, 2.7466059, 0.8133362, ...</td>\n",
       "      <td>[0.24646637, 0.3046802, -0.17986065, 0.2290453...</td>\n",
       "    </tr>\n",
       "    <tr>\n",
       "      <th>1</th>\n",
       "      <td>[-1.3852514, 0.28667063, -0.65046287, 0.525823...</td>\n",
       "      <td>[0.82405066, 1.1942462, 0.76160324, -0.872466,...</td>\n",
       "    </tr>\n",
       "    <tr>\n",
       "      <th>2</th>\n",
       "      <td>[2.74303, 2.4228055, -1.0153161, 0.69004047, -...</td>\n",
       "      <td>[0.628331, -0.070105955, 0.5001549, -0.5405085...</td>\n",
       "    </tr>\n",
       "    <tr>\n",
       "      <th>3</th>\n",
       "      <td>[0.20255001, 0.08419422, 0.7809986, 0.26706052...</td>\n",
       "      <td>[0.8405272, 0.5327271, 0.4663898, -0.80236864,...</td>\n",
       "    </tr>\n",
       "    <tr>\n",
       "      <th>4</th>\n",
       "      <td>[-0.63922423, -4.741979, -3.1055737, 0.7819421...</td>\n",
       "      <td>[-0.044651005, -0.4690158, -1.1494944, -0.2467...</td>\n",
       "    </tr>\n",
       "  </tbody>\n",
       "</table>\n",
       "</div>"
      ],
      "text/plain": [
       "                                             namevec  \\\n",
       "0  [-0.6419412, -1.829832, 2.7466059, 0.8133362, ...   \n",
       "1  [-1.3852514, 0.28667063, -0.65046287, 0.525823...   \n",
       "2  [2.74303, 2.4228055, -1.0153161, 0.69004047, -...   \n",
       "3  [0.20255001, 0.08419422, 0.7809986, 0.26706052...   \n",
       "4  [-0.63922423, -4.741979, -3.1055737, 0.7819421...   \n",
       "\n",
       "                                            descrvec  \n",
       "0  [0.24646637, 0.3046802, -0.17986065, 0.2290453...  \n",
       "1  [0.82405066, 1.1942462, 0.76160324, -0.872466,...  \n",
       "2  [0.628331, -0.070105955, 0.5001549, -0.5405085...  \n",
       "3  [0.8405272, 0.5327271, 0.4663898, -0.80236864,...  \n",
       "4  [-0.044651005, -0.4690158, -1.1494944, -0.2467...  "
      ]
     },
     "execution_count": 477,
     "metadata": {},
     "output_type": "execute_result"
    }
   ],
   "source": [
    "df_holdout.head()"
   ]
  },
  {
   "cell_type": "code",
   "execution_count": 478,
   "metadata": {},
   "outputs": [],
   "source": [
    "df_holdout = addcos(df_holdout)"
   ]
  },
  {
   "cell_type": "code",
   "execution_count": 479,
   "metadata": {},
   "outputs": [
    {
     "data": {
      "text/html": [
       "<div>\n",
       "<style scoped>\n",
       "    .dataframe tbody tr th:only-of-type {\n",
       "        vertical-align: middle;\n",
       "    }\n",
       "\n",
       "    .dataframe tbody tr th {\n",
       "        vertical-align: top;\n",
       "    }\n",
       "\n",
       "    .dataframe thead th {\n",
       "        text-align: right;\n",
       "    }\n",
       "</style>\n",
       "<table border=\"1\" class=\"dataframe\">\n",
       "  <thead>\n",
       "    <tr style=\"text-align: right;\">\n",
       "      <th></th>\n",
       "      <th>cos_dist_name</th>\n",
       "      <th>cos_dist_descr</th>\n",
       "    </tr>\n",
       "  </thead>\n",
       "  <tbody>\n",
       "    <tr>\n",
       "      <th>0</th>\n",
       "      <td>0.634055</td>\n",
       "      <td>0.639985</td>\n",
       "    </tr>\n",
       "    <tr>\n",
       "      <th>1</th>\n",
       "      <td>0.675732</td>\n",
       "      <td>0.744681</td>\n",
       "    </tr>\n",
       "    <tr>\n",
       "      <th>2</th>\n",
       "      <td>0.851968</td>\n",
       "      <td>0.650315</td>\n",
       "    </tr>\n",
       "    <tr>\n",
       "      <th>3</th>\n",
       "      <td>0.592465</td>\n",
       "      <td>0.636986</td>\n",
       "    </tr>\n",
       "    <tr>\n",
       "      <th>4</th>\n",
       "      <td>0.079021</td>\n",
       "      <td>-0.140517</td>\n",
       "    </tr>\n",
       "  </tbody>\n",
       "</table>\n",
       "</div>"
      ],
      "text/plain": [
       "   cos_dist_name  cos_dist_descr\n",
       "0       0.634055        0.639985\n",
       "1       0.675732        0.744681\n",
       "2       0.851968        0.650315\n",
       "3       0.592465        0.636986\n",
       "4       0.079021       -0.140517"
      ]
     },
     "execution_count": 479,
     "metadata": {},
     "output_type": "execute_result"
    }
   ],
   "source": [
    "df_holdout.head()"
   ]
  },
  {
   "cell_type": "code",
   "execution_count": 480,
   "metadata": {},
   "outputs": [],
   "source": [
    "# df_holdout.dropna(inplace=True)"
   ]
  },
  {
   "cell_type": "code",
   "execution_count": 481,
   "metadata": {},
   "outputs": [],
   "source": [
    "# df_holdout.cos_dist_name.fillna(df_holdout.cos_dist_descr, inplace=True)\n",
    "# df_holdout.cos_dist_descr.fillna(df_holdout.cos_dist_name, inplace=True)"
   ]
  },
  {
   "cell_type": "code",
   "execution_count": 482,
   "metadata": {},
   "outputs": [],
   "source": [
    "xgb = XGBClassifier(\n",
    "                    max_depth=19,\n",
    "                    min_child_weight=1,\n",
    "                    subsample=0.85,\n",
    "                    colsample_bytree=0.85,\n",
    "                    learning_rate=0.2,\n",
    "                    random_state=72,\n",
    "                    n_estimators=50,\n",
    "                    reg_lambda=1,\n",
    "                    n_jobs=-1\n",
    "                    )\n",
    "\n",
    "xgb.fit(X, y)\n",
    "xgb_predicted = xgb.predict_proba(df_holdout)[:, 1]"
   ]
  },
  {
   "cell_type": "code",
   "execution_count": 483,
   "metadata": {},
   "outputs": [],
   "source": [
    "df_holdout = df_holdout.fillna(method='ffill', axis=0)"
   ]
  },
  {
   "cell_type": "code",
   "execution_count": 484,
   "metadata": {},
   "outputs": [],
   "source": [
    "rf = RandomForestClassifier(n_estimators=800,\n",
    "                           max_depth=25,\n",
    "                            n_jobs=-1,\n",
    "                            min_samples_split=5,\n",
    "                            class_weight='balanced'\n",
    "                           )\n",
    "rf.fit(X, y)\n",
    "rf_predicted = rf.predict_proba(df_holdout)[:, 1]"
   ]
  },
  {
   "cell_type": "code",
   "execution_count": 485,
   "metadata": {},
   "outputs": [],
   "source": [
    "knn = KNeighborsClassifier(n_neighbors=100, \n",
    "                           weights='distance',\n",
    "                           p=1,\n",
    "                          n_jobs=-1)\n",
    "knn.fit(X, y)\n",
    "knn_predicted = knn.predict_proba(df_holdout)[:, 1]\n",
    "\n",
    "\n",
    "\n",
    "df_avg = pd.DataFrame({'knn':knn_predicted, \n",
    "                       'xgb':xgb_predicted, \n",
    "                       'rf':rf_predicted\n",
    "                      })  "
   ]
  },
  {
   "cell_type": "code",
   "execution_count": 486,
   "metadata": {},
   "outputs": [],
   "source": [
    "df_avg['avg'] = (df_avg.knn + df_avg.xgb + df_avg.rf) / 3\n",
    "\n",
    "df_avg.drop(['knn', 'xgb', 'rf'], axis=1, inplace=True)"
   ]
  },
  {
   "cell_type": "code",
   "execution_count": 502,
   "metadata": {},
   "outputs": [],
   "source": [
    "holdout_predict = pd.DataFrame({'id':list(range(200000,200000+len(df_avg))), \n",
    "                                'target':df_avg['avg'].tolist()})"
   ]
  },
  {
   "cell_type": "code",
   "execution_count": 503,
   "metadata": {},
   "outputs": [],
   "source": [
    "holdout_predict.to_csv('res_predict_3_avg.csv', index=False)"
   ]
  },
  {
   "cell_type": "code",
   "execution_count": null,
   "metadata": {},
   "outputs": [],
   "source": []
  }
 ],
 "metadata": {
  "kernelspec": {
   "display_name": "Python 3",
   "language": "python",
   "name": "python3"
  },
  "language_info": {
   "codemirror_mode": {
    "name": "ipython",
    "version": 3
   },
   "file_extension": ".py",
   "mimetype": "text/x-python",
   "name": "python",
   "nbconvert_exporter": "python",
   "pygments_lexer": "ipython3",
   "version": "3.7.0"
  }
 },
 "nbformat": 4,
 "nbformat_minor": 2
}
